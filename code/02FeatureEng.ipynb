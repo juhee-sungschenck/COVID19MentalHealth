{
 "cells": [
  {
   "cell_type": "code",
   "execution_count": 1,
   "metadata": {},
   "outputs": [],
   "source": [
    "# import libraries\n",
    "\n",
    "# basic\n",
    "\n",
    "import pandas as pd\n",
    "import numpy as np\n",
    "import datetime\n",
    "\n",
    "# nlp\n",
    "\n",
    "import re\n",
    "from nltk.stem import PorterStemmer \n",
    "from nltk.tokenize import word_tokenize\n",
    "import spacy\n",
    "\n",
    "# warning\n",
    "\n",
    "import warnings\n",
    "warnings.filterwarnings('ignore')"
   ]
  },
  {
   "cell_type": "code",
   "execution_count": 2,
   "metadata": {},
   "outputs": [],
   "source": [
    "# read in the dataframe\n",
    "\n",
    "df = pd.read_csv('../data/cleaned/combined.csv')"
   ]
  },
  {
   "cell_type": "code",
   "execution_count": 3,
   "metadata": {},
   "outputs": [
    {
     "name": "stdout",
     "output_type": "stream",
     "text": [
      "(102031, 4)\n"
     ]
    },
    {
     "data": {
      "text/html": [
       "<div>\n",
       "<style scoped>\n",
       "    .dataframe tbody tr th:only-of-type {\n",
       "        vertical-align: middle;\n",
       "    }\n",
       "\n",
       "    .dataframe tbody tr th {\n",
       "        vertical-align: top;\n",
       "    }\n",
       "\n",
       "    .dataframe thead th {\n",
       "        text-align: right;\n",
       "    }\n",
       "</style>\n",
       "<table border=\"1\" class=\"dataframe\">\n",
       "  <thead>\n",
       "    <tr style=\"text-align: right;\">\n",
       "      <th></th>\n",
       "      <th>subreddit</th>\n",
       "      <th>author</th>\n",
       "      <th>date</th>\n",
       "      <th>post</th>\n",
       "    </tr>\n",
       "  </thead>\n",
       "  <tbody>\n",
       "    <tr>\n",
       "      <th>0</th>\n",
       "      <td>alcoholism</td>\n",
       "      <td>glorybellpirate</td>\n",
       "      <td>2020-01-01</td>\n",
       "      <td>Day 1 of sobriety Feeling anxious and letting ...</td>\n",
       "    </tr>\n",
       "    <tr>\n",
       "      <th>1</th>\n",
       "      <td>alcoholism</td>\n",
       "      <td>EhndlessSl0th</td>\n",
       "      <td>2020-01-01</td>\n",
       "      <td>Started the New Year with a bang. Hey, I'm new...</td>\n",
       "    </tr>\n",
       "    <tr>\n",
       "      <th>2</th>\n",
       "      <td>alcoholism</td>\n",
       "      <td>the_kinky_penguin</td>\n",
       "      <td>2020-01-01</td>\n",
       "      <td>Why can't I get drunk anymore I've been a heav...</td>\n",
       "    </tr>\n",
       "    <tr>\n",
       "      <th>3</th>\n",
       "      <td>alcoholism</td>\n",
       "      <td>SauceoffSauceOn</td>\n",
       "      <td>2020-01-01</td>\n",
       "      <td>I am an Alcoholic. How do I quit? I have been ...</td>\n",
       "    </tr>\n",
       "    <tr>\n",
       "      <th>4</th>\n",
       "      <td>alcoholism</td>\n",
       "      <td>ben42187</td>\n",
       "      <td>2020-01-01</td>\n",
       "      <td>Funniest Thing about Alcoholism With every oth...</td>\n",
       "    </tr>\n",
       "  </tbody>\n",
       "</table>\n",
       "</div>"
      ],
      "text/plain": [
       "    subreddit             author        date  \\\n",
       "0  alcoholism    glorybellpirate  2020-01-01   \n",
       "1  alcoholism      EhndlessSl0th  2020-01-01   \n",
       "2  alcoholism  the_kinky_penguin  2020-01-01   \n",
       "3  alcoholism    SauceoffSauceOn  2020-01-01   \n",
       "4  alcoholism           ben42187  2020-01-01   \n",
       "\n",
       "                                                post  \n",
       "0  Day 1 of sobriety Feeling anxious and letting ...  \n",
       "1  Started the New Year with a bang. Hey, I'm new...  \n",
       "2  Why can't I get drunk anymore I've been a heav...  \n",
       "3  I am an Alcoholic. How do I quit? I have been ...  \n",
       "4  Funniest Thing about Alcoholism With every oth...  "
      ]
     },
     "execution_count": 3,
     "metadata": {},
     "output_type": "execute_result"
    }
   ],
   "source": [
    "# check the shape and the first 5 rows\n",
    "\n",
    "print(df.shape)\n",
    "df.head()"
   ]
  },
  {
   "cell_type": "markdown",
   "metadata": {},
   "source": [
    "### Feature Engineering and Preprocessing"
   ]
  },
  {
   "cell_type": "code",
   "execution_count": 4,
   "metadata": {},
   "outputs": [
    {
     "data": {
      "text/plain": [
       "dtype('O')"
      ]
     },
     "execution_count": 4,
     "metadata": {},
     "output_type": "execute_result"
    }
   ],
   "source": [
    "## select posts only created in 2020\n",
    "\n",
    "df['date'].dtype # object -> should be changed to datetime"
   ]
  },
  {
   "cell_type": "code",
   "execution_count": 5,
   "metadata": {},
   "outputs": [],
   "source": [
    "# changing date field to datetime datatype\n",
    "\n",
    "df['date'] = pd.to_datetime(df['date'])"
   ]
  },
  {
   "cell_type": "code",
   "execution_count": 6,
   "metadata": {},
   "outputs": [],
   "source": [
    "# create a function to create a list of 1s and 0s\n",
    "\n",
    "def create_target(column):    \n",
    "    \n",
    "    labels = []\n",
    "    \n",
    "    # separate each row\n",
    "    for text in column:\n",
    "        \n",
    "        # initiate 0 as label\n",
    "        label = 0\n",
    "        \n",
    "        # iterate through words in relevant_words\n",
    "        for relevant_word in relevant:\n",
    "            \n",
    "            # if relevant_word is found in text, assign 1 as label\n",
    "            # stop comparing once assigned as 1, then append it to the list\n",
    "            if relevant_word in text.lower():\n",
    "                label = 1\n",
    "                break\n",
    "        labels.append(label)\n",
    "        \n",
    "    return labels"
   ]
  },
  {
   "cell_type": "code",
   "execution_count": 7,
   "metadata": {},
   "outputs": [],
   "source": [
    "# check if the post is related to COVID\n",
    "\n",
    "relevant = ['corona', 'virus', 'viral', 'covid', 'sars', 'influenza', 'pandemic', 'epidemic', 'quarantine', 'lockdown',\n",
    "            'distancing', 'national emergency', 'flatten', 'infect', 'ventilator', 'mask', 'symptomatic', 'epidemiolog',\n",
    "            'immun', 'incubation', 'transmission', 'vaccine', 'outbreak', 'epicenter', 'covid', 'contagi', 'transmit', \n",
    "            'transmission', 'community spread', 'shelter in place', 'immunocompromis', 'isolation', 'n95', 'incubation',\n",
    "            'travel ban', 'wuhan', 'china virus', 'chinese virus', 'shutdown', 'confirmed case', 'stay at home', 'stay-at-home',\n",
    "            'work from home', 'working from home', 'zoom meeting', 'stuck inside', 'stuck home', 'flu', 'toilet paper', \n",
    "            'toilette paper', 'asymptomatic']"
   ]
  },
  {
   "cell_type": "code",
   "execution_count": 8,
   "metadata": {},
   "outputs": [
    {
     "data": {
      "text/plain": [
       "0    0.886632\n",
       "1    0.113368\n",
       "Name: covid_related, dtype: float64"
      ]
     },
     "execution_count": 8,
     "metadata": {},
     "output_type": "execute_result"
    }
   ],
   "source": [
    "# assign a column and fill it with labels\n",
    "\n",
    "df['covid_related'] = create_target(df['post'])\n",
    "\n",
    "df['covid_related'].value_counts(normalize = True)"
   ]
  },
  {
   "cell_type": "code",
   "execution_count": 9,
   "metadata": {},
   "outputs": [],
   "source": [
    "# check if the post indicates suicide suggestive\n",
    "\n",
    "relevant = ['suicide', 'jumped off a bridge', 'jump off a bridge', 'i want to overdose', 'i wanna overdose', \"i’m a burden\", \n",
    "            \"i’m such a burden\", 'feel like a burden', 'shoot myself', 'shooting myself', 'slit my wrist', \"don't wanna wake up\", \n",
    "            'live any more', 'i will overdose', 'thinking about overdose', 'kill myself', 'killing myself', 'hang myself', \n",
    "            \"can't do this anymore\", 'hanging myself', 'cut myself', 'cutting myself', 'hurt myself', 'hurting myself', 'want to die',\n",
    "            'wanna die', \"don’t want to wake up\", \"don’t wake up\", 'never want to wake up', \"don’t want to be alive\", \n",
    "            'want to be alive',  'wish it would all end', 'done with living', 'want it to end, it all ends tonight', 'live anymore', \n",
    "            'self harm', 'i die', \"don't want to live\", 'living anymore', 'life anymore', 'be dead', 'take it anymore', 'end my life',\n",
    "            'think about death', 'hopeless', 'hurt myself', 'no one will miss me', 'if i live or die', 'i hate my life', 'shoot me', \n",
    "            'kill me', 'suicide', 'no point', 'deserve to die', \"i'm worthless\", 'no one would care', 'excedrin', 'ibuprofen', \n",
    "            'acetaminophen', '800 mg', '800mg', 'end my life', 'want it to stop', \"don’t want to be here anymore\", 'cut my wrist',\n",
    "            \"don't wanna be here anymore\", \"can't keep going\", \"won't be alive\", 'will not be alive', 'in the worst low', 'suicidal', \n",
    "            'self hatred', 'take this all away', 'end my life', 'run away from life', 'clock out', 'better without me', 'no reason to live',\n",
    "            'put myself out', \"can't take it anymore\", 'die in my sleep', 'not worth living', 'ready to die', 'end it all', \n",
    "            'thinking about ending it']"
   ]
  },
  {
   "cell_type": "code",
   "execution_count": 10,
   "metadata": {},
   "outputs": [
    {
     "data": {
      "text/plain": [
       "0    0.68884\n",
       "1    0.31116\n",
       "Name: suicidal, dtype: float64"
      ]
     },
     "execution_count": 10,
     "metadata": {},
     "output_type": "execute_result"
    }
   ],
   "source": [
    "# assign a column and fill it with labels\n",
    "\n",
    "df['suicidal'] = create_target(df['post'])\n",
    "\n",
    "df['suicidal'].value_counts(normalize = True)"
   ]
  },
  {
   "cell_type": "code",
   "execution_count": 13,
   "metadata": {},
   "outputs": [],
   "source": [
    "# check if the post suggests alcohol overuse\n",
    "\n",
    "relevant = ['drink too much', 'drinking too much', 'drink all day', 'drinking all day', 'drink so much', 'drinking so much', \n",
    "            'drink a lot', 'drinking a lot', 'drink everyday', 'drinking everyday', 'drink more', 'drinking more', \n",
    "            'beer', 'alcohol', 'vodka', 'whiskey', 'whisky', 'tequila', 'wine', 'gin', 'brandy', 'booze', 'booz', 'scotch',\n",
    "            'liquor', 'liqueur', 'liquer', 'rum', 'spirits', 'bourbon', 'drunk', 'hung over', 'not sober', 'never sober']"
   ]
  },
  {
   "cell_type": "code",
   "execution_count": 14,
   "metadata": {},
   "outputs": [
    {
     "data": {
      "text/plain": [
       "0    0.822358\n",
       "1    0.177642\n",
       "Name: alc_abuse, dtype: float64"
      ]
     },
     "execution_count": 14,
     "metadata": {},
     "output_type": "execute_result"
    }
   ],
   "source": [
    "# assign a column and fill it with labels\n",
    "\n",
    "df['alc_abuse'] = create_target(df['post'])\n",
    "\n",
    "df['alc_abuse'].value_counts(normalize = True)"
   ]
  },
  {
   "cell_type": "code",
   "execution_count": 15,
   "metadata": {},
   "outputs": [],
   "source": [
    "# check if the post expresses ones' loneliness\n",
    "\n",
    "relevant = ['alone', 'lonely', 'no one cares', \"can’t see anyone\", \"can’t see my\", 'i miss my', 'i want to see my', \n",
    "            'trapped', \"i’m in a cage\", 'feel ignored', 'ignoring me', 'rejected', 'avoid', 'avoiding me', 'am single', \n",
    "            'been single', 'quarantine', 'lockdown', 'isolat', 'self-isolat', 'disconnect', 'broke up', 'broken up', \n",
    "            'break up', 'breakup', 'divorce', 'loneliness', \"can't talk to anyone\", 'cannot talk to anyone', \n",
    "            \"can't hang out\", 'cannot hang out']"
   ]
  },
  {
   "cell_type": "code",
   "execution_count": 16,
   "metadata": {},
   "outputs": [
    {
     "data": {
      "text/plain": [
       "0    0.719272\n",
       "1    0.280728\n",
       "Name: loneliness, dtype: float64"
      ]
     },
     "execution_count": 16,
     "metadata": {},
     "output_type": "execute_result"
    }
   ],
   "source": [
    "# assign a column and fill it with labels\n",
    "\n",
    "df['loneliness'] = create_target(df['post'])\n",
    "\n",
    "df['loneliness'].value_counts(normalize = True)"
   ]
  },
  {
   "cell_type": "code",
   "execution_count": 17,
   "metadata": {},
   "outputs": [],
   "source": [
    "# check if the post includes any stressors\n",
    "\n",
    "relevant = ['furlough', 'laid off', 'fired', 'rent', 'make ends meet', 'bills', 'evict', 'enough money', 'cannot afford', \n",
    "            \"can't afford\", 'debt', 'no money', 'single mom', 'single dad', 'lost my job', 'mortgage', 'landlord',\n",
    "            'single parent', 'divorce', 'domestic violence', 'abuse', 'unemploy', 'homeless', 'out on the street', \n",
    "            'food bank', 'slap', 'hit me', 'fight', 'lost income']"
   ]
  },
  {
   "cell_type": "code",
   "execution_count": 18,
   "metadata": {},
   "outputs": [
    {
     "data": {
      "text/plain": [
       "0    0.712186\n",
       "1    0.287814\n",
       "Name: stress, dtype: float64"
      ]
     },
     "execution_count": 18,
     "metadata": {},
     "output_type": "execute_result"
    }
   ],
   "source": [
    "# assign a column and fill it with labels\n",
    "\n",
    "df['stress'] = create_target(df['post'])\n",
    "\n",
    "df['stress'].value_counts(normalize = True)"
   ]
  },
  {
   "cell_type": "code",
   "execution_count": 19,
   "metadata": {},
   "outputs": [
    {
     "data": {
      "text/plain": [
       "(102031, 9)"
      ]
     },
     "execution_count": 19,
     "metadata": {},
     "output_type": "execute_result"
    }
   ],
   "source": [
    "df.shape"
   ]
  },
  {
   "cell_type": "code",
   "execution_count": 20,
   "metadata": {},
   "outputs": [],
   "source": [
    "# instantiate spacy\n",
    "\n",
    "nlp = spacy.load('en_core_web_md')"
   ]
  },
  {
   "cell_type": "code",
   "execution_count": 25,
   "metadata": {},
   "outputs": [],
   "source": [
    "def get_nums(column):\n",
    "    \n",
    "    # create empty lists to store numbers of words and sentences\n",
    "    words = []\n",
    "    sentences = []\n",
    "    \n",
    "    # iterate through every row in post column\n",
    "    for i in range(len(column)):\n",
    "        \n",
    "        doc = nlp(column[i])\n",
    "        \n",
    "        num_words = len(doc)\n",
    "        words.append(num_words)\n",
    "        \n",
    "        num_sents = len(list(doc.sents))\n",
    "        sentences.append(num_sents)\n",
    "        \n",
    "    return words, sentences"
   ]
  },
  {
   "cell_type": "code",
   "execution_count": 26,
   "metadata": {},
   "outputs": [],
   "source": [
    "# add number of words and sentences in the dataframe\n",
    "\n",
    "df['n_words'], df['n_sentences'] = get_nums(df['post'])"
   ]
  },
  {
   "cell_type": "code",
   "execution_count": 27,
   "metadata": {},
   "outputs": [
    {
     "data": {
      "text/html": [
       "<div>\n",
       "<style scoped>\n",
       "    .dataframe tbody tr th:only-of-type {\n",
       "        vertical-align: middle;\n",
       "    }\n",
       "\n",
       "    .dataframe tbody tr th {\n",
       "        vertical-align: top;\n",
       "    }\n",
       "\n",
       "    .dataframe thead th {\n",
       "        text-align: right;\n",
       "    }\n",
       "</style>\n",
       "<table border=\"1\" class=\"dataframe\">\n",
       "  <thead>\n",
       "    <tr style=\"text-align: right;\">\n",
       "      <th></th>\n",
       "      <th>n_words</th>\n",
       "      <th>n_sentences</th>\n",
       "    </tr>\n",
       "  </thead>\n",
       "  <tbody>\n",
       "    <tr>\n",
       "      <th>0</th>\n",
       "      <td>24</td>\n",
       "      <td>3</td>\n",
       "    </tr>\n",
       "    <tr>\n",
       "      <th>1</th>\n",
       "      <td>577</td>\n",
       "      <td>41</td>\n",
       "    </tr>\n",
       "    <tr>\n",
       "      <th>2</th>\n",
       "      <td>64</td>\n",
       "      <td>5</td>\n",
       "    </tr>\n",
       "    <tr>\n",
       "      <th>3</th>\n",
       "      <td>111</td>\n",
       "      <td>14</td>\n",
       "    </tr>\n",
       "    <tr>\n",
       "      <th>4</th>\n",
       "      <td>136</td>\n",
       "      <td>9</td>\n",
       "    </tr>\n",
       "  </tbody>\n",
       "</table>\n",
       "</div>"
      ],
      "text/plain": [
       "   n_words  n_sentences\n",
       "0       24            3\n",
       "1      577           41\n",
       "2       64            5\n",
       "3      111           14\n",
       "4      136            9"
      ]
     },
     "execution_count": 27,
     "metadata": {},
     "output_type": "execute_result"
    }
   ],
   "source": [
    "# check the values\n",
    "\n",
    "df[['n_words', 'n_sentences']][:5]"
   ]
  },
  {
   "cell_type": "code",
   "execution_count": 28,
   "metadata": {},
   "outputs": [
    {
     "name": "stdout",
     "output_type": "stream",
     "text": [
      "(102031, 11)\n"
     ]
    },
    {
     "data": {
      "text/html": [
       "<div>\n",
       "<style scoped>\n",
       "    .dataframe tbody tr th:only-of-type {\n",
       "        vertical-align: middle;\n",
       "    }\n",
       "\n",
       "    .dataframe tbody tr th {\n",
       "        vertical-align: top;\n",
       "    }\n",
       "\n",
       "    .dataframe thead th {\n",
       "        text-align: right;\n",
       "    }\n",
       "</style>\n",
       "<table border=\"1\" class=\"dataframe\">\n",
       "  <thead>\n",
       "    <tr style=\"text-align: right;\">\n",
       "      <th></th>\n",
       "      <th>subreddit</th>\n",
       "      <th>author</th>\n",
       "      <th>date</th>\n",
       "      <th>post</th>\n",
       "      <th>covid_related</th>\n",
       "      <th>suicidal</th>\n",
       "      <th>alc_abuse</th>\n",
       "      <th>loneliness</th>\n",
       "      <th>stress</th>\n",
       "      <th>n_words</th>\n",
       "      <th>n_sentences</th>\n",
       "    </tr>\n",
       "  </thead>\n",
       "  <tbody>\n",
       "    <tr>\n",
       "      <th>0</th>\n",
       "      <td>alcoholism</td>\n",
       "      <td>glorybellpirate</td>\n",
       "      <td>2020-01-01</td>\n",
       "      <td>Day 1 of sobriety Feeling anxious and letting ...</td>\n",
       "      <td>0</td>\n",
       "      <td>0</td>\n",
       "      <td>1</td>\n",
       "      <td>0</td>\n",
       "      <td>0</td>\n",
       "      <td>24</td>\n",
       "      <td>3</td>\n",
       "    </tr>\n",
       "    <tr>\n",
       "      <th>1</th>\n",
       "      <td>alcoholism</td>\n",
       "      <td>EhndlessSl0th</td>\n",
       "      <td>2020-01-01</td>\n",
       "      <td>Started the New Year with a bang. Hey, I'm new...</td>\n",
       "      <td>0</td>\n",
       "      <td>1</td>\n",
       "      <td>1</td>\n",
       "      <td>0</td>\n",
       "      <td>1</td>\n",
       "      <td>577</td>\n",
       "      <td>41</td>\n",
       "    </tr>\n",
       "    <tr>\n",
       "      <th>2</th>\n",
       "      <td>alcoholism</td>\n",
       "      <td>the_kinky_penguin</td>\n",
       "      <td>2020-01-01</td>\n",
       "      <td>Why can't I get drunk anymore I've been a heav...</td>\n",
       "      <td>0</td>\n",
       "      <td>0</td>\n",
       "      <td>1</td>\n",
       "      <td>0</td>\n",
       "      <td>0</td>\n",
       "      <td>64</td>\n",
       "      <td>5</td>\n",
       "    </tr>\n",
       "    <tr>\n",
       "      <th>3</th>\n",
       "      <td>alcoholism</td>\n",
       "      <td>SauceoffSauceOn</td>\n",
       "      <td>2020-01-01</td>\n",
       "      <td>I am an Alcoholic. How do I quit? I have been ...</td>\n",
       "      <td>0</td>\n",
       "      <td>0</td>\n",
       "      <td>1</td>\n",
       "      <td>0</td>\n",
       "      <td>1</td>\n",
       "      <td>111</td>\n",
       "      <td>14</td>\n",
       "    </tr>\n",
       "    <tr>\n",
       "      <th>4</th>\n",
       "      <td>alcoholism</td>\n",
       "      <td>ben42187</td>\n",
       "      <td>2020-01-01</td>\n",
       "      <td>Funniest Thing about Alcoholism With every oth...</td>\n",
       "      <td>0</td>\n",
       "      <td>0</td>\n",
       "      <td>1</td>\n",
       "      <td>0</td>\n",
       "      <td>0</td>\n",
       "      <td>136</td>\n",
       "      <td>9</td>\n",
       "    </tr>\n",
       "  </tbody>\n",
       "</table>\n",
       "</div>"
      ],
      "text/plain": [
       "    subreddit             author       date  \\\n",
       "0  alcoholism    glorybellpirate 2020-01-01   \n",
       "1  alcoholism      EhndlessSl0th 2020-01-01   \n",
       "2  alcoholism  the_kinky_penguin 2020-01-01   \n",
       "3  alcoholism    SauceoffSauceOn 2020-01-01   \n",
       "4  alcoholism           ben42187 2020-01-01   \n",
       "\n",
       "                                                post  covid_related  suicidal  \\\n",
       "0  Day 1 of sobriety Feeling anxious and letting ...              0         0   \n",
       "1  Started the New Year with a bang. Hey, I'm new...              0         1   \n",
       "2  Why can't I get drunk anymore I've been a heav...              0         0   \n",
       "3  I am an Alcoholic. How do I quit? I have been ...              0         0   \n",
       "4  Funniest Thing about Alcoholism With every oth...              0         0   \n",
       "\n",
       "   alc_abuse  loneliness  stress  n_words  n_sentences  \n",
       "0          1           0       0       24            3  \n",
       "1          1           0       1      577           41  \n",
       "2          1           0       0       64            5  \n",
       "3          1           0       1      111           14  \n",
       "4          1           0       0      136            9  "
      ]
     },
     "execution_count": 28,
     "metadata": {},
     "output_type": "execute_result"
    }
   ],
   "source": [
    "print(df.shape)\n",
    "df.head()"
   ]
  },
  {
   "cell_type": "code",
   "execution_count": 29,
   "metadata": {},
   "outputs": [
    {
     "name": "stdout",
     "output_type": "stream",
     "text": [
      "326\n",
      "{'afterwards', 'although', 'there', 'whereafter', 'can', 'please', 'before', 'made', 'does', 'my', 'now', 'never', 'me', 'must', 'third', 'upon', '’re', 'yours', 'further', 'however', 'being', 'besides', 'during', 'quite', 'about', 'former', 'very', 'themselves', 'herself', 'thru', 'cannot', 'is', 'perhaps', \"'m\", 'less', 'somehow', '’d', 'noone', 'own', 'via', 'at', 'above', 'either', 'namely', 'yet', 'do', 'nor', 'just', 'as', 'say', 'be', 'except', 'with', '‘ll', 'someone', 'much', 'really', 'somewhere', 'one', 'thereafter', 'same', 'others', 'seems', 'whole', 'whereupon', 'an', 'itself', 'empty', 'back', 'this', 'unless', 'could', 'when', 'thereupon', 'who', 'other', 'again', 'regarding', 'did', 'should', 'front', 'have', 'where', 'ever', 'i', 'since', 'myself', 'together', 'though', 'using', 'by', 'those', 'towards', 'more', 'these', 'them', 'off', 'sometime', 'might', 'himself', 'seeming', 'eight', 'along', 'between', 'the', 'part', 'due', 'make', 'call', 'few', 'else', 'used', '’ll', 'twelve', 'whither', 'may', 'because', 'nobody', 'becomes', 'hereby', 'sixty', 'n‘t', \"'d\", 'whereby', 'that', 'whereas', '‘d', 'whether', 'something', 'here', 'enough', 'your', 'has', 'whenever', 'doing', 'fifty', 'she', 'down', 'out', 'bottom', 'once', 'seem', 'ourselves', 'also', 'fifteen', 'on', 'thus', 'meanwhile', 'two', 'around', 'forty', 'three', 'sometimes', 'go', 'many', 'therein', 'whence', 'became', 'amount', 'us', 'so', 'often', 'always', 'least', 'wherever', 'wherein', 'under', 'behind', 'below', 'we', 'most', 'in', 'eleven', 'all', 'anyway', 'mostly', 'will', 'if', 'across', 'five', 'formerly', 'beyond', 'would', 'anywhere', 'alone', 'anyone', 'neither', 'no', 'for', 'whose', 'give', 'or', 'why', 'n’t', 'been', 'full', 'both', 'hers', 'how', 'not', 'put', 'whom', 'latter', 'its', 'it', 'various', 'hereupon', 'becoming', 'yourselves', 'through', 'which', 'over', \"'ll\", \"'re\", '‘m', 'against', 'thereby', 'twenty', 'ten', 'you', 'seemed', 'while', 'any', 'well', 'anything', 'from', 'everywhere', 'herein', 'already', 'first', 'among', '’s', 'than', 'everything', 'throughout', 'side', 'each', 'whoever', 'toward', 'such', 'whatever', 'had', 'next', 'six', 'am', 'elsewhere', '’ve', 'without', 'hence', 'nowhere', 'beforehand', 'last', 'are', 'was', \"'s\", 'a', 'name', 'and', 'his', 'he', 'onto', 'per', 'every', 'amongst', 'him', 'even', 'nevertheless', 'take', '’m', 'none', 'they', \"'ve\", 're', 'become', 'otherwise', 'some', 'several', 'done', 'until', 'beside', 'move', 'their', 'ca', 'keep', 'nine', 'what', 'four', '‘re', 'top', 'thence', 'were', 'everyone', 'anyhow', 'ours', 'after', 'therefore', 'see', 'but', 'our', 'moreover', 'of', 'only', 'rather', '‘ve', 'latterly', 'nothing', 'within', \"n't\", 'hundred', 'mine', 'too', 'up', 'yourself', '‘s', 'almost', 'then', 'get', 'her', 'show', 'serious', 'another', 'still', 'hereafter', 'into', 'to', 'indeed'}\n"
     ]
    }
   ],
   "source": [
    "# check spacy's stopwords\n",
    "\n",
    "print(len(nlp.Defaults.stop_words))\n",
    "print(nlp.Defaults.stop_words)"
   ]
  },
  {
   "cell_type": "code",
   "execution_count": 30,
   "metadata": {},
   "outputs": [
    {
     "data": {
      "text/plain": [
       "318"
      ]
     },
     "execution_count": 30,
     "metadata": {},
     "output_type": "execute_result"
    }
   ],
   "source": [
    "# customize stop words - \n",
    "# remove several words from stopwords - will use bidirectional LSTM, and negative sentiments could be important\n",
    "\n",
    "stop = nlp.Defaults.stop_words\n",
    "stop -= {'not', 'no', 'nobody', 'noone', 'anyone', 'over', 'empty', 'nothing'}\n",
    "\n",
    "# check if worked\n",
    "\n",
    "len(stop)"
   ]
  },
  {
   "cell_type": "code",
   "execution_count": 40,
   "metadata": {},
   "outputs": [],
   "source": [
    "# create a function to lemmatize\n",
    "\n",
    "def lemmatize(column):\n",
    "    \n",
    "    lem = []\n",
    "    vec = []\n",
    "    \n",
    "    for i in range(len(column)):      \n",
    "        \n",
    "        # unfold contraction words for lemmatization\n",
    "        \n",
    "        doc = re.sub(r\"\\'s\", ' is ', column[i])\n",
    "        doc = re.sub(r\"\\'ve\", ' have ', doc)\n",
    "        doc = re.sub(r\"n't\", ' not ', doc)\n",
    "        doc = re.sub(r\"I'm\", ' I am ', doc)\n",
    "        doc = re.sub(r\"i'm\", ' I am ', doc)\n",
    "        doc = re.sub(r\"\\'re\", ' are ', doc)\n",
    "        doc = re.sub(r\"\\'d\", ' would ', doc)\n",
    "        doc = re.sub(r\"\\'ll\", ' will ', doc)\n",
    "        doc = re.sub('[^A-Za-z0-9]+', ' ', doc)\n",
    "        \n",
    "        # stem the words\n",
    "        \n",
    "        doc = nlp(doc) \n",
    "        text = ' '.join([token.lemma_ for token in doc if token not in stop])\n",
    "        \n",
    "        text = text.lower()\n",
    "        vector = doc.vector\n",
    "        \n",
    "        lem.append(text)\n",
    "        vec.append(vector)\n",
    "        \n",
    "    return lem, vec"
   ]
  },
  {
   "cell_type": "code",
   "execution_count": null,
   "metadata": {},
   "outputs": [],
   "source": [
    "# store lemmatized posts in dataframe \n",
    "\n",
    "df['lemmatized'], df['vectors'] = lemmatize(df['post'])"
   ]
  },
  {
   "cell_type": "code",
   "execution_count": 33,
   "metadata": {},
   "outputs": [
    {
     "data": {
      "text/html": [
       "<div>\n",
       "<style scoped>\n",
       "    .dataframe tbody tr th:only-of-type {\n",
       "        vertical-align: middle;\n",
       "    }\n",
       "\n",
       "    .dataframe tbody tr th {\n",
       "        vertical-align: top;\n",
       "    }\n",
       "\n",
       "    .dataframe thead th {\n",
       "        text-align: right;\n",
       "    }\n",
       "</style>\n",
       "<table border=\"1\" class=\"dataframe\">\n",
       "  <thead>\n",
       "    <tr style=\"text-align: right;\">\n",
       "      <th></th>\n",
       "      <th>post</th>\n",
       "      <th>lemmatized</th>\n",
       "      <th>vectors</th>\n",
       "    </tr>\n",
       "  </thead>\n",
       "  <tbody>\n",
       "    <tr>\n",
       "      <th>0</th>\n",
       "      <td>Day 1 of sobriety Feeling anxious and letting ...</td>\n",
       "      <td>day 1 of sobriety feel anxious and let the fee...</td>\n",
       "      <td>[-0.026765203, 0.2515704, -0.1566844, -0.00761...</td>\n",
       "    </tr>\n",
       "    <tr>\n",
       "      <th>1</th>\n",
       "      <td>Started the New Year with a bang. Hey, I'm new...</td>\n",
       "      <td>start the new year with a bang hey -pron- be n...</td>\n",
       "      <td>[0.010248344, 0.18354495, -0.22630265, -0.0344...</td>\n",
       "    </tr>\n",
       "    <tr>\n",
       "      <th>2</th>\n",
       "      <td>Why can't I get drunk anymore I've been a heav...</td>\n",
       "      <td>why ca not -pron- get drunk anymore -pron- hav...</td>\n",
       "      <td>[-0.09739925, 0.18395872, -0.22718114, -0.1007...</td>\n",
       "    </tr>\n",
       "    <tr>\n",
       "      <th>3</th>\n",
       "      <td>I am an Alcoholic. How do I quit? I have been ...</td>\n",
       "      <td>-pron- be an alcoholic how do -pron- quit -pro...</td>\n",
       "      <td>[-0.0117096035, 0.18657142, -0.25766036, -0.09...</td>\n",
       "    </tr>\n",
       "    <tr>\n",
       "      <th>4</th>\n",
       "      <td>Funniest Thing about Alcoholism With every oth...</td>\n",
       "      <td>funniest thing about alcoholism with every oth...</td>\n",
       "      <td>[-0.04437424, 0.18121068, -0.1554362, -0.12354...</td>\n",
       "    </tr>\n",
       "    <tr>\n",
       "      <th>...</th>\n",
       "      <td>...</td>\n",
       "      <td>...</td>\n",
       "      <td>...</td>\n",
       "    </tr>\n",
       "    <tr>\n",
       "      <th>102026</th>\n",
       "      <td>My worst fear came to life today. One of my fr...</td>\n",
       "      <td>-pron- bad fear come to life today one of -pro...</td>\n",
       "      <td>[-0.054425444, 0.18733731, -0.2389673, -0.0360...</td>\n",
       "    </tr>\n",
       "    <tr>\n",
       "      <th>102027</th>\n",
       "      <td>***GROSS ANXIETY STORY*** help... This is real...</td>\n",
       "      <td>gross anxiety story help this be really gros...</td>\n",
       "      <td>[-0.049861066, 0.22880034, -0.24683814, -0.052...</td>\n",
       "    </tr>\n",
       "    <tr>\n",
       "      <th>102028</th>\n",
       "      <td>Really need advice and help please The last mo...</td>\n",
       "      <td>really need advice and help please the last mo...</td>\n",
       "      <td>[-0.032756463, 0.20075087, -0.23279792, -0.080...</td>\n",
       "    </tr>\n",
       "    <tr>\n",
       "      <th>102029</th>\n",
       "      <td>Anxiety to live up in the tech industry I’m a ...</td>\n",
       "      <td>anxiety to live up in the tech industry -pron-...</td>\n",
       "      <td>[-0.0065991883, 0.17816082, -0.22199208, -0.06...</td>\n",
       "    </tr>\n",
       "    <tr>\n",
       "      <th>102030</th>\n",
       "      <td>My coping toolbox I’m writing this partly for ...</td>\n",
       "      <td>-pron- coping toolbox -pron- m write this part...</td>\n",
       "      <td>[-0.0140116885, 0.14237769, -0.2035592, 0.0042...</td>\n",
       "    </tr>\n",
       "  </tbody>\n",
       "</table>\n",
       "<p>102031 rows × 3 columns</p>\n",
       "</div>"
      ],
      "text/plain": [
       "                                                     post  \\\n",
       "0       Day 1 of sobriety Feeling anxious and letting ...   \n",
       "1       Started the New Year with a bang. Hey, I'm new...   \n",
       "2       Why can't I get drunk anymore I've been a heav...   \n",
       "3       I am an Alcoholic. How do I quit? I have been ...   \n",
       "4       Funniest Thing about Alcoholism With every oth...   \n",
       "...                                                   ...   \n",
       "102026  My worst fear came to life today. One of my fr...   \n",
       "102027  ***GROSS ANXIETY STORY*** help... This is real...   \n",
       "102028  Really need advice and help please The last mo...   \n",
       "102029  Anxiety to live up in the tech industry I’m a ...   \n",
       "102030  My coping toolbox I’m writing this partly for ...   \n",
       "\n",
       "                                               lemmatized  \\\n",
       "0       day 1 of sobriety feel anxious and let the fee...   \n",
       "1       start the new year with a bang hey -pron- be n...   \n",
       "2       why ca not -pron- get drunk anymore -pron- hav...   \n",
       "3       -pron- be an alcoholic how do -pron- quit -pro...   \n",
       "4       funniest thing about alcoholism with every oth...   \n",
       "...                                                   ...   \n",
       "102026  -pron- bad fear come to life today one of -pro...   \n",
       "102027    gross anxiety story help this be really gros...   \n",
       "102028  really need advice and help please the last mo...   \n",
       "102029  anxiety to live up in the tech industry -pron-...   \n",
       "102030  -pron- coping toolbox -pron- m write this part...   \n",
       "\n",
       "                                                  vectors  \n",
       "0       [-0.026765203, 0.2515704, -0.1566844, -0.00761...  \n",
       "1       [0.010248344, 0.18354495, -0.22630265, -0.0344...  \n",
       "2       [-0.09739925, 0.18395872, -0.22718114, -0.1007...  \n",
       "3       [-0.0117096035, 0.18657142, -0.25766036, -0.09...  \n",
       "4       [-0.04437424, 0.18121068, -0.1554362, -0.12354...  \n",
       "...                                                   ...  \n",
       "102026  [-0.054425444, 0.18733731, -0.2389673, -0.0360...  \n",
       "102027  [-0.049861066, 0.22880034, -0.24683814, -0.052...  \n",
       "102028  [-0.032756463, 0.20075087, -0.23279792, -0.080...  \n",
       "102029  [-0.0065991883, 0.17816082, -0.22199208, -0.06...  \n",
       "102030  [-0.0140116885, 0.14237769, -0.2035592, 0.0042...  \n",
       "\n",
       "[102031 rows x 3 columns]"
      ]
     },
     "execution_count": 33,
     "metadata": {},
     "output_type": "execute_result"
    }
   ],
   "source": [
    "df[['post', 'lemmatized', 'vectors']]"
   ]
  },
  {
   "cell_type": "code",
   "execution_count": 38,
   "metadata": {},
   "outputs": [
    {
     "data": {
      "text/plain": [
       "dtype('float32')"
      ]
     },
     "execution_count": 38,
     "metadata": {},
     "output_type": "execute_result"
    }
   ],
   "source": [
    "df['vectors'][0][0].dtype"
   ]
  },
  {
   "cell_type": "code",
   "execution_count": 39,
   "metadata": {},
   "outputs": [
    {
     "data": {
      "text/plain": [
       "dtype('O')"
      ]
     },
     "execution_count": 39,
     "metadata": {},
     "output_type": "execute_result"
    }
   ],
   "source": [
    "df['vectors'].dtype"
   ]
  },
  {
   "cell_type": "code",
   "execution_count": 34,
   "metadata": {},
   "outputs": [
    {
     "name": "stdout",
     "output_type": "stream",
     "text": [
      "(102031, 13)\n"
     ]
    },
    {
     "data": {
      "text/html": [
       "<div>\n",
       "<style scoped>\n",
       "    .dataframe tbody tr th:only-of-type {\n",
       "        vertical-align: middle;\n",
       "    }\n",
       "\n",
       "    .dataframe tbody tr th {\n",
       "        vertical-align: top;\n",
       "    }\n",
       "\n",
       "    .dataframe thead th {\n",
       "        text-align: right;\n",
       "    }\n",
       "</style>\n",
       "<table border=\"1\" class=\"dataframe\">\n",
       "  <thead>\n",
       "    <tr style=\"text-align: right;\">\n",
       "      <th></th>\n",
       "      <th>subreddit</th>\n",
       "      <th>author</th>\n",
       "      <th>date</th>\n",
       "      <th>post</th>\n",
       "      <th>covid_related</th>\n",
       "      <th>suicidal</th>\n",
       "      <th>alc_abuse</th>\n",
       "      <th>loneliness</th>\n",
       "      <th>stress</th>\n",
       "      <th>n_words</th>\n",
       "      <th>n_sentences</th>\n",
       "      <th>lemmatized</th>\n",
       "      <th>vectors</th>\n",
       "    </tr>\n",
       "  </thead>\n",
       "  <tbody>\n",
       "    <tr>\n",
       "      <th>0</th>\n",
       "      <td>alcoholism</td>\n",
       "      <td>glorybellpirate</td>\n",
       "      <td>2020-01-01</td>\n",
       "      <td>Day 1 of sobriety Feeling anxious and letting ...</td>\n",
       "      <td>0</td>\n",
       "      <td>0</td>\n",
       "      <td>1</td>\n",
       "      <td>0</td>\n",
       "      <td>0</td>\n",
       "      <td>24</td>\n",
       "      <td>3</td>\n",
       "      <td>day 1 of sobriety feel anxious and let the fee...</td>\n",
       "      <td>[-0.026765203, 0.2515704, -0.1566844, -0.00761...</td>\n",
       "    </tr>\n",
       "    <tr>\n",
       "      <th>1</th>\n",
       "      <td>alcoholism</td>\n",
       "      <td>EhndlessSl0th</td>\n",
       "      <td>2020-01-01</td>\n",
       "      <td>Started the New Year with a bang. Hey, I'm new...</td>\n",
       "      <td>0</td>\n",
       "      <td>1</td>\n",
       "      <td>1</td>\n",
       "      <td>0</td>\n",
       "      <td>1</td>\n",
       "      <td>577</td>\n",
       "      <td>41</td>\n",
       "      <td>start the new year with a bang hey -pron- be n...</td>\n",
       "      <td>[0.010248344, 0.18354495, -0.22630265, -0.0344...</td>\n",
       "    </tr>\n",
       "    <tr>\n",
       "      <th>2</th>\n",
       "      <td>alcoholism</td>\n",
       "      <td>the_kinky_penguin</td>\n",
       "      <td>2020-01-01</td>\n",
       "      <td>Why can't I get drunk anymore I've been a heav...</td>\n",
       "      <td>0</td>\n",
       "      <td>0</td>\n",
       "      <td>1</td>\n",
       "      <td>0</td>\n",
       "      <td>0</td>\n",
       "      <td>64</td>\n",
       "      <td>5</td>\n",
       "      <td>why ca not -pron- get drunk anymore -pron- hav...</td>\n",
       "      <td>[-0.09739925, 0.18395872, -0.22718114, -0.1007...</td>\n",
       "    </tr>\n",
       "    <tr>\n",
       "      <th>3</th>\n",
       "      <td>alcoholism</td>\n",
       "      <td>SauceoffSauceOn</td>\n",
       "      <td>2020-01-01</td>\n",
       "      <td>I am an Alcoholic. How do I quit? I have been ...</td>\n",
       "      <td>0</td>\n",
       "      <td>0</td>\n",
       "      <td>1</td>\n",
       "      <td>0</td>\n",
       "      <td>1</td>\n",
       "      <td>111</td>\n",
       "      <td>14</td>\n",
       "      <td>-pron- be an alcoholic how do -pron- quit -pro...</td>\n",
       "      <td>[-0.0117096035, 0.18657142, -0.25766036, -0.09...</td>\n",
       "    </tr>\n",
       "    <tr>\n",
       "      <th>4</th>\n",
       "      <td>alcoholism</td>\n",
       "      <td>ben42187</td>\n",
       "      <td>2020-01-01</td>\n",
       "      <td>Funniest Thing about Alcoholism With every oth...</td>\n",
       "      <td>0</td>\n",
       "      <td>0</td>\n",
       "      <td>1</td>\n",
       "      <td>0</td>\n",
       "      <td>0</td>\n",
       "      <td>136</td>\n",
       "      <td>9</td>\n",
       "      <td>funniest thing about alcoholism with every oth...</td>\n",
       "      <td>[-0.04437424, 0.18121068, -0.1554362, -0.12354...</td>\n",
       "    </tr>\n",
       "  </tbody>\n",
       "</table>\n",
       "</div>"
      ],
      "text/plain": [
       "    subreddit             author       date  \\\n",
       "0  alcoholism    glorybellpirate 2020-01-01   \n",
       "1  alcoholism      EhndlessSl0th 2020-01-01   \n",
       "2  alcoholism  the_kinky_penguin 2020-01-01   \n",
       "3  alcoholism    SauceoffSauceOn 2020-01-01   \n",
       "4  alcoholism           ben42187 2020-01-01   \n",
       "\n",
       "                                                post  covid_related  suicidal  \\\n",
       "0  Day 1 of sobriety Feeling anxious and letting ...              0         0   \n",
       "1  Started the New Year with a bang. Hey, I'm new...              0         1   \n",
       "2  Why can't I get drunk anymore I've been a heav...              0         0   \n",
       "3  I am an Alcoholic. How do I quit? I have been ...              0         0   \n",
       "4  Funniest Thing about Alcoholism With every oth...              0         0   \n",
       "\n",
       "   alc_abuse  loneliness  stress  n_words  n_sentences  \\\n",
       "0          1           0       0       24            3   \n",
       "1          1           0       1      577           41   \n",
       "2          1           0       0       64            5   \n",
       "3          1           0       1      111           14   \n",
       "4          1           0       0      136            9   \n",
       "\n",
       "                                          lemmatized  \\\n",
       "0  day 1 of sobriety feel anxious and let the fee...   \n",
       "1  start the new year with a bang hey -pron- be n...   \n",
       "2  why ca not -pron- get drunk anymore -pron- hav...   \n",
       "3  -pron- be an alcoholic how do -pron- quit -pro...   \n",
       "4  funniest thing about alcoholism with every oth...   \n",
       "\n",
       "                                             vectors  \n",
       "0  [-0.026765203, 0.2515704, -0.1566844, -0.00761...  \n",
       "1  [0.010248344, 0.18354495, -0.22630265, -0.0344...  \n",
       "2  [-0.09739925, 0.18395872, -0.22718114, -0.1007...  \n",
       "3  [-0.0117096035, 0.18657142, -0.25766036, -0.09...  \n",
       "4  [-0.04437424, 0.18121068, -0.1554362, -0.12354...  "
      ]
     },
     "execution_count": 34,
     "metadata": {},
     "output_type": "execute_result"
    }
   ],
   "source": [
    "# check the dataframe\n",
    "\n",
    "print(df.shape)\n",
    "df.head()"
   ]
  },
  {
   "cell_type": "code",
   "execution_count": 35,
   "metadata": {},
   "outputs": [],
   "source": [
    "# save the final file to json to save vectors column in list format\n",
    "\n",
    "df.to_json('../data/cleaned/final.json')"
   ]
  },
  {
   "cell_type": "code",
   "execution_count": 44,
   "metadata": {},
   "outputs": [],
   "source": [
    "# save the final file to csv as well\n",
    "\n",
    "df.to_csv('../data/cleaned/final.csv', index = False)"
   ]
  },
  {
   "cell_type": "markdown",
   "metadata": {},
   "source": [
    "### clustering\n",
    "\n",
    "subspace clustering\n",
    "\n",
    "hierarchical clustering method with sklearn"
   ]
  },
  {
   "cell_type": "code",
   "execution_count": null,
   "metadata": {},
   "outputs": [],
   "source": []
  }
 ],
 "metadata": {
  "kernelspec": {
   "display_name": "Python 3",
   "language": "python",
   "name": "python3"
  },
  "language_info": {
   "codemirror_mode": {
    "name": "ipython",
    "version": 3
   },
   "file_extension": ".py",
   "mimetype": "text/x-python",
   "name": "python",
   "nbconvert_exporter": "python",
   "pygments_lexer": "ipython3",
   "version": "3.7.7"
  }
 },
 "nbformat": 4,
 "nbformat_minor": 4
}
