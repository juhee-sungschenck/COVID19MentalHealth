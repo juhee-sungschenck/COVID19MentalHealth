{
 "cells": [
  {
   "cell_type": "code",
   "execution_count": 39,
   "metadata": {},
   "outputs": [],
   "source": [
    "import pandas as pd\n",
    "import numpy as np\n",
    "import re\n",
    "import datetime\n",
    "\n",
    "import spacy\n",
    "import en_core_web_sm\n",
    "from spacy.lemmatizer import Lemmatizer"
   ]
  },
  {
   "cell_type": "code",
   "execution_count": 5,
   "metadata": {},
   "outputs": [],
   "source": [
    "# read in the dataframe\n",
    "\n",
    "df = pd.read_csv('../data/cleaned/combined.csv')"
   ]
  },
  {
   "cell_type": "code",
   "execution_count": 6,
   "metadata": {},
   "outputs": [
    {
     "name": "stdout",
     "output_type": "stream",
     "text": [
      "(102031, 4)\n"
     ]
    },
    {
     "data": {
      "text/html": [
       "<div>\n",
       "<style scoped>\n",
       "    .dataframe tbody tr th:only-of-type {\n",
       "        vertical-align: middle;\n",
       "    }\n",
       "\n",
       "    .dataframe tbody tr th {\n",
       "        vertical-align: top;\n",
       "    }\n",
       "\n",
       "    .dataframe thead th {\n",
       "        text-align: right;\n",
       "    }\n",
       "</style>\n",
       "<table border=\"1\" class=\"dataframe\">\n",
       "  <thead>\n",
       "    <tr style=\"text-align: right;\">\n",
       "      <th></th>\n",
       "      <th>subreddit</th>\n",
       "      <th>author</th>\n",
       "      <th>date</th>\n",
       "      <th>post</th>\n",
       "    </tr>\n",
       "  </thead>\n",
       "  <tbody>\n",
       "    <tr>\n",
       "      <th>0</th>\n",
       "      <td>alcoholism</td>\n",
       "      <td>glorybellpirate</td>\n",
       "      <td>2020-01-01</td>\n",
       "      <td>Day 1 of sobriety Feeling anxious and letting ...</td>\n",
       "    </tr>\n",
       "    <tr>\n",
       "      <th>1</th>\n",
       "      <td>alcoholism</td>\n",
       "      <td>EhndlessSl0th</td>\n",
       "      <td>2020-01-01</td>\n",
       "      <td>Started the New Year with a bang. Hey, I'm new...</td>\n",
       "    </tr>\n",
       "    <tr>\n",
       "      <th>2</th>\n",
       "      <td>alcoholism</td>\n",
       "      <td>the_kinky_penguin</td>\n",
       "      <td>2020-01-01</td>\n",
       "      <td>Why can't I get drunk anymore I've been a heav...</td>\n",
       "    </tr>\n",
       "    <tr>\n",
       "      <th>3</th>\n",
       "      <td>alcoholism</td>\n",
       "      <td>SauceoffSauceOn</td>\n",
       "      <td>2020-01-01</td>\n",
       "      <td>I am an Alcoholic. How do I quit? I have been ...</td>\n",
       "    </tr>\n",
       "    <tr>\n",
       "      <th>4</th>\n",
       "      <td>alcoholism</td>\n",
       "      <td>ben42187</td>\n",
       "      <td>2020-01-01</td>\n",
       "      <td>Funniest Thing about Alcoholism With every oth...</td>\n",
       "    </tr>\n",
       "  </tbody>\n",
       "</table>\n",
       "</div>"
      ],
      "text/plain": [
       "    subreddit             author        date  \\\n",
       "0  alcoholism    glorybellpirate  2020-01-01   \n",
       "1  alcoholism      EhndlessSl0th  2020-01-01   \n",
       "2  alcoholism  the_kinky_penguin  2020-01-01   \n",
       "3  alcoholism    SauceoffSauceOn  2020-01-01   \n",
       "4  alcoholism           ben42187  2020-01-01   \n",
       "\n",
       "                                                post  \n",
       "0  Day 1 of sobriety Feeling anxious and letting ...  \n",
       "1  Started the New Year with a bang. Hey, I'm new...  \n",
       "2  Why can't I get drunk anymore I've been a heav...  \n",
       "3  I am an Alcoholic. How do I quit? I have been ...  \n",
       "4  Funniest Thing about Alcoholism With every oth...  "
      ]
     },
     "execution_count": 6,
     "metadata": {},
     "output_type": "execute_result"
    }
   ],
   "source": [
    "# check the shape and the first 5 rows\n",
    "\n",
    "print(df.shape)\n",
    "df.head()"
   ]
  },
  {
   "cell_type": "markdown",
   "metadata": {},
   "source": [
    "### Feature Engineering and Preprocessing"
   ]
  },
  {
   "cell_type": "code",
   "execution_count": 7,
   "metadata": {},
   "outputs": [
    {
     "data": {
      "text/plain": [
       "dtype('O')"
      ]
     },
     "execution_count": 7,
     "metadata": {},
     "output_type": "execute_result"
    }
   ],
   "source": [
    "## select posts only created in 2020\n",
    "\n",
    "df['date'].dtype # object -> should be changed to datetime"
   ]
  },
  {
   "cell_type": "code",
   "execution_count": 8,
   "metadata": {},
   "outputs": [],
   "source": [
    "# changing date field to datetime datatype\n",
    "\n",
    "df['date'] = pd.to_datetime(df['date'])"
   ]
  },
  {
   "cell_type": "code",
   "execution_count": 9,
   "metadata": {},
   "outputs": [],
   "source": [
    "# create a function to create a list of 1s and 0s\n",
    "\n",
    "def create_target(column):    \n",
    "    \n",
    "    labels = []\n",
    "    \n",
    "    # separate each row\n",
    "    for text in column:\n",
    "        \n",
    "        # initiate 0 as label\n",
    "        label = 0\n",
    "        \n",
    "        # iterate through words in relevant_words\n",
    "        for relevant_word in relevant:\n",
    "            \n",
    "            # if relevant_word is found in text, assign 1 as label\n",
    "            # stop comparing once assigned as 1, then append it to the list\n",
    "            if relevant_word in text.lower():\n",
    "                label = 1\n",
    "                break\n",
    "        labels.append(label)\n",
    "        \n",
    "    return labels"
   ]
  },
  {
   "cell_type": "code",
   "execution_count": 12,
   "metadata": {},
   "outputs": [],
   "source": [
    "# check if the post is related to COVID\n",
    "\n",
    "relevant = ['corona', 'virus', 'viral', 'covid', 'sars', 'influenza', 'pandemic', 'epidemic', 'quarantine', 'lockdown',\n",
    "            'distancing', 'national emergency', 'flatten', 'infect', 'ventilator', 'mask', 'symptomatic', 'epidemiolog',\n",
    "            'immun', 'incubation', 'transmission', 'vaccine', 'outbreak', 'epicenter', 'covid', 'contagi', 'transmit', \n",
    "            'transmission', 'community spread', 'shelter in place', 'immunocompromis', 'isolation', 'n95', 'incubation',\n",
    "            'travel ban', 'wuhan', 'china virus', 'chinese virus', 'shutdown', 'confirmed case', 'stay at home', 'stay-at-home',\n",
    "            'work from home', 'working from home', 'zoom meeting', 'stuck inside', 'stuck home', 'flu', 'toilet paper', \n",
    "            'toilette paper', 'asymptomatic']"
   ]
  },
  {
   "cell_type": "code",
   "execution_count": 13,
   "metadata": {},
   "outputs": [
    {
     "data": {
      "text/plain": [
       "0    0.886632\n",
       "1    0.113368\n",
       "Name: covid_related, dtype: float64"
      ]
     },
     "execution_count": 13,
     "metadata": {},
     "output_type": "execute_result"
    }
   ],
   "source": [
    "# assign a column and fill it with labels\n",
    "\n",
    "df['covid_related'] = create_target(df['post'])\n",
    "\n",
    "df['covid_related'].value_counts(normalize = True)"
   ]
  },
  {
   "cell_type": "code",
   "execution_count": 14,
   "metadata": {},
   "outputs": [],
   "source": [
    "# check if the post indicates suicide suggestive\n",
    "\n",
    "relevant = ['suicide', 'jump off a bridge', 'i want to overdose', 'i wanna overdose', \"i’m a burden\", \"i’m such a burden\", \n",
    "            'feel like a burden', 'shoot myself', 'shooting myself', 'slit my wrist', \"don't wanna wake up\", 'live any more',\n",
    "            'i will overdose', 'thinking about overdose', 'kill myself', 'killing myself', 'hang myself', \"can't do this anymore\",\n",
    "            'hanging myself', 'cut myself', 'cutting myself', 'hurt myself', 'hurting myself', 'want to die', 'wanna die',\n",
    "            \"don’t want to wake up\", \"don’t wake up\", 'never want to wake up', \"don’t want to be alive\", 'want to be alive', \n",
    "            'wish it would all end', 'done with living', 'want it to end, it all ends tonight', 'live anymore', \n",
    "            'living anymore', 'life anymore', 'be dead', 'take it anymore', 'end my life', 'think about death', 'hopeless', \n",
    "            'hurt myself', 'no one will miss me', 'if i live or die', 'i hate my life', 'shoot me', 'kill me', 'suicide', \n",
    "            'no point', 'deserve to die', \"i'm worthless\", 'no one would care', 'excedrin', 'ibuprofen', 'acetaminophen', \n",
    "            '800 mg', '800mg', 'end my life', 'want it to stop', \"don’t want to be here anymore\", \"don't wanna be here anymore\"]"
   ]
  },
  {
   "cell_type": "code",
   "execution_count": 15,
   "metadata": {},
   "outputs": [
    {
     "data": {
      "text/plain": [
       "0    0.74889\n",
       "1    0.25111\n",
       "Name: suicidal, dtype: float64"
      ]
     },
     "execution_count": 15,
     "metadata": {},
     "output_type": "execute_result"
    }
   ],
   "source": [
    "# assign a column and fill it with labels\n",
    "\n",
    "df['suicidal'] = create_target(df['post'])\n",
    "\n",
    "df['suicidal'].value_counts(normalize = True)"
   ]
  },
  {
   "cell_type": "code",
   "execution_count": 16,
   "metadata": {},
   "outputs": [],
   "source": [
    "# check if the post suggests alcohol overuse\n",
    "\n",
    "relevant = ['drink too much', 'drinking too much', 'drink all day', 'drinking all day', 'drink so much', 'drinking so much', \n",
    "            'drink a lot', 'drinking a lot', 'drink everyday', 'drinking everyday', 'drink more', 'drinking more', \n",
    "            'beer', 'alcohol', 'vodka', 'whiskey', 'whisky', 'tequila', 'wine', 'gin', 'brandy', 'booze', 'scotch',\n",
    "            'liquor', 'liqueur', 'liquer', 'rum', 'spirits', 'bourbon', 'drunk', 'hung over', 'not sober', 'never sober']"
   ]
  },
  {
   "cell_type": "code",
   "execution_count": 17,
   "metadata": {},
   "outputs": [
    {
     "data": {
      "text/plain": [
       "0    0.822407\n",
       "1    0.177593\n",
       "Name: alc_abuse, dtype: float64"
      ]
     },
     "execution_count": 17,
     "metadata": {},
     "output_type": "execute_result"
    }
   ],
   "source": [
    "# assign a column and fill it with labels\n",
    "\n",
    "df['alc_abuse'] = create_target(df['post'])\n",
    "\n",
    "df['alc_abuse'].value_counts(normalize = True)"
   ]
  },
  {
   "cell_type": "code",
   "execution_count": 18,
   "metadata": {},
   "outputs": [],
   "source": [
    "# check if the post expresses ones' loneliness\n",
    "\n",
    "relevant = ['alone', 'lonely', 'no one cares', \"can’t see anyone\", \"can’t see my\", 'i miss my', 'i want to see my', \n",
    "            'trapped', \"i’m in a cage\", 'feel ignored', 'ignoring me', 'rejected', 'avoid', 'avoiding me', 'am single', \n",
    "            'been single', 'quarantine', 'lockdown', 'isolat', 'self-isolat', 'disconnect', 'broke up', 'broken up', \n",
    "            'break up', 'breakup', 'divorce', 'loneliness', \"can't talk to anyone\", 'cannot talk to anyone', \n",
    "            \"can't hang out\", 'cannot hang out']"
   ]
  },
  {
   "cell_type": "code",
   "execution_count": 19,
   "metadata": {},
   "outputs": [
    {
     "data": {
      "text/plain": [
       "0    0.719272\n",
       "1    0.280728\n",
       "Name: loneliness, dtype: float64"
      ]
     },
     "execution_count": 19,
     "metadata": {},
     "output_type": "execute_result"
    }
   ],
   "source": [
    "# assign a column and fill it with labels\n",
    "\n",
    "df['loneliness'] = create_target(df['post'])\n",
    "\n",
    "df['loneliness'].value_counts(normalize = True)"
   ]
  },
  {
   "cell_type": "code",
   "execution_count": 20,
   "metadata": {},
   "outputs": [],
   "source": [
    "# check if the post includes any stressors\n",
    "\n",
    "relevant = ['furlough', 'laid off', 'fired', 'rent', 'make ends meet', 'bills', 'evict', 'enough money', 'cannot afford', \n",
    "            \"can't afford\", 'debt', 'no money', 'single mom', 'single dad', 'lost my job', 'mortgage', 'landlord',\n",
    "            'single parent', 'divorce', 'domestic violence', 'abuse', 'unemploy', 'homeless', 'out on the street', \n",
    "            'food bank', 'slap', 'hit me', 'fight', 'lost income']"
   ]
  },
  {
   "cell_type": "code",
   "execution_count": 21,
   "metadata": {},
   "outputs": [
    {
     "data": {
      "text/plain": [
       "0    0.712186\n",
       "1    0.287814\n",
       "Name: stress, dtype: float64"
      ]
     },
     "execution_count": 21,
     "metadata": {},
     "output_type": "execute_result"
    }
   ],
   "source": [
    "# assign a column and fill it with labels\n",
    "\n",
    "df['stress'] = create_target(df['post'])\n",
    "\n",
    "df['stress'].value_counts(normalize = True)"
   ]
  },
  {
   "cell_type": "code",
   "execution_count": 22,
   "metadata": {},
   "outputs": [
    {
     "data": {
      "text/plain": [
       "(102031, 9)"
      ]
     },
     "execution_count": 22,
     "metadata": {},
     "output_type": "execute_result"
    }
   ],
   "source": [
    "df.shape"
   ]
  },
  {
   "cell_type": "code",
   "execution_count": 31,
   "metadata": {},
   "outputs": [],
   "source": [
    "# instantiate spacy\n",
    "\n",
    "nlp = en_core_web_sm.load()"
   ]
  },
  {
   "cell_type": "code",
   "execution_count": 34,
   "metadata": {},
   "outputs": [],
   "source": [
    "def get_nums(column):\n",
    "    \n",
    "    # create empty lists to store numbers of words and sentences\n",
    "    words = []\n",
    "    sentences = []\n",
    "    \n",
    "    # iterate through every row in post column\n",
    "    for i in range(len(column)):\n",
    "        \n",
    "        doc = nlp(column[i])\n",
    "        \n",
    "        num_words = len(doc)\n",
    "        words.append(num_words)\n",
    "        \n",
    "        num_sents = len(list(doc.sents))\n",
    "        sentences.append(num_sents)\n",
    "        \n",
    "    return words, sentences"
   ]
  },
  {
   "cell_type": "code",
   "execution_count": 35,
   "metadata": {},
   "outputs": [],
   "source": [
    "# add number of words and sentences in the dataframe\n",
    "\n",
    "df['n_words'], df['n_sentences'] = get_nums(df['post'])"
   ]
  },
  {
   "cell_type": "code",
   "execution_count": 36,
   "metadata": {},
   "outputs": [
    {
     "data": {
      "text/plain": [
       "0     24\n",
       "1    577\n",
       "2     64\n",
       "3    111\n",
       "4    136\n",
       "Name: n_words, dtype: int64"
      ]
     },
     "execution_count": 36,
     "metadata": {},
     "output_type": "execute_result"
    }
   ],
   "source": [
    "# check the values\n",
    "\n",
    "df['n_words'][:5]"
   ]
  },
  {
   "cell_type": "code",
   "execution_count": 37,
   "metadata": {},
   "outputs": [
    {
     "data": {
      "text/plain": [
       "0     3\n",
       "1    44\n",
       "2     5\n",
       "3    14\n",
       "4    10\n",
       "Name: n_sentences, dtype: int64"
      ]
     },
     "execution_count": 37,
     "metadata": {},
     "output_type": "execute_result"
    }
   ],
   "source": [
    "df['n_sentences'][:5]"
   ]
  },
  {
   "cell_type": "code",
   "execution_count": 38,
   "metadata": {},
   "outputs": [
    {
     "name": "stdout",
     "output_type": "stream",
     "text": [
      "(102031, 11)\n"
     ]
    },
    {
     "data": {
      "text/html": [
       "<div>\n",
       "<style scoped>\n",
       "    .dataframe tbody tr th:only-of-type {\n",
       "        vertical-align: middle;\n",
       "    }\n",
       "\n",
       "    .dataframe tbody tr th {\n",
       "        vertical-align: top;\n",
       "    }\n",
       "\n",
       "    .dataframe thead th {\n",
       "        text-align: right;\n",
       "    }\n",
       "</style>\n",
       "<table border=\"1\" class=\"dataframe\">\n",
       "  <thead>\n",
       "    <tr style=\"text-align: right;\">\n",
       "      <th></th>\n",
       "      <th>subreddit</th>\n",
       "      <th>author</th>\n",
       "      <th>date</th>\n",
       "      <th>post</th>\n",
       "      <th>covid_related</th>\n",
       "      <th>suicidal</th>\n",
       "      <th>alc_abuse</th>\n",
       "      <th>loneliness</th>\n",
       "      <th>stress</th>\n",
       "      <th>n_words</th>\n",
       "      <th>n_sentences</th>\n",
       "    </tr>\n",
       "  </thead>\n",
       "  <tbody>\n",
       "    <tr>\n",
       "      <th>0</th>\n",
       "      <td>alcoholism</td>\n",
       "      <td>glorybellpirate</td>\n",
       "      <td>2020-01-01</td>\n",
       "      <td>Day 1 of sobriety Feeling anxious and letting ...</td>\n",
       "      <td>0</td>\n",
       "      <td>0</td>\n",
       "      <td>1</td>\n",
       "      <td>0</td>\n",
       "      <td>0</td>\n",
       "      <td>24</td>\n",
       "      <td>3</td>\n",
       "    </tr>\n",
       "    <tr>\n",
       "      <th>1</th>\n",
       "      <td>alcoholism</td>\n",
       "      <td>EhndlessSl0th</td>\n",
       "      <td>2020-01-01</td>\n",
       "      <td>Started the New Year with a bang. Hey, I'm new...</td>\n",
       "      <td>0</td>\n",
       "      <td>1</td>\n",
       "      <td>1</td>\n",
       "      <td>0</td>\n",
       "      <td>1</td>\n",
       "      <td>577</td>\n",
       "      <td>44</td>\n",
       "    </tr>\n",
       "    <tr>\n",
       "      <th>2</th>\n",
       "      <td>alcoholism</td>\n",
       "      <td>the_kinky_penguin</td>\n",
       "      <td>2020-01-01</td>\n",
       "      <td>Why can't I get drunk anymore I've been a heav...</td>\n",
       "      <td>0</td>\n",
       "      <td>0</td>\n",
       "      <td>1</td>\n",
       "      <td>0</td>\n",
       "      <td>0</td>\n",
       "      <td>64</td>\n",
       "      <td>5</td>\n",
       "    </tr>\n",
       "    <tr>\n",
       "      <th>3</th>\n",
       "      <td>alcoholism</td>\n",
       "      <td>SauceoffSauceOn</td>\n",
       "      <td>2020-01-01</td>\n",
       "      <td>I am an Alcoholic. How do I quit? I have been ...</td>\n",
       "      <td>0</td>\n",
       "      <td>0</td>\n",
       "      <td>1</td>\n",
       "      <td>0</td>\n",
       "      <td>1</td>\n",
       "      <td>111</td>\n",
       "      <td>14</td>\n",
       "    </tr>\n",
       "    <tr>\n",
       "      <th>4</th>\n",
       "      <td>alcoholism</td>\n",
       "      <td>ben42187</td>\n",
       "      <td>2020-01-01</td>\n",
       "      <td>Funniest Thing about Alcoholism With every oth...</td>\n",
       "      <td>0</td>\n",
       "      <td>0</td>\n",
       "      <td>1</td>\n",
       "      <td>0</td>\n",
       "      <td>0</td>\n",
       "      <td>136</td>\n",
       "      <td>10</td>\n",
       "    </tr>\n",
       "  </tbody>\n",
       "</table>\n",
       "</div>"
      ],
      "text/plain": [
       "    subreddit             author       date  \\\n",
       "0  alcoholism    glorybellpirate 2020-01-01   \n",
       "1  alcoholism      EhndlessSl0th 2020-01-01   \n",
       "2  alcoholism  the_kinky_penguin 2020-01-01   \n",
       "3  alcoholism    SauceoffSauceOn 2020-01-01   \n",
       "4  alcoholism           ben42187 2020-01-01   \n",
       "\n",
       "                                                post  covid_related  suicidal  \\\n",
       "0  Day 1 of sobriety Feeling anxious and letting ...              0         0   \n",
       "1  Started the New Year with a bang. Hey, I'm new...              0         1   \n",
       "2  Why can't I get drunk anymore I've been a heav...              0         0   \n",
       "3  I am an Alcoholic. How do I quit? I have been ...              0         0   \n",
       "4  Funniest Thing about Alcoholism With every oth...              0         0   \n",
       "\n",
       "   alc_abuse  loneliness  stress  n_words  n_sentences  \n",
       "0          1           0       0       24            3  \n",
       "1          1           0       1      577           44  \n",
       "2          1           0       0       64            5  \n",
       "3          1           0       1      111           14  \n",
       "4          1           0       0      136           10  "
      ]
     },
     "execution_count": 38,
     "metadata": {},
     "output_type": "execute_result"
    }
   ],
   "source": [
    "print(df.shape)\n",
    "df.head()"
   ]
  },
  {
   "cell_type": "code",
   "execution_count": 59,
   "metadata": {},
   "outputs": [],
   "source": [
    "# stopwords will not be removed from the posts for LSTM in modeling process\n",
    "# create a function to lemmatize\n",
    "\n",
    "def lemmatize(column):\n",
    "    \n",
    "    lem = []\n",
    "    \n",
    "    for i in range(len(column)):\n",
    "        \n",
    "        doc = nlp(column[i])\n",
    "        \n",
    "        token_lem = ' '.join(token.lemma_ for token in doc if token.is_alpha == True)\n",
    "\n",
    "        lem.append(token_lem)\n",
    "        \n",
    "    return lem"
   ]
  },
  {
   "cell_type": "code",
   "execution_count": 60,
   "metadata": {},
   "outputs": [],
   "source": [
    "# store lemmatized posts in dataframe \n",
    "\n",
    "df['lemmatized'] = lemmatize(df['post'])"
   ]
  },
  {
   "cell_type": "code",
   "execution_count": 61,
   "metadata": {},
   "outputs": [
    {
     "data": {
      "text/html": [
       "<div>\n",
       "<style scoped>\n",
       "    .dataframe tbody tr th:only-of-type {\n",
       "        vertical-align: middle;\n",
       "    }\n",
       "\n",
       "    .dataframe tbody tr th {\n",
       "        vertical-align: top;\n",
       "    }\n",
       "\n",
       "    .dataframe thead th {\n",
       "        text-align: right;\n",
       "    }\n",
       "</style>\n",
       "<table border=\"1\" class=\"dataframe\">\n",
       "  <thead>\n",
       "    <tr style=\"text-align: right;\">\n",
       "      <th></th>\n",
       "      <th>post</th>\n",
       "      <th>lemmatized</th>\n",
       "    </tr>\n",
       "  </thead>\n",
       "  <tbody>\n",
       "    <tr>\n",
       "      <th>0</th>\n",
       "      <td>Day 1 of sobriety Feeling anxious and letting ...</td>\n",
       "      <td>day of sobriety feel anxious and let the feeli...</td>\n",
       "    </tr>\n",
       "    <tr>\n",
       "      <th>1</th>\n",
       "      <td>Started the New Year with a bang. Hey, I'm new...</td>\n",
       "      <td>start the New Year with a bang hey -PRON- new ...</td>\n",
       "    </tr>\n",
       "    <tr>\n",
       "      <th>2</th>\n",
       "      <td>Why can't I get drunk anymore I've been a heav...</td>\n",
       "      <td>why can -PRON- get drunk anymore -PRON- be a h...</td>\n",
       "    </tr>\n",
       "    <tr>\n",
       "      <th>3</th>\n",
       "      <td>I am an Alcoholic. How do I quit? I have been ...</td>\n",
       "      <td>-PRON- be an Alcoholic how do -PRON- quit -PRO...</td>\n",
       "    </tr>\n",
       "    <tr>\n",
       "      <th>4</th>\n",
       "      <td>Funniest Thing about Alcoholism With every oth...</td>\n",
       "      <td>Funniest thing about Alcoholism with every oth...</td>\n",
       "    </tr>\n",
       "    <tr>\n",
       "      <th>...</th>\n",
       "      <td>...</td>\n",
       "      <td>...</td>\n",
       "    </tr>\n",
       "    <tr>\n",
       "      <th>102026</th>\n",
       "      <td>My worst fear came to life today. One of my fr...</td>\n",
       "      <td>-PRON- bad fear come to life today one of -PRO...</td>\n",
       "    </tr>\n",
       "    <tr>\n",
       "      <th>102027</th>\n",
       "      <td>***GROSS ANXIETY STORY*** help... This is real...</td>\n",
       "      <td>gross ANXIETY story help this be really gross ...</td>\n",
       "    </tr>\n",
       "    <tr>\n",
       "      <th>102028</th>\n",
       "      <td>Really need advice and help please The last mo...</td>\n",
       "      <td>really need advice and help please the last mo...</td>\n",
       "    </tr>\n",
       "    <tr>\n",
       "      <th>102029</th>\n",
       "      <td>Anxiety to live up in the tech industry I’m a ...</td>\n",
       "      <td>anxiety to live up in the tech industry -PRON-...</td>\n",
       "    </tr>\n",
       "    <tr>\n",
       "      <th>102030</th>\n",
       "      <td>My coping toolbox I’m writing this partly for ...</td>\n",
       "      <td>-PRON- coping toolbox -PRON- write this partly...</td>\n",
       "    </tr>\n",
       "  </tbody>\n",
       "</table>\n",
       "<p>102031 rows × 2 columns</p>\n",
       "</div>"
      ],
      "text/plain": [
       "                                                     post  \\\n",
       "0       Day 1 of sobriety Feeling anxious and letting ...   \n",
       "1       Started the New Year with a bang. Hey, I'm new...   \n",
       "2       Why can't I get drunk anymore I've been a heav...   \n",
       "3       I am an Alcoholic. How do I quit? I have been ...   \n",
       "4       Funniest Thing about Alcoholism With every oth...   \n",
       "...                                                   ...   \n",
       "102026  My worst fear came to life today. One of my fr...   \n",
       "102027  ***GROSS ANXIETY STORY*** help... This is real...   \n",
       "102028  Really need advice and help please The last mo...   \n",
       "102029  Anxiety to live up in the tech industry I’m a ...   \n",
       "102030  My coping toolbox I’m writing this partly for ...   \n",
       "\n",
       "                                               lemmatized  \n",
       "0       day of sobriety feel anxious and let the feeli...  \n",
       "1       start the New Year with a bang hey -PRON- new ...  \n",
       "2       why can -PRON- get drunk anymore -PRON- be a h...  \n",
       "3       -PRON- be an Alcoholic how do -PRON- quit -PRO...  \n",
       "4       Funniest thing about Alcoholism with every oth...  \n",
       "...                                                   ...  \n",
       "102026  -PRON- bad fear come to life today one of -PRO...  \n",
       "102027  gross ANXIETY story help this be really gross ...  \n",
       "102028  really need advice and help please the last mo...  \n",
       "102029  anxiety to live up in the tech industry -PRON-...  \n",
       "102030  -PRON- coping toolbox -PRON- write this partly...  \n",
       "\n",
       "[102031 rows x 2 columns]"
      ]
     },
     "execution_count": 61,
     "metadata": {},
     "output_type": "execute_result"
    }
   ],
   "source": [
    "df[['post', 'lemmatized']]"
   ]
  },
  {
   "cell_type": "code",
   "execution_count": 62,
   "metadata": {},
   "outputs": [
    {
     "name": "stdout",
     "output_type": "stream",
     "text": [
      "(102031, 12)\n"
     ]
    },
    {
     "data": {
      "text/html": [
       "<div>\n",
       "<style scoped>\n",
       "    .dataframe tbody tr th:only-of-type {\n",
       "        vertical-align: middle;\n",
       "    }\n",
       "\n",
       "    .dataframe tbody tr th {\n",
       "        vertical-align: top;\n",
       "    }\n",
       "\n",
       "    .dataframe thead th {\n",
       "        text-align: right;\n",
       "    }\n",
       "</style>\n",
       "<table border=\"1\" class=\"dataframe\">\n",
       "  <thead>\n",
       "    <tr style=\"text-align: right;\">\n",
       "      <th></th>\n",
       "      <th>subreddit</th>\n",
       "      <th>author</th>\n",
       "      <th>date</th>\n",
       "      <th>post</th>\n",
       "      <th>covid_related</th>\n",
       "      <th>suicidal</th>\n",
       "      <th>alc_abuse</th>\n",
       "      <th>loneliness</th>\n",
       "      <th>stress</th>\n",
       "      <th>n_words</th>\n",
       "      <th>n_sentences</th>\n",
       "      <th>lemmatized</th>\n",
       "    </tr>\n",
       "  </thead>\n",
       "  <tbody>\n",
       "    <tr>\n",
       "      <th>0</th>\n",
       "      <td>alcoholism</td>\n",
       "      <td>glorybellpirate</td>\n",
       "      <td>2020-01-01</td>\n",
       "      <td>Day 1 of sobriety Feeling anxious and letting ...</td>\n",
       "      <td>0</td>\n",
       "      <td>0</td>\n",
       "      <td>1</td>\n",
       "      <td>0</td>\n",
       "      <td>0</td>\n",
       "      <td>24</td>\n",
       "      <td>3</td>\n",
       "      <td>day of sobriety feel anxious and let the feeli...</td>\n",
       "    </tr>\n",
       "    <tr>\n",
       "      <th>1</th>\n",
       "      <td>alcoholism</td>\n",
       "      <td>EhndlessSl0th</td>\n",
       "      <td>2020-01-01</td>\n",
       "      <td>Started the New Year with a bang. Hey, I'm new...</td>\n",
       "      <td>0</td>\n",
       "      <td>1</td>\n",
       "      <td>1</td>\n",
       "      <td>0</td>\n",
       "      <td>1</td>\n",
       "      <td>577</td>\n",
       "      <td>44</td>\n",
       "      <td>start the New Year with a bang hey -PRON- new ...</td>\n",
       "    </tr>\n",
       "    <tr>\n",
       "      <th>2</th>\n",
       "      <td>alcoholism</td>\n",
       "      <td>the_kinky_penguin</td>\n",
       "      <td>2020-01-01</td>\n",
       "      <td>Why can't I get drunk anymore I've been a heav...</td>\n",
       "      <td>0</td>\n",
       "      <td>0</td>\n",
       "      <td>1</td>\n",
       "      <td>0</td>\n",
       "      <td>0</td>\n",
       "      <td>64</td>\n",
       "      <td>5</td>\n",
       "      <td>why can -PRON- get drunk anymore -PRON- be a h...</td>\n",
       "    </tr>\n",
       "    <tr>\n",
       "      <th>3</th>\n",
       "      <td>alcoholism</td>\n",
       "      <td>SauceoffSauceOn</td>\n",
       "      <td>2020-01-01</td>\n",
       "      <td>I am an Alcoholic. How do I quit? I have been ...</td>\n",
       "      <td>0</td>\n",
       "      <td>0</td>\n",
       "      <td>1</td>\n",
       "      <td>0</td>\n",
       "      <td>1</td>\n",
       "      <td>111</td>\n",
       "      <td>14</td>\n",
       "      <td>-PRON- be an Alcoholic how do -PRON- quit -PRO...</td>\n",
       "    </tr>\n",
       "    <tr>\n",
       "      <th>4</th>\n",
       "      <td>alcoholism</td>\n",
       "      <td>ben42187</td>\n",
       "      <td>2020-01-01</td>\n",
       "      <td>Funniest Thing about Alcoholism With every oth...</td>\n",
       "      <td>0</td>\n",
       "      <td>0</td>\n",
       "      <td>1</td>\n",
       "      <td>0</td>\n",
       "      <td>0</td>\n",
       "      <td>136</td>\n",
       "      <td>10</td>\n",
       "      <td>Funniest thing about Alcoholism with every oth...</td>\n",
       "    </tr>\n",
       "  </tbody>\n",
       "</table>\n",
       "</div>"
      ],
      "text/plain": [
       "    subreddit             author       date  \\\n",
       "0  alcoholism    glorybellpirate 2020-01-01   \n",
       "1  alcoholism      EhndlessSl0th 2020-01-01   \n",
       "2  alcoholism  the_kinky_penguin 2020-01-01   \n",
       "3  alcoholism    SauceoffSauceOn 2020-01-01   \n",
       "4  alcoholism           ben42187 2020-01-01   \n",
       "\n",
       "                                                post  covid_related  suicidal  \\\n",
       "0  Day 1 of sobriety Feeling anxious and letting ...              0         0   \n",
       "1  Started the New Year with a bang. Hey, I'm new...              0         1   \n",
       "2  Why can't I get drunk anymore I've been a heav...              0         0   \n",
       "3  I am an Alcoholic. How do I quit? I have been ...              0         0   \n",
       "4  Funniest Thing about Alcoholism With every oth...              0         0   \n",
       "\n",
       "   alc_abuse  loneliness  stress  n_words  n_sentences  \\\n",
       "0          1           0       0       24            3   \n",
       "1          1           0       1      577           44   \n",
       "2          1           0       0       64            5   \n",
       "3          1           0       1      111           14   \n",
       "4          1           0       0      136           10   \n",
       "\n",
       "                                          lemmatized  \n",
       "0  day of sobriety feel anxious and let the feeli...  \n",
       "1  start the New Year with a bang hey -PRON- new ...  \n",
       "2  why can -PRON- get drunk anymore -PRON- be a h...  \n",
       "3  -PRON- be an Alcoholic how do -PRON- quit -PRO...  \n",
       "4  Funniest thing about Alcoholism with every oth...  "
      ]
     },
     "execution_count": 62,
     "metadata": {},
     "output_type": "execute_result"
    }
   ],
   "source": [
    "# check the dataframe\n",
    "\n",
    "print(df.shape)\n",
    "df.head()"
   ]
  },
  {
   "cell_type": "code",
   "execution_count": 63,
   "metadata": {},
   "outputs": [],
   "source": [
    "# save the final file to csv\n",
    "\n",
    "df.to_csv('../data/cleaned/final.csv', index = False)"
   ]
  },
  {
   "cell_type": "code",
   "execution_count": null,
   "metadata": {},
   "outputs": [],
   "source": []
  }
 ],
 "metadata": {
  "kernelspec": {
   "display_name": "Python 3",
   "language": "python",
   "name": "python3"
  },
  "language_info": {
   "codemirror_mode": {
    "name": "ipython",
    "version": 3
   },
   "file_extension": ".py",
   "mimetype": "text/x-python",
   "name": "python",
   "nbconvert_exporter": "python",
   "pygments_lexer": "ipython3",
   "version": "3.7.7"
  }
 },
 "nbformat": 4,
 "nbformat_minor": 4
}
