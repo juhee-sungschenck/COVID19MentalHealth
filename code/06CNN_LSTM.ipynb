{
 "cells": [
  {
   "cell_type": "code",
   "execution_count": null,
   "metadata": {},
   "outputs": [],
   "source": [
    "# import libraries\n",
    "\n",
    "# keras\n",
    "\n",
    "from tensorflow.keras.optimizers import Adam\n",
    "from tensorflow.keras.preprocessing.text import Tokenizer\n",
    "from tensorflow.keras.preprocessing.sequence import pad_sequences\n",
    "from tensorflow.keras.models import Sequential\n",
    "from tensorflow.keras.layers import Dense, Flatten, LSTM, Conv1D, MaxPooling1D, Dropout, Bidirectional, Embedding\n",
    "from tensorflow.keras.callbacks import EarlyStopping\n",
    "from tensorflow.keras.wrappers.scikit_learn import KerasClassifier\n",
    "\n",
    "# basic\n",
    "\n",
    "import pandas as pd\n",
    "import numpy as np\n",
    "import matplotlib.pyplot as plt\n",
    "import seaborn as sns\n",
    "\n",
    "# preprocessing, model selection and scores\n",
    "\n",
    "from sklearn.model_selection import train_test_split, GridSearchCV\n",
    "from sklearn.preprocessing import StandardScaler\n",
    "from sklearn.metrics import accuracy_score\n",
    "\n",
    "# nlp\n",
    "\n",
    "from sklearn.feature_extraction.text import TfidfVectorizer\n",
    "from sklearn.feature_extraction import text\n",
    "import nltk\n",
    "from nltk.tokenize import RegexpTokenizer\n",
    "from nltk.corpus import stopwords\n",
    "\n",
    "%matplotlib inline"
   ]
  },
  {
   "cell_type": "code",
   "execution_count": 2,
   "metadata": {},
   "outputs": [],
   "source": [
    "# read in the data\n",
    "\n",
    "data = pd.read_csv('../data/cleaned/labeled.csv')"
   ]
  },
  {
   "cell_type": "code",
   "execution_count": 3,
   "metadata": {},
   "outputs": [],
   "source": [
    "# select only lemmatized column and label\n",
    "\n",
    "df = data[['lemmatized', 'label']]"
   ]
  },
  {
   "cell_type": "code",
   "execution_count": 4,
   "metadata": {},
   "outputs": [],
   "source": [
    "# set up X and y\n",
    "\n",
    "X = df['lemmatized']\n",
    "y = df['label']\n",
    "\n",
    "# train test split\n",
    "\n",
    "X_train, X_test, y_train, y_test = train_test_split(X, y, test_size = 0.3, stratify = y, random_state = 2020)"
   ]
  },
  {
   "cell_type": "markdown",
   "metadata": {},
   "source": [
    "### Preprocessing for modeling"
   ]
  },
  {
   "cell_type": "code",
   "execution_count": 5,
   "metadata": {},
   "outputs": [],
   "source": [
    "# update stop_words for TF-IDF vectorizer\n",
    "\n",
    "remove = ['-pron-', 'feel', 'know', 'want', 'life', 'go', 'think', 'make', 'people', 'really', 'even', 'much', 'now', \n",
    "          'pron', 'don', 'will', 'try', 'talk', 'friends', 'tell', 'just', 'like', 'time', 'want', 'well', 'thing', 'day',\n",
    "          'friend', 'help', 'year', 'bad', 've', 'say', 'good', 'need', 'way', 'right', 'month', 'amp', 'x200b']\n",
    "\n",
    "my_stop_words = text.ENGLISH_STOP_WORDS.union(remove)"
   ]
  },
  {
   "cell_type": "code",
   "execution_count": 6,
   "metadata": {},
   "outputs": [],
   "source": [
    "# instantiate Tf-IDF\n",
    "\n",
    "tvec = TfidfVectorizer(stop_words = my_stop_words, max_df = .80, min_df = 10, max_features = 256, ngram_range = (1, 1))"
   ]
  },
  {
   "cell_type": "code",
   "execution_count": 7,
   "metadata": {},
   "outputs": [
    {
     "name": "stdout",
     "output_type": "stream",
     "text": [
      "(71425, 256)\n",
      "(30612, 256)\n"
     ]
    }
   ],
   "source": [
    "# fit/transform X then save it to a dataframe\n",
    "\n",
    "train = tvec.fit_transform(X_train).toarray()\n",
    "print(train.shape)\n",
    "\n",
    "test = tvec.transform(X_test).toarray()\n",
    "print(test.shape)"
   ]
  },
  {
   "cell_type": "code",
   "execution_count": 8,
   "metadata": {},
   "outputs": [
    {
     "data": {
      "text/plain": [
       "(256,)"
      ]
     },
     "execution_count": 8,
     "metadata": {},
     "output_type": "execute_result"
    }
   ],
   "source": [
    "# check shape of each row\n",
    "\n",
    "train[0].shape"
   ]
  },
  {
   "cell_type": "code",
   "execution_count": 9,
   "metadata": {},
   "outputs": [],
   "source": [
    "# reshape to fit\n",
    "\n",
    "train = train.reshape(train.shape[0], 256, 1)\n",
    "test = test.reshape(test.shape[0], 256, 1)"
   ]
  },
  {
   "cell_type": "code",
   "execution_count": 10,
   "metadata": {},
   "outputs": [
    {
     "data": {
      "text/plain": [
       "(256, 1)"
      ]
     },
     "execution_count": 10,
     "metadata": {},
     "output_type": "execute_result"
    }
   ],
   "source": [
    "train[0].shape"
   ]
  },
  {
   "cell_type": "markdown",
   "metadata": {},
   "source": [
    "## Model 1 - epochs 20"
   ]
  },
  {
   "cell_type": "code",
   "execution_count": 11,
   "metadata": {},
   "outputs": [
    {
     "name": "stdout",
     "output_type": "stream",
     "text": [
      "Model: \"sequential\"\n",
      "_________________________________________________________________\n",
      "Layer (type)                 Output Shape              Param #   \n",
      "=================================================================\n",
      "conv1d (Conv1D)              (None, 252, 128)          768       \n",
      "_________________________________________________________________\n",
      "dropout (Dropout)            (None, 252, 128)          0         \n",
      "_________________________________________________________________\n",
      "conv1d_1 (Conv1D)            (None, 248, 64)           41024     \n",
      "_________________________________________________________________\n",
      "max_pooling1d (MaxPooling1D) (None, 62, 64)            0         \n",
      "_________________________________________________________________\n",
      "lstm (LSTM)                  (None, 100)               66000     \n",
      "_________________________________________________________________\n",
      "dense (Dense)                (None, 1)                 101       \n",
      "=================================================================\n",
      "Total params: 107,893\n",
      "Trainable params: 107,893\n",
      "Non-trainable params: 0\n",
      "_________________________________________________________________\n"
     ]
    }
   ],
   "source": [
    "# instantiate\n",
    "\n",
    "model_1 = Sequential()\n",
    "\n",
    "# add layers\n",
    "\n",
    "model_1.add(Conv1D(filters = 128, kernel_size = 5, activation='relu', input_shape = (256, 1)))\n",
    "model_1.add(Dropout(0.2))\n",
    "model_1.add(Conv1D(filters = 64, kernel_size = 5, activation = 'relu'))\n",
    "model_1.add(MaxPooling1D(pool_size = 4))\n",
    "model_1.add(LSTM(100))\n",
    "model_1.add(Dense(1, activation = 'sigmoid'))\n",
    "\n",
    "# compile\n",
    "\n",
    "model_1.compile(loss = 'bce', optimizer = 'adam', metrics = ['accuracy'])\n",
    "\n",
    "# check model summary\n",
    "\n",
    "model_1.summary()"
   ]
  },
  {
   "cell_type": "code",
   "execution_count": 12,
   "metadata": {},
   "outputs": [
    {
     "name": "stdout",
     "output_type": "stream",
     "text": [
      "Epoch 1/20\n",
      "559/559 [==============================] - 95s 169ms/step - loss: 0.5070 - accuracy: 0.7948 - val_loss: 0.4951 - val_accuracy: 0.7961\n",
      "Epoch 2/20\n",
      "559/559 [==============================] - 110s 197ms/step - loss: 0.4887 - accuracy: 0.7980 - val_loss: 0.4824 - val_accuracy: 0.7992\n",
      "Epoch 3/20\n",
      "559/559 [==============================] - 112s 200ms/step - loss: 0.4803 - accuracy: 0.8001 - val_loss: 0.4777 - val_accuracy: 0.7997\n",
      "Epoch 4/20\n",
      "559/559 [==============================] - 112s 200ms/step - loss: 0.4725 - accuracy: 0.8007 - val_loss: 0.4749 - val_accuracy: 0.8011\n",
      "Epoch 5/20\n",
      "559/559 [==============================] - 112s 200ms/step - loss: 0.4641 - accuracy: 0.8017 - val_loss: 0.4658 - val_accuracy: 0.8013\n",
      "Epoch 6/20\n",
      "559/559 [==============================] - 112s 200ms/step - loss: 0.4600 - accuracy: 0.8021 - val_loss: 0.4592 - val_accuracy: 0.8017\n",
      "Epoch 7/20\n",
      "559/559 [==============================] - 112s 200ms/step - loss: 0.4551 - accuracy: 0.8035 - val_loss: 0.4625 - val_accuracy: 0.8016\n",
      "Epoch 8/20\n",
      "559/559 [==============================] - 113s 201ms/step - loss: 0.4704 - accuracy: 0.8014 - val_loss: 0.4591 - val_accuracy: 0.7944\n",
      "Epoch 9/20\n",
      "559/559 [==============================] - 116s 208ms/step - loss: 0.4615 - accuracy: 0.8007 - val_loss: 0.4595 - val_accuracy: 0.8019\n",
      "Epoch 10/20\n",
      "559/559 [==============================] - 119s 213ms/step - loss: 0.4439 - accuracy: 0.8059 - val_loss: 0.4453 - val_accuracy: 0.8032\n",
      "Epoch 11/20\n",
      "559/559 [==============================] - 115s 205ms/step - loss: 0.4368 - accuracy: 0.8097 - val_loss: 0.5326 - val_accuracy: 0.7114\n",
      "Epoch 12/20\n",
      "559/559 [==============================] - 118s 211ms/step - loss: 0.4538 - accuracy: 0.8039 - val_loss: 0.4322 - val_accuracy: 0.8077\n",
      "Epoch 13/20\n",
      "559/559 [==============================] - 111s 199ms/step - loss: 0.4274 - accuracy: 0.8132 - val_loss: 0.4238 - val_accuracy: 0.8139\n",
      "Epoch 14/20\n",
      "559/559 [==============================] - 111s 198ms/step - loss: 0.4196 - accuracy: 0.8172 - val_loss: 0.4391 - val_accuracy: 0.8117\n",
      "Epoch 15/20\n",
      "559/559 [==============================] - 111s 199ms/step - loss: 0.4118 - accuracy: 0.8204 - val_loss: 0.4197 - val_accuracy: 0.8158\n",
      "Epoch 16/20\n",
      "559/559 [==============================] - 114s 203ms/step - loss: 0.4063 - accuracy: 0.8233 - val_loss: 0.4158 - val_accuracy: 0.8209\n",
      "Epoch 17/20\n",
      "559/559 [==============================] - 108s 193ms/step - loss: 0.3996 - accuracy: 0.8271 - val_loss: 0.4072 - val_accuracy: 0.8263\n",
      "Epoch 18/20\n",
      "559/559 [==============================] - 108s 193ms/step - loss: 0.3959 - accuracy: 0.8289 - val_loss: 0.4134 - val_accuracy: 0.8268\n",
      "Epoch 19/20\n",
      "559/559 [==============================] - 109s 196ms/step - loss: 0.3934 - accuracy: 0.8301 - val_loss: 0.4054 - val_accuracy: 0.8225\n",
      "Epoch 20/20\n",
      "559/559 [==============================] - 111s 198ms/step - loss: 0.3873 - accuracy: 0.8324 - val_loss: 0.4018 - val_accuracy: 0.8269\n"
     ]
    }
   ],
   "source": [
    "# fit\n",
    "\n",
    "history_1 = model_1.fit(train, y_train,\n",
    "                        batch_size = 128,\n",
    "                        epochs = 20,\n",
    "                        validation_data = (test, y_test))"
   ]
  },
  {
   "cell_type": "code",
   "execution_count": 13,
   "metadata": {},
   "outputs": [],
   "source": [
    "# plot losses and accuracies\n",
    "\n",
    "def plots(history, which):   \n",
    "    plt.figure(figsize = (8, 6))\n",
    "    plt.plot(history.history[which], label = f'Train {which.title()}')\n",
    "    plt.plot(history.history['val_' + which], label = f'Test {which.title()}')\n",
    "    plt.xlabel('Epochs')\n",
    "    plt.ylabel(which.title())\n",
    "    plt.legend()\n",
    "    plt.show()\n",
    "    \n",
    "    return"
   ]
  },
  {
   "cell_type": "code",
   "execution_count": 15,
   "metadata": {},
   "outputs": [
    {
     "data": {
      "image/png": "[encoded data removed]",
      "text/plain": [
       "<Figure size 576x432 with 1 Axes>"
      ]
     },
     "metadata": {
      "needs_background": "light"
     },
     "output_type": "display_data"
    },
    {
     "data": {
      "image/png": "[encoded data removed]",
      "text/plain": [
       "<Figure size 576x432 with 1 Axes>"
      ]
     },
     "metadata": {
      "needs_background": "light"
     },
     "output_type": "display_data"
    }
   ],
   "source": [
    "plots(history_1, 'loss')\n",
    "plots(history_1, 'accuracy')"
   ]
  },
  {
   "cell_type": "markdown",
   "metadata": {},
   "source": [
    "><font size = 4><font color = 'purple'>It seems to keep improving - will increase epochs.</font></font>"
   ]
  },
  {
   "cell_type": "markdown",
   "metadata": {},
   "source": [
    "## Model 2 - epochs 50"
   ]
  },
  {
   "cell_type": "code",
   "execution_count": 16,
   "metadata": {},
   "outputs": [
    {
     "name": "stdout",
     "output_type": "stream",
     "text": [
      "Model: \"sequential_1\"\n",
      "_________________________________________________________________\n",
      "Layer (type)                 Output Shape              Param #   \n",
      "=================================================================\n",
      "conv1d_2 (Conv1D)            (None, 252, 128)          768       \n",
      "_________________________________________________________________\n",
      "dropout_1 (Dropout)          (None, 252, 128)          0         \n",
      "_________________________________________________________________\n",
      "conv1d_3 (Conv1D)            (None, 248, 64)           41024     \n",
      "_________________________________________________________________\n",
      "max_pooling1d_1 (MaxPooling1 (None, 62, 64)            0         \n",
      "_________________________________________________________________\n",
      "lstm_1 (LSTM)                (None, 100)               66000     \n",
      "_________________________________________________________________\n",
      "dense_1 (Dense)              (None, 1)                 101       \n",
      "=================================================================\n",
      "Total params: 107,893\n",
      "Trainable params: 107,893\n",
      "Non-trainable params: 0\n",
      "_________________________________________________________________\n"
     ]
    }
   ],
   "source": [
    "# instantiate\n",
    "\n",
    "model_2 = Sequential()\n",
    "\n",
    "# add layers\n",
    "\n",
    "model_2.add(Conv1D(filters = 128, kernel_size = 5, activation='relu', input_shape = (256, 1)))\n",
    "model_2.add(Dropout(0.2))\n",
    "model_2.add(Conv1D(filters = 64, kernel_size = 5, activation = 'relu'))\n",
    "model_2.add(MaxPooling1D(pool_size = 4))\n",
    "model_2.add(LSTM(100))\n",
    "model_2.add(Dense(1, activation = 'sigmoid'))\n",
    "\n",
    "# compile\n",
    "\n",
    "model_2.compile(loss = 'bce', optimizer = 'adam', metrics = ['accuracy'])\n",
    "\n",
    "# check model summary\n",
    "\n",
    "model_2.summary()"
   ]
  },
  {
   "cell_type": "code",
   "execution_count": 17,
   "metadata": {},
   "outputs": [
    {
     "name": "stdout",
     "output_type": "stream",
     "text": [
      "Epoch 1/50\n",
      "559/559 [==============================] - 90s 161ms/step - loss: 0.5115 - accuracy: 0.7938 - val_loss: 0.5069 - val_accuracy: 0.7947\n",
      "Epoch 2/50\n",
      "559/559 [==============================] - 101s 180ms/step - loss: 0.5002 - accuracy: 0.7959 - val_loss: 0.4938 - val_accuracy: 0.7964\n",
      "Epoch 3/50\n",
      "559/559 [==============================] - 104s 186ms/step - loss: 0.4874 - accuracy: 0.7982 - val_loss: 0.4912 - val_accuracy: 0.7961\n",
      "Epoch 4/50\n",
      "559/559 [==============================] - 108s 193ms/step - loss: 0.4817 - accuracy: 0.7995 - val_loss: 0.4818 - val_accuracy: 0.7993\n",
      "Epoch 5/50\n",
      "559/559 [==============================] - 107s 191ms/step - loss: 0.4793 - accuracy: 0.7999 - val_loss: 0.4811 - val_accuracy: 0.7992\n",
      "Epoch 6/50\n",
      "559/559 [==============================] - 109s 195ms/step - loss: 0.4777 - accuracy: 0.8004 - val_loss: 0.4797 - val_accuracy: 0.8004\n",
      "Epoch 7/50\n",
      "559/559 [==============================] - 110s 196ms/step - loss: 0.4758 - accuracy: 0.8005 - val_loss: 0.4797 - val_accuracy: 0.7998\n",
      "Epoch 8/50\n",
      "559/559 [==============================] - 111s 199ms/step - loss: 0.4710 - accuracy: 0.8012 - val_loss: 0.4650 - val_accuracy: 0.8006\n",
      "Epoch 9/50\n",
      "559/559 [==============================] - 111s 199ms/step - loss: 0.4590 - accuracy: 0.8029 - val_loss: 0.4650 - val_accuracy: 0.8018\n",
      "Epoch 10/50\n",
      "559/559 [==============================] - 114s 204ms/step - loss: 0.4522 - accuracy: 0.8043 - val_loss: 0.4487 - val_accuracy: 0.8038\n",
      "Epoch 11/50\n",
      "559/559 [==============================] - 114s 203ms/step - loss: 0.4438 - accuracy: 0.8067 - val_loss: 0.4613 - val_accuracy: 0.7988\n",
      "Epoch 12/50\n",
      "559/559 [==============================] - 114s 204ms/step - loss: 0.4760 - accuracy: 0.8004 - val_loss: 0.4713 - val_accuracy: 0.8009\n",
      "Epoch 13/50\n",
      "559/559 [==============================] - 113s 203ms/step - loss: 0.4624 - accuracy: 0.8033 - val_loss: 0.4628 - val_accuracy: 0.8018\n",
      "Epoch 14/50\n",
      "559/559 [==============================] - 112s 201ms/step - loss: 0.4495 - accuracy: 0.8051 - val_loss: 0.4490 - val_accuracy: 0.8044\n",
      "Epoch 15/50\n",
      "559/559 [==============================] - 118s 211ms/step - loss: 0.4473 - accuracy: 0.8053 - val_loss: 0.4391 - val_accuracy: 0.8071\n",
      "Epoch 16/50\n",
      "559/559 [==============================] - 121s 216ms/step - loss: 0.4259 - accuracy: 0.8138 - val_loss: 0.4222 - val_accuracy: 0.8170\n",
      "Epoch 17/50\n",
      "559/559 [==============================] - 120s 215ms/step - loss: 0.4146 - accuracy: 0.8197 - val_loss: 0.4167 - val_accuracy: 0.8206\n",
      "Epoch 18/50\n",
      "559/559 [==============================] - 116s 208ms/step - loss: 0.4081 - accuracy: 0.8233 - val_loss: 0.4173 - val_accuracy: 0.8211\n",
      "Epoch 19/50\n",
      "559/559 [==============================] - 113s 202ms/step - loss: 0.3996 - accuracy: 0.8272 - val_loss: 0.4208 - val_accuracy: 0.8170\n",
      "Epoch 20/50\n",
      "559/559 [==============================] - 113s 202ms/step - loss: 0.3947 - accuracy: 0.8286 - val_loss: 0.4013 - val_accuracy: 0.8261\n",
      "Epoch 21/50\n",
      "559/559 [==============================] - 112s 201ms/step - loss: 0.3894 - accuracy: 0.8315 - val_loss: 0.3945 - val_accuracy: 0.8296\n",
      "Epoch 22/50\n",
      "559/559 [==============================] - 112s 201ms/step - loss: 0.3851 - accuracy: 0.8339 - val_loss: 0.3941 - val_accuracy: 0.8289\n",
      "Epoch 23/50\n",
      "559/559 [==============================] - 113s 203ms/step - loss: 0.3838 - accuracy: 0.8344 - val_loss: 0.3895 - val_accuracy: 0.8299\n",
      "Epoch 24/50\n",
      "559/559 [==============================] - 113s 202ms/step - loss: 0.3775 - accuracy: 0.8360 - val_loss: 0.3865 - val_accuracy: 0.8325\n",
      "Epoch 25/50\n",
      "559/559 [==============================] - 114s 204ms/step - loss: 0.3761 - accuracy: 0.8378 - val_loss: 0.4101 - val_accuracy: 0.8134\n",
      "Epoch 26/50\n",
      "559/559 [==============================] - 112s 201ms/step - loss: 0.3798 - accuracy: 0.8343 - val_loss: 0.3847 - val_accuracy: 0.8322\n",
      "Epoch 27/50\n",
      "559/559 [==============================] - 108s 194ms/step - loss: 0.3707 - accuracy: 0.8390 - val_loss: 0.3943 - val_accuracy: 0.8277\n",
      "Epoch 28/50\n",
      "559/559 [==============================] - 107s 191ms/step - loss: 0.3672 - accuracy: 0.8404 - val_loss: 0.3863 - val_accuracy: 0.8328\n",
      "Epoch 29/50\n",
      "559/559 [==============================] - 107s 191ms/step - loss: 0.3664 - accuracy: 0.8408 - val_loss: 0.3914 - val_accuracy: 0.8321\n",
      "Epoch 30/50\n",
      "559/559 [==============================] - 108s 194ms/step - loss: 0.3673 - accuracy: 0.8402 - val_loss: 0.3857 - val_accuracy: 0.8319\n",
      "Epoch 31/50\n",
      "559/559 [==============================] - 109s 195ms/step - loss: 0.3625 - accuracy: 0.8418 - val_loss: 0.3844 - val_accuracy: 0.8335\n",
      "Epoch 32/50\n",
      "559/559 [==============================] - 117s 209ms/step - loss: 0.3593 - accuracy: 0.8432 - val_loss: 0.3912 - val_accuracy: 0.8333\n",
      "Epoch 33/50\n",
      "559/559 [==============================] - 117s 209ms/step - loss: 0.3568 - accuracy: 0.8448 - val_loss: 0.3858 - val_accuracy: 0.8339\n",
      "Epoch 34/50\n",
      "559/559 [==============================] - 117s 209ms/step - loss: 0.3558 - accuracy: 0.8442 - val_loss: 0.3901 - val_accuracy: 0.8331\n",
      "Epoch 35/50\n",
      "559/559 [==============================] - 117s 210ms/step - loss: 0.3548 - accuracy: 0.8463 - val_loss: 0.3880 - val_accuracy: 0.8334\n",
      "Epoch 36/50\n",
      "559/559 [==============================] - 117s 208ms/step - loss: 0.3504 - accuracy: 0.8474 - val_loss: 0.3836 - val_accuracy: 0.8355\n",
      "Epoch 37/50\n",
      "559/559 [==============================] - 116s 207ms/step - loss: 0.3522 - accuracy: 0.8465 - val_loss: 0.3857 - val_accuracy: 0.8346\n",
      "Epoch 38/50\n",
      "559/559 [==============================] - 116s 207ms/step - loss: 0.3505 - accuracy: 0.8481 - val_loss: 0.3941 - val_accuracy: 0.8305\n",
      "Epoch 39/50\n",
      "559/559 [==============================] - 117s 210ms/step - loss: 0.3442 - accuracy: 0.8501 - val_loss: 0.3848 - val_accuracy: 0.8334\n",
      "Epoch 40/50\n",
      "559/559 [==============================] - 119s 213ms/step - loss: 0.3433 - accuracy: 0.8512 - val_loss: 0.3860 - val_accuracy: 0.8328\n",
      "Epoch 41/50\n",
      "559/559 [==============================] - 120s 215ms/step - loss: 0.3401 - accuracy: 0.8525 - val_loss: 0.4033 - val_accuracy: 0.8205\n",
      "Epoch 42/50\n",
      "559/559 [==============================] - 128s 230ms/step - loss: 0.3445 - accuracy: 0.8488 - val_loss: 0.3893 - val_accuracy: 0.8331\n",
      "Epoch 43/50\n",
      "559/559 [==============================] - 122s 219ms/step - loss: 0.3356 - accuracy: 0.8545 - val_loss: 0.3958 - val_accuracy: 0.8315\n",
      "Epoch 44/50\n",
      "559/559 [==============================] - 123s 220ms/step - loss: 0.3351 - accuracy: 0.8540 - val_loss: 0.3897 - val_accuracy: 0.8330\n",
      "Epoch 45/50\n",
      "559/559 [==============================] - 134s 239ms/step - loss: 0.3310 - accuracy: 0.8563 - val_loss: 0.3905 - val_accuracy: 0.8342\n",
      "Epoch 46/50\n",
      "559/559 [==============================] - 130s 232ms/step - loss: 0.3314 - accuracy: 0.8564 - val_loss: 0.3918 - val_accuracy: 0.8313\n",
      "Epoch 47/50\n",
      "559/559 [==============================] - 119s 212ms/step - loss: 0.3406 - accuracy: 0.8511 - val_loss: 0.3879 - val_accuracy: 0.8313\n",
      "Epoch 48/50\n",
      "559/559 [==============================] - 114s 203ms/step - loss: 0.3271 - accuracy: 0.8586 - val_loss: 0.3922 - val_accuracy: 0.8336\n",
      "Epoch 49/50\n",
      "559/559 [==============================] - 112s 201ms/step - loss: 0.3258 - accuracy: 0.8593 - val_loss: 0.3923 - val_accuracy: 0.8308\n",
      "Epoch 50/50\n",
      "559/559 [==============================] - 113s 203ms/step - loss: 0.3218 - accuracy: 0.8599 - val_loss: 0.3994 - val_accuracy: 0.8302\n"
     ]
    }
   ],
   "source": [
    "# fit\n",
    "\n",
    "history_2 = model_2.fit(train, y_train,\n",
    "                        batch_size = 128,\n",
    "                        epochs = 50,\n",
    "                        validation_data = (test, y_test))"
   ]
  },
  {
   "cell_type": "code",
   "execution_count": 18,
   "metadata": {},
   "outputs": [
    {
     "data": {
      "image/png": "[encoded data removed]",
      "text/plain": [
       "<Figure size 576x432 with 1 Axes>"
      ]
     },
     "metadata": {
      "needs_background": "light"
     },
     "output_type": "display_data"
    },
    {
     "data": {
      "image/png": "[encoded data removed]",
      "text/plain": [
       "<Figure size 576x432 with 1 Axes>"
      ]
     },
     "metadata": {
      "needs_background": "light"
     },
     "output_type": "display_data"
    }
   ],
   "source": [
    "plots(history_2, 'loss')\n",
    "plots(history_2, 'accuracy')"
   ]
  },
  {
   "cell_type": "markdown",
   "metadata": {},
   "source": [
    "## Model 3 - Dropout 0.5, LSTM 10, no MaxPooling, batch size 256, with 25 epochs"
   ]
  },
  {
   "cell_type": "code",
   "execution_count": 19,
   "metadata": {},
   "outputs": [
    {
     "name": "stdout",
     "output_type": "stream",
     "text": [
      "Model: \"sequential_2\"\n",
      "_________________________________________________________________\n",
      "Layer (type)                 Output Shape              Param #   \n",
      "=================================================================\n",
      "conv1d_4 (Conv1D)            (None, 252, 128)          768       \n",
      "_________________________________________________________________\n",
      "dropout_2 (Dropout)          (None, 252, 128)          0         \n",
      "_________________________________________________________________\n",
      "conv1d_5 (Conv1D)            (None, 248, 64)           41024     \n",
      "_________________________________________________________________\n",
      "lstm_2 (LSTM)                (None, 10)                3000      \n",
      "_________________________________________________________________\n",
      "dense_2 (Dense)              (None, 1)                 11        \n",
      "=================================================================\n",
      "Total params: 44,803\n",
      "Trainable params: 44,803\n",
      "Non-trainable params: 0\n",
      "_________________________________________________________________\n"
     ]
    }
   ],
   "source": [
    "# instantiate\n",
    "\n",
    "model_3 = Sequential()\n",
    "\n",
    "# add layers\n",
    "\n",
    "model_3.add(Conv1D(filters = 128, kernel_size = 5, activation ='relu', input_shape = (256, 1)))\n",
    "model_3.add(Dropout(0.5))\n",
    "model_3.add(Conv1D(filters = 64, kernel_size = 5, activation = 'relu'))\n",
    "#model_3.add(MaxPooling1D(pool_size = 4))\n",
    "model_3.add(LSTM(10))\n",
    "model_3.add(Dense(1, activation = 'sigmoid'))\n",
    "\n",
    "# compile\n",
    "\n",
    "model_3.compile(loss = 'bce', optimizer = 'adam', metrics = ['accuracy'])\n",
    "\n",
    "# check model summary\n",
    "\n",
    "model_3.summary()"
   ]
  },
  {
   "cell_type": "code",
   "execution_count": 20,
   "metadata": {},
   "outputs": [
    {
     "name": "stdout",
     "output_type": "stream",
     "text": [
      "Epoch 1/25\n",
      "280/280 [==============================] - 74s 264ms/step - loss: 0.5134 - accuracy: 0.7930 - val_loss: 0.5045 - val_accuracy: 0.7947\n",
      "Epoch 2/25\n",
      "280/280 [==============================] - 87s 310ms/step - loss: 0.5039 - accuracy: 0.7947 - val_loss: 0.5035 - val_accuracy: 0.7947\n",
      "Epoch 3/25\n",
      "280/280 [==============================] - 87s 311ms/step - loss: 0.5031 - accuracy: 0.7947 - val_loss: 0.5024 - val_accuracy: 0.7947\n",
      "Epoch 4/25\n",
      "280/280 [==============================] - 90s 321ms/step - loss: 0.5016 - accuracy: 0.7947 - val_loss: 0.5018 - val_accuracy: 0.7947\n",
      "Epoch 5/25\n",
      "280/280 [==============================] - 95s 340ms/step - loss: 0.5000 - accuracy: 0.7947 - val_loss: 0.4995 - val_accuracy: 0.7947\n",
      "Epoch 6/25\n",
      "280/280 [==============================] - 101s 362ms/step - loss: 0.4981 - accuracy: 0.7947 - val_loss: 0.4984 - val_accuracy: 0.7947\n",
      "Epoch 7/25\n",
      "280/280 [==============================] - 103s 369ms/step - loss: 0.4968 - accuracy: 0.7947 - val_loss: 0.4978 - val_accuracy: 0.7946\n",
      "Epoch 8/25\n",
      "280/280 [==============================] - 95s 338ms/step - loss: 0.4969 - accuracy: 0.7949 - val_loss: 0.4973 - val_accuracy: 0.7948\n",
      "Epoch 9/25\n",
      "280/280 [==============================] - 107s 381ms/step - loss: 0.4960 - accuracy: 0.7949 - val_loss: 0.4974 - val_accuracy: 0.7955\n",
      "Epoch 10/25\n",
      "280/280 [==============================] - 107s 382ms/step - loss: 0.4957 - accuracy: 0.7961 - val_loss: 0.4973 - val_accuracy: 0.7954\n",
      "Epoch 11/25\n",
      "280/280 [==============================] - 98s 351ms/step - loss: 0.4947 - accuracy: 0.7958 - val_loss: 0.4969 - val_accuracy: 0.7961\n",
      "Epoch 12/25\n",
      "280/280 [==============================] - 100s 359ms/step - loss: 0.4947 - accuracy: 0.7960 - val_loss: 0.4964 - val_accuracy: 0.7954\n",
      "Epoch 13/25\n",
      "280/280 [==============================] - 96s 343ms/step - loss: 0.4941 - accuracy: 0.7962 - val_loss: 0.4960 - val_accuracy: 0.7961\n",
      "Epoch 14/25\n",
      "280/280 [==============================] - 96s 342ms/step - loss: 0.4950 - accuracy: 0.7963 - val_loss: 0.4956 - val_accuracy: 0.7955\n",
      "Epoch 15/25\n",
      "280/280 [==============================] - 94s 334ms/step - loss: 0.4936 - accuracy: 0.7964 - val_loss: 0.4954 - val_accuracy: 0.7956\n",
      "Epoch 16/25\n",
      "280/280 [==============================] - 94s 335ms/step - loss: 0.4932 - accuracy: 0.7967 - val_loss: 0.4948 - val_accuracy: 0.7961\n",
      "Epoch 17/25\n",
      "280/280 [==============================] - 100s 359ms/step - loss: 0.4925 - accuracy: 0.7968 - val_loss: 0.4945 - val_accuracy: 0.7964\n",
      "Epoch 18/25\n",
      "280/280 [==============================] - 93s 331ms/step - loss: 0.4922 - accuracy: 0.7969 - val_loss: 0.4951 - val_accuracy: 0.7955\n",
      "Epoch 19/25\n",
      "280/280 [==============================] - 92s 329ms/step - loss: 0.4927 - accuracy: 0.7967 - val_loss: 0.4937 - val_accuracy: 0.7961\n",
      "Epoch 20/25\n",
      "280/280 [==============================] - 92s 327ms/step - loss: 0.4915 - accuracy: 0.7968 - val_loss: 0.4929 - val_accuracy: 0.7964\n",
      "Epoch 21/25\n",
      "280/280 [==============================] - 91s 326ms/step - loss: 0.4906 - accuracy: 0.7972 - val_loss: 0.4920 - val_accuracy: 0.7968\n",
      "Epoch 22/25\n",
      "280/280 [==============================] - 92s 328ms/step - loss: 0.4895 - accuracy: 0.7975 - val_loss: 0.4924 - val_accuracy: 0.7961\n",
      "Epoch 23/25\n",
      "280/280 [==============================] - 92s 329ms/step - loss: 0.4899 - accuracy: 0.7977 - val_loss: 0.4903 - val_accuracy: 0.7964\n",
      "Epoch 24/25\n",
      "280/280 [==============================] - 92s 328ms/step - loss: 0.4885 - accuracy: 0.7975 - val_loss: 0.4882 - val_accuracy: 0.7963\n",
      "Epoch 25/25\n",
      "280/280 [==============================] - 92s 327ms/step - loss: 0.4883 - accuracy: 0.7972 - val_loss: 0.4919 - val_accuracy: 0.7966\n"
     ]
    }
   ],
   "source": [
    "# fit\n",
    "\n",
    "history_3 = model_3.fit(train, y_train,\n",
    "                        batch_size = 256,\n",
    "                        epochs = 25,\n",
    "                        validation_data = (test, y_test))"
   ]
  },
  {
   "cell_type": "markdown",
   "metadata": {},
   "source": [
    ">No improvement. Adjust the first model further."
   ]
  },
  {
   "cell_type": "markdown",
   "metadata": {},
   "source": [
    "## Try GridSearch"
   ]
  },
  {
   "cell_type": "code",
   "execution_count": 24,
   "metadata": {},
   "outputs": [],
   "source": [
    "# create a function skeleton for tuning\n",
    "\n",
    "def model_func(layer_one_filters = 128, layer_one_kernel = 5,\\\n",
    "               layer_one_dropout = 0.5,\\\n",
    "               layer_two_filters = 32, layer_two_kernel = 5,\\\n",
    "               layer_two_dropout = 0.5,\\\n",
    "               maxpooling = 4,\\\n",
    "               lstm_unit = 10):\n",
    "    \n",
    "    # instantiate the model\n",
    "    model = Sequential()\n",
    "    \n",
    "    # add layers\n",
    "    model.add(Conv1D(filters = layer_one_filters, kernel_size = layer_one_kernel, activation ='relu', input_shape = (256, 1)))\n",
    "    model.add(Dropout(layer_one_dropout))\n",
    "    model.add(Conv1D(filters = layer_two_filters, kernel_size = layer_two_kernel, activation = 'relu'))\n",
    "    model.add(Dropout(layer_two_dropout))\n",
    "    model.add(MaxPooling1D(pool_size = maxpooling))\n",
    "    model.add(LSTM(lstm_unit))\n",
    "    model.add(Dense(1, activation = 'sigmoid'))\n",
    "    \n",
    "    # compile\n",
    "    model.compile(loss = 'bce', optimizer = 'adam', metrics = ['accuracy'])\n",
    "    \n",
    "    return model\n",
    "\n",
    "# build the model\n",
    "\n",
    "nn = KerasClassifier(build_fn = model_func, epochs = 10, batch_size = 512, verbose = 0)"
   ]
  },
  {
   "cell_type": "code",
   "execution_count": 29,
   "metadata": {},
   "outputs": [],
   "source": [
    "# params grid\n",
    "\n",
    "params = {\n",
    "    'epochs':[25, 50],\n",
    "    'batch_size': [128, 256, 512],\n",
    "    'lstm_unit': [10, 100, 150],\n",
    "    'maxpooling': [4, 8, 12],\n",
    "    'layer_one_filters': [16, 32],\n",
    "    'layer_two_filters': [16, 32],\n",
    "    'layer_one_kernel': [5, 10],\n",
    "    'layer_two_kernel': [5, 10],\n",
    "    'layer_one_dropout': [0.25, 0.5],\n",
    "    'layer_two_dropout': [0.25, 0.5]\n",
    "}\n",
    "\n",
    "# instantiate gridsearch\n",
    "\n",
    "gs = GridSearchCV(estimator = nn, param_grid = params, cv = 3)"
   ]
  },
  {
   "cell_type": "code",
   "execution_count": null,
   "metadata": {},
   "outputs": [],
   "source": [
    "%%time\n",
    "\n",
    "# fit\n",
    "\n",
    "gs.fit(train, y_train)\n",
    "\n",
    "print(f'Best score: {gs.best_score_}')\n",
    "print(f'Best parameters: {gs.best_params_}')"
   ]
  },
  {
   "cell_type": "code",
   "execution_count": null,
   "metadata": {},
   "outputs": [],
   "source": []
  }
 ],
 "metadata": {
  "kernelspec": {
   "display_name": "Python 3",
   "language": "python",
   "name": "python3"
  },
  "language_info": {
   "codemirror_mode": {
    "name": "ipython",
    "version": 3
   },
   "file_extension": ".py",
   "mimetype": "text/x-python",
   "name": "python",
   "nbconvert_exporter": "python",
   "pygments_lexer": "ipython3",
   "version": "3.7.7"
  }
 },
 "nbformat": 4,
 "nbformat_minor": 4
}
