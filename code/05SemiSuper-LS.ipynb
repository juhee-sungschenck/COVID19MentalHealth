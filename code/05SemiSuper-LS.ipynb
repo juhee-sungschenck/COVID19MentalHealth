{
 "cells": [
  {
   "cell_type": "code",
   "execution_count": 62,
   "metadata": {},
   "outputs": [],
   "source": [
    "# import libraries\n",
    "\n",
    "import pandas as pd\n",
    "import numpy as np\n",
    "import matplotlib.pyplot as plt\n",
    "import seaborn as sns\n",
    "\n",
    "# nlp vectorizers\n",
    "\n",
    "from sklearn.feature_extraction.text import TfidfVectorizer\n",
    "from sklearn.feature_extraction import text\n",
    "import gensim\n",
    "\n",
    "# model and metrics\n",
    "\n",
    "from sklearn.metrics import confusion_matrix, classification_report\n",
    "from sklearn.semi_supervised import LabelPropagation, LabelSpreading\n",
    "from sklearn.preprocessing import StandardScaler\n",
    "\n",
    "# ignore warnings\n",
    "\n",
    "import warnings\n",
    "warnings.filterwarnings(\"ignore\")"
   ]
  },
  {
   "cell_type": "code",
   "execution_count": null,
   "metadata": {},
   "outputs": [],
   "source": [
    "# read in the dataset\n",
    "\n",
    "df = pd.read_json('../data/cleaned/json.json')\n",
    "\n",
    "rv1 = pd.read_csv('../data/cleaned/review1.csv')\n",
    "rv2 = pd.read_csv('../data/cleaned/review2.csv')"
   ]
  },
  {
   "cell_type": "code",
   "execution_count": 3,
   "metadata": {},
   "outputs": [
    {
     "data": {
      "text/html": [
       "<div>\n",
       "<style scoped>\n",
       "    .dataframe tbody tr th:only-of-type {\n",
       "        vertical-align: middle;\n",
       "    }\n",
       "\n",
       "    .dataframe tbody tr th {\n",
       "        vertical-align: top;\n",
       "    }\n",
       "\n",
       "    .dataframe thead th {\n",
       "        text-align: right;\n",
       "    }\n",
       "</style>\n",
       "<table border=\"1\" class=\"dataframe\">\n",
       "  <thead>\n",
       "    <tr style=\"text-align: right;\">\n",
       "      <th></th>\n",
       "      <th>post</th>\n",
       "      <th>label</th>\n",
       "    </tr>\n",
       "    <tr>\n",
       "      <th>id</th>\n",
       "      <th></th>\n",
       "      <th></th>\n",
       "    </tr>\n",
       "  </thead>\n",
       "  <tbody>\n",
       "    <tr>\n",
       "      <th>1428</th>\n",
       "      <td>How do you guys feel less dead inside? I've go...</td>\n",
       "      <td>1</td>\n",
       "    </tr>\n",
       "    <tr>\n",
       "      <th>1429</th>\n",
       "      <td>i want to get help but i don’t know how my par...</td>\n",
       "      <td>1</td>\n",
       "    </tr>\n",
       "    <tr>\n",
       "      <th>1430</th>\n",
       "      <td>I can’t stop myself from loving this fictional...</td>\n",
       "      <td>0</td>\n",
       "    </tr>\n",
       "  </tbody>\n",
       "</table>\n",
       "</div>"
      ],
      "text/plain": [
       "                                                   post  label\n",
       "id                                                            \n",
       "1428  How do you guys feel less dead inside? I've go...      1\n",
       "1429  i want to get help but i don’t know how my par...      1\n",
       "1430  I can’t stop myself from loving this fictional...      0"
      ]
     },
     "execution_count": 3,
     "metadata": {},
     "output_type": "execute_result"
    }
   ],
   "source": [
    "# combine the reviewed dataset\n",
    "\n",
    "labeled = pd.concat([rv1, rv2])\n",
    "\n",
    "# set the index\n",
    "\n",
    "labeled.set_index('id', inplace = True)\n",
    "\n",
    "labeled.head(3)"
   ]
  },
  {
   "cell_type": "code",
   "execution_count": 4,
   "metadata": {},
   "outputs": [],
   "source": [
    "# merge the labeled data to main dataframe\n",
    "\n",
    "df = pd.merge(df, labeled, how = 'left', on = 'post')"
   ]
  },
  {
   "cell_type": "code",
   "execution_count": 5,
   "metadata": {},
   "outputs": [
    {
     "data": {
      "text/plain": [
       "subreddit            0\n",
       "author               0\n",
       "date                 0\n",
       "post                 0\n",
       "covid_related        0\n",
       "suicidal             0\n",
       "alc_abuse            0\n",
       "loneliness           0\n",
       "stress               0\n",
       "n_words              0\n",
       "n_sentences          0\n",
       "lemmatized           0\n",
       "vectors              0\n",
       "label            99208\n",
       "dtype: int64"
      ]
     },
     "execution_count": 5,
     "metadata": {},
     "output_type": "execute_result"
    }
   ],
   "source": [
    "# check for nulls\n",
    "\n",
    "df.isnull().sum()"
   ]
  },
  {
   "cell_type": "code",
   "execution_count": 6,
   "metadata": {},
   "outputs": [],
   "source": [
    "# fill null values with 99 for easy distinction\n",
    "\n",
    "df.fillna(-1, inplace = True)"
   ]
  },
  {
   "cell_type": "code",
   "execution_count": 7,
   "metadata": {},
   "outputs": [
    {
     "data": {
      "text/plain": [
       "subreddit        0\n",
       "author           0\n",
       "date             0\n",
       "post             0\n",
       "covid_related    0\n",
       "suicidal         0\n",
       "alc_abuse        0\n",
       "loneliness       0\n",
       "stress           0\n",
       "n_words          0\n",
       "n_sentences      0\n",
       "lemmatized       0\n",
       "vectors          0\n",
       "label            0\n",
       "dtype: int64"
      ]
     },
     "execution_count": 7,
     "metadata": {},
     "output_type": "execute_result"
    }
   ],
   "source": [
    "df.isnull().sum()"
   ]
  },
  {
   "cell_type": "code",
   "execution_count": 8,
   "metadata": {},
   "outputs": [],
   "source": [
    "df.replace({9: 0}, inplace = True)"
   ]
  },
  {
   "cell_type": "code",
   "execution_count": 9,
   "metadata": {},
   "outputs": [],
   "source": [
    "# divide the datasets to labeled and not labeled\n",
    "\n",
    "unlabel = df[df['label'] == -1]\n",
    "label = df[df['label'] != -1]"
   ]
  },
  {
   "cell_type": "code",
   "execution_count": 10,
   "metadata": {},
   "outputs": [
    {
     "name": "stdout",
     "output_type": "stream",
     "text": [
      "(3329, 14)\n"
     ]
    },
    {
     "data": {
      "text/html": [
       "<div>\n",
       "<style scoped>\n",
       "    .dataframe tbody tr th:only-of-type {\n",
       "        vertical-align: middle;\n",
       "    }\n",
       "\n",
       "    .dataframe tbody tr th {\n",
       "        vertical-align: top;\n",
       "    }\n",
       "\n",
       "    .dataframe thead th {\n",
       "        text-align: right;\n",
       "    }\n",
       "</style>\n",
       "<table border=\"1\" class=\"dataframe\">\n",
       "  <thead>\n",
       "    <tr style=\"text-align: right;\">\n",
       "      <th></th>\n",
       "      <th>subreddit</th>\n",
       "      <th>author</th>\n",
       "      <th>date</th>\n",
       "      <th>post</th>\n",
       "      <th>covid_related</th>\n",
       "      <th>suicidal</th>\n",
       "      <th>alc_abuse</th>\n",
       "      <th>loneliness</th>\n",
       "      <th>stress</th>\n",
       "      <th>n_words</th>\n",
       "      <th>n_sentences</th>\n",
       "      <th>lemmatized</th>\n",
       "      <th>vectors</th>\n",
       "      <th>label</th>\n",
       "    </tr>\n",
       "  </thead>\n",
       "  <tbody>\n",
       "    <tr>\n",
       "      <th>0</th>\n",
       "      <td>alcoholism</td>\n",
       "      <td>glorybellpirate</td>\n",
       "      <td>2020-01-01</td>\n",
       "      <td>Day 1 of sobriety Feeling anxious and letting ...</td>\n",
       "      <td>0</td>\n",
       "      <td>0</td>\n",
       "      <td>1</td>\n",
       "      <td>0</td>\n",
       "      <td>0</td>\n",
       "      <td>24</td>\n",
       "      <td>3</td>\n",
       "      <td>day 1 of sobriety feel anxious and let the fee...</td>\n",
       "      <td>[-0.026765203100000003, 0.2515704036, -0.15668...</td>\n",
       "      <td>0.0</td>\n",
       "    </tr>\n",
       "    <tr>\n",
       "      <th>1</th>\n",
       "      <td>alcoholism</td>\n",
       "      <td>EhndlessSl0th</td>\n",
       "      <td>2020-01-01</td>\n",
       "      <td>Started the New Year with a bang. Hey, I'm new...</td>\n",
       "      <td>0</td>\n",
       "      <td>1</td>\n",
       "      <td>1</td>\n",
       "      <td>0</td>\n",
       "      <td>1</td>\n",
       "      <td>577</td>\n",
       "      <td>41</td>\n",
       "      <td>start the new year with a bang hey -pron- be n...</td>\n",
       "      <td>[0.0102483444, 0.18354494870000002, -0.2263026...</td>\n",
       "      <td>0.0</td>\n",
       "    </tr>\n",
       "    <tr>\n",
       "      <th>2</th>\n",
       "      <td>alcoholism</td>\n",
       "      <td>the_kinky_penguin</td>\n",
       "      <td>2020-01-01</td>\n",
       "      <td>Why can't I get drunk anymore I've been a heav...</td>\n",
       "      <td>0</td>\n",
       "      <td>0</td>\n",
       "      <td>1</td>\n",
       "      <td>0</td>\n",
       "      <td>0</td>\n",
       "      <td>64</td>\n",
       "      <td>5</td>\n",
       "      <td>why ca not -pron- get drunk anymore -pron- hav...</td>\n",
       "      <td>[-0.09739924970000001, 0.1839587241, -0.227181...</td>\n",
       "      <td>0.0</td>\n",
       "    </tr>\n",
       "    <tr>\n",
       "      <th>3</th>\n",
       "      <td>alcoholism</td>\n",
       "      <td>SauceoffSauceOn</td>\n",
       "      <td>2020-01-01</td>\n",
       "      <td>I am an Alcoholic. How do I quit? I have been ...</td>\n",
       "      <td>0</td>\n",
       "      <td>0</td>\n",
       "      <td>1</td>\n",
       "      <td>0</td>\n",
       "      <td>1</td>\n",
       "      <td>111</td>\n",
       "      <td>14</td>\n",
       "      <td>-pron- be an alcoholic how do -pron- quit -pro...</td>\n",
       "      <td>[-0.0117096035, 0.1865714192, -0.2576603591, -...</td>\n",
       "      <td>0.0</td>\n",
       "    </tr>\n",
       "    <tr>\n",
       "      <th>4</th>\n",
       "      <td>alcoholism</td>\n",
       "      <td>ben42187</td>\n",
       "      <td>2020-01-01</td>\n",
       "      <td>Funniest Thing about Alcoholism With every oth...</td>\n",
       "      <td>0</td>\n",
       "      <td>0</td>\n",
       "      <td>1</td>\n",
       "      <td>0</td>\n",
       "      <td>0</td>\n",
       "      <td>136</td>\n",
       "      <td>0</td>\n",
       "      <td>funniest thing about alcoholism with every oth...</td>\n",
       "      <td>[-0.0443742387, 0.1812106818, -0.1554362029000...</td>\n",
       "      <td>0.0</td>\n",
       "    </tr>\n",
       "  </tbody>\n",
       "</table>\n",
       "</div>"
      ],
      "text/plain": [
       "    subreddit             author       date  \\\n",
       "0  alcoholism    glorybellpirate 2020-01-01   \n",
       "1  alcoholism      EhndlessSl0th 2020-01-01   \n",
       "2  alcoholism  the_kinky_penguin 2020-01-01   \n",
       "3  alcoholism    SauceoffSauceOn 2020-01-01   \n",
       "4  alcoholism           ben42187 2020-01-01   \n",
       "\n",
       "                                                post  covid_related  suicidal  \\\n",
       "0  Day 1 of sobriety Feeling anxious and letting ...              0         0   \n",
       "1  Started the New Year with a bang. Hey, I'm new...              0         1   \n",
       "2  Why can't I get drunk anymore I've been a heav...              0         0   \n",
       "3  I am an Alcoholic. How do I quit? I have been ...              0         0   \n",
       "4  Funniest Thing about Alcoholism With every oth...              0         0   \n",
       "\n",
       "   alc_abuse  loneliness  stress  n_words  n_sentences  \\\n",
       "0          1           0       0       24            3   \n",
       "1          1           0       1      577           41   \n",
       "2          1           0       0       64            5   \n",
       "3          1           0       1      111           14   \n",
       "4          1           0       0      136            0   \n",
       "\n",
       "                                          lemmatized  \\\n",
       "0  day 1 of sobriety feel anxious and let the fee...   \n",
       "1  start the new year with a bang hey -pron- be n...   \n",
       "2  why ca not -pron- get drunk anymore -pron- hav...   \n",
       "3  -pron- be an alcoholic how do -pron- quit -pro...   \n",
       "4  funniest thing about alcoholism with every oth...   \n",
       "\n",
       "                                             vectors  label  \n",
       "0  [-0.026765203100000003, 0.2515704036, -0.15668...    0.0  \n",
       "1  [0.0102483444, 0.18354494870000002, -0.2263026...    0.0  \n",
       "2  [-0.09739924970000001, 0.1839587241, -0.227181...    0.0  \n",
       "3  [-0.0117096035, 0.1865714192, -0.2576603591, -...    0.0  \n",
       "4  [-0.0443742387, 0.1812106818, -0.1554362029000...    0.0  "
      ]
     },
     "execution_count": 10,
     "metadata": {},
     "output_type": "execute_result"
    }
   ],
   "source": [
    "## choose a small portion of samples including labeled data to test the model\n",
    "# combine labeled data and sampled unlabeled data for test\n",
    "\n",
    "sampled = unlabel.sample(n = 500, random_state = 2020)\n",
    "\n",
    "df = pd.concat([label, sampled])\n",
    "\n",
    "print(df.shape)\n",
    "df.head()"
   ]
  },
  {
   "cell_type": "code",
   "execution_count": 11,
   "metadata": {},
   "outputs": [
    {
     "data": {
      "text/plain": [
       "subreddit\n",
       "alcoholism       1432\n",
       "anxiety            83\n",
       "bipolarreddit     394\n",
       "depression        705\n",
       "healthanxiety      10\n",
       "lonely             39\n",
       "mentalhealth       54\n",
       "suicidewatch      612\n",
       "Name: subreddit, dtype: int64"
      ]
     },
     "execution_count": 11,
     "metadata": {},
     "output_type": "execute_result"
    }
   ],
   "source": [
    "# check the distribution of subreddits\n",
    "# labeled dataset contains 500 from suicide, 500 from depression, 1428 from alcoholism, 390 from bipolarreddit\n",
    "\n",
    "df.groupby('subreddit')['subreddit'].count()"
   ]
  },
  {
   "cell_type": "code",
   "execution_count": 12,
   "metadata": {},
   "outputs": [
    {
     "name": "stdout",
     "output_type": "stream",
     "text": [
      "label    0.449751\n",
      "dtype: float64\n",
      "label    0.650099\n",
      "dtype: float64\n",
      "label    0.249004\n",
      "dtype: float64\n",
      "\n",
      "0.17497348886532343\n"
     ]
    }
   ],
   "source": [
    "# most of the suicidal posts from labeled data came from suicide watch and depression - check\n",
    "\n",
    "print(label[(label['subreddit'] == 'suicidewatch') | (label['subreddit'] == 'depression')][['label']].mean())\n",
    "print(label[label['subreddit'] == 'suicidewatch'][['label']].mean())\n",
    "print(label[label['subreddit'] == 'depression'][['label']].mean())\n",
    "print()\n",
    "print(label['label'].mean())"
   ]
  },
  {
   "cell_type": "code",
   "execution_count": 13,
   "metadata": {},
   "outputs": [],
   "source": [
    "# set up X and y\n",
    "\n",
    "X = df['lemmatized']\n",
    "y = df['label']"
   ]
  },
  {
   "cell_type": "code",
   "execution_count": 14,
   "metadata": {},
   "outputs": [
    {
     "data": {
      "text/plain": [
       "3329"
      ]
     },
     "execution_count": 14,
     "metadata": {},
     "output_type": "execute_result"
    }
   ],
   "source": [
    "len(y)"
   ]
  },
  {
   "cell_type": "code",
   "execution_count": 15,
   "metadata": {},
   "outputs": [
    {
     "data": {
      "text/plain": [
       "array([ 0.,  1., -1.])"
      ]
     },
     "execution_count": 15,
     "metadata": {},
     "output_type": "execute_result"
    }
   ],
   "source": [
    "y.unique()"
   ]
  },
  {
   "cell_type": "markdown",
   "metadata": {},
   "source": [
    "### TF-IDF Vectorizer with Parameters:\n",
    "#### max_features = 256, max_df = 0.8, min_df = 10, ngram_range = (1, 1)"
   ]
  },
  {
   "cell_type": "code",
   "execution_count": 16,
   "metadata": {},
   "outputs": [],
   "source": [
    "# update stop_words for TF-IDF vectorizer\n",
    "\n",
    "remove = ['-pron-', 'feel', 'know', 'want', 'life', 'go', 'think', 'make', 'people', 'really', 'even', 'much', 'now', \n",
    "          'pron', 'don', 'will', 'try', 'talk', 'friends', 'tell', 'just', 'like', 'time', 'want', 'well', 'thing', 'day',\n",
    "          'friend', 'help', 'year', 'bad', 've', 'say', 'good', 'need', 'way', 'right', 'month', 'amp', 'x200b']\n",
    "\n",
    "my_stop_words = text.ENGLISH_STOP_WORDS.union(remove)"
   ]
  },
  {
   "cell_type": "code",
   "execution_count": 17,
   "metadata": {},
   "outputs": [],
   "source": [
    "# instantiate Tf-IDF\n",
    "\n",
    "tvec = TfidfVectorizer(stop_words = my_stop_words, max_df = .80, min_df = 10, max_features = 256, ngram_range = (1, 1))"
   ]
  },
  {
   "cell_type": "code",
   "execution_count": 18,
   "metadata": {},
   "outputs": [
    {
     "data": {
      "text/html": [
       "<div>\n",
       "<style scoped>\n",
       "    .dataframe tbody tr th:only-of-type {\n",
       "        vertical-align: middle;\n",
       "    }\n",
       "\n",
       "    .dataframe tbody tr th {\n",
       "        vertical-align: top;\n",
       "    }\n",
       "\n",
       "    .dataframe thead th {\n",
       "        text-align: right;\n",
       "    }\n",
       "</style>\n",
       "<table border=\"1\" class=\"dataframe\">\n",
       "  <thead>\n",
       "    <tr style=\"text-align: right;\">\n",
       "      <th></th>\n",
       "      <th>10</th>\n",
       "      <th>20</th>\n",
       "      <th>30</th>\n",
       "      <th>aa</th>\n",
       "      <th>able</th>\n",
       "      <th>abuse</th>\n",
       "      <th>act</th>\n",
       "      <th>actually</th>\n",
       "      <th>addiction</th>\n",
       "      <th>advice</th>\n",
       "      <th>...</th>\n",
       "      <th>wish</th>\n",
       "      <th>withdrawal</th>\n",
       "      <th>wonder</th>\n",
       "      <th>work</th>\n",
       "      <th>world</th>\n",
       "      <th>worried</th>\n",
       "      <th>worry</th>\n",
       "      <th>write</th>\n",
       "      <th>wrong</th>\n",
       "      <th>young</th>\n",
       "    </tr>\n",
       "  </thead>\n",
       "  <tbody>\n",
       "    <tr>\n",
       "      <th>0</th>\n",
       "      <td>0.0</td>\n",
       "      <td>0.0</td>\n",
       "      <td>0.0</td>\n",
       "      <td>0.000000</td>\n",
       "      <td>0.0</td>\n",
       "      <td>0.0</td>\n",
       "      <td>0.0</td>\n",
       "      <td>0.0</td>\n",
       "      <td>0.0</td>\n",
       "      <td>0.000000</td>\n",
       "      <td>...</td>\n",
       "      <td>0.0</td>\n",
       "      <td>0.0000</td>\n",
       "      <td>0.0</td>\n",
       "      <td>0.0</td>\n",
       "      <td>0.0</td>\n",
       "      <td>0.0</td>\n",
       "      <td>0.0</td>\n",
       "      <td>0.0</td>\n",
       "      <td>0.000000</td>\n",
       "      <td>0.0</td>\n",
       "    </tr>\n",
       "    <tr>\n",
       "      <th>1</th>\n",
       "      <td>0.0</td>\n",
       "      <td>0.0</td>\n",
       "      <td>0.0</td>\n",
       "      <td>0.000000</td>\n",
       "      <td>0.0</td>\n",
       "      <td>0.0</td>\n",
       "      <td>0.0</td>\n",
       "      <td>0.0</td>\n",
       "      <td>0.0</td>\n",
       "      <td>0.000000</td>\n",
       "      <td>...</td>\n",
       "      <td>0.0</td>\n",
       "      <td>0.0000</td>\n",
       "      <td>0.0</td>\n",
       "      <td>0.0</td>\n",
       "      <td>0.0</td>\n",
       "      <td>0.0</td>\n",
       "      <td>0.0</td>\n",
       "      <td>0.0</td>\n",
       "      <td>0.095629</td>\n",
       "      <td>0.0</td>\n",
       "    </tr>\n",
       "    <tr>\n",
       "      <th>2</th>\n",
       "      <td>0.0</td>\n",
       "      <td>0.0</td>\n",
       "      <td>0.0</td>\n",
       "      <td>0.000000</td>\n",
       "      <td>0.0</td>\n",
       "      <td>0.0</td>\n",
       "      <td>0.0</td>\n",
       "      <td>0.0</td>\n",
       "      <td>0.0</td>\n",
       "      <td>0.000000</td>\n",
       "      <td>...</td>\n",
       "      <td>0.0</td>\n",
       "      <td>0.0000</td>\n",
       "      <td>0.0</td>\n",
       "      <td>0.0</td>\n",
       "      <td>0.0</td>\n",
       "      <td>0.0</td>\n",
       "      <td>0.0</td>\n",
       "      <td>0.0</td>\n",
       "      <td>0.000000</td>\n",
       "      <td>0.0</td>\n",
       "    </tr>\n",
       "    <tr>\n",
       "      <th>3</th>\n",
       "      <td>0.0</td>\n",
       "      <td>0.0</td>\n",
       "      <td>0.0</td>\n",
       "      <td>0.278592</td>\n",
       "      <td>0.0</td>\n",
       "      <td>0.0</td>\n",
       "      <td>0.0</td>\n",
       "      <td>0.0</td>\n",
       "      <td>0.0</td>\n",
       "      <td>0.209062</td>\n",
       "      <td>...</td>\n",
       "      <td>0.0</td>\n",
       "      <td>0.2621</td>\n",
       "      <td>0.0</td>\n",
       "      <td>0.0</td>\n",
       "      <td>0.0</td>\n",
       "      <td>0.0</td>\n",
       "      <td>0.0</td>\n",
       "      <td>0.0</td>\n",
       "      <td>0.000000</td>\n",
       "      <td>0.0</td>\n",
       "    </tr>\n",
       "    <tr>\n",
       "      <th>4</th>\n",
       "      <td>0.0</td>\n",
       "      <td>0.0</td>\n",
       "      <td>0.0</td>\n",
       "      <td>0.000000</td>\n",
       "      <td>0.0</td>\n",
       "      <td>0.0</td>\n",
       "      <td>0.0</td>\n",
       "      <td>0.0</td>\n",
       "      <td>0.0</td>\n",
       "      <td>0.000000</td>\n",
       "      <td>...</td>\n",
       "      <td>0.0</td>\n",
       "      <td>0.0000</td>\n",
       "      <td>0.0</td>\n",
       "      <td>0.0</td>\n",
       "      <td>0.0</td>\n",
       "      <td>0.0</td>\n",
       "      <td>0.0</td>\n",
       "      <td>0.0</td>\n",
       "      <td>0.000000</td>\n",
       "      <td>0.0</td>\n",
       "    </tr>\n",
       "  </tbody>\n",
       "</table>\n",
       "<p>5 rows × 256 columns</p>\n",
       "</div>"
      ],
      "text/plain": [
       "    10   20   30        aa  able  abuse  act  actually  addiction    advice  \\\n",
       "0  0.0  0.0  0.0  0.000000   0.0    0.0  0.0       0.0        0.0  0.000000   \n",
       "1  0.0  0.0  0.0  0.000000   0.0    0.0  0.0       0.0        0.0  0.000000   \n",
       "2  0.0  0.0  0.0  0.000000   0.0    0.0  0.0       0.0        0.0  0.000000   \n",
       "3  0.0  0.0  0.0  0.278592   0.0    0.0  0.0       0.0        0.0  0.209062   \n",
       "4  0.0  0.0  0.0  0.000000   0.0    0.0  0.0       0.0        0.0  0.000000   \n",
       "\n",
       "   ...  wish  withdrawal  wonder  work  world  worried  worry  write  \\\n",
       "0  ...   0.0      0.0000     0.0   0.0    0.0      0.0    0.0    0.0   \n",
       "1  ...   0.0      0.0000     0.0   0.0    0.0      0.0    0.0    0.0   \n",
       "2  ...   0.0      0.0000     0.0   0.0    0.0      0.0    0.0    0.0   \n",
       "3  ...   0.0      0.2621     0.0   0.0    0.0      0.0    0.0    0.0   \n",
       "4  ...   0.0      0.0000     0.0   0.0    0.0      0.0    0.0    0.0   \n",
       "\n",
       "      wrong  young  \n",
       "0  0.000000    0.0  \n",
       "1  0.095629    0.0  \n",
       "2  0.000000    0.0  \n",
       "3  0.000000    0.0  \n",
       "4  0.000000    0.0  \n",
       "\n",
       "[5 rows x 256 columns]"
      ]
     },
     "execution_count": 18,
     "metadata": {},
     "output_type": "execute_result"
    }
   ],
   "source": [
    "# fit/transform X then save it to a dataframe\n",
    "\n",
    "t = pd.DataFrame(tvec.fit_transform(X).toarray(),\n",
    "                 columns = tvec.get_feature_names())\n",
    "t.head()"
   ]
  },
  {
   "cell_type": "code",
   "execution_count": 19,
   "metadata": {},
   "outputs": [],
   "source": [
    "# instantiate LabelPropagation model, fit, and predict\n",
    "\n",
    "model = LabelSpreading()\n",
    "model.fit(t, y)\n",
    "pred = np.array(model.predict(t))"
   ]
  },
  {
   "cell_type": "code",
   "execution_count": 20,
   "metadata": {},
   "outputs": [
    {
     "name": "stdout",
     "output_type": "stream",
     "text": [
      "3329\n",
      "3329\n"
     ]
    }
   ],
   "source": [
    "# check the length of both label and prediction\n",
    "\n",
    "print(len(y))\n",
    "print(len(pred))"
   ]
  },
  {
   "cell_type": "code",
   "execution_count": 21,
   "metadata": {},
   "outputs": [],
   "source": [
    "# create a dataframe just with label and prediction\n",
    "\n",
    "d = {'label': y, 'pred': pred}\n",
    "\n",
    "p = pd.DataFrame(d)"
   ]
  },
  {
   "cell_type": "code",
   "execution_count": 22,
   "metadata": {},
   "outputs": [],
   "source": [
    "# create a separate dataframe to check the accuracy of the model with the labeled data\n",
    "\n",
    "cf = p[p['label'] != -1]"
   ]
  },
  {
   "cell_type": "code",
   "execution_count": 23,
   "metadata": {},
   "outputs": [],
   "source": [
    "# get the values from confusion matrix\n",
    "\n",
    "tn, fp, fn, tp = confusion_matrix(cf['label'], cf['pred'], normalize = 'true').ravel()"
   ]
  },
  {
   "cell_type": "code",
   "execution_count": 24,
   "metadata": {},
   "outputs": [
    {
     "name": "stdout",
     "output_type": "stream",
     "text": [
      "True Negative: 1.0\n",
      "False Positive: 0.0\n",
      "False Negative: 0.006060606060606061\n",
      "True Positive: 0.9939393939393939\n"
     ]
    }
   ],
   "source": [
    "# check the values from confusion matrix\n",
    "\n",
    "print(f'True Negative: {tn}')\n",
    "print(f'False Positive: {fp}')\n",
    "print(f'False Negative: {fn}')\n",
    "print(f'True Positive: {tp}')"
   ]
  },
  {
   "cell_type": "code",
   "execution_count": 25,
   "metadata": {},
   "outputs": [
    {
     "name": "stdout",
     "output_type": "stream",
     "text": [
      "              precision    recall  f1-score   support\n",
      "\n",
      "non-suicidal       1.00      1.00      1.00      2334\n",
      "    suicidal       1.00      0.99      1.00       495\n",
      "\n",
      "    accuracy                           1.00      2829\n",
      "   macro avg       1.00      1.00      1.00      2829\n",
      "weighted avg       1.00      1.00      1.00      2829\n",
      "\n"
     ]
    }
   ],
   "source": [
    "# classification report\n",
    "\n",
    "print(classification_report(cf['label'], cf['pred'], target_names = ['non-suicidal', 'suicidal']))"
   ]
  },
  {
   "cell_type": "code",
   "execution_count": 26,
   "metadata": {},
   "outputs": [
    {
     "data": {
      "text/plain": [
       "{0.0, 1.0}"
      ]
     },
     "execution_count": 26,
     "metadata": {},
     "output_type": "execute_result"
    }
   ],
   "source": [
    "# check pred for unlabeled to make sure it only contains 0 and 1\n",
    "\n",
    "cf_u = p[p['label'] == -1]\n",
    "\n",
    "set(cf_u['pred'])"
   ]
  },
  {
   "cell_type": "code",
   "execution_count": 27,
   "metadata": {},
   "outputs": [
    {
     "data": {
      "text/plain": [
       "20"
      ]
     },
     "execution_count": 27,
     "metadata": {},
     "output_type": "execute_result"
    }
   ],
   "source": [
    "# split dataframe into relatively same size\n",
    "\n",
    "n = 5000\n",
    "\n",
    "list_df = [unlabel[i: (i + n)] for i in range(0, unlabel.shape[0], n)]\n",
    "\n",
    "len(list_df)"
   ]
  },
  {
   "cell_type": "code",
   "execution_count": 28,
   "metadata": {},
   "outputs": [],
   "source": [
    "# create an empty list to store the predictions for unlabeled data\n",
    "\n",
    "y_pred = []\n",
    "\n",
    "# iterate through sectioned dataframe\n",
    "\n",
    "for i in range(len(list_df)):\n",
    "    \n",
    "    # combine the labeled data and unlabeled data\n",
    "    \n",
    "    df = pd.concat([label, list_df[i]])\n",
    "    \n",
    "    # set X and y\n",
    "    \n",
    "    X = df['lemmatized']\n",
    "    y = df['label']\n",
    "    \n",
    "    # vectorized values to a dataframe\n",
    "    \n",
    "    t = pd.DataFrame(tvec.fit_transform(X).toarray(), columns = tvec.get_feature_names())\n",
    "    \n",
    "    # instantiate the model\n",
    "    \n",
    "    model = LabelSpreading()\n",
    "    \n",
    "    # fit and predict\n",
    "    \n",
    "    model.fit(t, y)\n",
    "    pred = np.array(model.predict(t))\n",
    "    \n",
    "    # extract predicted values just for the unlabeled\n",
    "    \n",
    "    dct = {'label': y, 'pred': pred}\n",
    "    values = pd.DataFrame(dct)\n",
    "    non_scoring = values[values['label'] == -1]\n",
    "\n",
    "    # extend the prediction to the list\n",
    "    \n",
    "    y_pred.extend(non_scoring['pred'])"
   ]
  },
  {
   "cell_type": "code",
   "execution_count": 29,
   "metadata": {},
   "outputs": [],
   "source": [
    "# create a column to store prediction\n",
    "\n",
    "unlabel['pred'] = y_pred"
   ]
  },
  {
   "cell_type": "code",
   "execution_count": 30,
   "metadata": {},
   "outputs": [
    {
     "data": {
      "text/plain": [
       "subreddit           0\n",
       "author              0\n",
       "date                0\n",
       "post                0\n",
       "covid_related       0\n",
       "suicidal            0\n",
       "alc_abuse           0\n",
       "loneliness          0\n",
       "stress              0\n",
       "n_words             0\n",
       "n_sentences         0\n",
       "lemmatized          0\n",
       "vectors             0\n",
       "label               0\n",
       "pred             2829\n",
       "dtype: int64"
      ]
     },
     "execution_count": 30,
     "metadata": {},
     "output_type": "execute_result"
    }
   ],
   "source": [
    "# check the null values - 'pred' column should have 2829 rows of null\n",
    "\n",
    "pd.concat([label, unlabel]).isnull().sum()"
   ]
  },
  {
   "cell_type": "code",
   "execution_count": 31,
   "metadata": {},
   "outputs": [],
   "source": [
    "# combine labeled and unlabeled dataframes\n",
    "\n",
    "df = pd.concat([label, unlabel])"
   ]
  },
  {
   "cell_type": "code",
   "execution_count": 32,
   "metadata": {},
   "outputs": [],
   "source": [
    "# fill null values in pred with label values\n",
    "\n",
    "df['pred'].fillna(df['label'], inplace = True)"
   ]
  },
  {
   "cell_type": "code",
   "execution_count": 33,
   "metadata": {},
   "outputs": [
    {
     "data": {
      "text/plain": [
       "subreddit        0\n",
       "author           0\n",
       "date             0\n",
       "post             0\n",
       "covid_related    0\n",
       "suicidal         0\n",
       "alc_abuse        0\n",
       "loneliness       0\n",
       "stress           0\n",
       "n_words          0\n",
       "n_sentences      0\n",
       "lemmatized       0\n",
       "vectors          0\n",
       "label            0\n",
       "pred             0\n",
       "dtype: int64"
      ]
     },
     "execution_count": 33,
     "metadata": {},
     "output_type": "execute_result"
    }
   ],
   "source": [
    "# check for null\n",
    "\n",
    "df.isnull().sum()"
   ]
  },
  {
   "cell_type": "code",
   "execution_count": 34,
   "metadata": {},
   "outputs": [
    {
     "data": {
      "text/html": [
       "<div>\n",
       "<style scoped>\n",
       "    .dataframe tbody tr th:only-of-type {\n",
       "        vertical-align: middle;\n",
       "    }\n",
       "\n",
       "    .dataframe tbody tr th {\n",
       "        vertical-align: top;\n",
       "    }\n",
       "\n",
       "    .dataframe thead th {\n",
       "        text-align: right;\n",
       "    }\n",
       "</style>\n",
       "<table border=\"1\" class=\"dataframe\">\n",
       "  <thead>\n",
       "    <tr style=\"text-align: right;\">\n",
       "      <th></th>\n",
       "      <th>subreddit</th>\n",
       "      <th>author</th>\n",
       "      <th>date</th>\n",
       "      <th>post</th>\n",
       "      <th>covid_related</th>\n",
       "      <th>suicidal</th>\n",
       "      <th>alc_abuse</th>\n",
       "      <th>loneliness</th>\n",
       "      <th>stress</th>\n",
       "      <th>n_words</th>\n",
       "      <th>n_sentences</th>\n",
       "      <th>lemmatized</th>\n",
       "      <th>vectors</th>\n",
       "      <th>pred</th>\n",
       "    </tr>\n",
       "  </thead>\n",
       "  <tbody>\n",
       "    <tr>\n",
       "      <th>0</th>\n",
       "      <td>alcoholism</td>\n",
       "      <td>glorybellpirate</td>\n",
       "      <td>2020-01-01</td>\n",
       "      <td>Day 1 of sobriety Feeling anxious and letting ...</td>\n",
       "      <td>0</td>\n",
       "      <td>0</td>\n",
       "      <td>1</td>\n",
       "      <td>0</td>\n",
       "      <td>0</td>\n",
       "      <td>24</td>\n",
       "      <td>3</td>\n",
       "      <td>day 1 of sobriety feel anxious and let the fee...</td>\n",
       "      <td>[-0.026765203100000003, 0.2515704036, -0.15668...</td>\n",
       "      <td>0.0</td>\n",
       "    </tr>\n",
       "    <tr>\n",
       "      <th>1</th>\n",
       "      <td>alcoholism</td>\n",
       "      <td>EhndlessSl0th</td>\n",
       "      <td>2020-01-01</td>\n",
       "      <td>Started the New Year with a bang. Hey, I'm new...</td>\n",
       "      <td>0</td>\n",
       "      <td>1</td>\n",
       "      <td>1</td>\n",
       "      <td>0</td>\n",
       "      <td>1</td>\n",
       "      <td>577</td>\n",
       "      <td>41</td>\n",
       "      <td>start the new year with a bang hey -pron- be n...</td>\n",
       "      <td>[0.0102483444, 0.18354494870000002, -0.2263026...</td>\n",
       "      <td>0.0</td>\n",
       "    </tr>\n",
       "    <tr>\n",
       "      <th>2</th>\n",
       "      <td>alcoholism</td>\n",
       "      <td>the_kinky_penguin</td>\n",
       "      <td>2020-01-01</td>\n",
       "      <td>Why can't I get drunk anymore I've been a heav...</td>\n",
       "      <td>0</td>\n",
       "      <td>0</td>\n",
       "      <td>1</td>\n",
       "      <td>0</td>\n",
       "      <td>0</td>\n",
       "      <td>64</td>\n",
       "      <td>5</td>\n",
       "      <td>why ca not -pron- get drunk anymore -pron- hav...</td>\n",
       "      <td>[-0.09739924970000001, 0.1839587241, -0.227181...</td>\n",
       "      <td>0.0</td>\n",
       "    </tr>\n",
       "    <tr>\n",
       "      <th>3</th>\n",
       "      <td>alcoholism</td>\n",
       "      <td>SauceoffSauceOn</td>\n",
       "      <td>2020-01-01</td>\n",
       "      <td>I am an Alcoholic. How do I quit? I have been ...</td>\n",
       "      <td>0</td>\n",
       "      <td>0</td>\n",
       "      <td>1</td>\n",
       "      <td>0</td>\n",
       "      <td>1</td>\n",
       "      <td>111</td>\n",
       "      <td>14</td>\n",
       "      <td>-pron- be an alcoholic how do -pron- quit -pro...</td>\n",
       "      <td>[-0.0117096035, 0.1865714192, -0.2576603591, -...</td>\n",
       "      <td>0.0</td>\n",
       "    </tr>\n",
       "    <tr>\n",
       "      <th>4</th>\n",
       "      <td>alcoholism</td>\n",
       "      <td>ben42187</td>\n",
       "      <td>2020-01-01</td>\n",
       "      <td>Funniest Thing about Alcoholism With every oth...</td>\n",
       "      <td>0</td>\n",
       "      <td>0</td>\n",
       "      <td>1</td>\n",
       "      <td>0</td>\n",
       "      <td>0</td>\n",
       "      <td>136</td>\n",
       "      <td>0</td>\n",
       "      <td>funniest thing about alcoholism with every oth...</td>\n",
       "      <td>[-0.0443742387, 0.1812106818, -0.1554362029000...</td>\n",
       "      <td>0.0</td>\n",
       "    </tr>\n",
       "  </tbody>\n",
       "</table>\n",
       "</div>"
      ],
      "text/plain": [
       "    subreddit             author       date  \\\n",
       "0  alcoholism    glorybellpirate 2020-01-01   \n",
       "1  alcoholism      EhndlessSl0th 2020-01-01   \n",
       "2  alcoholism  the_kinky_penguin 2020-01-01   \n",
       "3  alcoholism    SauceoffSauceOn 2020-01-01   \n",
       "4  alcoholism           ben42187 2020-01-01   \n",
       "\n",
       "                                                post  covid_related  suicidal  \\\n",
       "0  Day 1 of sobriety Feeling anxious and letting ...              0         0   \n",
       "1  Started the New Year with a bang. Hey, I'm new...              0         1   \n",
       "2  Why can't I get drunk anymore I've been a heav...              0         0   \n",
       "3  I am an Alcoholic. How do I quit? I have been ...              0         0   \n",
       "4  Funniest Thing about Alcoholism With every oth...              0         0   \n",
       "\n",
       "   alc_abuse  loneliness  stress  n_words  n_sentences  \\\n",
       "0          1           0       0       24            3   \n",
       "1          1           0       1      577           41   \n",
       "2          1           0       0       64            5   \n",
       "3          1           0       1      111           14   \n",
       "4          1           0       0      136            0   \n",
       "\n",
       "                                          lemmatized  \\\n",
       "0  day 1 of sobriety feel anxious and let the fee...   \n",
       "1  start the new year with a bang hey -pron- be n...   \n",
       "2  why ca not -pron- get drunk anymore -pron- hav...   \n",
       "3  -pron- be an alcoholic how do -pron- quit -pro...   \n",
       "4  funniest thing about alcoholism with every oth...   \n",
       "\n",
       "                                             vectors  pred  \n",
       "0  [-0.026765203100000003, 0.2515704036, -0.15668...   0.0  \n",
       "1  [0.0102483444, 0.18354494870000002, -0.2263026...   0.0  \n",
       "2  [-0.09739924970000001, 0.1839587241, -0.227181...   0.0  \n",
       "3  [-0.0117096035, 0.1865714192, -0.2576603591, -...   0.0  \n",
       "4  [-0.0443742387, 0.1812106818, -0.1554362029000...   0.0  "
      ]
     },
     "execution_count": 34,
     "metadata": {},
     "output_type": "execute_result"
    }
   ],
   "source": [
    "# drop label column\n",
    "\n",
    "df.drop(columns = ['label'], axis = 1, inplace = True)\n",
    "\n",
    "df.head()"
   ]
  },
  {
   "cell_type": "code",
   "execution_count": 35,
   "metadata": {},
   "outputs": [],
   "source": [
    "# rename column pred as label\n",
    "\n",
    "df.rename(columns = {'pred': 'label'}, inplace = True)"
   ]
  },
  {
   "cell_type": "code",
   "execution_count": 36,
   "metadata": {},
   "outputs": [
    {
     "data": {
      "text/html": [
       "<div>\n",
       "<style scoped>\n",
       "    .dataframe tbody tr th:only-of-type {\n",
       "        vertical-align: middle;\n",
       "    }\n",
       "\n",
       "    .dataframe tbody tr th {\n",
       "        vertical-align: top;\n",
       "    }\n",
       "\n",
       "    .dataframe thead th {\n",
       "        text-align: right;\n",
       "    }\n",
       "</style>\n",
       "<table border=\"1\" class=\"dataframe\">\n",
       "  <thead>\n",
       "    <tr style=\"text-align: right;\">\n",
       "      <th></th>\n",
       "      <th>subreddit</th>\n",
       "      <th>author</th>\n",
       "      <th>date</th>\n",
       "      <th>post</th>\n",
       "      <th>covid_related</th>\n",
       "      <th>suicidal</th>\n",
       "      <th>alc_abuse</th>\n",
       "      <th>loneliness</th>\n",
       "      <th>stress</th>\n",
       "      <th>n_words</th>\n",
       "      <th>n_sentences</th>\n",
       "      <th>lemmatized</th>\n",
       "      <th>vectors</th>\n",
       "      <th>label</th>\n",
       "    </tr>\n",
       "  </thead>\n",
       "  <tbody>\n",
       "    <tr>\n",
       "      <th>0</th>\n",
       "      <td>alcoholism</td>\n",
       "      <td>glorybellpirate</td>\n",
       "      <td>2020-01-01</td>\n",
       "      <td>Day 1 of sobriety Feeling anxious and letting ...</td>\n",
       "      <td>0</td>\n",
       "      <td>0</td>\n",
       "      <td>1</td>\n",
       "      <td>0</td>\n",
       "      <td>0</td>\n",
       "      <td>24</td>\n",
       "      <td>3</td>\n",
       "      <td>day 1 of sobriety feel anxious and let the fee...</td>\n",
       "      <td>[-0.026765203100000003, 0.2515704036, -0.15668...</td>\n",
       "      <td>0.0</td>\n",
       "    </tr>\n",
       "    <tr>\n",
       "      <th>1</th>\n",
       "      <td>alcoholism</td>\n",
       "      <td>EhndlessSl0th</td>\n",
       "      <td>2020-01-01</td>\n",
       "      <td>Started the New Year with a bang. Hey, I'm new...</td>\n",
       "      <td>0</td>\n",
       "      <td>1</td>\n",
       "      <td>1</td>\n",
       "      <td>0</td>\n",
       "      <td>1</td>\n",
       "      <td>577</td>\n",
       "      <td>41</td>\n",
       "      <td>start the new year with a bang hey -pron- be n...</td>\n",
       "      <td>[0.0102483444, 0.18354494870000002, -0.2263026...</td>\n",
       "      <td>0.0</td>\n",
       "    </tr>\n",
       "    <tr>\n",
       "      <th>2</th>\n",
       "      <td>alcoholism</td>\n",
       "      <td>the_kinky_penguin</td>\n",
       "      <td>2020-01-01</td>\n",
       "      <td>Why can't I get drunk anymore I've been a heav...</td>\n",
       "      <td>0</td>\n",
       "      <td>0</td>\n",
       "      <td>1</td>\n",
       "      <td>0</td>\n",
       "      <td>0</td>\n",
       "      <td>64</td>\n",
       "      <td>5</td>\n",
       "      <td>why ca not -pron- get drunk anymore -pron- hav...</td>\n",
       "      <td>[-0.09739924970000001, 0.1839587241, -0.227181...</td>\n",
       "      <td>0.0</td>\n",
       "    </tr>\n",
       "  </tbody>\n",
       "</table>\n",
       "</div>"
      ],
      "text/plain": [
       "    subreddit             author       date  \\\n",
       "0  alcoholism    glorybellpirate 2020-01-01   \n",
       "1  alcoholism      EhndlessSl0th 2020-01-01   \n",
       "2  alcoholism  the_kinky_penguin 2020-01-01   \n",
       "\n",
       "                                                post  covid_related  suicidal  \\\n",
       "0  Day 1 of sobriety Feeling anxious and letting ...              0         0   \n",
       "1  Started the New Year with a bang. Hey, I'm new...              0         1   \n",
       "2  Why can't I get drunk anymore I've been a heav...              0         0   \n",
       "\n",
       "   alc_abuse  loneliness  stress  n_words  n_sentences  \\\n",
       "0          1           0       0       24            3   \n",
       "1          1           0       1      577           41   \n",
       "2          1           0       0       64            5   \n",
       "\n",
       "                                          lemmatized  \\\n",
       "0  day 1 of sobriety feel anxious and let the fee...   \n",
       "1  start the new year with a bang hey -pron- be n...   \n",
       "2  why ca not -pron- get drunk anymore -pron- hav...   \n",
       "\n",
       "                                             vectors  label  \n",
       "0  [-0.026765203100000003, 0.2515704036, -0.15668...    0.0  \n",
       "1  [0.0102483444, 0.18354494870000002, -0.2263026...    0.0  \n",
       "2  [-0.09739924970000001, 0.1839587241, -0.227181...    0.0  "
      ]
     },
     "execution_count": 36,
     "metadata": {},
     "output_type": "execute_result"
    }
   ],
   "source": [
    "# check\n",
    "\n",
    "df.head(3)"
   ]
  },
  {
   "cell_type": "code",
   "execution_count": 37,
   "metadata": {},
   "outputs": [],
   "source": [
    "# change label column to int\n",
    "\n",
    "df['label'] = df['label'].astype(int)"
   ]
  },
  {
   "cell_type": "code",
   "execution_count": 38,
   "metadata": {},
   "outputs": [
    {
     "data": {
      "text/plain": [
       "0.20530787851465646"
      ]
     },
     "execution_count": 38,
     "metadata": {},
     "output_type": "execute_result"
    }
   ],
   "source": [
    "# check the label\n",
    "\n",
    "df['label'].mean()"
   ]
  },
  {
   "cell_type": "code",
   "execution_count": 39,
   "metadata": {},
   "outputs": [
    {
     "data": {
      "text/html": [
       "<div>\n",
       "<style scoped>\n",
       "    .dataframe tbody tr th:only-of-type {\n",
       "        vertical-align: middle;\n",
       "    }\n",
       "\n",
       "    .dataframe tbody tr th {\n",
       "        vertical-align: top;\n",
       "    }\n",
       "\n",
       "    .dataframe thead th {\n",
       "        text-align: right;\n",
       "    }\n",
       "</style>\n",
       "<table border=\"1\" class=\"dataframe\">\n",
       "  <thead>\n",
       "    <tr style=\"text-align: right;\">\n",
       "      <th></th>\n",
       "      <th>label</th>\n",
       "    </tr>\n",
       "    <tr>\n",
       "      <th>subreddit</th>\n",
       "      <th></th>\n",
       "    </tr>\n",
       "  </thead>\n",
       "  <tbody>\n",
       "    <tr>\n",
       "      <th>alcoholism</th>\n",
       "      <td>0.006285</td>\n",
       "    </tr>\n",
       "    <tr>\n",
       "      <th>anxiety</th>\n",
       "      <td>0.107574</td>\n",
       "    </tr>\n",
       "    <tr>\n",
       "      <th>bipolarreddit</th>\n",
       "      <td>0.074561</td>\n",
       "    </tr>\n",
       "    <tr>\n",
       "      <th>depression</th>\n",
       "      <td>0.217601</td>\n",
       "    </tr>\n",
       "    <tr>\n",
       "      <th>healthanxiety</th>\n",
       "      <td>0.055624</td>\n",
       "    </tr>\n",
       "    <tr>\n",
       "      <th>lonely</th>\n",
       "      <td>0.175487</td>\n",
       "    </tr>\n",
       "    <tr>\n",
       "      <th>mentalhealth</th>\n",
       "      <td>0.151621</td>\n",
       "    </tr>\n",
       "    <tr>\n",
       "      <th>suicidewatch</th>\n",
       "      <td>0.339623</td>\n",
       "    </tr>\n",
       "  </tbody>\n",
       "</table>\n",
       "</div>"
      ],
      "text/plain": [
       "                  label\n",
       "subreddit              \n",
       "alcoholism     0.006285\n",
       "anxiety        0.107574\n",
       "bipolarreddit  0.074561\n",
       "depression     0.217601\n",
       "healthanxiety  0.055624\n",
       "lonely         0.175487\n",
       "mentalhealth   0.151621\n",
       "suicidewatch   0.339623"
      ]
     },
     "execution_count": 39,
     "metadata": {},
     "output_type": "execute_result"
    }
   ],
   "source": [
    "# check each subreddit how they are labeled\n",
    "\n",
    "df.groupby('subreddit')[['label']].mean()"
   ]
  },
  {
   "cell_type": "code",
   "execution_count": 40,
   "metadata": {},
   "outputs": [],
   "source": [
    "# store this to a csv\n",
    "\n",
    "labeled = df.drop(columns = ['vectors'], axis = 1)\n",
    "labeled.to_csv('../data/cleaned/labeled.csv', index = False)"
   ]
  },
  {
   "cell_type": "markdown",
   "metadata": {},
   "source": [
    "#### Try Scaling the data"
   ]
  },
  {
   "cell_type": "code",
   "execution_count": 63,
   "metadata": {},
   "outputs": [],
   "source": [
    "# read in the dataset\n",
    "\n",
    "df = pd.read_json('../data/cleaned/json.json')\n",
    "\n",
    "rv1 = pd.read_csv('../data/cleaned/review1.csv')\n",
    "rv2 = pd.read_csv('../data/cleaned/review2.csv')"
   ]
  },
  {
   "cell_type": "code",
   "execution_count": 64,
   "metadata": {},
   "outputs": [
    {
     "data": {
      "text/html": [
       "<div>\n",
       "<style scoped>\n",
       "    .dataframe tbody tr th:only-of-type {\n",
       "        vertical-align: middle;\n",
       "    }\n",
       "\n",
       "    .dataframe tbody tr th {\n",
       "        vertical-align: top;\n",
       "    }\n",
       "\n",
       "    .dataframe thead th {\n",
       "        text-align: right;\n",
       "    }\n",
       "</style>\n",
       "<table border=\"1\" class=\"dataframe\">\n",
       "  <thead>\n",
       "    <tr style=\"text-align: right;\">\n",
       "      <th></th>\n",
       "      <th>post</th>\n",
       "      <th>label</th>\n",
       "    </tr>\n",
       "    <tr>\n",
       "      <th>id</th>\n",
       "      <th></th>\n",
       "      <th></th>\n",
       "    </tr>\n",
       "  </thead>\n",
       "  <tbody>\n",
       "    <tr>\n",
       "      <th>1428</th>\n",
       "      <td>How do you guys feel less dead inside? I've go...</td>\n",
       "      <td>1</td>\n",
       "    </tr>\n",
       "    <tr>\n",
       "      <th>1429</th>\n",
       "      <td>i want to get help but i don’t know how my par...</td>\n",
       "      <td>1</td>\n",
       "    </tr>\n",
       "    <tr>\n",
       "      <th>1430</th>\n",
       "      <td>I can’t stop myself from loving this fictional...</td>\n",
       "      <td>0</td>\n",
       "    </tr>\n",
       "  </tbody>\n",
       "</table>\n",
       "</div>"
      ],
      "text/plain": [
       "                                                   post  label\n",
       "id                                                            \n",
       "1428  How do you guys feel less dead inside? I've go...      1\n",
       "1429  i want to get help but i don’t know how my par...      1\n",
       "1430  I can’t stop myself from loving this fictional...      0"
      ]
     },
     "execution_count": 64,
     "metadata": {},
     "output_type": "execute_result"
    }
   ],
   "source": [
    "# combine the reviewed dataset\n",
    "\n",
    "label = pd.concat([rv1, rv2])\n",
    "\n",
    "# set the index\n",
    "\n",
    "label.set_index('id', inplace = True)\n",
    "\n",
    "label.head(3)"
   ]
  },
  {
   "cell_type": "code",
   "execution_count": 65,
   "metadata": {},
   "outputs": [],
   "source": [
    "# merge the labeled data to main dataframe\n",
    "\n",
    "df = pd.merge(df, label, how = 'left', on = 'post')"
   ]
  },
  {
   "cell_type": "code",
   "execution_count": 66,
   "metadata": {},
   "outputs": [
    {
     "data": {
      "text/plain": [
       "subreddit            0\n",
       "author               0\n",
       "date                 0\n",
       "post                 0\n",
       "covid_related        0\n",
       "suicidal             0\n",
       "alc_abuse            0\n",
       "loneliness           0\n",
       "stress               0\n",
       "n_words              0\n",
       "n_sentences          0\n",
       "lemmatized           0\n",
       "vectors              0\n",
       "label            99208\n",
       "dtype: int64"
      ]
     },
     "execution_count": 66,
     "metadata": {},
     "output_type": "execute_result"
    }
   ],
   "source": [
    "# check for nulls\n",
    "\n",
    "df.isnull().sum()"
   ]
  },
  {
   "cell_type": "code",
   "execution_count": 67,
   "metadata": {},
   "outputs": [],
   "source": [
    "# fill null values with 99 for easy distinction\n",
    "\n",
    "df.fillna(-1, inplace = True)"
   ]
  },
  {
   "cell_type": "code",
   "execution_count": 68,
   "metadata": {},
   "outputs": [
    {
     "data": {
      "text/plain": [
       "subreddit        0\n",
       "author           0\n",
       "date             0\n",
       "post             0\n",
       "covid_related    0\n",
       "suicidal         0\n",
       "alc_abuse        0\n",
       "loneliness       0\n",
       "stress           0\n",
       "n_words          0\n",
       "n_sentences      0\n",
       "lemmatized       0\n",
       "vectors          0\n",
       "label            0\n",
       "dtype: int64"
      ]
     },
     "execution_count": 68,
     "metadata": {},
     "output_type": "execute_result"
    }
   ],
   "source": [
    "df.isnull().sum()"
   ]
  },
  {
   "cell_type": "code",
   "execution_count": 69,
   "metadata": {},
   "outputs": [],
   "source": [
    "df.replace({9: 0}, inplace = True)"
   ]
  },
  {
   "cell_type": "code",
   "execution_count": 70,
   "metadata": {},
   "outputs": [],
   "source": [
    "# divide the datasets to labeled and not labeled\n",
    "\n",
    "unlabel = df[df['label'] == -1]\n",
    "label = df[df['label'] != -1]"
   ]
  },
  {
   "cell_type": "code",
   "execution_count": 71,
   "metadata": {},
   "outputs": [
    {
     "name": "stdout",
     "output_type": "stream",
     "text": [
      "(3329, 14)\n"
     ]
    },
    {
     "data": {
      "text/html": [
       "<div>\n",
       "<style scoped>\n",
       "    .dataframe tbody tr th:only-of-type {\n",
       "        vertical-align: middle;\n",
       "    }\n",
       "\n",
       "    .dataframe tbody tr th {\n",
       "        vertical-align: top;\n",
       "    }\n",
       "\n",
       "    .dataframe thead th {\n",
       "        text-align: right;\n",
       "    }\n",
       "</style>\n",
       "<table border=\"1\" class=\"dataframe\">\n",
       "  <thead>\n",
       "    <tr style=\"text-align: right;\">\n",
       "      <th></th>\n",
       "      <th>subreddit</th>\n",
       "      <th>author</th>\n",
       "      <th>date</th>\n",
       "      <th>post</th>\n",
       "      <th>covid_related</th>\n",
       "      <th>suicidal</th>\n",
       "      <th>alc_abuse</th>\n",
       "      <th>loneliness</th>\n",
       "      <th>stress</th>\n",
       "      <th>n_words</th>\n",
       "      <th>n_sentences</th>\n",
       "      <th>lemmatized</th>\n",
       "      <th>vectors</th>\n",
       "      <th>label</th>\n",
       "    </tr>\n",
       "  </thead>\n",
       "  <tbody>\n",
       "    <tr>\n",
       "      <th>0</th>\n",
       "      <td>alcoholism</td>\n",
       "      <td>glorybellpirate</td>\n",
       "      <td>2020-01-01</td>\n",
       "      <td>Day 1 of sobriety Feeling anxious and letting ...</td>\n",
       "      <td>0</td>\n",
       "      <td>0</td>\n",
       "      <td>1</td>\n",
       "      <td>0</td>\n",
       "      <td>0</td>\n",
       "      <td>24</td>\n",
       "      <td>3</td>\n",
       "      <td>day 1 of sobriety feel anxious and let the fee...</td>\n",
       "      <td>[-0.026765203100000003, 0.2515704036, -0.15668...</td>\n",
       "      <td>0.0</td>\n",
       "    </tr>\n",
       "    <tr>\n",
       "      <th>1</th>\n",
       "      <td>alcoholism</td>\n",
       "      <td>EhndlessSl0th</td>\n",
       "      <td>2020-01-01</td>\n",
       "      <td>Started the New Year with a bang. Hey, I'm new...</td>\n",
       "      <td>0</td>\n",
       "      <td>1</td>\n",
       "      <td>1</td>\n",
       "      <td>0</td>\n",
       "      <td>1</td>\n",
       "      <td>577</td>\n",
       "      <td>41</td>\n",
       "      <td>start the new year with a bang hey -pron- be n...</td>\n",
       "      <td>[0.0102483444, 0.18354494870000002, -0.2263026...</td>\n",
       "      <td>0.0</td>\n",
       "    </tr>\n",
       "    <tr>\n",
       "      <th>2</th>\n",
       "      <td>alcoholism</td>\n",
       "      <td>the_kinky_penguin</td>\n",
       "      <td>2020-01-01</td>\n",
       "      <td>Why can't I get drunk anymore I've been a heav...</td>\n",
       "      <td>0</td>\n",
       "      <td>0</td>\n",
       "      <td>1</td>\n",
       "      <td>0</td>\n",
       "      <td>0</td>\n",
       "      <td>64</td>\n",
       "      <td>5</td>\n",
       "      <td>why ca not -pron- get drunk anymore -pron- hav...</td>\n",
       "      <td>[-0.09739924970000001, 0.1839587241, -0.227181...</td>\n",
       "      <td>0.0</td>\n",
       "    </tr>\n",
       "    <tr>\n",
       "      <th>3</th>\n",
       "      <td>alcoholism</td>\n",
       "      <td>SauceoffSauceOn</td>\n",
       "      <td>2020-01-01</td>\n",
       "      <td>I am an Alcoholic. How do I quit? I have been ...</td>\n",
       "      <td>0</td>\n",
       "      <td>0</td>\n",
       "      <td>1</td>\n",
       "      <td>0</td>\n",
       "      <td>1</td>\n",
       "      <td>111</td>\n",
       "      <td>14</td>\n",
       "      <td>-pron- be an alcoholic how do -pron- quit -pro...</td>\n",
       "      <td>[-0.0117096035, 0.1865714192, -0.2576603591, -...</td>\n",
       "      <td>0.0</td>\n",
       "    </tr>\n",
       "    <tr>\n",
       "      <th>4</th>\n",
       "      <td>alcoholism</td>\n",
       "      <td>ben42187</td>\n",
       "      <td>2020-01-01</td>\n",
       "      <td>Funniest Thing about Alcoholism With every oth...</td>\n",
       "      <td>0</td>\n",
       "      <td>0</td>\n",
       "      <td>1</td>\n",
       "      <td>0</td>\n",
       "      <td>0</td>\n",
       "      <td>136</td>\n",
       "      <td>0</td>\n",
       "      <td>funniest thing about alcoholism with every oth...</td>\n",
       "      <td>[-0.0443742387, 0.1812106818, -0.1554362029000...</td>\n",
       "      <td>0.0</td>\n",
       "    </tr>\n",
       "  </tbody>\n",
       "</table>\n",
       "</div>"
      ],
      "text/plain": [
       "    subreddit             author       date  \\\n",
       "0  alcoholism    glorybellpirate 2020-01-01   \n",
       "1  alcoholism      EhndlessSl0th 2020-01-01   \n",
       "2  alcoholism  the_kinky_penguin 2020-01-01   \n",
       "3  alcoholism    SauceoffSauceOn 2020-01-01   \n",
       "4  alcoholism           ben42187 2020-01-01   \n",
       "\n",
       "                                                post  covid_related  suicidal  \\\n",
       "0  Day 1 of sobriety Feeling anxious and letting ...              0         0   \n",
       "1  Started the New Year with a bang. Hey, I'm new...              0         1   \n",
       "2  Why can't I get drunk anymore I've been a heav...              0         0   \n",
       "3  I am an Alcoholic. How do I quit? I have been ...              0         0   \n",
       "4  Funniest Thing about Alcoholism With every oth...              0         0   \n",
       "\n",
       "   alc_abuse  loneliness  stress  n_words  n_sentences  \\\n",
       "0          1           0       0       24            3   \n",
       "1          1           0       1      577           41   \n",
       "2          1           0       0       64            5   \n",
       "3          1           0       1      111           14   \n",
       "4          1           0       0      136            0   \n",
       "\n",
       "                                          lemmatized  \\\n",
       "0  day 1 of sobriety feel anxious and let the fee...   \n",
       "1  start the new year with a bang hey -pron- be n...   \n",
       "2  why ca not -pron- get drunk anymore -pron- hav...   \n",
       "3  -pron- be an alcoholic how do -pron- quit -pro...   \n",
       "4  funniest thing about alcoholism with every oth...   \n",
       "\n",
       "                                             vectors  label  \n",
       "0  [-0.026765203100000003, 0.2515704036, -0.15668...    0.0  \n",
       "1  [0.0102483444, 0.18354494870000002, -0.2263026...    0.0  \n",
       "2  [-0.09739924970000001, 0.1839587241, -0.227181...    0.0  \n",
       "3  [-0.0117096035, 0.1865714192, -0.2576603591, -...    0.0  \n",
       "4  [-0.0443742387, 0.1812106818, -0.1554362029000...    0.0  "
      ]
     },
     "execution_count": 71,
     "metadata": {},
     "output_type": "execute_result"
    }
   ],
   "source": [
    "## choose a small portion of samples including labeled data to test the model\n",
    "# combine labeled data and sampled unlabeled data for test\n",
    "\n",
    "sampled = unlabel.sample(n = 500, random_state = 2020)\n",
    "\n",
    "df = pd.concat([label, sampled])\n",
    "\n",
    "print(df.shape)\n",
    "df.head()"
   ]
  },
  {
   "cell_type": "code",
   "execution_count": 72,
   "metadata": {},
   "outputs": [
    {
     "data": {
      "text/plain": [
       "subreddit\n",
       "alcoholism       1432\n",
       "anxiety            83\n",
       "bipolarreddit     394\n",
       "depression        705\n",
       "healthanxiety      10\n",
       "lonely             39\n",
       "mentalhealth       54\n",
       "suicidewatch      612\n",
       "Name: subreddit, dtype: int64"
      ]
     },
     "execution_count": 72,
     "metadata": {},
     "output_type": "execute_result"
    }
   ],
   "source": [
    "# check the distribution of subreddits\n",
    "# labeled dataset contains 500 from suicide, 500 from depression, 1428 from alcoholism, 390 from bipolarreddit\n",
    "\n",
    "df.groupby('subreddit')['subreddit'].count()"
   ]
  },
  {
   "cell_type": "code",
   "execution_count": 73,
   "metadata": {},
   "outputs": [
    {
     "name": "stdout",
     "output_type": "stream",
     "text": [
      "label    0.449751\n",
      "dtype: float64\n",
      "label    0.650099\n",
      "dtype: float64\n",
      "label    0.249004\n",
      "dtype: float64\n",
      "\n",
      "0.17497348886532343\n"
     ]
    }
   ],
   "source": [
    "# most of the suicidal posts from labeled data came from suicide watch and depression - check\n",
    "\n",
    "print(label[(label['subreddit'] == 'suicidewatch') | (label['subreddit'] == 'depression')][['label']].mean())\n",
    "print(label[label['subreddit'] == 'suicidewatch'][['label']].mean())\n",
    "print(label[label['subreddit'] == 'depression'][['label']].mean())\n",
    "print()\n",
    "print(label['label'].mean())"
   ]
  },
  {
   "cell_type": "code",
   "execution_count": 74,
   "metadata": {},
   "outputs": [],
   "source": [
    "# set up X and y\n",
    "\n",
    "X = df['lemmatized']\n",
    "y = df['label']"
   ]
  },
  {
   "cell_type": "code",
   "execution_count": 75,
   "metadata": {},
   "outputs": [
    {
     "data": {
      "text/plain": [
       "3329"
      ]
     },
     "execution_count": 75,
     "metadata": {},
     "output_type": "execute_result"
    }
   ],
   "source": [
    "len(y)"
   ]
  },
  {
   "cell_type": "code",
   "execution_count": 76,
   "metadata": {},
   "outputs": [
    {
     "data": {
      "text/plain": [
       "array([ 0.,  1., -1.])"
      ]
     },
     "execution_count": 76,
     "metadata": {},
     "output_type": "execute_result"
    }
   ],
   "source": [
    "y.unique()"
   ]
  },
  {
   "cell_type": "code",
   "execution_count": 77,
   "metadata": {},
   "outputs": [],
   "source": [
    "# instantiate Tf-IDF\n",
    "\n",
    "tvec = TfidfVectorizer(stop_words = my_stop_words, max_df = .80, min_df = 10, max_features = 256, ngram_range = (1, 1))"
   ]
  },
  {
   "cell_type": "code",
   "execution_count": 78,
   "metadata": {},
   "outputs": [
    {
     "data": {
      "text/html": [
       "<div>\n",
       "<style scoped>\n",
       "    .dataframe tbody tr th:only-of-type {\n",
       "        vertical-align: middle;\n",
       "    }\n",
       "\n",
       "    .dataframe tbody tr th {\n",
       "        vertical-align: top;\n",
       "    }\n",
       "\n",
       "    .dataframe thead th {\n",
       "        text-align: right;\n",
       "    }\n",
       "</style>\n",
       "<table border=\"1\" class=\"dataframe\">\n",
       "  <thead>\n",
       "    <tr style=\"text-align: right;\">\n",
       "      <th></th>\n",
       "      <th>10</th>\n",
       "      <th>20</th>\n",
       "      <th>30</th>\n",
       "      <th>aa</th>\n",
       "      <th>able</th>\n",
       "      <th>abuse</th>\n",
       "      <th>act</th>\n",
       "      <th>actually</th>\n",
       "      <th>addiction</th>\n",
       "      <th>advice</th>\n",
       "      <th>...</th>\n",
       "      <th>wish</th>\n",
       "      <th>withdrawal</th>\n",
       "      <th>wonder</th>\n",
       "      <th>work</th>\n",
       "      <th>world</th>\n",
       "      <th>worried</th>\n",
       "      <th>worry</th>\n",
       "      <th>write</th>\n",
       "      <th>wrong</th>\n",
       "      <th>young</th>\n",
       "    </tr>\n",
       "  </thead>\n",
       "  <tbody>\n",
       "    <tr>\n",
       "      <th>0</th>\n",
       "      <td>0.0</td>\n",
       "      <td>0.0</td>\n",
       "      <td>0.0</td>\n",
       "      <td>0.000000</td>\n",
       "      <td>0.0</td>\n",
       "      <td>0.0</td>\n",
       "      <td>0.0</td>\n",
       "      <td>0.0</td>\n",
       "      <td>0.0</td>\n",
       "      <td>0.000000</td>\n",
       "      <td>...</td>\n",
       "      <td>0.0</td>\n",
       "      <td>0.0000</td>\n",
       "      <td>0.0</td>\n",
       "      <td>0.0</td>\n",
       "      <td>0.0</td>\n",
       "      <td>0.0</td>\n",
       "      <td>0.0</td>\n",
       "      <td>0.0</td>\n",
       "      <td>0.000000</td>\n",
       "      <td>0.0</td>\n",
       "    </tr>\n",
       "    <tr>\n",
       "      <th>1</th>\n",
       "      <td>0.0</td>\n",
       "      <td>0.0</td>\n",
       "      <td>0.0</td>\n",
       "      <td>0.000000</td>\n",
       "      <td>0.0</td>\n",
       "      <td>0.0</td>\n",
       "      <td>0.0</td>\n",
       "      <td>0.0</td>\n",
       "      <td>0.0</td>\n",
       "      <td>0.000000</td>\n",
       "      <td>...</td>\n",
       "      <td>0.0</td>\n",
       "      <td>0.0000</td>\n",
       "      <td>0.0</td>\n",
       "      <td>0.0</td>\n",
       "      <td>0.0</td>\n",
       "      <td>0.0</td>\n",
       "      <td>0.0</td>\n",
       "      <td>0.0</td>\n",
       "      <td>0.095629</td>\n",
       "      <td>0.0</td>\n",
       "    </tr>\n",
       "    <tr>\n",
       "      <th>2</th>\n",
       "      <td>0.0</td>\n",
       "      <td>0.0</td>\n",
       "      <td>0.0</td>\n",
       "      <td>0.000000</td>\n",
       "      <td>0.0</td>\n",
       "      <td>0.0</td>\n",
       "      <td>0.0</td>\n",
       "      <td>0.0</td>\n",
       "      <td>0.0</td>\n",
       "      <td>0.000000</td>\n",
       "      <td>...</td>\n",
       "      <td>0.0</td>\n",
       "      <td>0.0000</td>\n",
       "      <td>0.0</td>\n",
       "      <td>0.0</td>\n",
       "      <td>0.0</td>\n",
       "      <td>0.0</td>\n",
       "      <td>0.0</td>\n",
       "      <td>0.0</td>\n",
       "      <td>0.000000</td>\n",
       "      <td>0.0</td>\n",
       "    </tr>\n",
       "    <tr>\n",
       "      <th>3</th>\n",
       "      <td>0.0</td>\n",
       "      <td>0.0</td>\n",
       "      <td>0.0</td>\n",
       "      <td>0.278592</td>\n",
       "      <td>0.0</td>\n",
       "      <td>0.0</td>\n",
       "      <td>0.0</td>\n",
       "      <td>0.0</td>\n",
       "      <td>0.0</td>\n",
       "      <td>0.209062</td>\n",
       "      <td>...</td>\n",
       "      <td>0.0</td>\n",
       "      <td>0.2621</td>\n",
       "      <td>0.0</td>\n",
       "      <td>0.0</td>\n",
       "      <td>0.0</td>\n",
       "      <td>0.0</td>\n",
       "      <td>0.0</td>\n",
       "      <td>0.0</td>\n",
       "      <td>0.000000</td>\n",
       "      <td>0.0</td>\n",
       "    </tr>\n",
       "    <tr>\n",
       "      <th>4</th>\n",
       "      <td>0.0</td>\n",
       "      <td>0.0</td>\n",
       "      <td>0.0</td>\n",
       "      <td>0.000000</td>\n",
       "      <td>0.0</td>\n",
       "      <td>0.0</td>\n",
       "      <td>0.0</td>\n",
       "      <td>0.0</td>\n",
       "      <td>0.0</td>\n",
       "      <td>0.000000</td>\n",
       "      <td>...</td>\n",
       "      <td>0.0</td>\n",
       "      <td>0.0000</td>\n",
       "      <td>0.0</td>\n",
       "      <td>0.0</td>\n",
       "      <td>0.0</td>\n",
       "      <td>0.0</td>\n",
       "      <td>0.0</td>\n",
       "      <td>0.0</td>\n",
       "      <td>0.000000</td>\n",
       "      <td>0.0</td>\n",
       "    </tr>\n",
       "  </tbody>\n",
       "</table>\n",
       "<p>5 rows × 256 columns</p>\n",
       "</div>"
      ],
      "text/plain": [
       "    10   20   30        aa  able  abuse  act  actually  addiction    advice  \\\n",
       "0  0.0  0.0  0.0  0.000000   0.0    0.0  0.0       0.0        0.0  0.000000   \n",
       "1  0.0  0.0  0.0  0.000000   0.0    0.0  0.0       0.0        0.0  0.000000   \n",
       "2  0.0  0.0  0.0  0.000000   0.0    0.0  0.0       0.0        0.0  0.000000   \n",
       "3  0.0  0.0  0.0  0.278592   0.0    0.0  0.0       0.0        0.0  0.209062   \n",
       "4  0.0  0.0  0.0  0.000000   0.0    0.0  0.0       0.0        0.0  0.000000   \n",
       "\n",
       "   ...  wish  withdrawal  wonder  work  world  worried  worry  write  \\\n",
       "0  ...   0.0      0.0000     0.0   0.0    0.0      0.0    0.0    0.0   \n",
       "1  ...   0.0      0.0000     0.0   0.0    0.0      0.0    0.0    0.0   \n",
       "2  ...   0.0      0.0000     0.0   0.0    0.0      0.0    0.0    0.0   \n",
       "3  ...   0.0      0.2621     0.0   0.0    0.0      0.0    0.0    0.0   \n",
       "4  ...   0.0      0.0000     0.0   0.0    0.0      0.0    0.0    0.0   \n",
       "\n",
       "      wrong  young  \n",
       "0  0.000000    0.0  \n",
       "1  0.095629    0.0  \n",
       "2  0.000000    0.0  \n",
       "3  0.000000    0.0  \n",
       "4  0.000000    0.0  \n",
       "\n",
       "[5 rows x 256 columns]"
      ]
     },
     "execution_count": 78,
     "metadata": {},
     "output_type": "execute_result"
    }
   ],
   "source": [
    "# fit/transform X then save it to a dataframe\n",
    "\n",
    "t = pd.DataFrame(tvec.fit_transform(X).toarray(),\n",
    "                 columns = tvec.get_feature_names())\n",
    "t.head()"
   ]
  },
  {
   "cell_type": "code",
   "execution_count": 79,
   "metadata": {},
   "outputs": [],
   "source": [
    "# instantiate standard scaler and fit/transform\n",
    "\n",
    "sc = StandardScaler()\n",
    "t = sc.fit_transform(t)"
   ]
  },
  {
   "cell_type": "code",
   "execution_count": 80,
   "metadata": {},
   "outputs": [],
   "source": [
    "# instantiate LabelPropagation model, fit, and predict\n",
    "\n",
    "model = LabelSpreading()\n",
    "model.fit(t, y)\n",
    "pred = np.array(model.predict(t))"
   ]
  },
  {
   "cell_type": "code",
   "execution_count": 81,
   "metadata": {},
   "outputs": [
    {
     "name": "stdout",
     "output_type": "stream",
     "text": [
      "3329\n",
      "3329\n"
     ]
    }
   ],
   "source": [
    "# check the length of both label and prediction\n",
    "\n",
    "print(len(y))\n",
    "print(len(pred))"
   ]
  },
  {
   "cell_type": "code",
   "execution_count": 82,
   "metadata": {},
   "outputs": [],
   "source": [
    "# create a dataframe just with label and prediction\n",
    "\n",
    "d = {'label': y, 'pred': pred}\n",
    "\n",
    "p = pd.DataFrame(d)"
   ]
  },
  {
   "cell_type": "code",
   "execution_count": 83,
   "metadata": {},
   "outputs": [],
   "source": [
    "# create a separate dataframe to check the accuracy of the model with the labeled data\n",
    "\n",
    "cf = p[p['label'] != -1]"
   ]
  },
  {
   "cell_type": "code",
   "execution_count": 84,
   "metadata": {},
   "outputs": [],
   "source": [
    "# get the values from confusion matrix\n",
    "\n",
    "tn, fp, fn, tp = confusion_matrix(cf['label'], cf['pred'], normalize = 'true').ravel()"
   ]
  },
  {
   "cell_type": "code",
   "execution_count": 85,
   "metadata": {},
   "outputs": [
    {
     "name": "stdout",
     "output_type": "stream",
     "text": [
      "True Negative: 1.0\n",
      "False Positive: 0.0\n",
      "False Negative: 0.00404040404040404\n",
      "True Positive: 0.9959595959595959\n"
     ]
    }
   ],
   "source": [
    "# check the values from confusion matrix\n",
    "\n",
    "print(f'True Negative: {tn}')\n",
    "print(f'False Positive: {fp}')\n",
    "print(f'False Negative: {fn}')\n",
    "print(f'True Positive: {tp}')"
   ]
  },
  {
   "cell_type": "code",
   "execution_count": 86,
   "metadata": {},
   "outputs": [
    {
     "name": "stdout",
     "output_type": "stream",
     "text": [
      "              precision    recall  f1-score   support\n",
      "\n",
      "non-suicidal       1.00      1.00      1.00      2334\n",
      "    suicidal       1.00      1.00      1.00       495\n",
      "\n",
      "    accuracy                           1.00      2829\n",
      "   macro avg       1.00      1.00      1.00      2829\n",
      "weighted avg       1.00      1.00      1.00      2829\n",
      "\n"
     ]
    }
   ],
   "source": [
    "# classification report\n",
    "\n",
    "print(classification_report(cf['label'], cf['pred'], target_names = ['non-suicidal', 'suicidal']))"
   ]
  },
  {
   "cell_type": "code",
   "execution_count": 87,
   "metadata": {},
   "outputs": [
    {
     "data": {
      "text/plain": [
       "{0.0, 1.0}"
      ]
     },
     "execution_count": 87,
     "metadata": {},
     "output_type": "execute_result"
    }
   ],
   "source": [
    "# check pred for unlabeled to make sure it only contains 0 and 1\n",
    "\n",
    "cf_u = p[p['label'] == -1]\n",
    "\n",
    "set(cf_u['pred'])"
   ]
  },
  {
   "cell_type": "code",
   "execution_count": 88,
   "metadata": {},
   "outputs": [
    {
     "data": {
      "text/plain": [
       "20"
      ]
     },
     "execution_count": 88,
     "metadata": {},
     "output_type": "execute_result"
    }
   ],
   "source": [
    "# split dataframe into relatively same size\n",
    "\n",
    "n = 5000\n",
    "\n",
    "list_df = [unlabel[i: (i + n)] for i in range(0, unlabel.shape[0], n)]\n",
    "\n",
    "len(list_df)"
   ]
  },
  {
   "cell_type": "code",
   "execution_count": 90,
   "metadata": {},
   "outputs": [],
   "source": [
    "# create an empty list to store the predictions for unlabeled data\n",
    "\n",
    "y_pred = []\n",
    "\n",
    "# iterate through sectioned dataframe\n",
    "\n",
    "for i in range(len(list_df)):\n",
    "    \n",
    "    # combine the labeled data and unlabeled data\n",
    "    \n",
    "    df = pd.concat([label, list_df[i]])\n",
    "    \n",
    "    # set X and y\n",
    "    \n",
    "    X = df['lemmatized']\n",
    "    y = df['label']\n",
    "    \n",
    "    # vectorized values to a dataframe\n",
    "    \n",
    "    t = pd.DataFrame(tvec.fit_transform(X).toarray(), columns = tvec.get_feature_names())\n",
    "    \n",
    "    # instantiate standard scaler and fit/transform\n",
    "    \n",
    "    sc = StandardScaler()\n",
    "    t = sc.fit_transform(t)\n",
    "    \n",
    "    # instantiate the model\n",
    "    \n",
    "    model = LabelSpreading()\n",
    "    \n",
    "    # fit and predict\n",
    "    \n",
    "    model.fit(t, y)\n",
    "    pred = np.array(model.predict(t))\n",
    "    \n",
    "    # extract predicted values just for the unlabeled\n",
    "    \n",
    "    dct = {'label': y, 'pred': pred}\n",
    "    values = pd.DataFrame(dct)\n",
    "    non_scoring = values[values['label'] == -1]\n",
    "\n",
    "    # extend the prediction to the list\n",
    "    \n",
    "    y_pred.extend(non_scoring['pred'])"
   ]
  },
  {
   "cell_type": "code",
   "execution_count": 91,
   "metadata": {},
   "outputs": [],
   "source": [
    "# create a column to store prediction\n",
    "\n",
    "unlabel['pred'] = y_pred"
   ]
  },
  {
   "cell_type": "code",
   "execution_count": 92,
   "metadata": {},
   "outputs": [
    {
     "data": {
      "text/plain": [
       "subreddit           0\n",
       "author              0\n",
       "date                0\n",
       "post                0\n",
       "covid_related       0\n",
       "suicidal            0\n",
       "alc_abuse           0\n",
       "loneliness          0\n",
       "stress              0\n",
       "n_words             0\n",
       "n_sentences         0\n",
       "lemmatized          0\n",
       "vectors             0\n",
       "label               0\n",
       "pred             2829\n",
       "dtype: int64"
      ]
     },
     "execution_count": 92,
     "metadata": {},
     "output_type": "execute_result"
    }
   ],
   "source": [
    "# check the null values - 'pred' column should have 2829 rows of null\n",
    "\n",
    "pd.concat([label, unlabel]).isnull().sum()"
   ]
  },
  {
   "cell_type": "code",
   "execution_count": 93,
   "metadata": {},
   "outputs": [],
   "source": [
    "# combine labeled and unlabeled dataframes\n",
    "\n",
    "df = pd.concat([label, unlabel])"
   ]
  },
  {
   "cell_type": "code",
   "execution_count": 94,
   "metadata": {},
   "outputs": [],
   "source": [
    "# fill null values in pred with label values\n",
    "\n",
    "df['pred'].fillna(df['label'], inplace = True)"
   ]
  },
  {
   "cell_type": "code",
   "execution_count": 95,
   "metadata": {},
   "outputs": [
    {
     "data": {
      "text/plain": [
       "subreddit        0\n",
       "author           0\n",
       "date             0\n",
       "post             0\n",
       "covid_related    0\n",
       "suicidal         0\n",
       "alc_abuse        0\n",
       "loneliness       0\n",
       "stress           0\n",
       "n_words          0\n",
       "n_sentences      0\n",
       "lemmatized       0\n",
       "vectors          0\n",
       "label            0\n",
       "pred             0\n",
       "dtype: int64"
      ]
     },
     "execution_count": 95,
     "metadata": {},
     "output_type": "execute_result"
    }
   ],
   "source": [
    "# check for null\n",
    "\n",
    "df.isnull().sum()"
   ]
  },
  {
   "cell_type": "code",
   "execution_count": 96,
   "metadata": {},
   "outputs": [
    {
     "data": {
      "text/html": [
       "<div>\n",
       "<style scoped>\n",
       "    .dataframe tbody tr th:only-of-type {\n",
       "        vertical-align: middle;\n",
       "    }\n",
       "\n",
       "    .dataframe tbody tr th {\n",
       "        vertical-align: top;\n",
       "    }\n",
       "\n",
       "    .dataframe thead th {\n",
       "        text-align: right;\n",
       "    }\n",
       "</style>\n",
       "<table border=\"1\" class=\"dataframe\">\n",
       "  <thead>\n",
       "    <tr style=\"text-align: right;\">\n",
       "      <th></th>\n",
       "      <th>subreddit</th>\n",
       "      <th>author</th>\n",
       "      <th>date</th>\n",
       "      <th>post</th>\n",
       "      <th>covid_related</th>\n",
       "      <th>suicidal</th>\n",
       "      <th>alc_abuse</th>\n",
       "      <th>loneliness</th>\n",
       "      <th>stress</th>\n",
       "      <th>n_words</th>\n",
       "      <th>n_sentences</th>\n",
       "      <th>lemmatized</th>\n",
       "      <th>vectors</th>\n",
       "      <th>pred</th>\n",
       "    </tr>\n",
       "  </thead>\n",
       "  <tbody>\n",
       "    <tr>\n",
       "      <th>0</th>\n",
       "      <td>alcoholism</td>\n",
       "      <td>glorybellpirate</td>\n",
       "      <td>2020-01-01</td>\n",
       "      <td>Day 1 of sobriety Feeling anxious and letting ...</td>\n",
       "      <td>0</td>\n",
       "      <td>0</td>\n",
       "      <td>1</td>\n",
       "      <td>0</td>\n",
       "      <td>0</td>\n",
       "      <td>24</td>\n",
       "      <td>3</td>\n",
       "      <td>day 1 of sobriety feel anxious and let the fee...</td>\n",
       "      <td>[-0.026765203100000003, 0.2515704036, -0.15668...</td>\n",
       "      <td>0.0</td>\n",
       "    </tr>\n",
       "    <tr>\n",
       "      <th>1</th>\n",
       "      <td>alcoholism</td>\n",
       "      <td>EhndlessSl0th</td>\n",
       "      <td>2020-01-01</td>\n",
       "      <td>Started the New Year with a bang. Hey, I'm new...</td>\n",
       "      <td>0</td>\n",
       "      <td>1</td>\n",
       "      <td>1</td>\n",
       "      <td>0</td>\n",
       "      <td>1</td>\n",
       "      <td>577</td>\n",
       "      <td>41</td>\n",
       "      <td>start the new year with a bang hey -pron- be n...</td>\n",
       "      <td>[0.0102483444, 0.18354494870000002, -0.2263026...</td>\n",
       "      <td>0.0</td>\n",
       "    </tr>\n",
       "    <tr>\n",
       "      <th>2</th>\n",
       "      <td>alcoholism</td>\n",
       "      <td>the_kinky_penguin</td>\n",
       "      <td>2020-01-01</td>\n",
       "      <td>Why can't I get drunk anymore I've been a heav...</td>\n",
       "      <td>0</td>\n",
       "      <td>0</td>\n",
       "      <td>1</td>\n",
       "      <td>0</td>\n",
       "      <td>0</td>\n",
       "      <td>64</td>\n",
       "      <td>5</td>\n",
       "      <td>why ca not -pron- get drunk anymore -pron- hav...</td>\n",
       "      <td>[-0.09739924970000001, 0.1839587241, -0.227181...</td>\n",
       "      <td>0.0</td>\n",
       "    </tr>\n",
       "    <tr>\n",
       "      <th>3</th>\n",
       "      <td>alcoholism</td>\n",
       "      <td>SauceoffSauceOn</td>\n",
       "      <td>2020-01-01</td>\n",
       "      <td>I am an Alcoholic. How do I quit? I have been ...</td>\n",
       "      <td>0</td>\n",
       "      <td>0</td>\n",
       "      <td>1</td>\n",
       "      <td>0</td>\n",
       "      <td>1</td>\n",
       "      <td>111</td>\n",
       "      <td>14</td>\n",
       "      <td>-pron- be an alcoholic how do -pron- quit -pro...</td>\n",
       "      <td>[-0.0117096035, 0.1865714192, -0.2576603591, -...</td>\n",
       "      <td>0.0</td>\n",
       "    </tr>\n",
       "    <tr>\n",
       "      <th>4</th>\n",
       "      <td>alcoholism</td>\n",
       "      <td>ben42187</td>\n",
       "      <td>2020-01-01</td>\n",
       "      <td>Funniest Thing about Alcoholism With every oth...</td>\n",
       "      <td>0</td>\n",
       "      <td>0</td>\n",
       "      <td>1</td>\n",
       "      <td>0</td>\n",
       "      <td>0</td>\n",
       "      <td>136</td>\n",
       "      <td>0</td>\n",
       "      <td>funniest thing about alcoholism with every oth...</td>\n",
       "      <td>[-0.0443742387, 0.1812106818, -0.1554362029000...</td>\n",
       "      <td>0.0</td>\n",
       "    </tr>\n",
       "  </tbody>\n",
       "</table>\n",
       "</div>"
      ],
      "text/plain": [
       "    subreddit             author       date  \\\n",
       "0  alcoholism    glorybellpirate 2020-01-01   \n",
       "1  alcoholism      EhndlessSl0th 2020-01-01   \n",
       "2  alcoholism  the_kinky_penguin 2020-01-01   \n",
       "3  alcoholism    SauceoffSauceOn 2020-01-01   \n",
       "4  alcoholism           ben42187 2020-01-01   \n",
       "\n",
       "                                                post  covid_related  suicidal  \\\n",
       "0  Day 1 of sobriety Feeling anxious and letting ...              0         0   \n",
       "1  Started the New Year with a bang. Hey, I'm new...              0         1   \n",
       "2  Why can't I get drunk anymore I've been a heav...              0         0   \n",
       "3  I am an Alcoholic. How do I quit? I have been ...              0         0   \n",
       "4  Funniest Thing about Alcoholism With every oth...              0         0   \n",
       "\n",
       "   alc_abuse  loneliness  stress  n_words  n_sentences  \\\n",
       "0          1           0       0       24            3   \n",
       "1          1           0       1      577           41   \n",
       "2          1           0       0       64            5   \n",
       "3          1           0       1      111           14   \n",
       "4          1           0       0      136            0   \n",
       "\n",
       "                                          lemmatized  \\\n",
       "0  day 1 of sobriety feel anxious and let the fee...   \n",
       "1  start the new year with a bang hey -pron- be n...   \n",
       "2  why ca not -pron- get drunk anymore -pron- hav...   \n",
       "3  -pron- be an alcoholic how do -pron- quit -pro...   \n",
       "4  funniest thing about alcoholism with every oth...   \n",
       "\n",
       "                                             vectors  pred  \n",
       "0  [-0.026765203100000003, 0.2515704036, -0.15668...   0.0  \n",
       "1  [0.0102483444, 0.18354494870000002, -0.2263026...   0.0  \n",
       "2  [-0.09739924970000001, 0.1839587241, -0.227181...   0.0  \n",
       "3  [-0.0117096035, 0.1865714192, -0.2576603591, -...   0.0  \n",
       "4  [-0.0443742387, 0.1812106818, -0.1554362029000...   0.0  "
      ]
     },
     "execution_count": 96,
     "metadata": {},
     "output_type": "execute_result"
    }
   ],
   "source": [
    "# drop label column\n",
    "\n",
    "df.drop(columns = ['label'], axis = 1, inplace = True)\n",
    "\n",
    "df.head()"
   ]
  },
  {
   "cell_type": "code",
   "execution_count": 97,
   "metadata": {},
   "outputs": [],
   "source": [
    "# rename column pred as label\n",
    "\n",
    "df.rename(columns = {'pred': 'label'}, inplace = True)"
   ]
  },
  {
   "cell_type": "code",
   "execution_count": 98,
   "metadata": {},
   "outputs": [
    {
     "data": {
      "text/html": [
       "<div>\n",
       "<style scoped>\n",
       "    .dataframe tbody tr th:only-of-type {\n",
       "        vertical-align: middle;\n",
       "    }\n",
       "\n",
       "    .dataframe tbody tr th {\n",
       "        vertical-align: top;\n",
       "    }\n",
       "\n",
       "    .dataframe thead th {\n",
       "        text-align: right;\n",
       "    }\n",
       "</style>\n",
       "<table border=\"1\" class=\"dataframe\">\n",
       "  <thead>\n",
       "    <tr style=\"text-align: right;\">\n",
       "      <th></th>\n",
       "      <th>subreddit</th>\n",
       "      <th>author</th>\n",
       "      <th>date</th>\n",
       "      <th>post</th>\n",
       "      <th>covid_related</th>\n",
       "      <th>suicidal</th>\n",
       "      <th>alc_abuse</th>\n",
       "      <th>loneliness</th>\n",
       "      <th>stress</th>\n",
       "      <th>n_words</th>\n",
       "      <th>n_sentences</th>\n",
       "      <th>lemmatized</th>\n",
       "      <th>vectors</th>\n",
       "      <th>label</th>\n",
       "    </tr>\n",
       "  </thead>\n",
       "  <tbody>\n",
       "    <tr>\n",
       "      <th>0</th>\n",
       "      <td>alcoholism</td>\n",
       "      <td>glorybellpirate</td>\n",
       "      <td>2020-01-01</td>\n",
       "      <td>Day 1 of sobriety Feeling anxious and letting ...</td>\n",
       "      <td>0</td>\n",
       "      <td>0</td>\n",
       "      <td>1</td>\n",
       "      <td>0</td>\n",
       "      <td>0</td>\n",
       "      <td>24</td>\n",
       "      <td>3</td>\n",
       "      <td>day 1 of sobriety feel anxious and let the fee...</td>\n",
       "      <td>[-0.026765203100000003, 0.2515704036, -0.15668...</td>\n",
       "      <td>0.0</td>\n",
       "    </tr>\n",
       "    <tr>\n",
       "      <th>1</th>\n",
       "      <td>alcoholism</td>\n",
       "      <td>EhndlessSl0th</td>\n",
       "      <td>2020-01-01</td>\n",
       "      <td>Started the New Year with a bang. Hey, I'm new...</td>\n",
       "      <td>0</td>\n",
       "      <td>1</td>\n",
       "      <td>1</td>\n",
       "      <td>0</td>\n",
       "      <td>1</td>\n",
       "      <td>577</td>\n",
       "      <td>41</td>\n",
       "      <td>start the new year with a bang hey -pron- be n...</td>\n",
       "      <td>[0.0102483444, 0.18354494870000002, -0.2263026...</td>\n",
       "      <td>0.0</td>\n",
       "    </tr>\n",
       "    <tr>\n",
       "      <th>2</th>\n",
       "      <td>alcoholism</td>\n",
       "      <td>the_kinky_penguin</td>\n",
       "      <td>2020-01-01</td>\n",
       "      <td>Why can't I get drunk anymore I've been a heav...</td>\n",
       "      <td>0</td>\n",
       "      <td>0</td>\n",
       "      <td>1</td>\n",
       "      <td>0</td>\n",
       "      <td>0</td>\n",
       "      <td>64</td>\n",
       "      <td>5</td>\n",
       "      <td>why ca not -pron- get drunk anymore -pron- hav...</td>\n",
       "      <td>[-0.09739924970000001, 0.1839587241, -0.227181...</td>\n",
       "      <td>0.0</td>\n",
       "    </tr>\n",
       "  </tbody>\n",
       "</table>\n",
       "</div>"
      ],
      "text/plain": [
       "    subreddit             author       date  \\\n",
       "0  alcoholism    glorybellpirate 2020-01-01   \n",
       "1  alcoholism      EhndlessSl0th 2020-01-01   \n",
       "2  alcoholism  the_kinky_penguin 2020-01-01   \n",
       "\n",
       "                                                post  covid_related  suicidal  \\\n",
       "0  Day 1 of sobriety Feeling anxious and letting ...              0         0   \n",
       "1  Started the New Year with a bang. Hey, I'm new...              0         1   \n",
       "2  Why can't I get drunk anymore I've been a heav...              0         0   \n",
       "\n",
       "   alc_abuse  loneliness  stress  n_words  n_sentences  \\\n",
       "0          1           0       0       24            3   \n",
       "1          1           0       1      577           41   \n",
       "2          1           0       0       64            5   \n",
       "\n",
       "                                          lemmatized  \\\n",
       "0  day 1 of sobriety feel anxious and let the fee...   \n",
       "1  start the new year with a bang hey -pron- be n...   \n",
       "2  why ca not -pron- get drunk anymore -pron- hav...   \n",
       "\n",
       "                                             vectors  label  \n",
       "0  [-0.026765203100000003, 0.2515704036, -0.15668...    0.0  \n",
       "1  [0.0102483444, 0.18354494870000002, -0.2263026...    0.0  \n",
       "2  [-0.09739924970000001, 0.1839587241, -0.227181...    0.0  "
      ]
     },
     "execution_count": 98,
     "metadata": {},
     "output_type": "execute_result"
    }
   ],
   "source": [
    "# check\n",
    "\n",
    "df.head(3)"
   ]
  },
  {
   "cell_type": "code",
   "execution_count": 99,
   "metadata": {},
   "outputs": [],
   "source": [
    "# change label column to int\n",
    "\n",
    "df['label'] = df['label'].astype(int)"
   ]
  },
  {
   "cell_type": "code",
   "execution_count": 100,
   "metadata": {},
   "outputs": [
    {
     "data": {
      "text/plain": [
       "0.006438840812646393"
      ]
     },
     "execution_count": 100,
     "metadata": {},
     "output_type": "execute_result"
    }
   ],
   "source": [
    "# check the label\n",
    "\n",
    "df['label'].mean()"
   ]
  },
  {
   "cell_type": "code",
   "execution_count": 101,
   "metadata": {},
   "outputs": [
    {
     "data": {
      "text/html": [
       "<div>\n",
       "<style scoped>\n",
       "    .dataframe tbody tr th:only-of-type {\n",
       "        vertical-align: middle;\n",
       "    }\n",
       "\n",
       "    .dataframe tbody tr th {\n",
       "        vertical-align: top;\n",
       "    }\n",
       "\n",
       "    .dataframe thead th {\n",
       "        text-align: right;\n",
       "    }\n",
       "</style>\n",
       "<table border=\"1\" class=\"dataframe\">\n",
       "  <thead>\n",
       "    <tr style=\"text-align: right;\">\n",
       "      <th></th>\n",
       "      <th>label</th>\n",
       "    </tr>\n",
       "    <tr>\n",
       "      <th>subreddit</th>\n",
       "      <th></th>\n",
       "    </tr>\n",
       "  </thead>\n",
       "  <tbody>\n",
       "    <tr>\n",
       "      <th>alcoholism</th>\n",
       "      <td>0.006285</td>\n",
       "    </tr>\n",
       "    <tr>\n",
       "      <th>anxiety</th>\n",
       "      <td>0.000189</td>\n",
       "    </tr>\n",
       "    <tr>\n",
       "      <th>bipolarreddit</th>\n",
       "      <td>0.024123</td>\n",
       "    </tr>\n",
       "    <tr>\n",
       "      <th>depression</th>\n",
       "      <td>0.005101</td>\n",
       "    </tr>\n",
       "    <tr>\n",
       "      <th>healthanxiety</th>\n",
       "      <td>0.000000</td>\n",
       "    </tr>\n",
       "    <tr>\n",
       "      <th>lonely</th>\n",
       "      <td>0.001257</td>\n",
       "    </tr>\n",
       "    <tr>\n",
       "      <th>mentalhealth</th>\n",
       "      <td>0.000740</td>\n",
       "    </tr>\n",
       "    <tr>\n",
       "      <th>suicidewatch</th>\n",
       "      <td>0.018588</td>\n",
       "    </tr>\n",
       "  </tbody>\n",
       "</table>\n",
       "</div>"
      ],
      "text/plain": [
       "                  label\n",
       "subreddit              \n",
       "alcoholism     0.006285\n",
       "anxiety        0.000189\n",
       "bipolarreddit  0.024123\n",
       "depression     0.005101\n",
       "healthanxiety  0.000000\n",
       "lonely         0.001257\n",
       "mentalhealth   0.000740\n",
       "suicidewatch   0.018588"
      ]
     },
     "execution_count": 101,
     "metadata": {},
     "output_type": "execute_result"
    }
   ],
   "source": [
    "# check each subreddit how they are labeled\n",
    "\n",
    "df.groupby('subreddit')[['label']].mean()"
   ]
  },
  {
   "cell_type": "markdown",
   "metadata": {},
   "source": [
    "### TF-IDF Vectorizer with Parameters:\n",
    "#### max_features = 256, max_df = 0.8, min_df = 10, ngram_range = (2, 2)"
   ]
  },
  {
   "cell_type": "code",
   "execution_count": 102,
   "metadata": {},
   "outputs": [],
   "source": [
    "# read in the dataset\n",
    "\n",
    "df = pd.read_json('../data/cleaned/json.json')\n",
    "\n",
    "rv1 = pd.read_csv('../data/cleaned/review1.csv')\n",
    "rv2 = pd.read_csv('../data/cleaned/review2.csv')"
   ]
  },
  {
   "cell_type": "code",
   "execution_count": 103,
   "metadata": {},
   "outputs": [
    {
     "data": {
      "text/html": [
       "<div>\n",
       "<style scoped>\n",
       "    .dataframe tbody tr th:only-of-type {\n",
       "        vertical-align: middle;\n",
       "    }\n",
       "\n",
       "    .dataframe tbody tr th {\n",
       "        vertical-align: top;\n",
       "    }\n",
       "\n",
       "    .dataframe thead th {\n",
       "        text-align: right;\n",
       "    }\n",
       "</style>\n",
       "<table border=\"1\" class=\"dataframe\">\n",
       "  <thead>\n",
       "    <tr style=\"text-align: right;\">\n",
       "      <th></th>\n",
       "      <th>post</th>\n",
       "      <th>label</th>\n",
       "    </tr>\n",
       "    <tr>\n",
       "      <th>id</th>\n",
       "      <th></th>\n",
       "      <th></th>\n",
       "    </tr>\n",
       "  </thead>\n",
       "  <tbody>\n",
       "    <tr>\n",
       "      <th>1428</th>\n",
       "      <td>How do you guys feel less dead inside? I've go...</td>\n",
       "      <td>1</td>\n",
       "    </tr>\n",
       "    <tr>\n",
       "      <th>1429</th>\n",
       "      <td>i want to get help but i don’t know how my par...</td>\n",
       "      <td>1</td>\n",
       "    </tr>\n",
       "    <tr>\n",
       "      <th>1430</th>\n",
       "      <td>I can’t stop myself from loving this fictional...</td>\n",
       "      <td>0</td>\n",
       "    </tr>\n",
       "  </tbody>\n",
       "</table>\n",
       "</div>"
      ],
      "text/plain": [
       "                                                   post  label\n",
       "id                                                            \n",
       "1428  How do you guys feel less dead inside? I've go...      1\n",
       "1429  i want to get help but i don’t know how my par...      1\n",
       "1430  I can’t stop myself from loving this fictional...      0"
      ]
     },
     "execution_count": 103,
     "metadata": {},
     "output_type": "execute_result"
    }
   ],
   "source": [
    "# combine the reviewed dataset\n",
    "\n",
    "label = pd.concat([rv1, rv2])\n",
    "\n",
    "# set the index\n",
    "\n",
    "label.set_index('id', inplace = True)\n",
    "\n",
    "label.head(3)"
   ]
  },
  {
   "cell_type": "code",
   "execution_count": 104,
   "metadata": {},
   "outputs": [],
   "source": [
    "# merge the labeled data to main dataframe\n",
    "\n",
    "df = pd.merge(df, label, how = 'left', on = 'post')"
   ]
  },
  {
   "cell_type": "code",
   "execution_count": 105,
   "metadata": {},
   "outputs": [
    {
     "data": {
      "text/plain": [
       "subreddit            0\n",
       "author               0\n",
       "date                 0\n",
       "post                 0\n",
       "covid_related        0\n",
       "suicidal             0\n",
       "alc_abuse            0\n",
       "loneliness           0\n",
       "stress               0\n",
       "n_words              0\n",
       "n_sentences          0\n",
       "lemmatized           0\n",
       "vectors              0\n",
       "label            99208\n",
       "dtype: int64"
      ]
     },
     "execution_count": 105,
     "metadata": {},
     "output_type": "execute_result"
    }
   ],
   "source": [
    "# check for nulls\n",
    "\n",
    "df.isnull().sum()"
   ]
  },
  {
   "cell_type": "code",
   "execution_count": 106,
   "metadata": {},
   "outputs": [],
   "source": [
    "# fill null values with 99 for easy distinction\n",
    "\n",
    "df.fillna(-1, inplace = True)"
   ]
  },
  {
   "cell_type": "code",
   "execution_count": 107,
   "metadata": {},
   "outputs": [
    {
     "data": {
      "text/plain": [
       "subreddit        0\n",
       "author           0\n",
       "date             0\n",
       "post             0\n",
       "covid_related    0\n",
       "suicidal         0\n",
       "alc_abuse        0\n",
       "loneliness       0\n",
       "stress           0\n",
       "n_words          0\n",
       "n_sentences      0\n",
       "lemmatized       0\n",
       "vectors          0\n",
       "label            0\n",
       "dtype: int64"
      ]
     },
     "execution_count": 107,
     "metadata": {},
     "output_type": "execute_result"
    }
   ],
   "source": [
    "df.isnull().sum()"
   ]
  },
  {
   "cell_type": "code",
   "execution_count": 108,
   "metadata": {},
   "outputs": [],
   "source": [
    "df.replace({9: 0}, inplace = True)"
   ]
  },
  {
   "cell_type": "code",
   "execution_count": 109,
   "metadata": {},
   "outputs": [],
   "source": [
    "# divide the datasets to labeled and not labeled\n",
    "\n",
    "unlabel = df[df['label'] == -1]\n",
    "label = df[df['label'] != -1]"
   ]
  },
  {
   "cell_type": "code",
   "execution_count": 110,
   "metadata": {},
   "outputs": [
    {
     "name": "stdout",
     "output_type": "stream",
     "text": [
      "(3329, 14)\n"
     ]
    },
    {
     "data": {
      "text/html": [
       "<div>\n",
       "<style scoped>\n",
       "    .dataframe tbody tr th:only-of-type {\n",
       "        vertical-align: middle;\n",
       "    }\n",
       "\n",
       "    .dataframe tbody tr th {\n",
       "        vertical-align: top;\n",
       "    }\n",
       "\n",
       "    .dataframe thead th {\n",
       "        text-align: right;\n",
       "    }\n",
       "</style>\n",
       "<table border=\"1\" class=\"dataframe\">\n",
       "  <thead>\n",
       "    <tr style=\"text-align: right;\">\n",
       "      <th></th>\n",
       "      <th>subreddit</th>\n",
       "      <th>author</th>\n",
       "      <th>date</th>\n",
       "      <th>post</th>\n",
       "      <th>covid_related</th>\n",
       "      <th>suicidal</th>\n",
       "      <th>alc_abuse</th>\n",
       "      <th>loneliness</th>\n",
       "      <th>stress</th>\n",
       "      <th>n_words</th>\n",
       "      <th>n_sentences</th>\n",
       "      <th>lemmatized</th>\n",
       "      <th>vectors</th>\n",
       "      <th>label</th>\n",
       "    </tr>\n",
       "  </thead>\n",
       "  <tbody>\n",
       "    <tr>\n",
       "      <th>0</th>\n",
       "      <td>alcoholism</td>\n",
       "      <td>glorybellpirate</td>\n",
       "      <td>2020-01-01</td>\n",
       "      <td>Day 1 of sobriety Feeling anxious and letting ...</td>\n",
       "      <td>0</td>\n",
       "      <td>0</td>\n",
       "      <td>1</td>\n",
       "      <td>0</td>\n",
       "      <td>0</td>\n",
       "      <td>24</td>\n",
       "      <td>3</td>\n",
       "      <td>day 1 of sobriety feel anxious and let the fee...</td>\n",
       "      <td>[-0.026765203100000003, 0.2515704036, -0.15668...</td>\n",
       "      <td>0.0</td>\n",
       "    </tr>\n",
       "    <tr>\n",
       "      <th>1</th>\n",
       "      <td>alcoholism</td>\n",
       "      <td>EhndlessSl0th</td>\n",
       "      <td>2020-01-01</td>\n",
       "      <td>Started the New Year with a bang. Hey, I'm new...</td>\n",
       "      <td>0</td>\n",
       "      <td>1</td>\n",
       "      <td>1</td>\n",
       "      <td>0</td>\n",
       "      <td>1</td>\n",
       "      <td>577</td>\n",
       "      <td>41</td>\n",
       "      <td>start the new year with a bang hey -pron- be n...</td>\n",
       "      <td>[0.0102483444, 0.18354494870000002, -0.2263026...</td>\n",
       "      <td>0.0</td>\n",
       "    </tr>\n",
       "    <tr>\n",
       "      <th>2</th>\n",
       "      <td>alcoholism</td>\n",
       "      <td>the_kinky_penguin</td>\n",
       "      <td>2020-01-01</td>\n",
       "      <td>Why can't I get drunk anymore I've been a heav...</td>\n",
       "      <td>0</td>\n",
       "      <td>0</td>\n",
       "      <td>1</td>\n",
       "      <td>0</td>\n",
       "      <td>0</td>\n",
       "      <td>64</td>\n",
       "      <td>5</td>\n",
       "      <td>why ca not -pron- get drunk anymore -pron- hav...</td>\n",
       "      <td>[-0.09739924970000001, 0.1839587241, -0.227181...</td>\n",
       "      <td>0.0</td>\n",
       "    </tr>\n",
       "    <tr>\n",
       "      <th>3</th>\n",
       "      <td>alcoholism</td>\n",
       "      <td>SauceoffSauceOn</td>\n",
       "      <td>2020-01-01</td>\n",
       "      <td>I am an Alcoholic. How do I quit? I have been ...</td>\n",
       "      <td>0</td>\n",
       "      <td>0</td>\n",
       "      <td>1</td>\n",
       "      <td>0</td>\n",
       "      <td>1</td>\n",
       "      <td>111</td>\n",
       "      <td>14</td>\n",
       "      <td>-pron- be an alcoholic how do -pron- quit -pro...</td>\n",
       "      <td>[-0.0117096035, 0.1865714192, -0.2576603591, -...</td>\n",
       "      <td>0.0</td>\n",
       "    </tr>\n",
       "    <tr>\n",
       "      <th>4</th>\n",
       "      <td>alcoholism</td>\n",
       "      <td>ben42187</td>\n",
       "      <td>2020-01-01</td>\n",
       "      <td>Funniest Thing about Alcoholism With every oth...</td>\n",
       "      <td>0</td>\n",
       "      <td>0</td>\n",
       "      <td>1</td>\n",
       "      <td>0</td>\n",
       "      <td>0</td>\n",
       "      <td>136</td>\n",
       "      <td>0</td>\n",
       "      <td>funniest thing about alcoholism with every oth...</td>\n",
       "      <td>[-0.0443742387, 0.1812106818, -0.1554362029000...</td>\n",
       "      <td>0.0</td>\n",
       "    </tr>\n",
       "  </tbody>\n",
       "</table>\n",
       "</div>"
      ],
      "text/plain": [
       "    subreddit             author       date  \\\n",
       "0  alcoholism    glorybellpirate 2020-01-01   \n",
       "1  alcoholism      EhndlessSl0th 2020-01-01   \n",
       "2  alcoholism  the_kinky_penguin 2020-01-01   \n",
       "3  alcoholism    SauceoffSauceOn 2020-01-01   \n",
       "4  alcoholism           ben42187 2020-01-01   \n",
       "\n",
       "                                                post  covid_related  suicidal  \\\n",
       "0  Day 1 of sobriety Feeling anxious and letting ...              0         0   \n",
       "1  Started the New Year with a bang. Hey, I'm new...              0         1   \n",
       "2  Why can't I get drunk anymore I've been a heav...              0         0   \n",
       "3  I am an Alcoholic. How do I quit? I have been ...              0         0   \n",
       "4  Funniest Thing about Alcoholism With every oth...              0         0   \n",
       "\n",
       "   alc_abuse  loneliness  stress  n_words  n_sentences  \\\n",
       "0          1           0       0       24            3   \n",
       "1          1           0       1      577           41   \n",
       "2          1           0       0       64            5   \n",
       "3          1           0       1      111           14   \n",
       "4          1           0       0      136            0   \n",
       "\n",
       "                                          lemmatized  \\\n",
       "0  day 1 of sobriety feel anxious and let the fee...   \n",
       "1  start the new year with a bang hey -pron- be n...   \n",
       "2  why ca not -pron- get drunk anymore -pron- hav...   \n",
       "3  -pron- be an alcoholic how do -pron- quit -pro...   \n",
       "4  funniest thing about alcoholism with every oth...   \n",
       "\n",
       "                                             vectors  label  \n",
       "0  [-0.026765203100000003, 0.2515704036, -0.15668...    0.0  \n",
       "1  [0.0102483444, 0.18354494870000002, -0.2263026...    0.0  \n",
       "2  [-0.09739924970000001, 0.1839587241, -0.227181...    0.0  \n",
       "3  [-0.0117096035, 0.1865714192, -0.2576603591, -...    0.0  \n",
       "4  [-0.0443742387, 0.1812106818, -0.1554362029000...    0.0  "
      ]
     },
     "execution_count": 110,
     "metadata": {},
     "output_type": "execute_result"
    }
   ],
   "source": [
    "## choose a small portion of samples including labeled data to test the model\n",
    "# combine labeled data and sampled unlabeled data for test\n",
    "\n",
    "sampled = unlabel.sample(n = 500, random_state = 2020)\n",
    "\n",
    "df = pd.concat([label, sampled])\n",
    "\n",
    "print(df.shape)\n",
    "df.head()"
   ]
  },
  {
   "cell_type": "code",
   "execution_count": 111,
   "metadata": {},
   "outputs": [
    {
     "data": {
      "text/plain": [
       "subreddit\n",
       "alcoholism       1432\n",
       "anxiety            83\n",
       "bipolarreddit     394\n",
       "depression        705\n",
       "healthanxiety      10\n",
       "lonely             39\n",
       "mentalhealth       54\n",
       "suicidewatch      612\n",
       "Name: subreddit, dtype: int64"
      ]
     },
     "execution_count": 111,
     "metadata": {},
     "output_type": "execute_result"
    }
   ],
   "source": [
    "# check the distribution of subreddits\n",
    "# labeled dataset contains 500 from suicide, 500 from depression, 1428 from alcoholism, 390 from bipolarreddit\n",
    "\n",
    "df.groupby('subreddit')['subreddit'].count()"
   ]
  },
  {
   "cell_type": "code",
   "execution_count": 112,
   "metadata": {},
   "outputs": [
    {
     "name": "stdout",
     "output_type": "stream",
     "text": [
      "label    0.449751\n",
      "dtype: float64\n",
      "label    0.650099\n",
      "dtype: float64\n",
      "label    0.249004\n",
      "dtype: float64\n",
      "\n",
      "0.17497348886532343\n"
     ]
    }
   ],
   "source": [
    "# most of the suicidal posts from labeled data came from suicide watch and depression - check\n",
    "\n",
    "print(label[(label['subreddit'] == 'suicidewatch') | (label['subreddit'] == 'depression')][['label']].mean())\n",
    "print(label[label['subreddit'] == 'suicidewatch'][['label']].mean())\n",
    "print(label[label['subreddit'] == 'depression'][['label']].mean())\n",
    "print()\n",
    "print(label['label'].mean())"
   ]
  },
  {
   "cell_type": "code",
   "execution_count": 113,
   "metadata": {},
   "outputs": [],
   "source": [
    "# set up X and y\n",
    "\n",
    "X = df['lemmatized']\n",
    "y = df['label']"
   ]
  },
  {
   "cell_type": "code",
   "execution_count": 114,
   "metadata": {},
   "outputs": [
    {
     "data": {
      "text/plain": [
       "3329"
      ]
     },
     "execution_count": 114,
     "metadata": {},
     "output_type": "execute_result"
    }
   ],
   "source": [
    "len(y)"
   ]
  },
  {
   "cell_type": "code",
   "execution_count": 115,
   "metadata": {},
   "outputs": [
    {
     "data": {
      "text/plain": [
       "array([ 0.,  1., -1.])"
      ]
     },
     "execution_count": 115,
     "metadata": {},
     "output_type": "execute_result"
    }
   ],
   "source": [
    "y.unique()"
   ]
  },
  {
   "cell_type": "code",
   "execution_count": 116,
   "metadata": {},
   "outputs": [],
   "source": [
    "# instantiate Tf-IDF\n",
    "\n",
    "tvec = TfidfVectorizer(stop_words = my_stop_words, max_df = .80, min_df = 10, max_features = 256, ngram_range = (2, 2))"
   ]
  },
  {
   "cell_type": "code",
   "execution_count": 117,
   "metadata": {},
   "outputs": [
    {
     "data": {
      "text/html": [
       "<div>\n",
       "<style scoped>\n",
       "    .dataframe tbody tr th:only-of-type {\n",
       "        vertical-align: middle;\n",
       "    }\n",
       "\n",
       "    .dataframe tbody tr th {\n",
       "        vertical-align: top;\n",
       "    }\n",
       "\n",
       "    .dataframe thead th {\n",
       "        text-align: right;\n",
       "    }\n",
       "</style>\n",
       "<table border=\"1\" class=\"dataframe\">\n",
       "  <thead>\n",
       "    <tr style=\"text-align: right;\">\n",
       "      <th></th>\n",
       "      <th>10 ago</th>\n",
       "      <th>10 hour</th>\n",
       "      <th>100 mg</th>\n",
       "      <th>20 old</th>\n",
       "      <th>24 hour</th>\n",
       "      <th>aa meeting</th>\n",
       "      <th>admit problem</th>\n",
       "      <th>advice appreciate</th>\n",
       "      <th>ago start</th>\n",
       "      <th>alcohol abuse</th>\n",
       "      <th>...</th>\n",
       "      <th>weight gain</th>\n",
       "      <th>withdrawal symptom</th>\n",
       "      <th>work drink</th>\n",
       "      <th>work hard</th>\n",
       "      <th>work home</th>\n",
       "      <th>work hour</th>\n",
       "      <th>work week</th>\n",
       "      <th>work work</th>\n",
       "      <th>worth live</th>\n",
       "      <th>www reddit</th>\n",
       "    </tr>\n",
       "  </thead>\n",
       "  <tbody>\n",
       "    <tr>\n",
       "      <th>0</th>\n",
       "      <td>0.0</td>\n",
       "      <td>0.0</td>\n",
       "      <td>0.0</td>\n",
       "      <td>0.0</td>\n",
       "      <td>0.0</td>\n",
       "      <td>0.000000</td>\n",
       "      <td>0.0</td>\n",
       "      <td>0.0</td>\n",
       "      <td>0.0</td>\n",
       "      <td>0.0</td>\n",
       "      <td>...</td>\n",
       "      <td>0.0</td>\n",
       "      <td>0.0</td>\n",
       "      <td>0.0</td>\n",
       "      <td>0.0</td>\n",
       "      <td>0.0</td>\n",
       "      <td>0.0</td>\n",
       "      <td>0.0</td>\n",
       "      <td>0.0</td>\n",
       "      <td>0.0</td>\n",
       "      <td>0.0</td>\n",
       "    </tr>\n",
       "    <tr>\n",
       "      <th>1</th>\n",
       "      <td>0.0</td>\n",
       "      <td>0.0</td>\n",
       "      <td>0.0</td>\n",
       "      <td>0.0</td>\n",
       "      <td>0.0</td>\n",
       "      <td>0.000000</td>\n",
       "      <td>0.0</td>\n",
       "      <td>0.0</td>\n",
       "      <td>0.0</td>\n",
       "      <td>0.0</td>\n",
       "      <td>...</td>\n",
       "      <td>0.0</td>\n",
       "      <td>0.0</td>\n",
       "      <td>0.0</td>\n",
       "      <td>0.0</td>\n",
       "      <td>0.0</td>\n",
       "      <td>0.0</td>\n",
       "      <td>0.0</td>\n",
       "      <td>0.0</td>\n",
       "      <td>0.0</td>\n",
       "      <td>0.0</td>\n",
       "    </tr>\n",
       "    <tr>\n",
       "      <th>2</th>\n",
       "      <td>0.0</td>\n",
       "      <td>0.0</td>\n",
       "      <td>0.0</td>\n",
       "      <td>0.0</td>\n",
       "      <td>0.0</td>\n",
       "      <td>0.000000</td>\n",
       "      <td>0.0</td>\n",
       "      <td>0.0</td>\n",
       "      <td>0.0</td>\n",
       "      <td>0.0</td>\n",
       "      <td>...</td>\n",
       "      <td>0.0</td>\n",
       "      <td>0.0</td>\n",
       "      <td>0.0</td>\n",
       "      <td>0.0</td>\n",
       "      <td>0.0</td>\n",
       "      <td>0.0</td>\n",
       "      <td>0.0</td>\n",
       "      <td>0.0</td>\n",
       "      <td>0.0</td>\n",
       "      <td>0.0</td>\n",
       "    </tr>\n",
       "    <tr>\n",
       "      <th>3</th>\n",
       "      <td>0.0</td>\n",
       "      <td>0.0</td>\n",
       "      <td>0.0</td>\n",
       "      <td>0.0</td>\n",
       "      <td>0.0</td>\n",
       "      <td>0.358126</td>\n",
       "      <td>0.0</td>\n",
       "      <td>0.0</td>\n",
       "      <td>0.0</td>\n",
       "      <td>0.0</td>\n",
       "      <td>...</td>\n",
       "      <td>0.0</td>\n",
       "      <td>0.0</td>\n",
       "      <td>0.0</td>\n",
       "      <td>0.0</td>\n",
       "      <td>0.0</td>\n",
       "      <td>0.0</td>\n",
       "      <td>0.0</td>\n",
       "      <td>0.0</td>\n",
       "      <td>0.0</td>\n",
       "      <td>0.0</td>\n",
       "    </tr>\n",
       "    <tr>\n",
       "      <th>4</th>\n",
       "      <td>0.0</td>\n",
       "      <td>0.0</td>\n",
       "      <td>0.0</td>\n",
       "      <td>0.0</td>\n",
       "      <td>0.0</td>\n",
       "      <td>0.000000</td>\n",
       "      <td>0.0</td>\n",
       "      <td>0.0</td>\n",
       "      <td>0.0</td>\n",
       "      <td>0.0</td>\n",
       "      <td>...</td>\n",
       "      <td>0.0</td>\n",
       "      <td>0.0</td>\n",
       "      <td>0.0</td>\n",
       "      <td>0.0</td>\n",
       "      <td>0.0</td>\n",
       "      <td>0.0</td>\n",
       "      <td>0.0</td>\n",
       "      <td>0.0</td>\n",
       "      <td>0.0</td>\n",
       "      <td>0.0</td>\n",
       "    </tr>\n",
       "  </tbody>\n",
       "</table>\n",
       "<p>5 rows × 256 columns</p>\n",
       "</div>"
      ],
      "text/plain": [
       "   10 ago  10 hour  100 mg  20 old  24 hour  aa meeting  admit problem  \\\n",
       "0     0.0      0.0     0.0     0.0      0.0    0.000000            0.0   \n",
       "1     0.0      0.0     0.0     0.0      0.0    0.000000            0.0   \n",
       "2     0.0      0.0     0.0     0.0      0.0    0.000000            0.0   \n",
       "3     0.0      0.0     0.0     0.0      0.0    0.358126            0.0   \n",
       "4     0.0      0.0     0.0     0.0      0.0    0.000000            0.0   \n",
       "\n",
       "   advice appreciate  ago start  alcohol abuse  ...  weight gain  \\\n",
       "0                0.0        0.0            0.0  ...          0.0   \n",
       "1                0.0        0.0            0.0  ...          0.0   \n",
       "2                0.0        0.0            0.0  ...          0.0   \n",
       "3                0.0        0.0            0.0  ...          0.0   \n",
       "4                0.0        0.0            0.0  ...          0.0   \n",
       "\n",
       "   withdrawal symptom  work drink  work hard  work home  work hour  work week  \\\n",
       "0                 0.0         0.0        0.0        0.0        0.0        0.0   \n",
       "1                 0.0         0.0        0.0        0.0        0.0        0.0   \n",
       "2                 0.0         0.0        0.0        0.0        0.0        0.0   \n",
       "3                 0.0         0.0        0.0        0.0        0.0        0.0   \n",
       "4                 0.0         0.0        0.0        0.0        0.0        0.0   \n",
       "\n",
       "   work work  worth live  www reddit  \n",
       "0        0.0         0.0         0.0  \n",
       "1        0.0         0.0         0.0  \n",
       "2        0.0         0.0         0.0  \n",
       "3        0.0         0.0         0.0  \n",
       "4        0.0         0.0         0.0  \n",
       "\n",
       "[5 rows x 256 columns]"
      ]
     },
     "execution_count": 117,
     "metadata": {},
     "output_type": "execute_result"
    }
   ],
   "source": [
    "# fit/transform X then save it to a dataframe\n",
    "\n",
    "t = pd.DataFrame(tvec.fit_transform(X).toarray(),\n",
    "                 columns = tvec.get_feature_names())\n",
    "t.head()"
   ]
  },
  {
   "cell_type": "code",
   "execution_count": 118,
   "metadata": {},
   "outputs": [],
   "source": [
    "# instantiate LabelPropagation model, fit, and predict\n",
    "\n",
    "model = LabelSpreading()\n",
    "model.fit(t, y)\n",
    "pred = np.array(model.predict(t))"
   ]
  },
  {
   "cell_type": "code",
   "execution_count": 119,
   "metadata": {},
   "outputs": [
    {
     "name": "stdout",
     "output_type": "stream",
     "text": [
      "3329\n",
      "3329\n"
     ]
    }
   ],
   "source": [
    "# check the length of both label and prediction\n",
    "\n",
    "print(len(y))\n",
    "print(len(pred))"
   ]
  },
  {
   "cell_type": "code",
   "execution_count": 120,
   "metadata": {},
   "outputs": [],
   "source": [
    "# create a dataframe just with label and prediction\n",
    "\n",
    "d = {'label': y, 'pred': pred}\n",
    "\n",
    "p = pd.DataFrame(d)"
   ]
  },
  {
   "cell_type": "code",
   "execution_count": 121,
   "metadata": {},
   "outputs": [],
   "source": [
    "# create a separate dataframe to check the accuracy of the model with the labeled data\n",
    "\n",
    "cf = p[p['label'] != -1]"
   ]
  },
  {
   "cell_type": "code",
   "execution_count": 122,
   "metadata": {},
   "outputs": [],
   "source": [
    "# get the values from confusion matrix\n",
    "\n",
    "tn, fp, fn, tp = confusion_matrix(cf['label'], cf['pred'], normalize = 'true').ravel()"
   ]
  },
  {
   "cell_type": "code",
   "execution_count": 123,
   "metadata": {},
   "outputs": [
    {
     "name": "stdout",
     "output_type": "stream",
     "text": [
      "True Negative: 0.9875749785775493\n",
      "False Positive: 0.012425021422450729\n",
      "False Negative: 0.49696969696969695\n",
      "True Positive: 0.503030303030303\n"
     ]
    }
   ],
   "source": [
    "# check the values from confusion matrix\n",
    "\n",
    "print(f'True Negative: {tn}')\n",
    "print(f'False Positive: {fp}')\n",
    "print(f'False Negative: {fn}')\n",
    "print(f'True Positive: {tp}')"
   ]
  },
  {
   "cell_type": "code",
   "execution_count": 124,
   "metadata": {},
   "outputs": [
    {
     "name": "stdout",
     "output_type": "stream",
     "text": [
      "              precision    recall  f1-score   support\n",
      "\n",
      "non-suicidal       0.90      0.99      0.94      2334\n",
      "    suicidal       0.90      0.50      0.64       495\n",
      "\n",
      "    accuracy                           0.90      2829\n",
      "   macro avg       0.90      0.75      0.79      2829\n",
      "weighted avg       0.90      0.90      0.89      2829\n",
      "\n"
     ]
    }
   ],
   "source": [
    "# classification report\n",
    "\n",
    "print(classification_report(cf['label'], cf['pred'], target_names = ['non-suicidal', 'suicidal']))"
   ]
  },
  {
   "cell_type": "code",
   "execution_count": 125,
   "metadata": {},
   "outputs": [
    {
     "data": {
      "text/plain": [
       "{0.0, 1.0}"
      ]
     },
     "execution_count": 125,
     "metadata": {},
     "output_type": "execute_result"
    }
   ],
   "source": [
    "# check pred for unlabeled to make sure it only contains 0 and 1\n",
    "\n",
    "cf_u = p[p['label'] == -1]\n",
    "\n",
    "set(cf_u['pred'])"
   ]
  },
  {
   "cell_type": "code",
   "execution_count": 126,
   "metadata": {},
   "outputs": [
    {
     "data": {
      "text/plain": [
       "20"
      ]
     },
     "execution_count": 126,
     "metadata": {},
     "output_type": "execute_result"
    }
   ],
   "source": [
    "# split dataframe into relatively same size\n",
    "\n",
    "n = 5000\n",
    "\n",
    "list_df = [unlabel[i: (i + n)] for i in range(0, unlabel.shape[0], n)]\n",
    "\n",
    "len(list_df)"
   ]
  },
  {
   "cell_type": "code",
   "execution_count": 127,
   "metadata": {},
   "outputs": [],
   "source": [
    "# create an empty list to store the predictions for unlabeled data\n",
    "\n",
    "y_pred = []\n",
    "\n",
    "# iterate through sectioned dataframe\n",
    "\n",
    "for i in range(len(list_df)):\n",
    "    \n",
    "    # combine the labeled data and unlabeled data\n",
    "    \n",
    "    df = pd.concat([label, list_df[i]])\n",
    "    \n",
    "    # set X and y\n",
    "    \n",
    "    X = df['lemmatized']\n",
    "    y = df['label']\n",
    "    \n",
    "    # vectorized values to a dataframe\n",
    "    \n",
    "    t = pd.DataFrame(tvec.fit_transform(X).toarray(), columns = tvec.get_feature_names())\n",
    "    \n",
    "    # instantiate standard scaler and fit/transform\n",
    "    \n",
    "    sc = StandardScaler()\n",
    "    t = sc.fit_transform(t)\n",
    "    \n",
    "    # instantiate the model\n",
    "    \n",
    "    model = LabelSpreading()\n",
    "    \n",
    "    # fit and predict\n",
    "    \n",
    "    model.fit(t, y)\n",
    "    pred = np.array(model.predict(t))\n",
    "    \n",
    "    # extract predicted values just for the unlabeled\n",
    "    \n",
    "    dct = {'label': y, 'pred': pred}\n",
    "    values = pd.DataFrame(dct)\n",
    "    non_scoring = values[values['label'] == -1]\n",
    "\n",
    "    # extend the prediction to the list\n",
    "    \n",
    "    y_pred.extend(non_scoring['pred'])"
   ]
  },
  {
   "cell_type": "code",
   "execution_count": 128,
   "metadata": {},
   "outputs": [],
   "source": [
    "# create a column to store prediction\n",
    "\n",
    "unlabel['pred'] = y_pred"
   ]
  },
  {
   "cell_type": "code",
   "execution_count": 129,
   "metadata": {},
   "outputs": [
    {
     "data": {
      "text/plain": [
       "subreddit           0\n",
       "author              0\n",
       "date                0\n",
       "post                0\n",
       "covid_related       0\n",
       "suicidal            0\n",
       "alc_abuse           0\n",
       "loneliness          0\n",
       "stress              0\n",
       "n_words             0\n",
       "n_sentences         0\n",
       "lemmatized          0\n",
       "vectors             0\n",
       "label               0\n",
       "pred             2829\n",
       "dtype: int64"
      ]
     },
     "execution_count": 129,
     "metadata": {},
     "output_type": "execute_result"
    }
   ],
   "source": [
    "# check the null values - 'pred' column should have 2829 rows of null\n",
    "\n",
    "pd.concat([label, unlabel]).isnull().sum()"
   ]
  },
  {
   "cell_type": "code",
   "execution_count": 130,
   "metadata": {},
   "outputs": [],
   "source": [
    "# combine labeled and unlabeled dataframes\n",
    "\n",
    "df = pd.concat([label, unlabel])"
   ]
  },
  {
   "cell_type": "code",
   "execution_count": 131,
   "metadata": {},
   "outputs": [],
   "source": [
    "# fill null values in pred with label values\n",
    "\n",
    "df['pred'].fillna(df['label'], inplace = True)"
   ]
  },
  {
   "cell_type": "code",
   "execution_count": 132,
   "metadata": {},
   "outputs": [
    {
     "data": {
      "text/plain": [
       "subreddit        0\n",
       "author           0\n",
       "date             0\n",
       "post             0\n",
       "covid_related    0\n",
       "suicidal         0\n",
       "alc_abuse        0\n",
       "loneliness       0\n",
       "stress           0\n",
       "n_words          0\n",
       "n_sentences      0\n",
       "lemmatized       0\n",
       "vectors          0\n",
       "label            0\n",
       "pred             0\n",
       "dtype: int64"
      ]
     },
     "execution_count": 132,
     "metadata": {},
     "output_type": "execute_result"
    }
   ],
   "source": [
    "# check for null\n",
    "\n",
    "df.isnull().sum()"
   ]
  },
  {
   "cell_type": "code",
   "execution_count": 133,
   "metadata": {},
   "outputs": [
    {
     "data": {
      "text/html": [
       "<div>\n",
       "<style scoped>\n",
       "    .dataframe tbody tr th:only-of-type {\n",
       "        vertical-align: middle;\n",
       "    }\n",
       "\n",
       "    .dataframe tbody tr th {\n",
       "        vertical-align: top;\n",
       "    }\n",
       "\n",
       "    .dataframe thead th {\n",
       "        text-align: right;\n",
       "    }\n",
       "</style>\n",
       "<table border=\"1\" class=\"dataframe\">\n",
       "  <thead>\n",
       "    <tr style=\"text-align: right;\">\n",
       "      <th></th>\n",
       "      <th>subreddit</th>\n",
       "      <th>author</th>\n",
       "      <th>date</th>\n",
       "      <th>post</th>\n",
       "      <th>covid_related</th>\n",
       "      <th>suicidal</th>\n",
       "      <th>alc_abuse</th>\n",
       "      <th>loneliness</th>\n",
       "      <th>stress</th>\n",
       "      <th>n_words</th>\n",
       "      <th>n_sentences</th>\n",
       "      <th>lemmatized</th>\n",
       "      <th>vectors</th>\n",
       "      <th>pred</th>\n",
       "    </tr>\n",
       "  </thead>\n",
       "  <tbody>\n",
       "    <tr>\n",
       "      <th>0</th>\n",
       "      <td>alcoholism</td>\n",
       "      <td>glorybellpirate</td>\n",
       "      <td>2020-01-01</td>\n",
       "      <td>Day 1 of sobriety Feeling anxious and letting ...</td>\n",
       "      <td>0</td>\n",
       "      <td>0</td>\n",
       "      <td>1</td>\n",
       "      <td>0</td>\n",
       "      <td>0</td>\n",
       "      <td>24</td>\n",
       "      <td>3</td>\n",
       "      <td>day 1 of sobriety feel anxious and let the fee...</td>\n",
       "      <td>[-0.026765203100000003, 0.2515704036, -0.15668...</td>\n",
       "      <td>0.0</td>\n",
       "    </tr>\n",
       "    <tr>\n",
       "      <th>1</th>\n",
       "      <td>alcoholism</td>\n",
       "      <td>EhndlessSl0th</td>\n",
       "      <td>2020-01-01</td>\n",
       "      <td>Started the New Year with a bang. Hey, I'm new...</td>\n",
       "      <td>0</td>\n",
       "      <td>1</td>\n",
       "      <td>1</td>\n",
       "      <td>0</td>\n",
       "      <td>1</td>\n",
       "      <td>577</td>\n",
       "      <td>41</td>\n",
       "      <td>start the new year with a bang hey -pron- be n...</td>\n",
       "      <td>[0.0102483444, 0.18354494870000002, -0.2263026...</td>\n",
       "      <td>0.0</td>\n",
       "    </tr>\n",
       "    <tr>\n",
       "      <th>2</th>\n",
       "      <td>alcoholism</td>\n",
       "      <td>the_kinky_penguin</td>\n",
       "      <td>2020-01-01</td>\n",
       "      <td>Why can't I get drunk anymore I've been a heav...</td>\n",
       "      <td>0</td>\n",
       "      <td>0</td>\n",
       "      <td>1</td>\n",
       "      <td>0</td>\n",
       "      <td>0</td>\n",
       "      <td>64</td>\n",
       "      <td>5</td>\n",
       "      <td>why ca not -pron- get drunk anymore -pron- hav...</td>\n",
       "      <td>[-0.09739924970000001, 0.1839587241, -0.227181...</td>\n",
       "      <td>0.0</td>\n",
       "    </tr>\n",
       "    <tr>\n",
       "      <th>3</th>\n",
       "      <td>alcoholism</td>\n",
       "      <td>SauceoffSauceOn</td>\n",
       "      <td>2020-01-01</td>\n",
       "      <td>I am an Alcoholic. How do I quit? I have been ...</td>\n",
       "      <td>0</td>\n",
       "      <td>0</td>\n",
       "      <td>1</td>\n",
       "      <td>0</td>\n",
       "      <td>1</td>\n",
       "      <td>111</td>\n",
       "      <td>14</td>\n",
       "      <td>-pron- be an alcoholic how do -pron- quit -pro...</td>\n",
       "      <td>[-0.0117096035, 0.1865714192, -0.2576603591, -...</td>\n",
       "      <td>0.0</td>\n",
       "    </tr>\n",
       "    <tr>\n",
       "      <th>4</th>\n",
       "      <td>alcoholism</td>\n",
       "      <td>ben42187</td>\n",
       "      <td>2020-01-01</td>\n",
       "      <td>Funniest Thing about Alcoholism With every oth...</td>\n",
       "      <td>0</td>\n",
       "      <td>0</td>\n",
       "      <td>1</td>\n",
       "      <td>0</td>\n",
       "      <td>0</td>\n",
       "      <td>136</td>\n",
       "      <td>0</td>\n",
       "      <td>funniest thing about alcoholism with every oth...</td>\n",
       "      <td>[-0.0443742387, 0.1812106818, -0.1554362029000...</td>\n",
       "      <td>0.0</td>\n",
       "    </tr>\n",
       "  </tbody>\n",
       "</table>\n",
       "</div>"
      ],
      "text/plain": [
       "    subreddit             author       date  \\\n",
       "0  alcoholism    glorybellpirate 2020-01-01   \n",
       "1  alcoholism      EhndlessSl0th 2020-01-01   \n",
       "2  alcoholism  the_kinky_penguin 2020-01-01   \n",
       "3  alcoholism    SauceoffSauceOn 2020-01-01   \n",
       "4  alcoholism           ben42187 2020-01-01   \n",
       "\n",
       "                                                post  covid_related  suicidal  \\\n",
       "0  Day 1 of sobriety Feeling anxious and letting ...              0         0   \n",
       "1  Started the New Year with a bang. Hey, I'm new...              0         1   \n",
       "2  Why can't I get drunk anymore I've been a heav...              0         0   \n",
       "3  I am an Alcoholic. How do I quit? I have been ...              0         0   \n",
       "4  Funniest Thing about Alcoholism With every oth...              0         0   \n",
       "\n",
       "   alc_abuse  loneliness  stress  n_words  n_sentences  \\\n",
       "0          1           0       0       24            3   \n",
       "1          1           0       1      577           41   \n",
       "2          1           0       0       64            5   \n",
       "3          1           0       1      111           14   \n",
       "4          1           0       0      136            0   \n",
       "\n",
       "                                          lemmatized  \\\n",
       "0  day 1 of sobriety feel anxious and let the fee...   \n",
       "1  start the new year with a bang hey -pron- be n...   \n",
       "2  why ca not -pron- get drunk anymore -pron- hav...   \n",
       "3  -pron- be an alcoholic how do -pron- quit -pro...   \n",
       "4  funniest thing about alcoholism with every oth...   \n",
       "\n",
       "                                             vectors  pred  \n",
       "0  [-0.026765203100000003, 0.2515704036, -0.15668...   0.0  \n",
       "1  [0.0102483444, 0.18354494870000002, -0.2263026...   0.0  \n",
       "2  [-0.09739924970000001, 0.1839587241, -0.227181...   0.0  \n",
       "3  [-0.0117096035, 0.1865714192, -0.2576603591, -...   0.0  \n",
       "4  [-0.0443742387, 0.1812106818, -0.1554362029000...   0.0  "
      ]
     },
     "execution_count": 133,
     "metadata": {},
     "output_type": "execute_result"
    }
   ],
   "source": [
    "# drop label column\n",
    "\n",
    "df.drop(columns = ['label'], axis = 1, inplace = True)\n",
    "\n",
    "df.head()"
   ]
  },
  {
   "cell_type": "code",
   "execution_count": 134,
   "metadata": {},
   "outputs": [],
   "source": [
    "# rename column pred as label\n",
    "\n",
    "df.rename(columns = {'pred': 'label'}, inplace = True)"
   ]
  },
  {
   "cell_type": "code",
   "execution_count": 135,
   "metadata": {},
   "outputs": [
    {
     "data": {
      "text/html": [
       "<div>\n",
       "<style scoped>\n",
       "    .dataframe tbody tr th:only-of-type {\n",
       "        vertical-align: middle;\n",
       "    }\n",
       "\n",
       "    .dataframe tbody tr th {\n",
       "        vertical-align: top;\n",
       "    }\n",
       "\n",
       "    .dataframe thead th {\n",
       "        text-align: right;\n",
       "    }\n",
       "</style>\n",
       "<table border=\"1\" class=\"dataframe\">\n",
       "  <thead>\n",
       "    <tr style=\"text-align: right;\">\n",
       "      <th></th>\n",
       "      <th>subreddit</th>\n",
       "      <th>author</th>\n",
       "      <th>date</th>\n",
       "      <th>post</th>\n",
       "      <th>covid_related</th>\n",
       "      <th>suicidal</th>\n",
       "      <th>alc_abuse</th>\n",
       "      <th>loneliness</th>\n",
       "      <th>stress</th>\n",
       "      <th>n_words</th>\n",
       "      <th>n_sentences</th>\n",
       "      <th>lemmatized</th>\n",
       "      <th>vectors</th>\n",
       "      <th>label</th>\n",
       "    </tr>\n",
       "  </thead>\n",
       "  <tbody>\n",
       "    <tr>\n",
       "      <th>0</th>\n",
       "      <td>alcoholism</td>\n",
       "      <td>glorybellpirate</td>\n",
       "      <td>2020-01-01</td>\n",
       "      <td>Day 1 of sobriety Feeling anxious and letting ...</td>\n",
       "      <td>0</td>\n",
       "      <td>0</td>\n",
       "      <td>1</td>\n",
       "      <td>0</td>\n",
       "      <td>0</td>\n",
       "      <td>24</td>\n",
       "      <td>3</td>\n",
       "      <td>day 1 of sobriety feel anxious and let the fee...</td>\n",
       "      <td>[-0.026765203100000003, 0.2515704036, -0.15668...</td>\n",
       "      <td>0.0</td>\n",
       "    </tr>\n",
       "    <tr>\n",
       "      <th>1</th>\n",
       "      <td>alcoholism</td>\n",
       "      <td>EhndlessSl0th</td>\n",
       "      <td>2020-01-01</td>\n",
       "      <td>Started the New Year with a bang. Hey, I'm new...</td>\n",
       "      <td>0</td>\n",
       "      <td>1</td>\n",
       "      <td>1</td>\n",
       "      <td>0</td>\n",
       "      <td>1</td>\n",
       "      <td>577</td>\n",
       "      <td>41</td>\n",
       "      <td>start the new year with a bang hey -pron- be n...</td>\n",
       "      <td>[0.0102483444, 0.18354494870000002, -0.2263026...</td>\n",
       "      <td>0.0</td>\n",
       "    </tr>\n",
       "    <tr>\n",
       "      <th>2</th>\n",
       "      <td>alcoholism</td>\n",
       "      <td>the_kinky_penguin</td>\n",
       "      <td>2020-01-01</td>\n",
       "      <td>Why can't I get drunk anymore I've been a heav...</td>\n",
       "      <td>0</td>\n",
       "      <td>0</td>\n",
       "      <td>1</td>\n",
       "      <td>0</td>\n",
       "      <td>0</td>\n",
       "      <td>64</td>\n",
       "      <td>5</td>\n",
       "      <td>why ca not -pron- get drunk anymore -pron- hav...</td>\n",
       "      <td>[-0.09739924970000001, 0.1839587241, -0.227181...</td>\n",
       "      <td>0.0</td>\n",
       "    </tr>\n",
       "  </tbody>\n",
       "</table>\n",
       "</div>"
      ],
      "text/plain": [
       "    subreddit             author       date  \\\n",
       "0  alcoholism    glorybellpirate 2020-01-01   \n",
       "1  alcoholism      EhndlessSl0th 2020-01-01   \n",
       "2  alcoholism  the_kinky_penguin 2020-01-01   \n",
       "\n",
       "                                                post  covid_related  suicidal  \\\n",
       "0  Day 1 of sobriety Feeling anxious and letting ...              0         0   \n",
       "1  Started the New Year with a bang. Hey, I'm new...              0         1   \n",
       "2  Why can't I get drunk anymore I've been a heav...              0         0   \n",
       "\n",
       "   alc_abuse  loneliness  stress  n_words  n_sentences  \\\n",
       "0          1           0       0       24            3   \n",
       "1          1           0       1      577           41   \n",
       "2          1           0       0       64            5   \n",
       "\n",
       "                                          lemmatized  \\\n",
       "0  day 1 of sobriety feel anxious and let the fee...   \n",
       "1  start the new year with a bang hey -pron- be n...   \n",
       "2  why ca not -pron- get drunk anymore -pron- hav...   \n",
       "\n",
       "                                             vectors  label  \n",
       "0  [-0.026765203100000003, 0.2515704036, -0.15668...    0.0  \n",
       "1  [0.0102483444, 0.18354494870000002, -0.2263026...    0.0  \n",
       "2  [-0.09739924970000001, 0.1839587241, -0.227181...    0.0  "
      ]
     },
     "execution_count": 135,
     "metadata": {},
     "output_type": "execute_result"
    }
   ],
   "source": [
    "# check\n",
    "\n",
    "df.head(3)"
   ]
  },
  {
   "cell_type": "code",
   "execution_count": 136,
   "metadata": {},
   "outputs": [],
   "source": [
    "# change label column to int\n",
    "\n",
    "df['label'] = df['label'].astype(int)"
   ]
  },
  {
   "cell_type": "code",
   "execution_count": 137,
   "metadata": {},
   "outputs": [
    {
     "data": {
      "text/plain": [
       "0.04649293883591246"
      ]
     },
     "execution_count": 137,
     "metadata": {},
     "output_type": "execute_result"
    }
   ],
   "source": [
    "# check the label\n",
    "\n",
    "df['label'].mean()"
   ]
  },
  {
   "cell_type": "code",
   "execution_count": 138,
   "metadata": {},
   "outputs": [
    {
     "data": {
      "text/html": [
       "<div>\n",
       "<style scoped>\n",
       "    .dataframe tbody tr th:only-of-type {\n",
       "        vertical-align: middle;\n",
       "    }\n",
       "\n",
       "    .dataframe tbody tr th {\n",
       "        vertical-align: top;\n",
       "    }\n",
       "\n",
       "    .dataframe thead th {\n",
       "        text-align: right;\n",
       "    }\n",
       "</style>\n",
       "<table border=\"1\" class=\"dataframe\">\n",
       "  <thead>\n",
       "    <tr style=\"text-align: right;\">\n",
       "      <th></th>\n",
       "      <th>label</th>\n",
       "    </tr>\n",
       "    <tr>\n",
       "      <th>subreddit</th>\n",
       "      <th></th>\n",
       "    </tr>\n",
       "  </thead>\n",
       "  <tbody>\n",
       "    <tr>\n",
       "      <th>alcoholism</th>\n",
       "      <td>0.006285</td>\n",
       "    </tr>\n",
       "    <tr>\n",
       "      <th>anxiety</th>\n",
       "      <td>0.018998</td>\n",
       "    </tr>\n",
       "    <tr>\n",
       "      <th>bipolarreddit</th>\n",
       "      <td>0.042398</td>\n",
       "    </tr>\n",
       "    <tr>\n",
       "      <th>depression</th>\n",
       "      <td>0.051061</td>\n",
       "    </tr>\n",
       "    <tr>\n",
       "      <th>healthanxiety</th>\n",
       "      <td>0.009477</td>\n",
       "    </tr>\n",
       "    <tr>\n",
       "      <th>lonely</th>\n",
       "      <td>0.037084</td>\n",
       "    </tr>\n",
       "    <tr>\n",
       "      <th>mentalhealth</th>\n",
       "      <td>0.037073</td>\n",
       "    </tr>\n",
       "    <tr>\n",
       "      <th>suicidewatch</th>\n",
       "      <td>0.075378</td>\n",
       "    </tr>\n",
       "  </tbody>\n",
       "</table>\n",
       "</div>"
      ],
      "text/plain": [
       "                  label\n",
       "subreddit              \n",
       "alcoholism     0.006285\n",
       "anxiety        0.018998\n",
       "bipolarreddit  0.042398\n",
       "depression     0.051061\n",
       "healthanxiety  0.009477\n",
       "lonely         0.037084\n",
       "mentalhealth   0.037073\n",
       "suicidewatch   0.075378"
      ]
     },
     "execution_count": 138,
     "metadata": {},
     "output_type": "execute_result"
    }
   ],
   "source": [
    "# check each subreddit how they are labeled\n",
    "\n",
    "df.groupby('subreddit')[['label']].mean()"
   ]
  },
  {
   "cell_type": "markdown",
   "metadata": {},
   "source": [
    "><font size = 4><font color = \"purple\">TF-IDF with unigram, and not scaled data seems to be the best model.</font></font>"
   ]
  },
  {
   "cell_type": "code",
   "execution_count": null,
   "metadata": {},
   "outputs": [],
   "source": []
  }
 ],
 "metadata": {
  "kernelspec": {
   "display_name": "Python 3",
   "language": "python",
   "name": "python3"
  },
  "language_info": {
   "codemirror_mode": {
    "name": "ipython",
    "version": 3
   },
   "file_extension": ".py",
   "mimetype": "text/x-python",
   "name": "python",
   "nbconvert_exporter": "python",
   "pygments_lexer": "ipython3",
   "version": "3.7.7"
  }
 },
 "nbformat": 4,
 "nbformat_minor": 4
}
