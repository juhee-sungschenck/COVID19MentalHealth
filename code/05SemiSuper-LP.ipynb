{
 "cells": [
  {
   "cell_type": "code",
   "execution_count": 49,
   "metadata": {},
   "outputs": [],
   "source": [
    "# import libraries\n",
    "\n",
    "import pandas as pd\n",
    "import numpy as np\n",
    "import matplotlib.pyplot as plt\n",
    "import seaborn as sns\n",
    "\n",
    "# nlp vectorizers\n",
    "\n",
    "from sklearn.feature_extraction.text import TfidfVectorizer\n",
    "from sklearn.feature_extraction import text\n",
    "import gensim\n",
    "\n",
    "# model and metrics\n",
    "\n",
    "from sklearn.metrics import confusion_matrix, classification_report\n",
    "from sklearn.semi_supervised import LabelPropagation, LabelSpreading\n",
    "\n",
    "# ignore warnings\n",
    "\n",
    "import warnings\n",
    "warnings.filterwarnings(\"ignore\")"
   ]
  },
  {
   "cell_type": "code",
   "execution_count": 98,
   "metadata": {},
   "outputs": [
    {
     "data": {
      "text/html": [
       "<div>\n",
       "<style scoped>\n",
       "    .dataframe tbody tr th:only-of-type {\n",
       "        vertical-align: middle;\n",
       "    }\n",
       "\n",
       "    .dataframe tbody tr th {\n",
       "        vertical-align: top;\n",
       "    }\n",
       "\n",
       "    .dataframe thead th {\n",
       "        text-align: right;\n",
       "    }\n",
       "</style>\n",
       "<table border=\"1\" class=\"dataframe\">\n",
       "  <thead>\n",
       "    <tr style=\"text-align: right;\">\n",
       "      <th></th>\n",
       "      <th>id</th>\n",
       "      <th>post</th>\n",
       "      <th>label</th>\n",
       "    </tr>\n",
       "  </thead>\n",
       "  <tbody>\n",
       "    <tr>\n",
       "      <th>0</th>\n",
       "      <td>1428</td>\n",
       "      <td>How do you guys feel less dead inside? I've go...</td>\n",
       "      <td>1</td>\n",
       "    </tr>\n",
       "    <tr>\n",
       "      <th>1</th>\n",
       "      <td>1429</td>\n",
       "      <td>i want to get help but i don’t know how my par...</td>\n",
       "      <td>1</td>\n",
       "    </tr>\n",
       "    <tr>\n",
       "      <th>2</th>\n",
       "      <td>1430</td>\n",
       "      <td>I can’t stop myself from loving this fictional...</td>\n",
       "      <td>0</td>\n",
       "    </tr>\n",
       "    <tr>\n",
       "      <th>3</th>\n",
       "      <td>1431</td>\n",
       "      <td>There's no point in continuing I lost my job l...</td>\n",
       "      <td>1</td>\n",
       "    </tr>\n",
       "    <tr>\n",
       "      <th>4</th>\n",
       "      <td>1432</td>\n",
       "      <td>My friends keep finding my reddit accounts. I ...</td>\n",
       "      <td>0</td>\n",
       "    </tr>\n",
       "  </tbody>\n",
       "</table>\n",
       "</div>"
      ],
      "text/plain": [
       "     id                                               post  label\n",
       "0  1428  How do you guys feel less dead inside? I've go...      1\n",
       "1  1429  i want to get help but i don’t know how my par...      1\n",
       "2  1430  I can’t stop myself from loving this fictional...      0\n",
       "3  1431  There's no point in continuing I lost my job l...      1\n",
       "4  1432  My friends keep finding my reddit accounts. I ...      0"
      ]
     },
     "execution_count": 98,
     "metadata": {},
     "output_type": "execute_result"
    }
   ],
   "source": [
    "# read in labeled data\n",
    "\n",
    "rv1 = pd.read_csv('../data/cleaned/review1.csv')\n",
    "rv2 = pd.read_csv('../data/cleaned/review2.csv')\n",
    "\n",
    "labeled = pd.concat([rv1, rv2])\n",
    "\n",
    "labeled.head()"
   ]
  },
  {
   "cell_type": "code",
   "execution_count": 99,
   "metadata": {},
   "outputs": [
    {
     "data": {
      "text/html": [
       "<div>\n",
       "<style scoped>\n",
       "    .dataframe tbody tr th:only-of-type {\n",
       "        vertical-align: middle;\n",
       "    }\n",
       "\n",
       "    .dataframe tbody tr th {\n",
       "        vertical-align: top;\n",
       "    }\n",
       "\n",
       "    .dataframe thead th {\n",
       "        text-align: right;\n",
       "    }\n",
       "</style>\n",
       "<table border=\"1\" class=\"dataframe\">\n",
       "  <thead>\n",
       "    <tr style=\"text-align: right;\">\n",
       "      <th></th>\n",
       "      <th>post</th>\n",
       "      <th>label</th>\n",
       "    </tr>\n",
       "    <tr>\n",
       "      <th>id</th>\n",
       "      <th></th>\n",
       "      <th></th>\n",
       "    </tr>\n",
       "  </thead>\n",
       "  <tbody>\n",
       "    <tr>\n",
       "      <th>1428</th>\n",
       "      <td>How do you guys feel less dead inside? I've go...</td>\n",
       "      <td>1</td>\n",
       "    </tr>\n",
       "    <tr>\n",
       "      <th>1429</th>\n",
       "      <td>i want to get help but i don’t know how my par...</td>\n",
       "      <td>1</td>\n",
       "    </tr>\n",
       "    <tr>\n",
       "      <th>1430</th>\n",
       "      <td>I can’t stop myself from loving this fictional...</td>\n",
       "      <td>0</td>\n",
       "    </tr>\n",
       "  </tbody>\n",
       "</table>\n",
       "</div>"
      ],
      "text/plain": [
       "                                                   post  label\n",
       "id                                                            \n",
       "1428  How do you guys feel less dead inside? I've go...      1\n",
       "1429  i want to get help but i don’t know how my par...      1\n",
       "1430  I can’t stop myself from loving this fictional...      0"
      ]
     },
     "execution_count": 99,
     "metadata": {},
     "output_type": "execute_result"
    }
   ],
   "source": [
    "# set the index\n",
    "\n",
    "labeled.set_index('id', inplace = True)\n",
    "\n",
    "labeled.head(3)"
   ]
  },
  {
   "cell_type": "code",
   "execution_count": 100,
   "metadata": {},
   "outputs": [
    {
     "data": {
      "text/html": [
       "<div>\n",
       "<style scoped>\n",
       "    .dataframe tbody tr th:only-of-type {\n",
       "        vertical-align: middle;\n",
       "    }\n",
       "\n",
       "    .dataframe tbody tr th {\n",
       "        vertical-align: top;\n",
       "    }\n",
       "\n",
       "    .dataframe thead th {\n",
       "        text-align: right;\n",
       "    }\n",
       "</style>\n",
       "<table border=\"1\" class=\"dataframe\">\n",
       "  <thead>\n",
       "    <tr style=\"text-align: right;\">\n",
       "      <th></th>\n",
       "      <th>subreddit</th>\n",
       "      <th>author</th>\n",
       "      <th>date</th>\n",
       "      <th>post</th>\n",
       "      <th>covid_related</th>\n",
       "      <th>suicidal</th>\n",
       "      <th>alc_abuse</th>\n",
       "      <th>loneliness</th>\n",
       "      <th>stress</th>\n",
       "      <th>n_words</th>\n",
       "      <th>n_sentences</th>\n",
       "      <th>lemmatized</th>\n",
       "      <th>vectors</th>\n",
       "    </tr>\n",
       "  </thead>\n",
       "  <tbody>\n",
       "    <tr>\n",
       "      <th>0</th>\n",
       "      <td>alcoholism</td>\n",
       "      <td>glorybellpirate</td>\n",
       "      <td>2020-01-01</td>\n",
       "      <td>Day 1 of sobriety Feeling anxious and letting ...</td>\n",
       "      <td>0</td>\n",
       "      <td>0</td>\n",
       "      <td>1</td>\n",
       "      <td>0</td>\n",
       "      <td>0</td>\n",
       "      <td>24</td>\n",
       "      <td>3</td>\n",
       "      <td>day 1 of sobriety feel anxious and let the fee...</td>\n",
       "      <td>[-0.026765203100000003, 0.2515704036, -0.15668...</td>\n",
       "    </tr>\n",
       "    <tr>\n",
       "      <th>1</th>\n",
       "      <td>alcoholism</td>\n",
       "      <td>EhndlessSl0th</td>\n",
       "      <td>2020-01-01</td>\n",
       "      <td>Started the New Year with a bang. Hey, I'm new...</td>\n",
       "      <td>0</td>\n",
       "      <td>1</td>\n",
       "      <td>1</td>\n",
       "      <td>0</td>\n",
       "      <td>1</td>\n",
       "      <td>577</td>\n",
       "      <td>41</td>\n",
       "      <td>start the new year with a bang hey -pron- be n...</td>\n",
       "      <td>[0.0102483444, 0.18354494870000002, -0.2263026...</td>\n",
       "    </tr>\n",
       "    <tr>\n",
       "      <th>2</th>\n",
       "      <td>alcoholism</td>\n",
       "      <td>the_kinky_penguin</td>\n",
       "      <td>2020-01-01</td>\n",
       "      <td>Why can't I get drunk anymore I've been a heav...</td>\n",
       "      <td>0</td>\n",
       "      <td>0</td>\n",
       "      <td>1</td>\n",
       "      <td>0</td>\n",
       "      <td>0</td>\n",
       "      <td>64</td>\n",
       "      <td>5</td>\n",
       "      <td>why ca not -pron- get drunk anymore -pron- hav...</td>\n",
       "      <td>[-0.09739924970000001, 0.1839587241, -0.227181...</td>\n",
       "    </tr>\n",
       "    <tr>\n",
       "      <th>3</th>\n",
       "      <td>alcoholism</td>\n",
       "      <td>SauceoffSauceOn</td>\n",
       "      <td>2020-01-01</td>\n",
       "      <td>I am an Alcoholic. How do I quit? I have been ...</td>\n",
       "      <td>0</td>\n",
       "      <td>0</td>\n",
       "      <td>1</td>\n",
       "      <td>0</td>\n",
       "      <td>1</td>\n",
       "      <td>111</td>\n",
       "      <td>14</td>\n",
       "      <td>-pron- be an alcoholic how do -pron- quit -pro...</td>\n",
       "      <td>[-0.0117096035, 0.1865714192, -0.2576603591, -...</td>\n",
       "    </tr>\n",
       "    <tr>\n",
       "      <th>4</th>\n",
       "      <td>alcoholism</td>\n",
       "      <td>ben42187</td>\n",
       "      <td>2020-01-01</td>\n",
       "      <td>Funniest Thing about Alcoholism With every oth...</td>\n",
       "      <td>0</td>\n",
       "      <td>0</td>\n",
       "      <td>1</td>\n",
       "      <td>0</td>\n",
       "      <td>0</td>\n",
       "      <td>136</td>\n",
       "      <td>9</td>\n",
       "      <td>funniest thing about alcoholism with every oth...</td>\n",
       "      <td>[-0.0443742387, 0.1812106818, -0.1554362029000...</td>\n",
       "    </tr>\n",
       "  </tbody>\n",
       "</table>\n",
       "</div>"
      ],
      "text/plain": [
       "    subreddit             author       date  \\\n",
       "0  alcoholism    glorybellpirate 2020-01-01   \n",
       "1  alcoholism      EhndlessSl0th 2020-01-01   \n",
       "2  alcoholism  the_kinky_penguin 2020-01-01   \n",
       "3  alcoholism    SauceoffSauceOn 2020-01-01   \n",
       "4  alcoholism           ben42187 2020-01-01   \n",
       "\n",
       "                                                post  covid_related  suicidal  \\\n",
       "0  Day 1 of sobriety Feeling anxious and letting ...              0         0   \n",
       "1  Started the New Year with a bang. Hey, I'm new...              0         1   \n",
       "2  Why can't I get drunk anymore I've been a heav...              0         0   \n",
       "3  I am an Alcoholic. How do I quit? I have been ...              0         0   \n",
       "4  Funniest Thing about Alcoholism With every oth...              0         0   \n",
       "\n",
       "   alc_abuse  loneliness  stress  n_words  n_sentences  \\\n",
       "0          1           0       0       24            3   \n",
       "1          1           0       1      577           41   \n",
       "2          1           0       0       64            5   \n",
       "3          1           0       1      111           14   \n",
       "4          1           0       0      136            9   \n",
       "\n",
       "                                          lemmatized  \\\n",
       "0  day 1 of sobriety feel anxious and let the fee...   \n",
       "1  start the new year with a bang hey -pron- be n...   \n",
       "2  why ca not -pron- get drunk anymore -pron- hav...   \n",
       "3  -pron- be an alcoholic how do -pron- quit -pro...   \n",
       "4  funniest thing about alcoholism with every oth...   \n",
       "\n",
       "                                             vectors  \n",
       "0  [-0.026765203100000003, 0.2515704036, -0.15668...  \n",
       "1  [0.0102483444, 0.18354494870000002, -0.2263026...  \n",
       "2  [-0.09739924970000001, 0.1839587241, -0.227181...  \n",
       "3  [-0.0117096035, 0.1865714192, -0.2576603591, -...  \n",
       "4  [-0.0443742387, 0.1812106818, -0.1554362029000...  "
      ]
     },
     "execution_count": 100,
     "metadata": {},
     "output_type": "execute_result"
    }
   ],
   "source": [
    "# read in the main dataframe\n",
    "\n",
    "df = pd.read_json('../data/cleaned/json.json')\n",
    "\n",
    "df.head()"
   ]
  },
  {
   "cell_type": "code",
   "execution_count": 101,
   "metadata": {},
   "outputs": [],
   "source": [
    "# merge the labeled data to main dataframe\n",
    "\n",
    "df = pd.merge(df, labeled, how = 'left', on = 'post')"
   ]
  },
  {
   "cell_type": "code",
   "execution_count": 102,
   "metadata": {},
   "outputs": [
    {
     "data": {
      "text/plain": [
       "subreddit            0\n",
       "author               0\n",
       "date                 0\n",
       "post                 0\n",
       "covid_related        0\n",
       "suicidal             0\n",
       "alc_abuse            0\n",
       "loneliness           0\n",
       "stress               0\n",
       "n_words              0\n",
       "n_sentences          0\n",
       "lemmatized           0\n",
       "vectors              0\n",
       "label            99208\n",
       "dtype: int64"
      ]
     },
     "execution_count": 102,
     "metadata": {},
     "output_type": "execute_result"
    }
   ],
   "source": [
    "# check for nulls\n",
    "\n",
    "df.isnull().sum()"
   ]
  },
  {
   "cell_type": "code",
   "execution_count": 103,
   "metadata": {},
   "outputs": [],
   "source": [
    "# fill null values with 99 for easy distinction\n",
    "\n",
    "df.fillna(-1, inplace = True)"
   ]
  },
  {
   "cell_type": "code",
   "execution_count": 104,
   "metadata": {},
   "outputs": [
    {
     "data": {
      "text/plain": [
       "subreddit        0\n",
       "author           0\n",
       "date             0\n",
       "post             0\n",
       "covid_related    0\n",
       "suicidal         0\n",
       "alc_abuse        0\n",
       "loneliness       0\n",
       "stress           0\n",
       "n_words          0\n",
       "n_sentences      0\n",
       "lemmatized       0\n",
       "vectors          0\n",
       "label            0\n",
       "dtype: int64"
      ]
     },
     "execution_count": 104,
     "metadata": {},
     "output_type": "execute_result"
    }
   ],
   "source": [
    "df.isnull().sum()"
   ]
  },
  {
   "cell_type": "code",
   "execution_count": 105,
   "metadata": {},
   "outputs": [],
   "source": [
    "df.replace({9: 0}, inplace = True)"
   ]
  },
  {
   "cell_type": "code",
   "execution_count": 106,
   "metadata": {},
   "outputs": [],
   "source": [
    "# divide the datasets to labeled and not labeled\n",
    "\n",
    "unlabel = df[df['label'] == -1]\n",
    "label = df[df['label'] != -1]"
   ]
  },
  {
   "cell_type": "markdown",
   "metadata": {},
   "source": [
    "## Unlabeled Samples - 500"
   ]
  },
  {
   "cell_type": "code",
   "execution_count": 107,
   "metadata": {},
   "outputs": [
    {
     "name": "stdout",
     "output_type": "stream",
     "text": [
      "(3329, 14)\n"
     ]
    },
    {
     "data": {
      "text/html": [
       "<div>\n",
       "<style scoped>\n",
       "    .dataframe tbody tr th:only-of-type {\n",
       "        vertical-align: middle;\n",
       "    }\n",
       "\n",
       "    .dataframe tbody tr th {\n",
       "        vertical-align: top;\n",
       "    }\n",
       "\n",
       "    .dataframe thead th {\n",
       "        text-align: right;\n",
       "    }\n",
       "</style>\n",
       "<table border=\"1\" class=\"dataframe\">\n",
       "  <thead>\n",
       "    <tr style=\"text-align: right;\">\n",
       "      <th></th>\n",
       "      <th>subreddit</th>\n",
       "      <th>author</th>\n",
       "      <th>date</th>\n",
       "      <th>post</th>\n",
       "      <th>covid_related</th>\n",
       "      <th>suicidal</th>\n",
       "      <th>alc_abuse</th>\n",
       "      <th>loneliness</th>\n",
       "      <th>stress</th>\n",
       "      <th>n_words</th>\n",
       "      <th>n_sentences</th>\n",
       "      <th>lemmatized</th>\n",
       "      <th>vectors</th>\n",
       "      <th>label</th>\n",
       "    </tr>\n",
       "  </thead>\n",
       "  <tbody>\n",
       "    <tr>\n",
       "      <th>0</th>\n",
       "      <td>alcoholism</td>\n",
       "      <td>glorybellpirate</td>\n",
       "      <td>2020-01-01</td>\n",
       "      <td>Day 1 of sobriety Feeling anxious and letting ...</td>\n",
       "      <td>0</td>\n",
       "      <td>0</td>\n",
       "      <td>1</td>\n",
       "      <td>0</td>\n",
       "      <td>0</td>\n",
       "      <td>24</td>\n",
       "      <td>3</td>\n",
       "      <td>day 1 of sobriety feel anxious and let the fee...</td>\n",
       "      <td>[-0.026765203100000003, 0.2515704036, -0.15668...</td>\n",
       "      <td>0.0</td>\n",
       "    </tr>\n",
       "    <tr>\n",
       "      <th>1</th>\n",
       "      <td>alcoholism</td>\n",
       "      <td>EhndlessSl0th</td>\n",
       "      <td>2020-01-01</td>\n",
       "      <td>Started the New Year with a bang. Hey, I'm new...</td>\n",
       "      <td>0</td>\n",
       "      <td>1</td>\n",
       "      <td>1</td>\n",
       "      <td>0</td>\n",
       "      <td>1</td>\n",
       "      <td>577</td>\n",
       "      <td>41</td>\n",
       "      <td>start the new year with a bang hey -pron- be n...</td>\n",
       "      <td>[0.0102483444, 0.18354494870000002, -0.2263026...</td>\n",
       "      <td>0.0</td>\n",
       "    </tr>\n",
       "    <tr>\n",
       "      <th>2</th>\n",
       "      <td>alcoholism</td>\n",
       "      <td>the_kinky_penguin</td>\n",
       "      <td>2020-01-01</td>\n",
       "      <td>Why can't I get drunk anymore I've been a heav...</td>\n",
       "      <td>0</td>\n",
       "      <td>0</td>\n",
       "      <td>1</td>\n",
       "      <td>0</td>\n",
       "      <td>0</td>\n",
       "      <td>64</td>\n",
       "      <td>5</td>\n",
       "      <td>why ca not -pron- get drunk anymore -pron- hav...</td>\n",
       "      <td>[-0.09739924970000001, 0.1839587241, -0.227181...</td>\n",
       "      <td>0.0</td>\n",
       "    </tr>\n",
       "    <tr>\n",
       "      <th>3</th>\n",
       "      <td>alcoholism</td>\n",
       "      <td>SauceoffSauceOn</td>\n",
       "      <td>2020-01-01</td>\n",
       "      <td>I am an Alcoholic. How do I quit? I have been ...</td>\n",
       "      <td>0</td>\n",
       "      <td>0</td>\n",
       "      <td>1</td>\n",
       "      <td>0</td>\n",
       "      <td>1</td>\n",
       "      <td>111</td>\n",
       "      <td>14</td>\n",
       "      <td>-pron- be an alcoholic how do -pron- quit -pro...</td>\n",
       "      <td>[-0.0117096035, 0.1865714192, -0.2576603591, -...</td>\n",
       "      <td>0.0</td>\n",
       "    </tr>\n",
       "    <tr>\n",
       "      <th>4</th>\n",
       "      <td>alcoholism</td>\n",
       "      <td>ben42187</td>\n",
       "      <td>2020-01-01</td>\n",
       "      <td>Funniest Thing about Alcoholism With every oth...</td>\n",
       "      <td>0</td>\n",
       "      <td>0</td>\n",
       "      <td>1</td>\n",
       "      <td>0</td>\n",
       "      <td>0</td>\n",
       "      <td>136</td>\n",
       "      <td>0</td>\n",
       "      <td>funniest thing about alcoholism with every oth...</td>\n",
       "      <td>[-0.0443742387, 0.1812106818, -0.1554362029000...</td>\n",
       "      <td>0.0</td>\n",
       "    </tr>\n",
       "  </tbody>\n",
       "</table>\n",
       "</div>"
      ],
      "text/plain": [
       "    subreddit             author       date  \\\n",
       "0  alcoholism    glorybellpirate 2020-01-01   \n",
       "1  alcoholism      EhndlessSl0th 2020-01-01   \n",
       "2  alcoholism  the_kinky_penguin 2020-01-01   \n",
       "3  alcoholism    SauceoffSauceOn 2020-01-01   \n",
       "4  alcoholism           ben42187 2020-01-01   \n",
       "\n",
       "                                                post  covid_related  suicidal  \\\n",
       "0  Day 1 of sobriety Feeling anxious and letting ...              0         0   \n",
       "1  Started the New Year with a bang. Hey, I'm new...              0         1   \n",
       "2  Why can't I get drunk anymore I've been a heav...              0         0   \n",
       "3  I am an Alcoholic. How do I quit? I have been ...              0         0   \n",
       "4  Funniest Thing about Alcoholism With every oth...              0         0   \n",
       "\n",
       "   alc_abuse  loneliness  stress  n_words  n_sentences  \\\n",
       "0          1           0       0       24            3   \n",
       "1          1           0       1      577           41   \n",
       "2          1           0       0       64            5   \n",
       "3          1           0       1      111           14   \n",
       "4          1           0       0      136            0   \n",
       "\n",
       "                                          lemmatized  \\\n",
       "0  day 1 of sobriety feel anxious and let the fee...   \n",
       "1  start the new year with a bang hey -pron- be n...   \n",
       "2  why ca not -pron- get drunk anymore -pron- hav...   \n",
       "3  -pron- be an alcoholic how do -pron- quit -pro...   \n",
       "4  funniest thing about alcoholism with every oth...   \n",
       "\n",
       "                                             vectors  label  \n",
       "0  [-0.026765203100000003, 0.2515704036, -0.15668...    0.0  \n",
       "1  [0.0102483444, 0.18354494870000002, -0.2263026...    0.0  \n",
       "2  [-0.09739924970000001, 0.1839587241, -0.227181...    0.0  \n",
       "3  [-0.0117096035, 0.1865714192, -0.2576603591, -...    0.0  \n",
       "4  [-0.0443742387, 0.1812106818, -0.1554362029000...    0.0  "
      ]
     },
     "execution_count": 107,
     "metadata": {},
     "output_type": "execute_result"
    }
   ],
   "source": [
    "## choose a small portion of samples including labeled data to test the model\n",
    "# combine labeled data and sampled unlabeled data for test\n",
    "\n",
    "sampled = unlabel.sample(n = 500, random_state = 2020)\n",
    "\n",
    "df = pd.concat([label, sampled])\n",
    "\n",
    "print(df.shape)\n",
    "df.head()"
   ]
  },
  {
   "cell_type": "code",
   "execution_count": 108,
   "metadata": {},
   "outputs": [
    {
     "data": {
      "text/plain": [
       "subreddit\n",
       "alcoholism       1432\n",
       "anxiety            83\n",
       "bipolarreddit     394\n",
       "depression        705\n",
       "healthanxiety      10\n",
       "lonely             39\n",
       "mentalhealth       54\n",
       "suicidewatch      612\n",
       "Name: subreddit, dtype: int64"
      ]
     },
     "execution_count": 108,
     "metadata": {},
     "output_type": "execute_result"
    }
   ],
   "source": [
    "# check the distribution of subreddits\n",
    "# labeled dataset contains 500 from suicide, 500 from depression, 1428 from alcoholism, 390 from bipolarreddit\n",
    "\n",
    "df.groupby('subreddit')['subreddit'].count()"
   ]
  },
  {
   "cell_type": "code",
   "execution_count": 109,
   "metadata": {},
   "outputs": [
    {
     "name": "stdout",
     "output_type": "stream",
     "text": [
      "label    0.449751\n",
      "dtype: float64\n",
      "label    0.650099\n",
      "dtype: float64\n",
      "label    0.249004\n",
      "dtype: float64\n",
      "\n",
      "0.17497348886532343\n"
     ]
    }
   ],
   "source": [
    "# most of the suicidal posts from labeled data came from suicide watch and depression - check\n",
    "\n",
    "print(label[(label['subreddit'] == 'suicidewatch') | (label['subreddit'] == 'depression')][['label']].mean())\n",
    "print(label[label['subreddit'] == 'suicidewatch'][['label']].mean())\n",
    "print(label[label['subreddit'] == 'depression'][['label']].mean())\n",
    "print()\n",
    "print(label['label'].mean())"
   ]
  },
  {
   "cell_type": "code",
   "execution_count": 110,
   "metadata": {},
   "outputs": [],
   "source": [
    "# set up X and y\n",
    "\n",
    "X = df['lemmatized']\n",
    "y = df['label']"
   ]
  },
  {
   "cell_type": "code",
   "execution_count": 111,
   "metadata": {},
   "outputs": [
    {
     "data": {
      "text/plain": [
       "3329"
      ]
     },
     "execution_count": 111,
     "metadata": {},
     "output_type": "execute_result"
    }
   ],
   "source": [
    "len(y)"
   ]
  },
  {
   "cell_type": "code",
   "execution_count": 112,
   "metadata": {},
   "outputs": [
    {
     "data": {
      "text/plain": [
       "array([ 0.,  1., -1.])"
      ]
     },
     "execution_count": 112,
     "metadata": {},
     "output_type": "execute_result"
    }
   ],
   "source": [
    "y.unique()"
   ]
  },
  {
   "cell_type": "markdown",
   "metadata": {},
   "source": [
    "### TF-IDF Vectorizer with Parameters:\n",
    "#### max_features = 256, max_df = 0.8, min_df = 10, ngram_range = (1, 1)"
   ]
  },
  {
   "cell_type": "code",
   "execution_count": 17,
   "metadata": {},
   "outputs": [],
   "source": [
    "# update stop_words for TF-IDF vectorizer\n",
    "\n",
    "remove = ['-pron-', 'feel', 'know', 'want', 'life', 'go', 'think', 'make', 'people', 'really', 'even', 'much', 'now', \n",
    "          'pron', 'don', 'will', 'try', 'talk', 'friends', 'tell', 'just', 'like', 'time', 'want', 'well', 'thing', 'day',\n",
    "          'friend', 'help', 'year', 'bad', 've', 'say', 'good', 'need', 'way', 'right', 'month', 'amp', 'x200b']\n",
    "\n",
    "my_stop_words = text.ENGLISH_STOP_WORDS.union(remove)"
   ]
  },
  {
   "cell_type": "code",
   "execution_count": 18,
   "metadata": {},
   "outputs": [],
   "source": [
    "# instantiate Tf-IDF\n",
    "\n",
    "tvec = TfidfVectorizer(stop_words = my_stop_words, max_df = .80, min_df = 10, max_features = 256, ngram_range = (1, 1))"
   ]
  },
  {
   "cell_type": "code",
   "execution_count": 19,
   "metadata": {},
   "outputs": [
    {
     "data": {
      "text/html": [
       "<div>\n",
       "<style scoped>\n",
       "    .dataframe tbody tr th:only-of-type {\n",
       "        vertical-align: middle;\n",
       "    }\n",
       "\n",
       "    .dataframe tbody tr th {\n",
       "        vertical-align: top;\n",
       "    }\n",
       "\n",
       "    .dataframe thead th {\n",
       "        text-align: right;\n",
       "    }\n",
       "</style>\n",
       "<table border=\"1\" class=\"dataframe\">\n",
       "  <thead>\n",
       "    <tr style=\"text-align: right;\">\n",
       "      <th></th>\n",
       "      <th>10</th>\n",
       "      <th>20</th>\n",
       "      <th>30</th>\n",
       "      <th>aa</th>\n",
       "      <th>able</th>\n",
       "      <th>abuse</th>\n",
       "      <th>act</th>\n",
       "      <th>actually</th>\n",
       "      <th>addiction</th>\n",
       "      <th>advice</th>\n",
       "      <th>...</th>\n",
       "      <th>wish</th>\n",
       "      <th>withdrawal</th>\n",
       "      <th>wonder</th>\n",
       "      <th>work</th>\n",
       "      <th>world</th>\n",
       "      <th>worried</th>\n",
       "      <th>worry</th>\n",
       "      <th>write</th>\n",
       "      <th>wrong</th>\n",
       "      <th>young</th>\n",
       "    </tr>\n",
       "  </thead>\n",
       "  <tbody>\n",
       "    <tr>\n",
       "      <th>0</th>\n",
       "      <td>0.0</td>\n",
       "      <td>0.0</td>\n",
       "      <td>0.0</td>\n",
       "      <td>0.000000</td>\n",
       "      <td>0.0</td>\n",
       "      <td>0.0</td>\n",
       "      <td>0.0</td>\n",
       "      <td>0.0</td>\n",
       "      <td>0.0</td>\n",
       "      <td>0.000000</td>\n",
       "      <td>...</td>\n",
       "      <td>0.0</td>\n",
       "      <td>0.0000</td>\n",
       "      <td>0.0</td>\n",
       "      <td>0.0</td>\n",
       "      <td>0.0</td>\n",
       "      <td>0.0</td>\n",
       "      <td>0.0</td>\n",
       "      <td>0.0</td>\n",
       "      <td>0.000000</td>\n",
       "      <td>0.0</td>\n",
       "    </tr>\n",
       "    <tr>\n",
       "      <th>1</th>\n",
       "      <td>0.0</td>\n",
       "      <td>0.0</td>\n",
       "      <td>0.0</td>\n",
       "      <td>0.000000</td>\n",
       "      <td>0.0</td>\n",
       "      <td>0.0</td>\n",
       "      <td>0.0</td>\n",
       "      <td>0.0</td>\n",
       "      <td>0.0</td>\n",
       "      <td>0.000000</td>\n",
       "      <td>...</td>\n",
       "      <td>0.0</td>\n",
       "      <td>0.0000</td>\n",
       "      <td>0.0</td>\n",
       "      <td>0.0</td>\n",
       "      <td>0.0</td>\n",
       "      <td>0.0</td>\n",
       "      <td>0.0</td>\n",
       "      <td>0.0</td>\n",
       "      <td>0.095629</td>\n",
       "      <td>0.0</td>\n",
       "    </tr>\n",
       "    <tr>\n",
       "      <th>2</th>\n",
       "      <td>0.0</td>\n",
       "      <td>0.0</td>\n",
       "      <td>0.0</td>\n",
       "      <td>0.000000</td>\n",
       "      <td>0.0</td>\n",
       "      <td>0.0</td>\n",
       "      <td>0.0</td>\n",
       "      <td>0.0</td>\n",
       "      <td>0.0</td>\n",
       "      <td>0.000000</td>\n",
       "      <td>...</td>\n",
       "      <td>0.0</td>\n",
       "      <td>0.0000</td>\n",
       "      <td>0.0</td>\n",
       "      <td>0.0</td>\n",
       "      <td>0.0</td>\n",
       "      <td>0.0</td>\n",
       "      <td>0.0</td>\n",
       "      <td>0.0</td>\n",
       "      <td>0.000000</td>\n",
       "      <td>0.0</td>\n",
       "    </tr>\n",
       "    <tr>\n",
       "      <th>3</th>\n",
       "      <td>0.0</td>\n",
       "      <td>0.0</td>\n",
       "      <td>0.0</td>\n",
       "      <td>0.278592</td>\n",
       "      <td>0.0</td>\n",
       "      <td>0.0</td>\n",
       "      <td>0.0</td>\n",
       "      <td>0.0</td>\n",
       "      <td>0.0</td>\n",
       "      <td>0.209062</td>\n",
       "      <td>...</td>\n",
       "      <td>0.0</td>\n",
       "      <td>0.2621</td>\n",
       "      <td>0.0</td>\n",
       "      <td>0.0</td>\n",
       "      <td>0.0</td>\n",
       "      <td>0.0</td>\n",
       "      <td>0.0</td>\n",
       "      <td>0.0</td>\n",
       "      <td>0.000000</td>\n",
       "      <td>0.0</td>\n",
       "    </tr>\n",
       "    <tr>\n",
       "      <th>4</th>\n",
       "      <td>0.0</td>\n",
       "      <td>0.0</td>\n",
       "      <td>0.0</td>\n",
       "      <td>0.000000</td>\n",
       "      <td>0.0</td>\n",
       "      <td>0.0</td>\n",
       "      <td>0.0</td>\n",
       "      <td>0.0</td>\n",
       "      <td>0.0</td>\n",
       "      <td>0.000000</td>\n",
       "      <td>...</td>\n",
       "      <td>0.0</td>\n",
       "      <td>0.0000</td>\n",
       "      <td>0.0</td>\n",
       "      <td>0.0</td>\n",
       "      <td>0.0</td>\n",
       "      <td>0.0</td>\n",
       "      <td>0.0</td>\n",
       "      <td>0.0</td>\n",
       "      <td>0.000000</td>\n",
       "      <td>0.0</td>\n",
       "    </tr>\n",
       "  </tbody>\n",
       "</table>\n",
       "<p>5 rows × 256 columns</p>\n",
       "</div>"
      ],
      "text/plain": [
       "    10   20   30        aa  able  abuse  act  actually  addiction    advice  \\\n",
       "0  0.0  0.0  0.0  0.000000   0.0    0.0  0.0       0.0        0.0  0.000000   \n",
       "1  0.0  0.0  0.0  0.000000   0.0    0.0  0.0       0.0        0.0  0.000000   \n",
       "2  0.0  0.0  0.0  0.000000   0.0    0.0  0.0       0.0        0.0  0.000000   \n",
       "3  0.0  0.0  0.0  0.278592   0.0    0.0  0.0       0.0        0.0  0.209062   \n",
       "4  0.0  0.0  0.0  0.000000   0.0    0.0  0.0       0.0        0.0  0.000000   \n",
       "\n",
       "   ...  wish  withdrawal  wonder  work  world  worried  worry  write  \\\n",
       "0  ...   0.0      0.0000     0.0   0.0    0.0      0.0    0.0    0.0   \n",
       "1  ...   0.0      0.0000     0.0   0.0    0.0      0.0    0.0    0.0   \n",
       "2  ...   0.0      0.0000     0.0   0.0    0.0      0.0    0.0    0.0   \n",
       "3  ...   0.0      0.2621     0.0   0.0    0.0      0.0    0.0    0.0   \n",
       "4  ...   0.0      0.0000     0.0   0.0    0.0      0.0    0.0    0.0   \n",
       "\n",
       "      wrong  young  \n",
       "0  0.000000    0.0  \n",
       "1  0.095629    0.0  \n",
       "2  0.000000    0.0  \n",
       "3  0.000000    0.0  \n",
       "4  0.000000    0.0  \n",
       "\n",
       "[5 rows x 256 columns]"
      ]
     },
     "execution_count": 19,
     "metadata": {},
     "output_type": "execute_result"
    }
   ],
   "source": [
    "# fit/transform X then save it to a dataframe\n",
    "\n",
    "t = pd.DataFrame(tvec.fit_transform(X).toarray(),\n",
    "                 columns = tvec.get_feature_names())\n",
    "t.head()"
   ]
  },
  {
   "cell_type": "code",
   "execution_count": 20,
   "metadata": {},
   "outputs": [],
   "source": [
    "# instantiate LabelPropagation model, fit, and predict\n",
    "\n",
    "model = LabelPropagation()\n",
    "model.fit(t, y)\n",
    "pred = np.array(model.predict(t))"
   ]
  },
  {
   "cell_type": "code",
   "execution_count": 21,
   "metadata": {},
   "outputs": [
    {
     "name": "stdout",
     "output_type": "stream",
     "text": [
      "3329\n",
      "3329\n"
     ]
    }
   ],
   "source": [
    "# check the length of both label and prediction\n",
    "\n",
    "print(len(y))\n",
    "print(len(pred))"
   ]
  },
  {
   "cell_type": "code",
   "execution_count": 22,
   "metadata": {},
   "outputs": [],
   "source": [
    "# create a dataframe just with label and prediction\n",
    "\n",
    "d = {'label': y, 'pred': pred}\n",
    "\n",
    "p = pd.DataFrame(d)"
   ]
  },
  {
   "cell_type": "code",
   "execution_count": 23,
   "metadata": {},
   "outputs": [],
   "source": [
    "# create a separate dataframe to check the accuracy of the model with the labeled data\n",
    "\n",
    "cf = p[p['label'] != -1]"
   ]
  },
  {
   "cell_type": "code",
   "execution_count": 24,
   "metadata": {},
   "outputs": [],
   "source": [
    "# get the values from confusion matrix\n",
    "\n",
    "tn, fp, fn, tp = confusion_matrix(cf['label'], cf['pred'], normalize = 'true').ravel()"
   ]
  },
  {
   "cell_type": "code",
   "execution_count": 25,
   "metadata": {},
   "outputs": [
    {
     "name": "stdout",
     "output_type": "stream",
     "text": [
      "True Negative: 1.0\n",
      "False Positive: 0.0\n",
      "False Negative: 0.006060606060606061\n",
      "True Positive: 0.9939393939393939\n"
     ]
    }
   ],
   "source": [
    "# check the values from confusion matrix\n",
    "\n",
    "print(f'True Negative: {tn}')\n",
    "print(f'False Positive: {fp}')\n",
    "print(f'False Negative: {fn}')\n",
    "print(f'True Positive: {tp}')"
   ]
  },
  {
   "cell_type": "code",
   "execution_count": 26,
   "metadata": {},
   "outputs": [
    {
     "name": "stdout",
     "output_type": "stream",
     "text": [
      "              precision    recall  f1-score   support\n",
      "\n",
      "non-suicidal       1.00      1.00      1.00      2334\n",
      "    suicidal       1.00      0.99      1.00       495\n",
      "\n",
      "    accuracy                           1.00      2829\n",
      "   macro avg       1.00      1.00      1.00      2829\n",
      "weighted avg       1.00      1.00      1.00      2829\n",
      "\n"
     ]
    }
   ],
   "source": [
    "# classification report\n",
    "\n",
    "print(classification_report(cf['label'], cf['pred'], target_names = ['non-suicidal', 'suicidal']))"
   ]
  },
  {
   "cell_type": "code",
   "execution_count": 27,
   "metadata": {},
   "outputs": [
    {
     "data": {
      "text/plain": [
       "{0.0, 1.0}"
      ]
     },
     "execution_count": 27,
     "metadata": {},
     "output_type": "execute_result"
    }
   ],
   "source": [
    "# check pred for unlabeled to make sure it only contains 0 and 1\n",
    "\n",
    "cf_u = p[p['label'] == -1]\n",
    "\n",
    "set(cf_u['pred'])"
   ]
  },
  {
   "cell_type": "markdown",
   "metadata": {},
   "source": [
    "### TF-IDF Vectorizer with Parameters:\n",
    "#### max_features = 256, max_df = 0.8, min_df = 10, ngram_range = (2, 2)"
   ]
  },
  {
   "cell_type": "code",
   "execution_count": 28,
   "metadata": {},
   "outputs": [],
   "source": [
    "# instantiate Tf-IDF\n",
    "\n",
    "tvec = TfidfVectorizer(stop_words = my_stop_words, max_df = .80, min_df = 10, max_features = 256, ngram_range = (2, 2))"
   ]
  },
  {
   "cell_type": "code",
   "execution_count": 29,
   "metadata": {},
   "outputs": [
    {
     "data": {
      "text/html": [
       "<div>\n",
       "<style scoped>\n",
       "    .dataframe tbody tr th:only-of-type {\n",
       "        vertical-align: middle;\n",
       "    }\n",
       "\n",
       "    .dataframe tbody tr th {\n",
       "        vertical-align: top;\n",
       "    }\n",
       "\n",
       "    .dataframe thead th {\n",
       "        text-align: right;\n",
       "    }\n",
       "</style>\n",
       "<table border=\"1\" class=\"dataframe\">\n",
       "  <thead>\n",
       "    <tr style=\"text-align: right;\">\n",
       "      <th></th>\n",
       "      <th>10 ago</th>\n",
       "      <th>10 hour</th>\n",
       "      <th>100 mg</th>\n",
       "      <th>20 old</th>\n",
       "      <th>24 hour</th>\n",
       "      <th>aa meeting</th>\n",
       "      <th>admit problem</th>\n",
       "      <th>advice appreciate</th>\n",
       "      <th>ago start</th>\n",
       "      <th>alcohol abuse</th>\n",
       "      <th>...</th>\n",
       "      <th>weight gain</th>\n",
       "      <th>withdrawal symptom</th>\n",
       "      <th>work drink</th>\n",
       "      <th>work hard</th>\n",
       "      <th>work home</th>\n",
       "      <th>work hour</th>\n",
       "      <th>work week</th>\n",
       "      <th>work work</th>\n",
       "      <th>worth live</th>\n",
       "      <th>www reddit</th>\n",
       "    </tr>\n",
       "  </thead>\n",
       "  <tbody>\n",
       "    <tr>\n",
       "      <th>0</th>\n",
       "      <td>0.0</td>\n",
       "      <td>0.0</td>\n",
       "      <td>0.0</td>\n",
       "      <td>0.0</td>\n",
       "      <td>0.0</td>\n",
       "      <td>0.000000</td>\n",
       "      <td>0.0</td>\n",
       "      <td>0.0</td>\n",
       "      <td>0.0</td>\n",
       "      <td>0.0</td>\n",
       "      <td>...</td>\n",
       "      <td>0.0</td>\n",
       "      <td>0.0</td>\n",
       "      <td>0.0</td>\n",
       "      <td>0.0</td>\n",
       "      <td>0.0</td>\n",
       "      <td>0.0</td>\n",
       "      <td>0.0</td>\n",
       "      <td>0.0</td>\n",
       "      <td>0.0</td>\n",
       "      <td>0.0</td>\n",
       "    </tr>\n",
       "    <tr>\n",
       "      <th>1</th>\n",
       "      <td>0.0</td>\n",
       "      <td>0.0</td>\n",
       "      <td>0.0</td>\n",
       "      <td>0.0</td>\n",
       "      <td>0.0</td>\n",
       "      <td>0.000000</td>\n",
       "      <td>0.0</td>\n",
       "      <td>0.0</td>\n",
       "      <td>0.0</td>\n",
       "      <td>0.0</td>\n",
       "      <td>...</td>\n",
       "      <td>0.0</td>\n",
       "      <td>0.0</td>\n",
       "      <td>0.0</td>\n",
       "      <td>0.0</td>\n",
       "      <td>0.0</td>\n",
       "      <td>0.0</td>\n",
       "      <td>0.0</td>\n",
       "      <td>0.0</td>\n",
       "      <td>0.0</td>\n",
       "      <td>0.0</td>\n",
       "    </tr>\n",
       "    <tr>\n",
       "      <th>2</th>\n",
       "      <td>0.0</td>\n",
       "      <td>0.0</td>\n",
       "      <td>0.0</td>\n",
       "      <td>0.0</td>\n",
       "      <td>0.0</td>\n",
       "      <td>0.000000</td>\n",
       "      <td>0.0</td>\n",
       "      <td>0.0</td>\n",
       "      <td>0.0</td>\n",
       "      <td>0.0</td>\n",
       "      <td>...</td>\n",
       "      <td>0.0</td>\n",
       "      <td>0.0</td>\n",
       "      <td>0.0</td>\n",
       "      <td>0.0</td>\n",
       "      <td>0.0</td>\n",
       "      <td>0.0</td>\n",
       "      <td>0.0</td>\n",
       "      <td>0.0</td>\n",
       "      <td>0.0</td>\n",
       "      <td>0.0</td>\n",
       "    </tr>\n",
       "    <tr>\n",
       "      <th>3</th>\n",
       "      <td>0.0</td>\n",
       "      <td>0.0</td>\n",
       "      <td>0.0</td>\n",
       "      <td>0.0</td>\n",
       "      <td>0.0</td>\n",
       "      <td>0.358126</td>\n",
       "      <td>0.0</td>\n",
       "      <td>0.0</td>\n",
       "      <td>0.0</td>\n",
       "      <td>0.0</td>\n",
       "      <td>...</td>\n",
       "      <td>0.0</td>\n",
       "      <td>0.0</td>\n",
       "      <td>0.0</td>\n",
       "      <td>0.0</td>\n",
       "      <td>0.0</td>\n",
       "      <td>0.0</td>\n",
       "      <td>0.0</td>\n",
       "      <td>0.0</td>\n",
       "      <td>0.0</td>\n",
       "      <td>0.0</td>\n",
       "    </tr>\n",
       "    <tr>\n",
       "      <th>4</th>\n",
       "      <td>0.0</td>\n",
       "      <td>0.0</td>\n",
       "      <td>0.0</td>\n",
       "      <td>0.0</td>\n",
       "      <td>0.0</td>\n",
       "      <td>0.000000</td>\n",
       "      <td>0.0</td>\n",
       "      <td>0.0</td>\n",
       "      <td>0.0</td>\n",
       "      <td>0.0</td>\n",
       "      <td>...</td>\n",
       "      <td>0.0</td>\n",
       "      <td>0.0</td>\n",
       "      <td>0.0</td>\n",
       "      <td>0.0</td>\n",
       "      <td>0.0</td>\n",
       "      <td>0.0</td>\n",
       "      <td>0.0</td>\n",
       "      <td>0.0</td>\n",
       "      <td>0.0</td>\n",
       "      <td>0.0</td>\n",
       "    </tr>\n",
       "  </tbody>\n",
       "</table>\n",
       "<p>5 rows × 256 columns</p>\n",
       "</div>"
      ],
      "text/plain": [
       "   10 ago  10 hour  100 mg  20 old  24 hour  aa meeting  admit problem  \\\n",
       "0     0.0      0.0     0.0     0.0      0.0    0.000000            0.0   \n",
       "1     0.0      0.0     0.0     0.0      0.0    0.000000            0.0   \n",
       "2     0.0      0.0     0.0     0.0      0.0    0.000000            0.0   \n",
       "3     0.0      0.0     0.0     0.0      0.0    0.358126            0.0   \n",
       "4     0.0      0.0     0.0     0.0      0.0    0.000000            0.0   \n",
       "\n",
       "   advice appreciate  ago start  alcohol abuse  ...  weight gain  \\\n",
       "0                0.0        0.0            0.0  ...          0.0   \n",
       "1                0.0        0.0            0.0  ...          0.0   \n",
       "2                0.0        0.0            0.0  ...          0.0   \n",
       "3                0.0        0.0            0.0  ...          0.0   \n",
       "4                0.0        0.0            0.0  ...          0.0   \n",
       "\n",
       "   withdrawal symptom  work drink  work hard  work home  work hour  work week  \\\n",
       "0                 0.0         0.0        0.0        0.0        0.0        0.0   \n",
       "1                 0.0         0.0        0.0        0.0        0.0        0.0   \n",
       "2                 0.0         0.0        0.0        0.0        0.0        0.0   \n",
       "3                 0.0         0.0        0.0        0.0        0.0        0.0   \n",
       "4                 0.0         0.0        0.0        0.0        0.0        0.0   \n",
       "\n",
       "   work work  worth live  www reddit  \n",
       "0        0.0         0.0         0.0  \n",
       "1        0.0         0.0         0.0  \n",
       "2        0.0         0.0         0.0  \n",
       "3        0.0         0.0         0.0  \n",
       "4        0.0         0.0         0.0  \n",
       "\n",
       "[5 rows x 256 columns]"
      ]
     },
     "execution_count": 29,
     "metadata": {},
     "output_type": "execute_result"
    }
   ],
   "source": [
    "# fit/transform X then save it to a dataframe\n",
    "\n",
    "t = pd.DataFrame(tvec.fit_transform(X).toarray(),\n",
    "                 columns = tvec.get_feature_names())\n",
    "t.head()"
   ]
  },
  {
   "cell_type": "code",
   "execution_count": 30,
   "metadata": {},
   "outputs": [],
   "source": [
    "# instantiate LabelPropagation model, fit, and predict\n",
    "\n",
    "model = LabelPropagation()\n",
    "model.fit(t, y)\n",
    "pred = np.array(model.predict(t))"
   ]
  },
  {
   "cell_type": "code",
   "execution_count": 31,
   "metadata": {},
   "outputs": [
    {
     "name": "stdout",
     "output_type": "stream",
     "text": [
      "3329\n",
      "3329\n"
     ]
    }
   ],
   "source": [
    "# check the length of both label and prediction\n",
    "\n",
    "print(len(y))\n",
    "print(len(pred))"
   ]
  },
  {
   "cell_type": "code",
   "execution_count": 32,
   "metadata": {},
   "outputs": [],
   "source": [
    "# create a dataframe just with label and prediction\n",
    "\n",
    "d = {'label': y, 'pred': pred}\n",
    "\n",
    "p = pd.DataFrame(d)"
   ]
  },
  {
   "cell_type": "code",
   "execution_count": 33,
   "metadata": {},
   "outputs": [],
   "source": [
    "# create a separate dataframe to check the accuracy of the model with the labeled data\n",
    "\n",
    "cf = p[p['label'] != -1]"
   ]
  },
  {
   "cell_type": "code",
   "execution_count": 34,
   "metadata": {},
   "outputs": [],
   "source": [
    "# get the values from confusion matrix\n",
    "\n",
    "tn, fp, fn, tp = confusion_matrix(cf['label'], cf['pred'], normalize = 'true').ravel()"
   ]
  },
  {
   "cell_type": "code",
   "execution_count": 35,
   "metadata": {},
   "outputs": [
    {
     "name": "stdout",
     "output_type": "stream",
     "text": [
      "True Negative: 0.9875749785775493\n",
      "False Positive: 0.012425021422450729\n",
      "False Negative: 0.49696969696969695\n",
      "True Positive: 0.503030303030303\n"
     ]
    }
   ],
   "source": [
    "# check the values from confusion matrix\n",
    "\n",
    "print(f'True Negative: {tn}')\n",
    "print(f'False Positive: {fp}')\n",
    "print(f'False Negative: {fn}')\n",
    "print(f'True Positive: {tp}')"
   ]
  },
  {
   "cell_type": "code",
   "execution_count": 36,
   "metadata": {},
   "outputs": [
    {
     "name": "stdout",
     "output_type": "stream",
     "text": [
      "              precision    recall  f1-score   support\n",
      "\n",
      "non-suicidal       0.90      0.99      0.94      2334\n",
      "    suicidal       0.90      0.50      0.64       495\n",
      "\n",
      "    accuracy                           0.90      2829\n",
      "   macro avg       0.90      0.75      0.79      2829\n",
      "weighted avg       0.90      0.90      0.89      2829\n",
      "\n"
     ]
    }
   ],
   "source": [
    "# classification report\n",
    "\n",
    "print(classification_report(cf['label'], cf['pred'], target_names = ['non-suicidal', 'suicidal']))"
   ]
  },
  {
   "cell_type": "code",
   "execution_count": 37,
   "metadata": {},
   "outputs": [
    {
     "data": {
      "text/plain": [
       "{0.0, 1.0}"
      ]
     },
     "execution_count": 37,
     "metadata": {},
     "output_type": "execute_result"
    }
   ],
   "source": [
    "# check pred for unlabeled to make sure it only contains 0 and 1\n",
    "\n",
    "cf_u = p[p['label'] == -1]\n",
    "\n",
    "set(cf_u['pred'])"
   ]
  },
  {
   "cell_type": "markdown",
   "metadata": {},
   "source": [
    "><font size = 4><font color = \"purple\">\n",
    "Unigram works much much better than 2-gram, so we will use the parameter 1-gram for TF-IDF Vectorizer.</font></font>"
   ]
  },
  {
   "cell_type": "markdown",
   "metadata": {},
   "source": [
    "## Implement seudo labeling for entire dataset\n",
    "### by sections due to its size"
   ]
  },
  {
   "cell_type": "code",
   "execution_count": 38,
   "metadata": {},
   "outputs": [
    {
     "data": {
      "text/plain": [
       "20"
      ]
     },
     "execution_count": 38,
     "metadata": {},
     "output_type": "execute_result"
    }
   ],
   "source": [
    "# split dataframe into relatively same size\n",
    "\n",
    "n = 5000\n",
    "\n",
    "list_df = [unlabel[i: (i + n)] for i in range(0, unlabel.shape[0], n)]\n",
    "\n",
    "len(list_df)"
   ]
  },
  {
   "cell_type": "code",
   "execution_count": 39,
   "metadata": {},
   "outputs": [
    {
     "data": {
      "text/plain": [
       "[(5000, 14),\n",
       " (5000, 14),\n",
       " (5000, 14),\n",
       " (5000, 14),\n",
       " (5000, 14),\n",
       " (5000, 14),\n",
       " (5000, 14),\n",
       " (5000, 14),\n",
       " (5000, 14),\n",
       " (5000, 14),\n",
       " (5000, 14),\n",
       " (5000, 14),\n",
       " (5000, 14),\n",
       " (5000, 14),\n",
       " (5000, 14),\n",
       " (5000, 14),\n",
       " (5000, 14),\n",
       " (5000, 14),\n",
       " (5000, 14),\n",
       " (4208, 14)]"
      ]
     },
     "execution_count": 39,
     "metadata": {},
     "output_type": "execute_result"
    }
   ],
   "source": [
    "# check the shape of each dataset\n",
    "\n",
    "[j.shape for j in list_df]"
   ]
  },
  {
   "cell_type": "code",
   "execution_count": 40,
   "metadata": {},
   "outputs": [],
   "source": [
    "# instantiate tf-idf vectorizer\n",
    "\n",
    "tvec = TfidfVectorizer(stop_words = my_stop_words, max_features = 256, max_df = 0.8, min_df = 10, ngram_range= (1, 1))"
   ]
  },
  {
   "cell_type": "code",
   "execution_count": 46,
   "metadata": {},
   "outputs": [],
   "source": [
    "# combine labeled and sections of unlabeled dataframe\n",
    "# fit/predict - and get classification report to compare the f1 score\n",
    "\n",
    "def gamma(df1, df_list, gamma):\n",
    "    \n",
    "    for i in range(len(df_list)):\n",
    "        \n",
    "        df = pd.concat([df1, df_list[i]])\n",
    "        \n",
    "        X = df['lemmatized']\n",
    "        y = df['label']\n",
    "        \n",
    "        t = pd.DataFrame(tvec.fit_transform(X).toarray(), columns = tvec.get_feature_names())\n",
    "        \n",
    "        model = LabelPropagation(gamma = gamma)\n",
    "        \n",
    "        model.fit(t, y)\n",
    "        \n",
    "        pred = np.array(model.predict(t))\n",
    "        \n",
    "        dct = {'label': y, 'pred': pred}\n",
    "        \n",
    "        values = pd.DataFrame(dct)\n",
    "        \n",
    "        scoring = values[values['label'] != -1]\n",
    "\n",
    "        return print(classification_report(scoring['label'], scoring['pred'], target_names = ['non-suicidal', 'suicidal']))"
   ]
  },
  {
   "cell_type": "code",
   "execution_count": 47,
   "metadata": {},
   "outputs": [
    {
     "name": "stderr",
     "output_type": "stream",
     "text": [
      "/Users/juhee/opt/anaconda3/envs/dsi/lib/python3.7/site-packages/sklearn/semi_supervised/_label_propagation.py:292: ConvergenceWarning: max_iter=1000 was reached without convergence.\n",
      "  category=ConvergenceWarning\n"
     ]
    },
    {
     "name": "stdout",
     "output_type": "stream",
     "text": [
      "              precision    recall  f1-score   support\n",
      "\n",
      "non-suicidal       1.00      1.00      1.00      2334\n",
      "    suicidal       1.00      0.99      1.00       495\n",
      "\n",
      "    accuracy                           1.00      2829\n",
      "   macro avg       1.00      1.00      1.00      2829\n",
      "weighted avg       1.00      1.00      1.00      2829\n",
      "\n"
     ]
    }
   ],
   "source": [
    "# with gamma = 10\n",
    "\n",
    "gamma(label, list_df, 10)"
   ]
  },
  {
   "cell_type": "markdown",
   "metadata": {},
   "source": [
    "><font size = 4><font color = 'purple'>Gamma does not seem to impact the scores. Implement pseudo labeling.</font></font>"
   ]
  },
  {
   "cell_type": "code",
   "execution_count": 54,
   "metadata": {},
   "outputs": [],
   "source": [
    "# create an empty list to store the predictions for unlabeled data\n",
    "\n",
    "y_pred = []\n",
    "\n",
    "# iterate through sectioned dataframe\n",
    "\n",
    "for i in range(len(list_df)):\n",
    "    \n",
    "    # combine the labeled data and unlabeled data\n",
    "    \n",
    "    df = pd.concat([label, list_df[i]])\n",
    "    \n",
    "    # set X and y\n",
    "    \n",
    "    X = df['lemmatized']\n",
    "    y = df['label']\n",
    "    \n",
    "    # vectorized values to a dataframe\n",
    "    \n",
    "    t = pd.DataFrame(tvec.fit_transform(X).toarray(), columns = tvec.get_feature_names())\n",
    "    \n",
    "    # instantiate the model\n",
    "    \n",
    "    model = LabelPropagation()\n",
    "    \n",
    "    # fit and predict\n",
    "    \n",
    "    model.fit(t, y)\n",
    "    pred = np.array(model.predict(t))\n",
    "    \n",
    "    # extract predicted values just for the unlabeled\n",
    "    \n",
    "    dct = {'label': y, 'pred': pred}\n",
    "    values = pd.DataFrame(dct)\n",
    "    non_scoring = values[values['label'] == -1]\n",
    "\n",
    "    # extend the prediction to the list\n",
    "    \n",
    "    y_pred.extend(non_scoring['pred'])"
   ]
  },
  {
   "cell_type": "code",
   "execution_count": 56,
   "metadata": {},
   "outputs": [],
   "source": [
    "# create a column to store prediction\n",
    "\n",
    "unlabel['pred'] = y_pred"
   ]
  },
  {
   "cell_type": "code",
   "execution_count": 58,
   "metadata": {},
   "outputs": [
    {
     "data": {
      "text/plain": [
       "subreddit           0\n",
       "author              0\n",
       "date                0\n",
       "post                0\n",
       "covid_related       0\n",
       "suicidal            0\n",
       "alc_abuse           0\n",
       "loneliness          0\n",
       "stress              0\n",
       "n_words             0\n",
       "n_sentences         0\n",
       "lemmatized          0\n",
       "vectors             0\n",
       "label               0\n",
       "pred             2829\n",
       "dtype: int64"
      ]
     },
     "execution_count": 58,
     "metadata": {},
     "output_type": "execute_result"
    }
   ],
   "source": [
    "# check the null values - 'pred' column should have 2829 rows of null\n",
    "\n",
    "pd.concat([label, unlabel]).isnull().sum()"
   ]
  },
  {
   "cell_type": "code",
   "execution_count": 59,
   "metadata": {},
   "outputs": [],
   "source": [
    "# combine labeled and unlabeled dataframes\n",
    "\n",
    "df = pd.concat([label, unlabel])"
   ]
  },
  {
   "cell_type": "code",
   "execution_count": 70,
   "metadata": {},
   "outputs": [],
   "source": [
    "# fill null values in pred with label values\n",
    "\n",
    "df['pred'].fillna(df['label'], inplace = True)"
   ]
  },
  {
   "cell_type": "code",
   "execution_count": 71,
   "metadata": {},
   "outputs": [
    {
     "data": {
      "text/plain": [
       "subreddit        0\n",
       "author           0\n",
       "date             0\n",
       "post             0\n",
       "covid_related    0\n",
       "suicidal         0\n",
       "alc_abuse        0\n",
       "loneliness       0\n",
       "stress           0\n",
       "n_words          0\n",
       "n_sentences      0\n",
       "lemmatized       0\n",
       "vectors          0\n",
       "label            0\n",
       "pred             0\n",
       "dtype: int64"
      ]
     },
     "execution_count": 71,
     "metadata": {},
     "output_type": "execute_result"
    }
   ],
   "source": [
    "# check for null\n",
    "\n",
    "df.isnull().sum()"
   ]
  },
  {
   "cell_type": "code",
   "execution_count": 74,
   "metadata": {},
   "outputs": [
    {
     "data": {
      "text/html": [
       "<div>\n",
       "<style scoped>\n",
       "    .dataframe tbody tr th:only-of-type {\n",
       "        vertical-align: middle;\n",
       "    }\n",
       "\n",
       "    .dataframe tbody tr th {\n",
       "        vertical-align: top;\n",
       "    }\n",
       "\n",
       "    .dataframe thead th {\n",
       "        text-align: right;\n",
       "    }\n",
       "</style>\n",
       "<table border=\"1\" class=\"dataframe\">\n",
       "  <thead>\n",
       "    <tr style=\"text-align: right;\">\n",
       "      <th></th>\n",
       "      <th>subreddit</th>\n",
       "      <th>author</th>\n",
       "      <th>date</th>\n",
       "      <th>post</th>\n",
       "      <th>covid_related</th>\n",
       "      <th>suicidal</th>\n",
       "      <th>alc_abuse</th>\n",
       "      <th>loneliness</th>\n",
       "      <th>stress</th>\n",
       "      <th>n_words</th>\n",
       "      <th>n_sentences</th>\n",
       "      <th>lemmatized</th>\n",
       "      <th>vectors</th>\n",
       "      <th>pred</th>\n",
       "    </tr>\n",
       "  </thead>\n",
       "  <tbody>\n",
       "    <tr>\n",
       "      <th>0</th>\n",
       "      <td>alcoholism</td>\n",
       "      <td>glorybellpirate</td>\n",
       "      <td>2020-01-01</td>\n",
       "      <td>Day 1 of sobriety Feeling anxious and letting ...</td>\n",
       "      <td>0</td>\n",
       "      <td>0</td>\n",
       "      <td>1</td>\n",
       "      <td>0</td>\n",
       "      <td>0</td>\n",
       "      <td>24</td>\n",
       "      <td>3</td>\n",
       "      <td>day 1 of sobriety feel anxious and let the fee...</td>\n",
       "      <td>[-0.026765203100000003, 0.2515704036, -0.15668...</td>\n",
       "      <td>0.0</td>\n",
       "    </tr>\n",
       "    <tr>\n",
       "      <th>1</th>\n",
       "      <td>alcoholism</td>\n",
       "      <td>EhndlessSl0th</td>\n",
       "      <td>2020-01-01</td>\n",
       "      <td>Started the New Year with a bang. Hey, I'm new...</td>\n",
       "      <td>0</td>\n",
       "      <td>1</td>\n",
       "      <td>1</td>\n",
       "      <td>0</td>\n",
       "      <td>1</td>\n",
       "      <td>577</td>\n",
       "      <td>41</td>\n",
       "      <td>start the new year with a bang hey -pron- be n...</td>\n",
       "      <td>[0.0102483444, 0.18354494870000002, -0.2263026...</td>\n",
       "      <td>0.0</td>\n",
       "    </tr>\n",
       "    <tr>\n",
       "      <th>2</th>\n",
       "      <td>alcoholism</td>\n",
       "      <td>the_kinky_penguin</td>\n",
       "      <td>2020-01-01</td>\n",
       "      <td>Why can't I get drunk anymore I've been a heav...</td>\n",
       "      <td>0</td>\n",
       "      <td>0</td>\n",
       "      <td>1</td>\n",
       "      <td>0</td>\n",
       "      <td>0</td>\n",
       "      <td>64</td>\n",
       "      <td>5</td>\n",
       "      <td>why ca not -pron- get drunk anymore -pron- hav...</td>\n",
       "      <td>[-0.09739924970000001, 0.1839587241, -0.227181...</td>\n",
       "      <td>0.0</td>\n",
       "    </tr>\n",
       "    <tr>\n",
       "      <th>3</th>\n",
       "      <td>alcoholism</td>\n",
       "      <td>SauceoffSauceOn</td>\n",
       "      <td>2020-01-01</td>\n",
       "      <td>I am an Alcoholic. How do I quit? I have been ...</td>\n",
       "      <td>0</td>\n",
       "      <td>0</td>\n",
       "      <td>1</td>\n",
       "      <td>0</td>\n",
       "      <td>1</td>\n",
       "      <td>111</td>\n",
       "      <td>14</td>\n",
       "      <td>-pron- be an alcoholic how do -pron- quit -pro...</td>\n",
       "      <td>[-0.0117096035, 0.1865714192, -0.2576603591, -...</td>\n",
       "      <td>0.0</td>\n",
       "    </tr>\n",
       "    <tr>\n",
       "      <th>4</th>\n",
       "      <td>alcoholism</td>\n",
       "      <td>ben42187</td>\n",
       "      <td>2020-01-01</td>\n",
       "      <td>Funniest Thing about Alcoholism With every oth...</td>\n",
       "      <td>0</td>\n",
       "      <td>0</td>\n",
       "      <td>1</td>\n",
       "      <td>0</td>\n",
       "      <td>0</td>\n",
       "      <td>136</td>\n",
       "      <td>0</td>\n",
       "      <td>funniest thing about alcoholism with every oth...</td>\n",
       "      <td>[-0.0443742387, 0.1812106818, -0.1554362029000...</td>\n",
       "      <td>0.0</td>\n",
       "    </tr>\n",
       "  </tbody>\n",
       "</table>\n",
       "</div>"
      ],
      "text/plain": [
       "    subreddit             author       date  \\\n",
       "0  alcoholism    glorybellpirate 2020-01-01   \n",
       "1  alcoholism      EhndlessSl0th 2020-01-01   \n",
       "2  alcoholism  the_kinky_penguin 2020-01-01   \n",
       "3  alcoholism    SauceoffSauceOn 2020-01-01   \n",
       "4  alcoholism           ben42187 2020-01-01   \n",
       "\n",
       "                                                post  covid_related  suicidal  \\\n",
       "0  Day 1 of sobriety Feeling anxious and letting ...              0         0   \n",
       "1  Started the New Year with a bang. Hey, I'm new...              0         1   \n",
       "2  Why can't I get drunk anymore I've been a heav...              0         0   \n",
       "3  I am an Alcoholic. How do I quit? I have been ...              0         0   \n",
       "4  Funniest Thing about Alcoholism With every oth...              0         0   \n",
       "\n",
       "   alc_abuse  loneliness  stress  n_words  n_sentences  \\\n",
       "0          1           0       0       24            3   \n",
       "1          1           0       1      577           41   \n",
       "2          1           0       0       64            5   \n",
       "3          1           0       1      111           14   \n",
       "4          1           0       0      136            0   \n",
       "\n",
       "                                          lemmatized  \\\n",
       "0  day 1 of sobriety feel anxious and let the fee...   \n",
       "1  start the new year with a bang hey -pron- be n...   \n",
       "2  why ca not -pron- get drunk anymore -pron- hav...   \n",
       "3  -pron- be an alcoholic how do -pron- quit -pro...   \n",
       "4  funniest thing about alcoholism with every oth...   \n",
       "\n",
       "                                             vectors  pred  \n",
       "0  [-0.026765203100000003, 0.2515704036, -0.15668...   0.0  \n",
       "1  [0.0102483444, 0.18354494870000002, -0.2263026...   0.0  \n",
       "2  [-0.09739924970000001, 0.1839587241, -0.227181...   0.0  \n",
       "3  [-0.0117096035, 0.1865714192, -0.2576603591, -...   0.0  \n",
       "4  [-0.0443742387, 0.1812106818, -0.1554362029000...   0.0  "
      ]
     },
     "execution_count": 74,
     "metadata": {},
     "output_type": "execute_result"
    }
   ],
   "source": [
    "# drop label column\n",
    "\n",
    "df.drop(columns = ['label'], axis = 1, inplace = True)\n",
    "\n",
    "df.head()"
   ]
  },
  {
   "cell_type": "code",
   "execution_count": 78,
   "metadata": {},
   "outputs": [],
   "source": [
    "# rename column pred as label\n",
    "\n",
    "df.rename(columns = {'pred': 'label'}, inplace = True)"
   ]
  },
  {
   "cell_type": "code",
   "execution_count": 80,
   "metadata": {},
   "outputs": [
    {
     "data": {
      "text/html": [
       "<div>\n",
       "<style scoped>\n",
       "    .dataframe tbody tr th:only-of-type {\n",
       "        vertical-align: middle;\n",
       "    }\n",
       "\n",
       "    .dataframe tbody tr th {\n",
       "        vertical-align: top;\n",
       "    }\n",
       "\n",
       "    .dataframe thead th {\n",
       "        text-align: right;\n",
       "    }\n",
       "</style>\n",
       "<table border=\"1\" class=\"dataframe\">\n",
       "  <thead>\n",
       "    <tr style=\"text-align: right;\">\n",
       "      <th></th>\n",
       "      <th>subreddit</th>\n",
       "      <th>author</th>\n",
       "      <th>date</th>\n",
       "      <th>post</th>\n",
       "      <th>covid_related</th>\n",
       "      <th>suicidal</th>\n",
       "      <th>alc_abuse</th>\n",
       "      <th>loneliness</th>\n",
       "      <th>stress</th>\n",
       "      <th>n_words</th>\n",
       "      <th>n_sentences</th>\n",
       "      <th>lemmatized</th>\n",
       "      <th>vectors</th>\n",
       "      <th>label</th>\n",
       "    </tr>\n",
       "  </thead>\n",
       "  <tbody>\n",
       "    <tr>\n",
       "      <th>0</th>\n",
       "      <td>alcoholism</td>\n",
       "      <td>glorybellpirate</td>\n",
       "      <td>2020-01-01</td>\n",
       "      <td>Day 1 of sobriety Feeling anxious and letting ...</td>\n",
       "      <td>0</td>\n",
       "      <td>0</td>\n",
       "      <td>1</td>\n",
       "      <td>0</td>\n",
       "      <td>0</td>\n",
       "      <td>24</td>\n",
       "      <td>3</td>\n",
       "      <td>day 1 of sobriety feel anxious and let the fee...</td>\n",
       "      <td>[-0.026765203100000003, 0.2515704036, -0.15668...</td>\n",
       "      <td>0.0</td>\n",
       "    </tr>\n",
       "    <tr>\n",
       "      <th>1</th>\n",
       "      <td>alcoholism</td>\n",
       "      <td>EhndlessSl0th</td>\n",
       "      <td>2020-01-01</td>\n",
       "      <td>Started the New Year with a bang. Hey, I'm new...</td>\n",
       "      <td>0</td>\n",
       "      <td>1</td>\n",
       "      <td>1</td>\n",
       "      <td>0</td>\n",
       "      <td>1</td>\n",
       "      <td>577</td>\n",
       "      <td>41</td>\n",
       "      <td>start the new year with a bang hey -pron- be n...</td>\n",
       "      <td>[0.0102483444, 0.18354494870000002, -0.2263026...</td>\n",
       "      <td>0.0</td>\n",
       "    </tr>\n",
       "    <tr>\n",
       "      <th>2</th>\n",
       "      <td>alcoholism</td>\n",
       "      <td>the_kinky_penguin</td>\n",
       "      <td>2020-01-01</td>\n",
       "      <td>Why can't I get drunk anymore I've been a heav...</td>\n",
       "      <td>0</td>\n",
       "      <td>0</td>\n",
       "      <td>1</td>\n",
       "      <td>0</td>\n",
       "      <td>0</td>\n",
       "      <td>64</td>\n",
       "      <td>5</td>\n",
       "      <td>why ca not -pron- get drunk anymore -pron- hav...</td>\n",
       "      <td>[-0.09739924970000001, 0.1839587241, -0.227181...</td>\n",
       "      <td>0.0</td>\n",
       "    </tr>\n",
       "  </tbody>\n",
       "</table>\n",
       "</div>"
      ],
      "text/plain": [
       "    subreddit             author       date  \\\n",
       "0  alcoholism    glorybellpirate 2020-01-01   \n",
       "1  alcoholism      EhndlessSl0th 2020-01-01   \n",
       "2  alcoholism  the_kinky_penguin 2020-01-01   \n",
       "\n",
       "                                                post  covid_related  suicidal  \\\n",
       "0  Day 1 of sobriety Feeling anxious and letting ...              0         0   \n",
       "1  Started the New Year with a bang. Hey, I'm new...              0         1   \n",
       "2  Why can't I get drunk anymore I've been a heav...              0         0   \n",
       "\n",
       "   alc_abuse  loneliness  stress  n_words  n_sentences  \\\n",
       "0          1           0       0       24            3   \n",
       "1          1           0       1      577           41   \n",
       "2          1           0       0       64            5   \n",
       "\n",
       "                                          lemmatized  \\\n",
       "0  day 1 of sobriety feel anxious and let the fee...   \n",
       "1  start the new year with a bang hey -pron- be n...   \n",
       "2  why ca not -pron- get drunk anymore -pron- hav...   \n",
       "\n",
       "                                             vectors  label  \n",
       "0  [-0.026765203100000003, 0.2515704036, -0.15668...    0.0  \n",
       "1  [0.0102483444, 0.18354494870000002, -0.2263026...    0.0  \n",
       "2  [-0.09739924970000001, 0.1839587241, -0.227181...    0.0  "
      ]
     },
     "execution_count": 80,
     "metadata": {},
     "output_type": "execute_result"
    }
   ],
   "source": [
    "# check\n",
    "\n",
    "df.head(3)"
   ]
  },
  {
   "cell_type": "code",
   "execution_count": 82,
   "metadata": {},
   "outputs": [],
   "source": [
    "# change label column to int\n",
    "\n",
    "df['label'] = df['label'].astype(int)"
   ]
  },
  {
   "cell_type": "code",
   "execution_count": 83,
   "metadata": {},
   "outputs": [
    {
     "data": {
      "text/plain": [
       "0.055274067250115154"
      ]
     },
     "execution_count": 83,
     "metadata": {},
     "output_type": "execute_result"
    }
   ],
   "source": [
    "# check the label\n",
    "\n",
    "df['label'].mean()"
   ]
  },
  {
   "cell_type": "code",
   "execution_count": 86,
   "metadata": {},
   "outputs": [],
   "source": [
    "# store labeled dataset witout spacy vectors in a new dataframe\n",
    "\n",
    "labeled = df.drop(columns = ['vectors'], axis = 1)"
   ]
  },
  {
   "cell_type": "code",
   "execution_count": 87,
   "metadata": {},
   "outputs": [
    {
     "data": {
      "text/html": [
       "<div>\n",
       "<style scoped>\n",
       "    .dataframe tbody tr th:only-of-type {\n",
       "        vertical-align: middle;\n",
       "    }\n",
       "\n",
       "    .dataframe tbody tr th {\n",
       "        vertical-align: top;\n",
       "    }\n",
       "\n",
       "    .dataframe thead th {\n",
       "        text-align: right;\n",
       "    }\n",
       "</style>\n",
       "<table border=\"1\" class=\"dataframe\">\n",
       "  <thead>\n",
       "    <tr style=\"text-align: right;\">\n",
       "      <th></th>\n",
       "      <th>label</th>\n",
       "    </tr>\n",
       "    <tr>\n",
       "      <th>subreddit</th>\n",
       "      <th></th>\n",
       "    </tr>\n",
       "  </thead>\n",
       "  <tbody>\n",
       "    <tr>\n",
       "      <th>alcoholism</th>\n",
       "      <td>0.006285</td>\n",
       "    </tr>\n",
       "    <tr>\n",
       "      <th>anxiety</th>\n",
       "      <td>0.024660</td>\n",
       "    </tr>\n",
       "    <tr>\n",
       "      <th>bipolarreddit</th>\n",
       "      <td>0.039474</td>\n",
       "    </tr>\n",
       "    <tr>\n",
       "      <th>depression</th>\n",
       "      <td>0.056504</td>\n",
       "    </tr>\n",
       "    <tr>\n",
       "      <th>healthanxiety</th>\n",
       "      <td>0.009477</td>\n",
       "    </tr>\n",
       "    <tr>\n",
       "      <th>lonely</th>\n",
       "      <td>0.048900</td>\n",
       "    </tr>\n",
       "    <tr>\n",
       "      <th>mentalhealth</th>\n",
       "      <td>0.034779</td>\n",
       "    </tr>\n",
       "    <tr>\n",
       "      <th>suicidewatch</th>\n",
       "      <td>0.100598</td>\n",
       "    </tr>\n",
       "  </tbody>\n",
       "</table>\n",
       "</div>"
      ],
      "text/plain": [
       "                  label\n",
       "subreddit              \n",
       "alcoholism     0.006285\n",
       "anxiety        0.024660\n",
       "bipolarreddit  0.039474\n",
       "depression     0.056504\n",
       "healthanxiety  0.009477\n",
       "lonely         0.048900\n",
       "mentalhealth   0.034779\n",
       "suicidewatch   0.100598"
      ]
     },
     "execution_count": 87,
     "metadata": {},
     "output_type": "execute_result"
    }
   ],
   "source": [
    "# check each subreddit how they are labeled\n",
    "\n",
    "labeled.groupby('subreddit')[['label']].mean()"
   ]
  },
  {
   "cell_type": "code",
   "execution_count": null,
   "metadata": {},
   "outputs": [],
   "source": []
  },
  {
   "cell_type": "markdown",
   "metadata": {},
   "source": [
    "## Word2Vec"
   ]
  },
  {
   "cell_type": "code",
   "execution_count": 117,
   "metadata": {},
   "outputs": [],
   "source": [
    "## import libraries\n",
    "# faster looping\n",
    "\n",
    "from itertools import islice\n",
    "\n",
    "# create own warning sign\n",
    "\n",
    "import logging\n",
    "\n",
    "# nlp\n",
    "\n",
    "import nltk"
   ]
  },
  {
   "cell_type": "code",
   "execution_count": 97,
   "metadata": {},
   "outputs": [],
   "source": [
    "# create word2vec model\n",
    "\n",
    "file_path = '/Users/juhee/Desktop/GA/08-week/8.05-lesson-word-vectors/lexvec.enwiki+newscrawl.300d.W.pos.vectors'\n",
    "\n",
    "w2v = gensim.models.KeyedVectors.load_word2vec_format(file_path)"
   ]
  },
  {
   "cell_type": "code",
   "execution_count": 113,
   "metadata": {},
   "outputs": [
    {
     "data": {
      "text/plain": [
       "['bal',\n",
       " 'harley',\n",
       " 'proponents',\n",
       " 'escalating',\n",
       " 'madeleine',\n",
       " 'crushing',\n",
       " 'yielded',\n",
       " 'understandable',\n",
       " 'agnes',\n",
       " 'victorious',\n",
       " 'rockefeller',\n",
       " 'deeds',\n",
       " 'jude',\n",
       " 'doomed',\n",
       " 'sundays',\n",
       " 'rejecting',\n",
       " 'prep',\n",
       " 'concession']"
      ]
     },
     "execution_count": 113,
     "metadata": {},
     "output_type": "execute_result"
    }
   ],
   "source": [
    "# precompute l2 normalized vectors \n",
    "\n",
    "w2v.init_sims(replace = True)\n",
    "\n",
    "# check the vocabulary index between 13030 and 13048 in w2v model\n",
    "\n",
    "list(islice(w2v.vocab, 13030, 13048))"
   ]
  },
  {
   "cell_type": "code",
   "execution_count": 114,
   "metadata": {},
   "outputs": [],
   "source": [
    "# average word vectors\n",
    "\n",
    "def word_averaging(model, words):\n",
    "    \n",
    "    # store all words from posts as a set to filter duplicates and average in a list\n",
    "    \n",
    "    all_words, mean = set(), []\n",
    "    \n",
    "    for word in words:\n",
    "        \n",
    "        # word is in an array form (vector arrays), then append it to mean\n",
    "        \n",
    "        if isinstance(word, np.ndarray):\n",
    "            mean.append(word)\n",
    "        \n",
    "        # word is in model vocabulary, append it to mean, and add it to the words set\n",
    "        \n",
    "        elif word in model.vocab:\n",
    "            mean.append(model.syn0norm[model.vocab[word].index])\n",
    "            all_words.add(model.vocab[word].index)\n",
    "    \n",
    "    # word cannot be computated to vectoris, generate a warning and fill it with 0\n",
    "    \n",
    "    if not mean:\n",
    "        logging.warning('cannot compute similarity with no input %s', words)\n",
    "        return np.zeros(model.vector_size, )\n",
    "    \n",
    "    # scale vectors to unit length\n",
    "    \n",
    "    mean = gensim.matutils.unitvec(np.array(mean).mean(axis = 0)).astype(np.float32)\n",
    "    \n",
    "    return mean\n",
    "\n",
    "def word_averaging_list(model, text_list):\n",
    "    \n",
    "    # stack the arrays vertically\n",
    "    \n",
    "    return np.vstack([word_averaging(model, post) for post in text_list])"
   ]
  },
  {
   "cell_type": "code",
   "execution_count": 118,
   "metadata": {},
   "outputs": [],
   "source": [
    "# create a function to tokenize\n",
    "\n",
    "def w2v_tokenize_text(text):\n",
    "    \n",
    "    # store tokes in a list\n",
    "    \n",
    "    tokens = []\n",
    "    \n",
    "    # iterate through every sentence in a post\n",
    "    \n",
    "    for sent in nltk.sent_tokenize(text.lower(), language = 'english'):\n",
    "        \n",
    "        # iterate through every word in a sentence\n",
    "        \n",
    "        for word in nltk.word_tokenize(sent, language = 'english'):\n",
    "            \n",
    "            # discard 1 letter words\n",
    "            \n",
    "            if len(word) < 2:\n",
    "                continue\n",
    "            \n",
    "            # add word to the token list\n",
    "            \n",
    "            tokens.append(word)\n",
    "    \n",
    "    return tokens"
   ]
  },
  {
   "cell_type": "code",
   "execution_count": 119,
   "metadata": {},
   "outputs": [],
   "source": [
    "# tokenize\n",
    "\n",
    "tokenized = df.apply(lambda r: w2v_tokenize_text(r['post']), axis = 1).values"
   ]
  },
  {
   "cell_type": "code",
   "execution_count": 120,
   "metadata": {},
   "outputs": [
    {
     "data": {
      "text/plain": [
       "['day',\n",
       " 'of',\n",
       " 'sobriety',\n",
       " 'feeling',\n",
       " 'anxious',\n",
       " 'and',\n",
       " 'letting',\n",
       " 'the',\n",
       " 'feelings',\n",
       " 'flow',\n",
       " 'why',\n",
       " 'is',\n",
       " 'alcohol',\n",
       " 'everywhere',\n",
       " 'on',\n",
       " 'tv',\n",
       " 'breathe',\n",
       " 'through',\n",
       " 'it']"
      ]
     },
     "execution_count": 120,
     "metadata": {},
     "output_type": "execute_result"
    }
   ],
   "source": [
    "tokenized[0]"
   ]
  },
  {
   "cell_type": "code",
   "execution_count": 121,
   "metadata": {},
   "outputs": [],
   "source": [
    "# get the word average\n",
    "\n",
    "word_average = word_averaging_list(w2v, tokenized)"
   ]
  },
  {
   "cell_type": "code",
   "execution_count": 122,
   "metadata": {},
   "outputs": [
    {
     "name": "stdout",
     "output_type": "stream",
     "text": [
      "3329\n",
      "300\n"
     ]
    }
   ],
   "source": [
    "# get information of vectors\n",
    "\n",
    "print(len(word_average))\n",
    "print(len(word_average[0]))"
   ]
  },
  {
   "cell_type": "code",
   "execution_count": 123,
   "metadata": {},
   "outputs": [],
   "source": [
    "# store word_average in a dataframe\n",
    "\n",
    "w2vecs = pd.DataFrame(word_average, columns = list(range(1, 301)))"
   ]
  },
  {
   "cell_type": "code",
   "execution_count": 124,
   "metadata": {},
   "outputs": [
    {
     "data": {
      "text/html": [
       "<div>\n",
       "<style scoped>\n",
       "    .dataframe tbody tr th:only-of-type {\n",
       "        vertical-align: middle;\n",
       "    }\n",
       "\n",
       "    .dataframe tbody tr th {\n",
       "        vertical-align: top;\n",
       "    }\n",
       "\n",
       "    .dataframe thead th {\n",
       "        text-align: right;\n",
       "    }\n",
       "</style>\n",
       "<table border=\"1\" class=\"dataframe\">\n",
       "  <thead>\n",
       "    <tr style=\"text-align: right;\">\n",
       "      <th></th>\n",
       "      <th>1</th>\n",
       "      <th>2</th>\n",
       "      <th>3</th>\n",
       "      <th>4</th>\n",
       "      <th>5</th>\n",
       "      <th>6</th>\n",
       "      <th>7</th>\n",
       "      <th>8</th>\n",
       "      <th>9</th>\n",
       "      <th>10</th>\n",
       "      <th>...</th>\n",
       "      <th>291</th>\n",
       "      <th>292</th>\n",
       "      <th>293</th>\n",
       "      <th>294</th>\n",
       "      <th>295</th>\n",
       "      <th>296</th>\n",
       "      <th>297</th>\n",
       "      <th>298</th>\n",
       "      <th>299</th>\n",
       "      <th>300</th>\n",
       "    </tr>\n",
       "  </thead>\n",
       "  <tbody>\n",
       "    <tr>\n",
       "      <th>0</th>\n",
       "      <td>0.037460</td>\n",
       "      <td>0.034029</td>\n",
       "      <td>0.055597</td>\n",
       "      <td>-0.088117</td>\n",
       "      <td>-0.058507</td>\n",
       "      <td>0.005221</td>\n",
       "      <td>-0.106107</td>\n",
       "      <td>-0.059396</td>\n",
       "      <td>0.026664</td>\n",
       "      <td>0.032608</td>\n",
       "      <td>...</td>\n",
       "      <td>0.004527</td>\n",
       "      <td>-0.081843</td>\n",
       "      <td>-0.004714</td>\n",
       "      <td>-0.122824</td>\n",
       "      <td>-0.052387</td>\n",
       "      <td>0.063062</td>\n",
       "      <td>0.056496</td>\n",
       "      <td>-0.050070</td>\n",
       "      <td>-0.037649</td>\n",
       "      <td>-0.038785</td>\n",
       "    </tr>\n",
       "    <tr>\n",
       "      <th>1</th>\n",
       "      <td>0.035795</td>\n",
       "      <td>0.055317</td>\n",
       "      <td>0.068639</td>\n",
       "      <td>-0.036306</td>\n",
       "      <td>-0.072369</td>\n",
       "      <td>0.051879</td>\n",
       "      <td>-0.086426</td>\n",
       "      <td>-0.074786</td>\n",
       "      <td>0.000019</td>\n",
       "      <td>0.040920</td>\n",
       "      <td>...</td>\n",
       "      <td>0.010527</td>\n",
       "      <td>-0.012978</td>\n",
       "      <td>-0.032673</td>\n",
       "      <td>-0.137554</td>\n",
       "      <td>-0.038872</td>\n",
       "      <td>0.092861</td>\n",
       "      <td>0.045020</td>\n",
       "      <td>-0.032196</td>\n",
       "      <td>-0.007265</td>\n",
       "      <td>-0.039375</td>\n",
       "    </tr>\n",
       "    <tr>\n",
       "      <th>2</th>\n",
       "      <td>0.046500</td>\n",
       "      <td>-0.021264</td>\n",
       "      <td>0.074944</td>\n",
       "      <td>-0.025710</td>\n",
       "      <td>-0.038560</td>\n",
       "      <td>0.065254</td>\n",
       "      <td>-0.095385</td>\n",
       "      <td>-0.117162</td>\n",
       "      <td>0.001046</td>\n",
       "      <td>0.068352</td>\n",
       "      <td>...</td>\n",
       "      <td>-0.009813</td>\n",
       "      <td>-0.051927</td>\n",
       "      <td>-0.042510</td>\n",
       "      <td>-0.111192</td>\n",
       "      <td>-0.032969</td>\n",
       "      <td>0.086183</td>\n",
       "      <td>0.038650</td>\n",
       "      <td>-0.065420</td>\n",
       "      <td>-0.031204</td>\n",
       "      <td>0.027661</td>\n",
       "    </tr>\n",
       "    <tr>\n",
       "      <th>3</th>\n",
       "      <td>0.080897</td>\n",
       "      <td>-0.036834</td>\n",
       "      <td>0.100167</td>\n",
       "      <td>0.018957</td>\n",
       "      <td>-0.043922</td>\n",
       "      <td>0.044533</td>\n",
       "      <td>-0.082013</td>\n",
       "      <td>-0.142459</td>\n",
       "      <td>0.035959</td>\n",
       "      <td>0.053978</td>\n",
       "      <td>...</td>\n",
       "      <td>0.037125</td>\n",
       "      <td>0.006417</td>\n",
       "      <td>-0.057249</td>\n",
       "      <td>-0.074064</td>\n",
       "      <td>-0.022859</td>\n",
       "      <td>0.052665</td>\n",
       "      <td>0.005002</td>\n",
       "      <td>-0.068471</td>\n",
       "      <td>0.006779</td>\n",
       "      <td>-0.003934</td>\n",
       "    </tr>\n",
       "    <tr>\n",
       "      <th>4</th>\n",
       "      <td>0.040934</td>\n",
       "      <td>0.053291</td>\n",
       "      <td>0.078219</td>\n",
       "      <td>-0.061615</td>\n",
       "      <td>-0.055173</td>\n",
       "      <td>0.040084</td>\n",
       "      <td>-0.112820</td>\n",
       "      <td>-0.092787</td>\n",
       "      <td>0.006901</td>\n",
       "      <td>0.079071</td>\n",
       "      <td>...</td>\n",
       "      <td>-0.014055</td>\n",
       "      <td>0.003156</td>\n",
       "      <td>-0.016104</td>\n",
       "      <td>-0.124517</td>\n",
       "      <td>-0.042584</td>\n",
       "      <td>0.092943</td>\n",
       "      <td>0.050748</td>\n",
       "      <td>-0.068932</td>\n",
       "      <td>-0.005761</td>\n",
       "      <td>-0.037822</td>\n",
       "    </tr>\n",
       "    <tr>\n",
       "      <th>...</th>\n",
       "      <td>...</td>\n",
       "      <td>...</td>\n",
       "      <td>...</td>\n",
       "      <td>...</td>\n",
       "      <td>...</td>\n",
       "      <td>...</td>\n",
       "      <td>...</td>\n",
       "      <td>...</td>\n",
       "      <td>...</td>\n",
       "      <td>...</td>\n",
       "      <td>...</td>\n",
       "      <td>...</td>\n",
       "      <td>...</td>\n",
       "      <td>...</td>\n",
       "      <td>...</td>\n",
       "      <td>...</td>\n",
       "      <td>...</td>\n",
       "      <td>...</td>\n",
       "      <td>...</td>\n",
       "      <td>...</td>\n",
       "      <td>...</td>\n",
       "    </tr>\n",
       "    <tr>\n",
       "      <th>3324</th>\n",
       "      <td>0.065093</td>\n",
       "      <td>0.021342</td>\n",
       "      <td>0.093285</td>\n",
       "      <td>-0.054928</td>\n",
       "      <td>-0.046333</td>\n",
       "      <td>0.056814</td>\n",
       "      <td>-0.093443</td>\n",
       "      <td>-0.123148</td>\n",
       "      <td>0.030101</td>\n",
       "      <td>0.043364</td>\n",
       "      <td>...</td>\n",
       "      <td>0.036998</td>\n",
       "      <td>-0.031662</td>\n",
       "      <td>-0.037633</td>\n",
       "      <td>-0.121989</td>\n",
       "      <td>-0.023170</td>\n",
       "      <td>0.061828</td>\n",
       "      <td>0.028451</td>\n",
       "      <td>-0.062842</td>\n",
       "      <td>0.019890</td>\n",
       "      <td>-0.021757</td>\n",
       "    </tr>\n",
       "    <tr>\n",
       "      <th>3325</th>\n",
       "      <td>0.024629</td>\n",
       "      <td>0.011509</td>\n",
       "      <td>0.067459</td>\n",
       "      <td>-0.048470</td>\n",
       "      <td>-0.029087</td>\n",
       "      <td>0.053946</td>\n",
       "      <td>-0.097083</td>\n",
       "      <td>-0.137825</td>\n",
       "      <td>0.027765</td>\n",
       "      <td>0.041543</td>\n",
       "      <td>...</td>\n",
       "      <td>0.025892</td>\n",
       "      <td>-0.008239</td>\n",
       "      <td>-0.043675</td>\n",
       "      <td>-0.097586</td>\n",
       "      <td>-0.015809</td>\n",
       "      <td>0.087455</td>\n",
       "      <td>0.005613</td>\n",
       "      <td>-0.064735</td>\n",
       "      <td>-0.022789</td>\n",
       "      <td>-0.010430</td>\n",
       "    </tr>\n",
       "    <tr>\n",
       "      <th>3326</th>\n",
       "      <td>0.048005</td>\n",
       "      <td>0.014318</td>\n",
       "      <td>0.075801</td>\n",
       "      <td>-0.024941</td>\n",
       "      <td>-0.050677</td>\n",
       "      <td>0.064399</td>\n",
       "      <td>-0.105592</td>\n",
       "      <td>-0.124935</td>\n",
       "      <td>0.022253</td>\n",
       "      <td>0.062350</td>\n",
       "      <td>...</td>\n",
       "      <td>0.038320</td>\n",
       "      <td>-0.003675</td>\n",
       "      <td>-0.036363</td>\n",
       "      <td>-0.097034</td>\n",
       "      <td>-0.023825</td>\n",
       "      <td>0.076075</td>\n",
       "      <td>0.013838</td>\n",
       "      <td>-0.076001</td>\n",
       "      <td>0.013714</td>\n",
       "      <td>-0.008262</td>\n",
       "    </tr>\n",
       "    <tr>\n",
       "      <th>3327</th>\n",
       "      <td>0.047735</td>\n",
       "      <td>0.015429</td>\n",
       "      <td>0.102364</td>\n",
       "      <td>0.036355</td>\n",
       "      <td>-0.081131</td>\n",
       "      <td>0.010826</td>\n",
       "      <td>-0.052715</td>\n",
       "      <td>-0.071956</td>\n",
       "      <td>-0.019834</td>\n",
       "      <td>-0.031022</td>\n",
       "      <td>...</td>\n",
       "      <td>0.015134</td>\n",
       "      <td>0.017768</td>\n",
       "      <td>-0.051100</td>\n",
       "      <td>-0.081129</td>\n",
       "      <td>-0.034281</td>\n",
       "      <td>0.073929</td>\n",
       "      <td>0.030706</td>\n",
       "      <td>-0.056229</td>\n",
       "      <td>-0.020722</td>\n",
       "      <td>0.000609</td>\n",
       "    </tr>\n",
       "    <tr>\n",
       "      <th>3328</th>\n",
       "      <td>0.050670</td>\n",
       "      <td>0.014567</td>\n",
       "      <td>0.098464</td>\n",
       "      <td>-0.023454</td>\n",
       "      <td>-0.067015</td>\n",
       "      <td>0.049391</td>\n",
       "      <td>-0.082324</td>\n",
       "      <td>-0.113592</td>\n",
       "      <td>0.028504</td>\n",
       "      <td>0.031137</td>\n",
       "      <td>...</td>\n",
       "      <td>0.036761</td>\n",
       "      <td>-0.015452</td>\n",
       "      <td>-0.056470</td>\n",
       "      <td>-0.113602</td>\n",
       "      <td>-0.023050</td>\n",
       "      <td>0.086602</td>\n",
       "      <td>0.022655</td>\n",
       "      <td>-0.039899</td>\n",
       "      <td>-0.015162</td>\n",
       "      <td>-0.007808</td>\n",
       "    </tr>\n",
       "  </tbody>\n",
       "</table>\n",
       "<p>3329 rows × 300 columns</p>\n",
       "</div>"
      ],
      "text/plain": [
       "           1         2         3         4         5         6         7    \\\n",
       "0     0.037460  0.034029  0.055597 -0.088117 -0.058507  0.005221 -0.106107   \n",
       "1     0.035795  0.055317  0.068639 -0.036306 -0.072369  0.051879 -0.086426   \n",
       "2     0.046500 -0.021264  0.074944 -0.025710 -0.038560  0.065254 -0.095385   \n",
       "3     0.080897 -0.036834  0.100167  0.018957 -0.043922  0.044533 -0.082013   \n",
       "4     0.040934  0.053291  0.078219 -0.061615 -0.055173  0.040084 -0.112820   \n",
       "...        ...       ...       ...       ...       ...       ...       ...   \n",
       "3324  0.065093  0.021342  0.093285 -0.054928 -0.046333  0.056814 -0.093443   \n",
       "3325  0.024629  0.011509  0.067459 -0.048470 -0.029087  0.053946 -0.097083   \n",
       "3326  0.048005  0.014318  0.075801 -0.024941 -0.050677  0.064399 -0.105592   \n",
       "3327  0.047735  0.015429  0.102364  0.036355 -0.081131  0.010826 -0.052715   \n",
       "3328  0.050670  0.014567  0.098464 -0.023454 -0.067015  0.049391 -0.082324   \n",
       "\n",
       "           8         9         10   ...       291       292       293  \\\n",
       "0    -0.059396  0.026664  0.032608  ...  0.004527 -0.081843 -0.004714   \n",
       "1    -0.074786  0.000019  0.040920  ...  0.010527 -0.012978 -0.032673   \n",
       "2    -0.117162  0.001046  0.068352  ... -0.009813 -0.051927 -0.042510   \n",
       "3    -0.142459  0.035959  0.053978  ...  0.037125  0.006417 -0.057249   \n",
       "4    -0.092787  0.006901  0.079071  ... -0.014055  0.003156 -0.016104   \n",
       "...        ...       ...       ...  ...       ...       ...       ...   \n",
       "3324 -0.123148  0.030101  0.043364  ...  0.036998 -0.031662 -0.037633   \n",
       "3325 -0.137825  0.027765  0.041543  ...  0.025892 -0.008239 -0.043675   \n",
       "3326 -0.124935  0.022253  0.062350  ...  0.038320 -0.003675 -0.036363   \n",
       "3327 -0.071956 -0.019834 -0.031022  ...  0.015134  0.017768 -0.051100   \n",
       "3328 -0.113592  0.028504  0.031137  ...  0.036761 -0.015452 -0.056470   \n",
       "\n",
       "           294       295       296       297       298       299       300  \n",
       "0    -0.122824 -0.052387  0.063062  0.056496 -0.050070 -0.037649 -0.038785  \n",
       "1    -0.137554 -0.038872  0.092861  0.045020 -0.032196 -0.007265 -0.039375  \n",
       "2    -0.111192 -0.032969  0.086183  0.038650 -0.065420 -0.031204  0.027661  \n",
       "3    -0.074064 -0.022859  0.052665  0.005002 -0.068471  0.006779 -0.003934  \n",
       "4    -0.124517 -0.042584  0.092943  0.050748 -0.068932 -0.005761 -0.037822  \n",
       "...        ...       ...       ...       ...       ...       ...       ...  \n",
       "3324 -0.121989 -0.023170  0.061828  0.028451 -0.062842  0.019890 -0.021757  \n",
       "3325 -0.097586 -0.015809  0.087455  0.005613 -0.064735 -0.022789 -0.010430  \n",
       "3326 -0.097034 -0.023825  0.076075  0.013838 -0.076001  0.013714 -0.008262  \n",
       "3327 -0.081129 -0.034281  0.073929  0.030706 -0.056229 -0.020722  0.000609  \n",
       "3328 -0.113602 -0.023050  0.086602  0.022655 -0.039899 -0.015162 -0.007808  \n",
       "\n",
       "[3329 rows x 300 columns]"
      ]
     },
     "execution_count": 124,
     "metadata": {},
     "output_type": "execute_result"
    }
   ],
   "source": [
    "w2vecs"
   ]
  },
  {
   "cell_type": "code",
   "execution_count": 126,
   "metadata": {},
   "outputs": [],
   "source": [
    "# instantiate LabelPropagation model, fit, and predict\n",
    "\n",
    "model = LabelPropagation()\n",
    "model.fit(w2vecs, y)\n",
    "pred = np.array(model.predict(w2vecs))"
   ]
  },
  {
   "cell_type": "code",
   "execution_count": 127,
   "metadata": {},
   "outputs": [
    {
     "name": "stdout",
     "output_type": "stream",
     "text": [
      "3329\n",
      "3329\n"
     ]
    }
   ],
   "source": [
    "# check the length of both label and prediction\n",
    "\n",
    "print(len(y))\n",
    "print(len(pred))"
   ]
  },
  {
   "cell_type": "code",
   "execution_count": 128,
   "metadata": {},
   "outputs": [],
   "source": [
    "# create a dataframe just with label and prediction\n",
    "\n",
    "d = {'label': y, 'pred': pred}\n",
    "\n",
    "p = pd.DataFrame(d)"
   ]
  },
  {
   "cell_type": "code",
   "execution_count": 129,
   "metadata": {},
   "outputs": [],
   "source": [
    "# create a separate dataframe to check the accuracy of the model with the labeled data\n",
    "\n",
    "cf = p[p['label'] != -1]"
   ]
  },
  {
   "cell_type": "code",
   "execution_count": 130,
   "metadata": {},
   "outputs": [],
   "source": [
    "# get the values from confusion matrix\n",
    "\n",
    "tn, fp, fn, tp = confusion_matrix(cf['label'], cf['pred'], normalize = 'true').ravel()"
   ]
  },
  {
   "cell_type": "code",
   "execution_count": 131,
   "metadata": {},
   "outputs": [
    {
     "name": "stdout",
     "output_type": "stream",
     "text": [
      "True Negative: 1.0\n",
      "False Positive: 0.0\n",
      "False Negative: 0.9818181818181818\n",
      "True Positive: 0.01818181818181818\n"
     ]
    }
   ],
   "source": [
    "# check the values from confusion matrix\n",
    "\n",
    "print(f'True Negative: {tn}')\n",
    "print(f'False Positive: {fp}')\n",
    "print(f'False Negative: {fn}')\n",
    "print(f'True Positive: {tp}')"
   ]
  },
  {
   "cell_type": "code",
   "execution_count": 132,
   "metadata": {},
   "outputs": [
    {
     "name": "stdout",
     "output_type": "stream",
     "text": [
      "              precision    recall  f1-score   support\n",
      "\n",
      "non-suicidal       0.83      1.00      0.91      2334\n",
      "    suicidal       1.00      0.02      0.04       495\n",
      "\n",
      "    accuracy                           0.83      2829\n",
      "   macro avg       0.91      0.51      0.47      2829\n",
      "weighted avg       0.86      0.83      0.75      2829\n",
      "\n"
     ]
    }
   ],
   "source": [
    "# classification report\n",
    "\n",
    "print(classification_report(cf['label'], cf['pred'], target_names = ['non-suicidal', 'suicidal']))"
   ]
  },
  {
   "cell_type": "code",
   "execution_count": 133,
   "metadata": {},
   "outputs": [
    {
     "data": {
      "text/plain": [
       "{0.0}"
      ]
     },
     "execution_count": 133,
     "metadata": {},
     "output_type": "execute_result"
    }
   ],
   "source": [
    "# check pred for unlabeled to make sure it only contains 0 and 1\n",
    "\n",
    "cf_u = p[p['label'] == -1]\n",
    "\n",
    "set(cf_u['pred'])"
   ]
  },
  {
   "cell_type": "code",
   "execution_count": null,
   "metadata": {},
   "outputs": [],
   "source": []
  }
 ],
 "metadata": {
  "kernelspec": {
   "display_name": "Python 3",
   "language": "python",
   "name": "python3"
  },
  "language_info": {
   "codemirror_mode": {
    "name": "ipython",
    "version": 3
   },
   "file_extension": ".py",
   "mimetype": "text/x-python",
   "name": "python",
   "nbconvert_exporter": "python",
   "pygments_lexer": "ipython3",
   "version": "3.7.7"
  }
 },
 "nbformat": 4,
 "nbformat_minor": 4
}
