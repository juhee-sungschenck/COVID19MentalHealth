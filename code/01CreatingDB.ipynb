{
 "cells": [
  {
   "cell_type": "code",
   "execution_count": 1,
   "metadata": {},
   "outputs": [],
   "source": [
    "# import libraries\n",
    "\n",
    "import pandas as pd\n",
    "import numpy as np\n",
    "\n",
    "import os\n",
    "from datetime import datetime "
   ]
  },
  {
   "cell_type": "markdown",
   "metadata": {},
   "source": [
    "### 1. Read in the datasets from downloaded \n",
    "### 2. Drop the unnecessary columns\n",
    "> For this project's purpose, I decided to use tfidfvectorizer. That is, because countvectorizer only counts how often the word has been used; however, tfidfvectorizer weighs the importance of the words. For this reason, I think tfidfvectorizer would give me the insight of how the usage of the same words has changed over time, and that it would be useful for the trend analysis - I will be keeping the columns with this information.\n",
    "### 3. Concatenate the datasets by subreddit\n",
    "### 4. Save to CSV file"
   ]
  },
  {
   "cell_type": "code",
   "execution_count": 2,
   "metadata": {},
   "outputs": [
    {
     "data": {
      "text/html": [
       "<div>\n",
       "<style scoped>\n",
       "    .dataframe tbody tr th:only-of-type {\n",
       "        vertical-align: middle;\n",
       "    }\n",
       "\n",
       "    .dataframe tbody tr th {\n",
       "        vertical-align: top;\n",
       "    }\n",
       "\n",
       "    .dataframe thead th {\n",
       "        text-align: right;\n",
       "    }\n",
       "</style>\n",
       "<table border=\"1\" class=\"dataframe\">\n",
       "  <thead>\n",
       "    <tr style=\"text-align: right;\">\n",
       "      <th></th>\n",
       "      <th>subreddit</th>\n",
       "      <th>author</th>\n",
       "      <th>date</th>\n",
       "      <th>post</th>\n",
       "      <th>automated_readability_index</th>\n",
       "      <th>coleman_liau_index</th>\n",
       "      <th>flesch_kincaid_grade_level</th>\n",
       "      <th>flesch_reading_ease</th>\n",
       "      <th>gulpease_index</th>\n",
       "      <th>gunning_fog_index</th>\n",
       "      <th>...</th>\n",
       "      <th>tfidf_wish</th>\n",
       "      <th>tfidf_without</th>\n",
       "      <th>tfidf_wonder</th>\n",
       "      <th>tfidf_work</th>\n",
       "      <th>tfidf_worri</th>\n",
       "      <th>tfidf_wors</th>\n",
       "      <th>tfidf_would</th>\n",
       "      <th>tfidf_wrong</th>\n",
       "      <th>tfidf_x200b</th>\n",
       "      <th>tfidf_year</th>\n",
       "    </tr>\n",
       "  </thead>\n",
       "  <tbody>\n",
       "    <tr>\n",
       "      <th>0</th>\n",
       "      <td>alcoholism</td>\n",
       "      <td>glorybellpirate</td>\n",
       "      <td>2020/01/01</td>\n",
       "      <td>Day 1 of sobriety Feeling anxious and letting ...</td>\n",
       "      <td>4.275833</td>\n",
       "      <td>7.690396</td>\n",
       "      <td>4.710000</td>\n",
       "      <td>73.168333</td>\n",
       "      <td>86.500000</td>\n",
       "      <td>8.666667</td>\n",
       "      <td>...</td>\n",
       "      <td>0.0</td>\n",
       "      <td>0.000000</td>\n",
       "      <td>0.0</td>\n",
       "      <td>0.0</td>\n",
       "      <td>0.0</td>\n",
       "      <td>0.0</td>\n",
       "      <td>0.000000</td>\n",
       "      <td>0.000000</td>\n",
       "      <td>0.0</td>\n",
       "      <td>0.000000</td>\n",
       "    </tr>\n",
       "    <tr>\n",
       "      <th>1</th>\n",
       "      <td>alcoholism</td>\n",
       "      <td>EhndlessSl0th</td>\n",
       "      <td>2020/01/01</td>\n",
       "      <td>Started the New Year with a bang. Hey, I'm new...</td>\n",
       "      <td>1.541784</td>\n",
       "      <td>3.148868</td>\n",
       "      <td>2.806878</td>\n",
       "      <td>95.317853</td>\n",
       "      <td>78.593496</td>\n",
       "      <td>5.552354</td>\n",
       "      <td>...</td>\n",
       "      <td>0.0</td>\n",
       "      <td>0.071768</td>\n",
       "      <td>0.0</td>\n",
       "      <td>0.0</td>\n",
       "      <td>0.0</td>\n",
       "      <td>0.0</td>\n",
       "      <td>0.000000</td>\n",
       "      <td>0.081401</td>\n",
       "      <td>0.0</td>\n",
       "      <td>0.143832</td>\n",
       "    </tr>\n",
       "    <tr>\n",
       "      <th>2</th>\n",
       "      <td>alcoholism</td>\n",
       "      <td>the_kinky_penguin</td>\n",
       "      <td>2020/01/01</td>\n",
       "      <td>Why can't I get drunk anymore I've been a heav...</td>\n",
       "      <td>-0.233695</td>\n",
       "      <td>1.917433</td>\n",
       "      <td>1.475911</td>\n",
       "      <td>99.238793</td>\n",
       "      <td>89.000000</td>\n",
       "      <td>4.003941</td>\n",
       "      <td>...</td>\n",
       "      <td>0.0</td>\n",
       "      <td>0.000000</td>\n",
       "      <td>0.0</td>\n",
       "      <td>0.0</td>\n",
       "      <td>0.0</td>\n",
       "      <td>0.0</td>\n",
       "      <td>0.178032</td>\n",
       "      <td>0.000000</td>\n",
       "      <td>0.0</td>\n",
       "      <td>0.161390</td>\n",
       "    </tr>\n",
       "    <tr>\n",
       "      <th>3</th>\n",
       "      <td>alcoholism</td>\n",
       "      <td>SauceoffSauceOn</td>\n",
       "      <td>2020/01/01</td>\n",
       "      <td>I am an Alcoholic. How do I quit? I have been ...</td>\n",
       "      <td>1.819821</td>\n",
       "      <td>4.628757</td>\n",
       "      <td>3.678036</td>\n",
       "      <td>80.906250</td>\n",
       "      <td>90.666667</td>\n",
       "      <td>6.909524</td>\n",
       "      <td>...</td>\n",
       "      <td>0.0</td>\n",
       "      <td>0.000000</td>\n",
       "      <td>0.0</td>\n",
       "      <td>0.0</td>\n",
       "      <td>0.0</td>\n",
       "      <td>0.0</td>\n",
       "      <td>0.245538</td>\n",
       "      <td>0.000000</td>\n",
       "      <td>0.0</td>\n",
       "      <td>0.111293</td>\n",
       "    </tr>\n",
       "    <tr>\n",
       "      <th>4</th>\n",
       "      <td>alcoholism</td>\n",
       "      <td>ben42187</td>\n",
       "      <td>2020/01/01</td>\n",
       "      <td>Funniest Thing about Alcoholism With every oth...</td>\n",
       "      <td>4.282000</td>\n",
       "      <td>4.962135</td>\n",
       "      <td>5.108333</td>\n",
       "      <td>85.155000</td>\n",
       "      <td>70.333333</td>\n",
       "      <td>8.000000</td>\n",
       "      <td>...</td>\n",
       "      <td>0.0</td>\n",
       "      <td>0.000000</td>\n",
       "      <td>0.0</td>\n",
       "      <td>0.0</td>\n",
       "      <td>0.0</td>\n",
       "      <td>0.0</td>\n",
       "      <td>0.000000</td>\n",
       "      <td>0.000000</td>\n",
       "      <td>0.0</td>\n",
       "      <td>0.102762</td>\n",
       "    </tr>\n",
       "  </tbody>\n",
       "</table>\n",
       "<p>5 rows × 350 columns</p>\n",
       "</div>"
      ],
      "text/plain": [
       "    subreddit             author        date  \\\n",
       "0  alcoholism    glorybellpirate  2020/01/01   \n",
       "1  alcoholism      EhndlessSl0th  2020/01/01   \n",
       "2  alcoholism  the_kinky_penguin  2020/01/01   \n",
       "3  alcoholism    SauceoffSauceOn  2020/01/01   \n",
       "4  alcoholism           ben42187  2020/01/01   \n",
       "\n",
       "                                                post  \\\n",
       "0  Day 1 of sobriety Feeling anxious and letting ...   \n",
       "1  Started the New Year with a bang. Hey, I'm new...   \n",
       "2  Why can't I get drunk anymore I've been a heav...   \n",
       "3  I am an Alcoholic. How do I quit? I have been ...   \n",
       "4  Funniest Thing about Alcoholism With every oth...   \n",
       "\n",
       "   automated_readability_index  coleman_liau_index  \\\n",
       "0                     4.275833            7.690396   \n",
       "1                     1.541784            3.148868   \n",
       "2                    -0.233695            1.917433   \n",
       "3                     1.819821            4.628757   \n",
       "4                     4.282000            4.962135   \n",
       "\n",
       "   flesch_kincaid_grade_level  flesch_reading_ease  gulpease_index  \\\n",
       "0                    4.710000            73.168333       86.500000   \n",
       "1                    2.806878            95.317853       78.593496   \n",
       "2                    1.475911            99.238793       89.000000   \n",
       "3                    3.678036            80.906250       90.666667   \n",
       "4                    5.108333            85.155000       70.333333   \n",
       "\n",
       "   gunning_fog_index  ...  tfidf_wish  tfidf_without  tfidf_wonder  \\\n",
       "0           8.666667  ...         0.0       0.000000           0.0   \n",
       "1           5.552354  ...         0.0       0.071768           0.0   \n",
       "2           4.003941  ...         0.0       0.000000           0.0   \n",
       "3           6.909524  ...         0.0       0.000000           0.0   \n",
       "4           8.000000  ...         0.0       0.000000           0.0   \n",
       "\n",
       "   tfidf_work  tfidf_worri  tfidf_wors  tfidf_would  tfidf_wrong  tfidf_x200b  \\\n",
       "0         0.0          0.0         0.0     0.000000     0.000000          0.0   \n",
       "1         0.0          0.0         0.0     0.000000     0.081401          0.0   \n",
       "2         0.0          0.0         0.0     0.178032     0.000000          0.0   \n",
       "3         0.0          0.0         0.0     0.245538     0.000000          0.0   \n",
       "4         0.0          0.0         0.0     0.000000     0.000000          0.0   \n",
       "\n",
       "   tfidf_year  \n",
       "0    0.000000  \n",
       "1    0.143832  \n",
       "2    0.161390  \n",
       "3    0.111293  \n",
       "4    0.102762  \n",
       "\n",
       "[5 rows x 350 columns]"
      ]
     },
     "execution_count": 2,
     "metadata": {},
     "output_type": "execute_result"
    }
   ],
   "source": [
    "pd.read_csv('../data/downloaded/alcoholism_post_features_tfidf_256.csv').head()"
   ]
  },
  {
   "cell_type": "code",
   "execution_count": 5,
   "metadata": {},
   "outputs": [],
   "source": [
    "# named similarly, create a function to interate through the files in the folder and create a dataset\n",
    "\n",
    "subr = ['alcoholism', 'suicidewatch', 'mentalhealth', 'lonely', 'healthanxiety', 'depression', 'bipolarreddit', 'anxiety']\n",
    "\n",
    "def generate_df(ls):\n",
    "\n",
    "    for element in ls:\n",
    "    \n",
    "        file1 = f'../data/downloaded/{element}_pre_features_tfidf_256.csv'\n",
    "        file2 = f'../data/downloaded/{element}_post_features_tfidf_256.csv'\n",
    "        \n",
    "        # combine pre and post\n",
    "        df = pd.concat([pd.read_csv(file1), pd.read_csv(file2)])\n",
    "        \n",
    "        # drop the columns that I will not be using \n",
    "        # -> mostly scores that are not reproduceable on my own, including Linguistic Inquiry Word Counts (liwc)\n",
    "        # using different word embedding and vectorizer --> remove tf-idf features\n",
    "        df = df[['subreddit', 'author', 'date', 'post']]\n",
    "        \n",
    "        # store the datasets to csv files\n",
    "        df.to_csv(f'../data/cleaned/{element}.csv', index = False)\n",
    "        \n",
    "    return"
   ]
  },
  {
   "cell_type": "code",
   "execution_count": 6,
   "metadata": {},
   "outputs": [],
   "source": [
    "# call in the function\n",
    "\n",
    "generate_df(subr)"
   ]
  },
  {
   "cell_type": "code",
   "execution_count": 8,
   "metadata": {},
   "outputs": [],
   "source": [
    "# check the data\n",
    "\n",
    "df = pd.read_csv('../data/cleaned/alcoholism.csv')"
   ]
  },
  {
   "cell_type": "code",
   "execution_count": 9,
   "metadata": {},
   "outputs": [
    {
     "data": {
      "text/html": [
       "<div>\n",
       "<style scoped>\n",
       "    .dataframe tbody tr th:only-of-type {\n",
       "        vertical-align: middle;\n",
       "    }\n",
       "\n",
       "    .dataframe tbody tr th {\n",
       "        vertical-align: top;\n",
       "    }\n",
       "\n",
       "    .dataframe thead th {\n",
       "        text-align: right;\n",
       "    }\n",
       "</style>\n",
       "<table border=\"1\" class=\"dataframe\">\n",
       "  <thead>\n",
       "    <tr style=\"text-align: right;\">\n",
       "      <th></th>\n",
       "      <th>subreddit</th>\n",
       "      <th>author</th>\n",
       "      <th>date</th>\n",
       "      <th>post</th>\n",
       "    </tr>\n",
       "  </thead>\n",
       "  <tbody>\n",
       "    <tr>\n",
       "      <th>0</th>\n",
       "      <td>alcoholism</td>\n",
       "      <td>RobynTacoo</td>\n",
       "      <td>2019/10/19</td>\n",
       "      <td>My husband offered me a glass of wine I turned...</td>\n",
       "    </tr>\n",
       "    <tr>\n",
       "      <th>1</th>\n",
       "      <td>alcoholism</td>\n",
       "      <td>wolsinyourarea</td>\n",
       "      <td>2019/10/19</td>\n",
       "      <td>Feeling like a failure Broke my 2 week streak ...</td>\n",
       "    </tr>\n",
       "    <tr>\n",
       "      <th>2</th>\n",
       "      <td>alcoholism</td>\n",
       "      <td>glitterONeverything</td>\n",
       "      <td>2019/10/19</td>\n",
       "      <td>help! withdrawals are crazy!! I feel lije shit...</td>\n",
       "    </tr>\n",
       "    <tr>\n",
       "      <th>3</th>\n",
       "      <td>alcoholism</td>\n",
       "      <td>Collector420</td>\n",
       "      <td>2019/10/19</td>\n",
       "      <td>God damn I (M17) wrote messages to almost 20 p...</td>\n",
       "    </tr>\n",
       "    <tr>\n",
       "      <th>4</th>\n",
       "      <td>alcoholism</td>\n",
       "      <td>engineerkoala</td>\n",
       "      <td>2019/10/19</td>\n",
       "      <td>How to have as much fun as before Today was my...</td>\n",
       "    </tr>\n",
       "  </tbody>\n",
       "</table>\n",
       "</div>"
      ],
      "text/plain": [
       "    subreddit               author        date  \\\n",
       "0  alcoholism           RobynTacoo  2019/10/19   \n",
       "1  alcoholism       wolsinyourarea  2019/10/19   \n",
       "2  alcoholism  glitterONeverything  2019/10/19   \n",
       "3  alcoholism         Collector420  2019/10/19   \n",
       "4  alcoholism        engineerkoala  2019/10/19   \n",
       "\n",
       "                                                post  \n",
       "0  My husband offered me a glass of wine I turned...  \n",
       "1  Feeling like a failure Broke my 2 week streak ...  \n",
       "2  help! withdrawals are crazy!! I feel lije shit...  \n",
       "3  God damn I (M17) wrote messages to almost 20 p...  \n",
       "4  How to have as much fun as before Today was my...  "
      ]
     },
     "execution_count": 9,
     "metadata": {},
     "output_type": "execute_result"
    }
   ],
   "source": [
    "df.head()"
   ]
  },
  {
   "cell_type": "code",
   "execution_count": 10,
   "metadata": {},
   "outputs": [
    {
     "data": {
      "text/plain": [
       "subreddit    0\n",
       "author       0\n",
       "date         0\n",
       "post         0\n",
       "dtype: int64"
      ]
     },
     "execution_count": 10,
     "metadata": {},
     "output_type": "execute_result"
    }
   ],
   "source": [
    "df.isnull().sum()"
   ]
  },
  {
   "cell_type": "code",
   "execution_count": 11,
   "metadata": {},
   "outputs": [],
   "source": [
    "# check another dataset\n",
    "\n",
    "df = pd.read_csv('../data/cleaned/lonely.csv')"
   ]
  },
  {
   "cell_type": "code",
   "execution_count": 12,
   "metadata": {},
   "outputs": [
    {
     "data": {
      "text/html": [
       "<div>\n",
       "<style scoped>\n",
       "    .dataframe tbody tr th:only-of-type {\n",
       "        vertical-align: middle;\n",
       "    }\n",
       "\n",
       "    .dataframe tbody tr th {\n",
       "        vertical-align: top;\n",
       "    }\n",
       "\n",
       "    .dataframe thead th {\n",
       "        text-align: right;\n",
       "    }\n",
       "</style>\n",
       "<table border=\"1\" class=\"dataframe\">\n",
       "  <thead>\n",
       "    <tr style=\"text-align: right;\">\n",
       "      <th></th>\n",
       "      <th>subreddit</th>\n",
       "      <th>author</th>\n",
       "      <th>date</th>\n",
       "      <th>post</th>\n",
       "    </tr>\n",
       "  </thead>\n",
       "  <tbody>\n",
       "    <tr>\n",
       "      <th>0</th>\n",
       "      <td>lonely</td>\n",
       "      <td>mord0r</td>\n",
       "      <td>2019/09/28</td>\n",
       "      <td>Having a bad day. I have been on a mania high ...</td>\n",
       "    </tr>\n",
       "    <tr>\n",
       "      <th>1</th>\n",
       "      <td>lonely</td>\n",
       "      <td>d1ng_d0ngz</td>\n",
       "      <td>2019/09/28</td>\n",
       "      <td>looking for some chatting buddies might be a l...</td>\n",
       "    </tr>\n",
       "    <tr>\n",
       "      <th>2</th>\n",
       "      <td>lonely</td>\n",
       "      <td>trynabhappie</td>\n",
       "      <td>2019/09/28</td>\n",
       "      <td>The flame is going out little by little! 😊 I o...</td>\n",
       "    </tr>\n",
       "    <tr>\n",
       "      <th>3</th>\n",
       "      <td>lonely</td>\n",
       "      <td>Mutantti2</td>\n",
       "      <td>2019/09/28</td>\n",
       "      <td>Things wrong with my life I want to tell about...</td>\n",
       "    </tr>\n",
       "    <tr>\n",
       "      <th>4</th>\n",
       "      <td>lonely</td>\n",
       "      <td>LegalCelery</td>\n",
       "      <td>2019/09/28</td>\n",
       "      <td>I want to fall in love I dont really believe i...</td>\n",
       "    </tr>\n",
       "  </tbody>\n",
       "</table>\n",
       "</div>"
      ],
      "text/plain": [
       "  subreddit        author        date  \\\n",
       "0    lonely        mord0r  2019/09/28   \n",
       "1    lonely    d1ng_d0ngz  2019/09/28   \n",
       "2    lonely  trynabhappie  2019/09/28   \n",
       "3    lonely     Mutantti2  2019/09/28   \n",
       "4    lonely   LegalCelery  2019/09/28   \n",
       "\n",
       "                                                post  \n",
       "0  Having a bad day. I have been on a mania high ...  \n",
       "1  looking for some chatting buddies might be a l...  \n",
       "2  The flame is going out little by little! 😊 I o...  \n",
       "3  Things wrong with my life I want to tell about...  \n",
       "4  I want to fall in love I dont really believe i...  "
      ]
     },
     "execution_count": 12,
     "metadata": {},
     "output_type": "execute_result"
    }
   ],
   "source": [
    "df.head()"
   ]
  },
  {
   "cell_type": "code",
   "execution_count": 13,
   "metadata": {},
   "outputs": [
    {
     "data": {
      "text/plain": [
       "['../data/cleaned/alcoholism.csv',\n",
       " '../data/cleaned/suicidewatch.csv',\n",
       " '../data/cleaned/mentalhealth.csv',\n",
       " '../data/cleaned/lonely.csv',\n",
       " '../data/cleaned/healthanxiety.csv',\n",
       " '../data/cleaned/depression.csv',\n",
       " '../data/cleaned/bipolarreddit.csv',\n",
       " '../data/cleaned/anxiety.csv']"
      ]
     },
     "execution_count": 13,
     "metadata": {},
     "output_type": "execute_result"
    }
   ],
   "source": [
    "# make a list of files to combine all the datasets\n",
    "\n",
    "path = '../data/cleaned/'\n",
    "files = []\n",
    "\n",
    "for element in subr:\n",
    "    files.append(path + element + '.csv')\n",
    "    \n",
    "files"
   ]
  },
  {
   "cell_type": "code",
   "execution_count": 14,
   "metadata": {},
   "outputs": [],
   "source": [
    "# concat\n",
    "\n",
    "df = pd.concat([pd.read_csv(file) for file in files], axis = 0, ignore_index = True)"
   ]
  },
  {
   "cell_type": "code",
   "execution_count": 15,
   "metadata": {},
   "outputs": [
    {
     "name": "stdout",
     "output_type": "stream",
     "text": [
      "(203691, 4)\n"
     ]
    },
    {
     "data": {
      "text/html": [
       "<div>\n",
       "<style scoped>\n",
       "    .dataframe tbody tr th:only-of-type {\n",
       "        vertical-align: middle;\n",
       "    }\n",
       "\n",
       "    .dataframe tbody tr th {\n",
       "        vertical-align: top;\n",
       "    }\n",
       "\n",
       "    .dataframe thead th {\n",
       "        text-align: right;\n",
       "    }\n",
       "</style>\n",
       "<table border=\"1\" class=\"dataframe\">\n",
       "  <thead>\n",
       "    <tr style=\"text-align: right;\">\n",
       "      <th></th>\n",
       "      <th>subreddit</th>\n",
       "      <th>author</th>\n",
       "      <th>date</th>\n",
       "      <th>post</th>\n",
       "    </tr>\n",
       "  </thead>\n",
       "  <tbody>\n",
       "    <tr>\n",
       "      <th>0</th>\n",
       "      <td>alcoholism</td>\n",
       "      <td>RobynTacoo</td>\n",
       "      <td>2019/10/19</td>\n",
       "      <td>My husband offered me a glass of wine I turned...</td>\n",
       "    </tr>\n",
       "    <tr>\n",
       "      <th>1</th>\n",
       "      <td>alcoholism</td>\n",
       "      <td>wolsinyourarea</td>\n",
       "      <td>2019/10/19</td>\n",
       "      <td>Feeling like a failure Broke my 2 week streak ...</td>\n",
       "    </tr>\n",
       "    <tr>\n",
       "      <th>2</th>\n",
       "      <td>alcoholism</td>\n",
       "      <td>glitterONeverything</td>\n",
       "      <td>2019/10/19</td>\n",
       "      <td>help! withdrawals are crazy!! I feel lije shit...</td>\n",
       "    </tr>\n",
       "    <tr>\n",
       "      <th>3</th>\n",
       "      <td>alcoholism</td>\n",
       "      <td>Collector420</td>\n",
       "      <td>2019/10/19</td>\n",
       "      <td>God damn I (M17) wrote messages to almost 20 p...</td>\n",
       "    </tr>\n",
       "    <tr>\n",
       "      <th>4</th>\n",
       "      <td>alcoholism</td>\n",
       "      <td>engineerkoala</td>\n",
       "      <td>2019/10/19</td>\n",
       "      <td>How to have as much fun as before Today was my...</td>\n",
       "    </tr>\n",
       "  </tbody>\n",
       "</table>\n",
       "</div>"
      ],
      "text/plain": [
       "    subreddit               author        date  \\\n",
       "0  alcoholism           RobynTacoo  2019/10/19   \n",
       "1  alcoholism       wolsinyourarea  2019/10/19   \n",
       "2  alcoholism  glitterONeverything  2019/10/19   \n",
       "3  alcoholism         Collector420  2019/10/19   \n",
       "4  alcoholism        engineerkoala  2019/10/19   \n",
       "\n",
       "                                                post  \n",
       "0  My husband offered me a glass of wine I turned...  \n",
       "1  Feeling like a failure Broke my 2 week streak ...  \n",
       "2  help! withdrawals are crazy!! I feel lije shit...  \n",
       "3  God damn I (M17) wrote messages to almost 20 p...  \n",
       "4  How to have as much fun as before Today was my...  "
      ]
     },
     "execution_count": 15,
     "metadata": {},
     "output_type": "execute_result"
    }
   ],
   "source": [
    "# check the dataset again\n",
    "\n",
    "print(df.shape)\n",
    "df.head()"
   ]
  },
  {
   "cell_type": "code",
   "execution_count": 17,
   "metadata": {},
   "outputs": [
    {
     "data": {
      "text/plain": [
       "dtype('O')"
      ]
     },
     "execution_count": 17,
     "metadata": {},
     "output_type": "execute_result"
    }
   ],
   "source": [
    "# check the date column\n",
    "\n",
    "df['date'].dtype #--> should be set to datetime field"
   ]
  },
  {
   "cell_type": "code",
   "execution_count": 18,
   "metadata": {},
   "outputs": [],
   "source": [
    "# convert date column to datetime\n",
    "\n",
    "df['date'] = pd.to_datetime(df['date'])"
   ]
  },
  {
   "cell_type": "code",
   "execution_count": 19,
   "metadata": {},
   "outputs": [
    {
     "data": {
      "text/plain": [
       "dtype('<M8[ns]')"
      ]
     },
     "execution_count": 19,
     "metadata": {},
     "output_type": "execute_result"
    }
   ],
   "source": [
    "# check the date column\n",
    "\n",
    "df['date'].dtype"
   ]
  },
  {
   "cell_type": "code",
   "execution_count": 21,
   "metadata": {},
   "outputs": [],
   "source": [
    "# keep only 2020\n",
    "\n",
    "df = df[df['date'] > '2019/12/31']"
   ]
  },
  {
   "cell_type": "code",
   "execution_count": 22,
   "metadata": {},
   "outputs": [
    {
     "data": {
      "text/plain": [
       "Timestamp('2020-01-01 00:00:00')"
      ]
     },
     "execution_count": 22,
     "metadata": {},
     "output_type": "execute_result"
    }
   ],
   "source": [
    "# check the date\n",
    "\n",
    "df['date'].min()"
   ]
  },
  {
   "cell_type": "code",
   "execution_count": 23,
   "metadata": {},
   "outputs": [],
   "source": [
    "# store the combined dataset to a csv file\n",
    "\n",
    "df.to_csv('../data/cleaned/combined.csv', index = False)"
   ]
  },
  {
   "cell_type": "code",
   "execution_count": null,
   "metadata": {},
   "outputs": [],
   "source": []
  }
 ],
 "metadata": {
  "kernelspec": {
   "display_name": "Python 3",
   "language": "python",
   "name": "python3"
  },
  "language_info": {
   "codemirror_mode": {
    "name": "ipython",
    "version": 3
   },
   "file_extension": ".py",
   "mimetype": "text/x-python",
   "name": "python",
   "nbconvert_exporter": "python",
   "pygments_lexer": "ipython3",
   "version": "3.7.7"
  }
 },
 "nbformat": 4,
 "nbformat_minor": 4
}
