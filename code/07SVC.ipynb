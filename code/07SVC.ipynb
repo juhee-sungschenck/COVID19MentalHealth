{
 "cells": [
  {
   "cell_type": "code",
   "execution_count": 1,
   "metadata": {
    "id": "FyqLtTNbm2rH"
   },
   "outputs": [],
   "source": [
    "# import libraries\n",
    "\n",
    "# basic\n",
    "\n",
    "import pandas as pd\n",
    "import numpy as np\n",
    "import matplotlib.pyplot as plt\n",
    "import seaborn as sns\n",
    "\n",
    "# preprocessing, model selection and scores\n",
    "\n",
    "from sklearn.model_selection import train_test_split, GridSearchCV, cross_val_score\n",
    "from sklearn.metrics import accuracy_score, confusion_matrix, plot_confusion_matrix, classification_report\n",
    "from sklearn.svm import SVC\n",
    "\n",
    "# nlp\n",
    "\n",
    "from sklearn.feature_extraction.text import TfidfVectorizer\n",
    "from sklearn.feature_extraction import text\n",
    "\n",
    "%matplotlib inline"
   ]
  },
  {
   "cell_type": "code",
   "execution_count": 2,
   "metadata": {
    "colab": {
     "base_uri": "https://localhost:8080/",
     "height": 34
    },
    "id": "Tj4IA1KunXVP",
    "outputId": "8a698626-0d18-41c8-b448-c8a2315457c6"
   },
   "outputs": [
    {
     "name": "stdout",
     "output_type": "stream",
     "text": [
      "Mounted at /content/gdrive\n"
     ]
    }
   ],
   "source": [
    "# read in data\n",
    "\n",
    "from google.colab import drive \n",
    "drive.mount('/content/gdrive')\n",
    "\n",
    "df = pd.read_csv('gdrive/My Drive/labeled.csv')"
   ]
  },
  {
   "cell_type": "code",
   "execution_count": 3,
   "metadata": {
    "colab": {
     "base_uri": "https://localhost:8080/",
     "height": 649
    },
    "id": "hFha0jihrt8A",
    "outputId": "899f6ca6-df5f-411b-9449-f786c7672c14"
   },
   "outputs": [
    {
     "name": "stdout",
     "output_type": "stream",
     "text": [
      "(102037, 13)\n"
     ]
    },
    {
     "data": {
      "text/html": [
       "<div>\n",
       "<style scoped>\n",
       "    .dataframe tbody tr th:only-of-type {\n",
       "        vertical-align: middle;\n",
       "    }\n",
       "\n",
       "    .dataframe tbody tr th {\n",
       "        vertical-align: top;\n",
       "    }\n",
       "\n",
       "    .dataframe thead th {\n",
       "        text-align: right;\n",
       "    }\n",
       "</style>\n",
       "<table border=\"1\" class=\"dataframe\">\n",
       "  <thead>\n",
       "    <tr style=\"text-align: right;\">\n",
       "      <th></th>\n",
       "      <th>subreddit</th>\n",
       "      <th>author</th>\n",
       "      <th>date</th>\n",
       "      <th>post</th>\n",
       "      <th>covid_related</th>\n",
       "      <th>suicidal</th>\n",
       "      <th>alc_abuse</th>\n",
       "      <th>loneliness</th>\n",
       "      <th>stress</th>\n",
       "      <th>n_words</th>\n",
       "      <th>n_sentences</th>\n",
       "      <th>lemmatized</th>\n",
       "      <th>label</th>\n",
       "    </tr>\n",
       "  </thead>\n",
       "  <tbody>\n",
       "    <tr>\n",
       "      <th>0</th>\n",
       "      <td>alcoholism</td>\n",
       "      <td>glorybellpirate</td>\n",
       "      <td>2020-01-01</td>\n",
       "      <td>Day 1 of sobriety Feeling anxious and letting ...</td>\n",
       "      <td>0</td>\n",
       "      <td>0</td>\n",
       "      <td>1</td>\n",
       "      <td>0</td>\n",
       "      <td>0</td>\n",
       "      <td>24</td>\n",
       "      <td>3</td>\n",
       "      <td>day 1 of sobriety feel anxious and let the fee...</td>\n",
       "      <td>0</td>\n",
       "    </tr>\n",
       "    <tr>\n",
       "      <th>1</th>\n",
       "      <td>alcoholism</td>\n",
       "      <td>EhndlessSl0th</td>\n",
       "      <td>2020-01-01</td>\n",
       "      <td>Started the New Year with a bang. Hey, I'm new...</td>\n",
       "      <td>0</td>\n",
       "      <td>1</td>\n",
       "      <td>1</td>\n",
       "      <td>0</td>\n",
       "      <td>1</td>\n",
       "      <td>577</td>\n",
       "      <td>41</td>\n",
       "      <td>start the new year with a bang hey -pron- be n...</td>\n",
       "      <td>0</td>\n",
       "    </tr>\n",
       "    <tr>\n",
       "      <th>2</th>\n",
       "      <td>alcoholism</td>\n",
       "      <td>the_kinky_penguin</td>\n",
       "      <td>2020-01-01</td>\n",
       "      <td>Why can't I get drunk anymore I've been a heav...</td>\n",
       "      <td>0</td>\n",
       "      <td>0</td>\n",
       "      <td>1</td>\n",
       "      <td>0</td>\n",
       "      <td>0</td>\n",
       "      <td>64</td>\n",
       "      <td>5</td>\n",
       "      <td>why ca not -pron- get drunk anymore -pron- hav...</td>\n",
       "      <td>0</td>\n",
       "    </tr>\n",
       "    <tr>\n",
       "      <th>3</th>\n",
       "      <td>alcoholism</td>\n",
       "      <td>SauceoffSauceOn</td>\n",
       "      <td>2020-01-01</td>\n",
       "      <td>I am an Alcoholic. How do I quit? I have been ...</td>\n",
       "      <td>0</td>\n",
       "      <td>0</td>\n",
       "      <td>1</td>\n",
       "      <td>0</td>\n",
       "      <td>1</td>\n",
       "      <td>111</td>\n",
       "      <td>14</td>\n",
       "      <td>-pron- be an alcoholic how do -pron- quit -pro...</td>\n",
       "      <td>0</td>\n",
       "    </tr>\n",
       "    <tr>\n",
       "      <th>4</th>\n",
       "      <td>alcoholism</td>\n",
       "      <td>ben42187</td>\n",
       "      <td>2020-01-01</td>\n",
       "      <td>Funniest Thing about Alcoholism With every oth...</td>\n",
       "      <td>0</td>\n",
       "      <td>0</td>\n",
       "      <td>1</td>\n",
       "      <td>0</td>\n",
       "      <td>0</td>\n",
       "      <td>136</td>\n",
       "      <td>0</td>\n",
       "      <td>funniest thing about alcoholism with every oth...</td>\n",
       "      <td>0</td>\n",
       "    </tr>\n",
       "  </tbody>\n",
       "</table>\n",
       "</div>"
      ],
      "text/plain": [
       "    subreddit  ... label\n",
       "0  alcoholism  ...     0\n",
       "1  alcoholism  ...     0\n",
       "2  alcoholism  ...     0\n",
       "3  alcoholism  ...     0\n",
       "4  alcoholism  ...     0\n",
       "\n",
       "[5 rows x 13 columns]"
      ]
     },
     "execution_count": 3,
     "metadata": {
      "tags": []
     },
     "output_type": "execute_result"
    }
   ],
   "source": [
    "# check the data\n",
    "\n",
    "print(df.shape)\n",
    "df.head()\n"
   ]
  },
  {
   "cell_type": "code",
   "execution_count": 4,
   "metadata": {
    "colab": {
     "base_uri": "https://localhost:8080/",
     "height": 612
    },
    "id": "7RNE0Zy6rtzp",
    "outputId": "cd9d0de5-1b67-4851-ea3a-a99a8a10f99f"
   },
   "outputs": [
    {
     "name": "stdout",
     "output_type": "stream",
     "text": [
      "<class 'pandas.core.frame.DataFrame'>\n",
      "RangeIndex: 102037 entries, 0 to 102036\n",
      "Data columns (total 13 columns):\n",
      " #   Column         Non-Null Count   Dtype \n",
      "---  ------         --------------   ----- \n",
      " 0   subreddit      102037 non-null  object\n",
      " 1   author         102037 non-null  object\n",
      " 2   date           102037 non-null  object\n",
      " 3   post           102037 non-null  object\n",
      " 4   covid_related  102037 non-null  int64 \n",
      " 5   suicidal       102037 non-null  int64 \n",
      " 6   alc_abuse      102037 non-null  int64 \n",
      " 7   loneliness     102037 non-null  int64 \n",
      " 8   stress         102037 non-null  int64 \n",
      " 9   n_words        102037 non-null  int64 \n",
      " 10  n_sentences    102037 non-null  int64 \n",
      " 11  lemmatized     102037 non-null  object\n",
      " 12  label          102037 non-null  int64 \n",
      "dtypes: int64(8), object(5)\n",
      "memory usage: 10.1+ MB\n"
     ]
    },
    {
     "data": {
      "text/plain": [
       "None"
      ]
     },
     "metadata": {
      "tags": []
     },
     "output_type": "display_data"
    },
    {
     "data": {
      "text/plain": [
       "subreddit        0\n",
       "author           0\n",
       "date             0\n",
       "post             0\n",
       "covid_related    0\n",
       "suicidal         0\n",
       "alc_abuse        0\n",
       "loneliness       0\n",
       "stress           0\n",
       "n_words          0\n",
       "n_sentences      0\n",
       "lemmatized       0\n",
       "label            0\n",
       "dtype: int64"
      ]
     },
     "execution_count": 4,
     "metadata": {
      "tags": []
     },
     "output_type": "execute_result"
    }
   ],
   "source": [
    "# check info and null values\n",
    "\n",
    "display(df.info())\n",
    "df.isnull().sum()"
   ]
  },
  {
   "cell_type": "markdown",
   "metadata": {
    "id": "QjGptgEFyMd5"
   },
   "source": []
  },
  {
   "cell_type": "markdown",
   "metadata": {
    "id": "PVpHwaEaoLPl"
   },
   "source": [
    "## Text Preprocessing and Bootstrapping"
   ]
  },
  {
   "cell_type": "code",
   "execution_count": 5,
   "metadata": {
    "id": "qvihPzUFocSd"
   },
   "outputs": [],
   "source": [
    "# update stop_words for TF-IDF vectorizer\n",
    "\n",
    "remove = ['-pron-', 'feel', 'know', 'want', 'life', 'go', 'think', 'make', 'people', 'really', 'even', 'much', 'now', \n",
    "          'pron', 'don', 'will', 'try', 'talk', 'friends', 'tell', 'just', 'like', 'time', 'want', 'well', 'thing', 'day',\n",
    "          'friend', 'help', 'year', 'bad', 've', 'say', 'good', 'need', 'way', 'right', 'month', 'amp', 'x200b']\n",
    "\n",
    "my_stop_words = text.ENGLISH_STOP_WORDS.union(remove)"
   ]
  },
  {
   "cell_type": "code",
   "execution_count": 6,
   "metadata": {
    "id": "LOfj_sD6orWN"
   },
   "outputs": [],
   "source": [
    "# instantiate Tf-IDF\n",
    "\n",
    "tvec = TfidfVectorizer(stop_words = my_stop_words, max_df = .80, min_df = 10, max_features = 256, ngram_range = (1, 1))"
   ]
  },
  {
   "cell_type": "code",
   "execution_count": 7,
   "metadata": {
    "colab": {
     "base_uri": "https://localhost:8080/",
     "height": 357
    },
    "id": "Hio8ACoL7t57",
    "outputId": "724b4178-07d0-43a8-d024-e4d4bcfb82f3"
   },
   "outputs": [
    {
     "name": "stdout",
     "output_type": "stream",
     "text": [
      "<class 'pandas.core.frame.DataFrame'>\n",
      "Int64Index: 102037 entries, 92288 to 47793\n",
      "Data columns (total 13 columns):\n",
      " #   Column         Non-Null Count   Dtype \n",
      "---  ------         --------------   ----- \n",
      " 0   subreddit      102037 non-null  object\n",
      " 1   author         102037 non-null  object\n",
      " 2   date           102037 non-null  object\n",
      " 3   post           102037 non-null  object\n",
      " 4   covid_related  102037 non-null  int64 \n",
      " 5   suicidal       102037 non-null  int64 \n",
      " 6   alc_abuse      102037 non-null  int64 \n",
      " 7   loneliness     102037 non-null  int64 \n",
      " 8   stress         102037 non-null  int64 \n",
      " 9   n_words        102037 non-null  int64 \n",
      " 10  n_sentences    102037 non-null  int64 \n",
      " 11  lemmatized     102037 non-null  object\n",
      " 12  label          102037 non-null  int64 \n",
      "dtypes: int64(8), object(5)\n",
      "memory usage: 10.9+ MB\n"
     ]
    }
   ],
   "source": [
    "# import resample library for bootstrapping\n",
    "\n",
    "from sklearn.utils import resample\n",
    "\n",
    "# prepare bootstrap sample\n",
    "\n",
    "boot = resample(df, replace = True, random_state = 2020, stratify = df['label'])\n",
    "\n",
    "# check bootstrapped data\n",
    "\n",
    "boot.info()"
   ]
  },
  {
   "cell_type": "code",
   "execution_count": 8,
   "metadata": {
    "id": "VTBChOTn76cL"
   },
   "outputs": [],
   "source": [
    "# set X and y\n",
    "\n",
    "X = boot['lemmatized']\n",
    "y = boot['label']"
   ]
  },
  {
   "cell_type": "code",
   "execution_count": 9,
   "metadata": {
    "id": "5SdqH44Do6EY"
   },
   "outputs": [],
   "source": [
    "# train test split\n",
    "\n",
    "X_train, X_test, y_train, y_test = train_test_split(X, y, test_size = 0.3, stratify = y, random_state = 2020)"
   ]
  },
  {
   "cell_type": "code",
   "execution_count": 10,
   "metadata": {
    "colab": {
     "base_uri": "https://localhost:8080/",
     "height": 51
    },
    "id": "6FClpIkKoyqe",
    "outputId": "872d307e-0a68-4d8a-b359-7fde9a5215bb"
   },
   "outputs": [
    {
     "name": "stdout",
     "output_type": "stream",
     "text": [
      "(71425, 256)\n",
      "(30612, 256)\n"
     ]
    }
   ],
   "source": [
    "# fit/transform X then save it to a dataframe\n",
    "\n",
    "train = tvec.fit_transform(X_train).toarray()\n",
    "print(train.shape)\n",
    "\n",
    "test = tvec.transform(X_test).toarray()\n",
    "print(test.shape)"
   ]
  },
  {
   "cell_type": "markdown",
   "metadata": {
    "id": "HlZg6DyPv3IP"
   },
   "source": [
    "## Support Vector Model"
   ]
  },
  {
   "cell_type": "code",
   "execution_count": 13,
   "metadata": {
    "colab": {
     "base_uri": "https://localhost:8080/",
     "height": 85
    },
    "id": "uJsoPibXo2oF",
    "outputId": "d403c4be-6b7a-40e6-9484-9a7801827095"
   },
   "outputs": [
    {
     "data": {
      "text/plain": [
       "SVC(C=1.0, break_ties=False, cache_size=200, class_weight=None, coef0=0.0,\n",
       "    decision_function_shape='ovr', degree=3, gamma='scale', kernel='rbf',\n",
       "    max_iter=-1, probability=False, random_state=2020, shrinking=True,\n",
       "    tol=0.001, verbose=False)"
      ]
     },
     "execution_count": 13,
     "metadata": {
      "tags": []
     },
     "output_type": "execute_result"
    }
   ],
   "source": [
    "# instantiate svc\n",
    "\n",
    "svc = SVC(random_state = 2020)\n",
    "\n",
    "# fit\n",
    "\n",
    "svc.fit(train, y_train)"
   ]
  },
  {
   "cell_type": "code",
   "execution_count": 14,
   "metadata": {
    "colab": {
     "base_uri": "https://localhost:8080/",
     "height": 51
    },
    "id": "2Nvpg4rGwtNB",
    "outputId": "8f2df004-f088-498e-abb3-88435ca78764"
   },
   "outputs": [
    {
     "name": "stdout",
     "output_type": "stream",
     "text": [
      "Train CV Score: 0.8726076309196276\n",
      "Test CV Score: 0.8497321311903828\n"
     ]
    }
   ],
   "source": [
    "# cross validation\n",
    "\n",
    "print(f'Train CV Score: {cross_val_score(svc, train, y_train, cv = 3).mean()}')\n",
    "print(f'Test CV Score: {cross_val_score(svc, test, y_test, cv = 3).mean()}')"
   ]
  },
  {
   "cell_type": "code",
   "execution_count": 15,
   "metadata": {
    "colab": {
     "base_uri": "https://localhost:8080/",
     "height": 34
    },
    "id": "n4TP1bRV1czs",
    "outputId": "85436063-474d-4155-b5de-1aed0b640998"
   },
   "outputs": [
    {
     "name": "stdout",
     "output_type": "stream",
     "text": [
      "Train Score: 0.9450332516625831\n"
     ]
    }
   ],
   "source": [
    "# train - predict and score\n",
    "\n",
    "train_pred = svc.predict(train)\n",
    "\n",
    "print(f'Train Score: {accuracy_score(y_train, train_pred)}')"
   ]
  },
  {
   "cell_type": "code",
   "execution_count": 16,
   "metadata": {
    "colab": {
     "base_uri": "https://localhost:8080/",
     "height": 34
    },
    "id": "TUx-bOuJ0GnP",
    "outputId": "97fbb507-88e5-42e4-9cd5-b5d9d1a0d8eb"
   },
   "outputs": [
    {
     "name": "stdout",
     "output_type": "stream",
     "text": [
      "Test Score: 0.8888997778648896\n"
     ]
    }
   ],
   "source": [
    "# test - predict and score\n",
    "\n",
    "test_pred = svc.predict(test)\n",
    "\n",
    "print(f'Test Score: {accuracy_score(y_test, test_pred)}')"
   ]
  },
  {
   "cell_type": "markdown",
   "metadata": {
    "id": "hpXKeatTu4PV"
   },
   "source": [
    "## GridSearch C and gamma "
   ]
  },
  {
   "cell_type": "code",
   "execution_count": 32,
   "metadata": {
    "id": "GCFRk0xdVcw_"
   },
   "outputs": [],
   "source": [
    "# instantiate SVC\n",
    "\n",
    "svc = SVC(random_state = 42)"
   ]
  },
  {
   "cell_type": "code",
   "execution_count": 33,
   "metadata": {
    "id": "8T3cch8kukhq"
   },
   "outputs": [],
   "source": [
    "# set tuning parameters\n",
    "\n",
    "params = {'C': [0.1, 1, 10]}\n",
    "\n",
    "# instantiate GridSearch\n",
    "\n",
    "gs = GridSearchCV(svc, param_grid = params, cv = 3)"
   ]
  },
  {
   "cell_type": "code",
   "execution_count": 34,
   "metadata": {
    "colab": {
     "base_uri": "https://localhost:8080/",
     "height": 51
    },
    "id": "YC-YsTS7uk3f",
    "outputId": "7b938304-b13d-4ccd-fdab-4c96b3aa7b37"
   },
   "outputs": [
    {
     "name": "stdout",
     "output_type": "stream",
     "text": [
      "Best Score: 0.8943646917322234\n",
      "Best Parameter - gamma: {'C': 10}\n"
     ]
    }
   ],
   "source": [
    "# fit\n",
    "\n",
    "gs.fit(train, y_train)\n",
    "\n",
    "# get the best score and best parameter\n",
    "\n",
    "print(f'Best Score: {gs.best_score_}')\n",
    "print(f'Best Parameter - gamma: {gs.best_params_}')"
   ]
  },
  {
   "cell_type": "code",
   "execution_count": 12,
   "metadata": {
    "id": "YukjExS4ulXf"
   },
   "outputs": [],
   "source": [
    "# svc\n",
    "\n",
    "svc = SVC(random_state = 42, C = 10)\n",
    "\n",
    "# fit\n",
    "\n",
    "svc.fit(train, y_train)\n",
    "\n",
    "# predictions\n",
    "\n",
    "test_pred = svc.predict(test)"
   ]
  },
  {
   "cell_type": "code",
   "execution_count": 18,
   "metadata": {
    "colab": {
     "base_uri": "https://localhost:8080/",
     "height": 285
    },
    "id": "EtTecRKsulLr",
    "outputId": "f36377cd-1eba-4ef1-a34a-fb931104f8da"
   },
   "outputs": [
    {
     "data": {
      "image/png": "[encoded data removed]",
      "text/plain": [
       "<Figure size 432x288 with 2 Axes>"
      ]
     },
     "metadata": {
      "needs_background": "light",
      "tags": []
     },
     "output_type": "display_data"
    }
   ],
   "source": [
    "# confusion matrix values\n",
    "\n",
    "tn, fp, fn, tp = confusion_matrix(y_test, test_pred).ravel()\n",
    "\n",
    "# plot confusion matrix\n",
    "\n",
    "labels = ['Non-Suicidal', 'Suicidal']\n",
    "\n",
    "plot_confusion_matrix(svc, test, y_test, cmap = 'Blues', normalize = 'true')\n",
    "plt.xticks(ticks = [0, 1], labels = labels, size = 12)\n",
    "plt.yticks(ticks = [0, 1], labels = labels, size = 12)\n",
    "plt.xlabel('Predicted label', size = 13)\n",
    "plt.ylabel('True label', size = 13);"
   ]
  },
  {
   "cell_type": "code",
   "execution_count": 22,
   "metadata": {
    "colab": {
     "base_uri": "https://localhost:8080/",
     "height": 170
    },
    "id": "Vlj3uz5-uko4",
    "outputId": "e3912699-c739-471b-8788-4eea99f4c5a8"
   },
   "outputs": [
    {
     "name": "stdout",
     "output_type": "stream",
     "text": [
      "              precision    recall  f1-score   support\n",
      "\n",
      "Non-Suicidal       0.93      0.97      0.95     24327\n",
      "    Suicidal       0.85      0.73      0.79      6285\n",
      "\n",
      "    accuracy                           0.92     30612\n",
      "   macro avg       0.89      0.85      0.87     30612\n",
      "weighted avg       0.92      0.92      0.92     30612\n",
      "\n"
     ]
    }
   ],
   "source": [
    "# classification report\n",
    "\n",
    "print(classification_report(y_test, test_pred, target_names = labels))"
   ]
  },
  {
   "cell_type": "code",
   "execution_count": null,
   "metadata": {
    "id": "NF8a2P7JukdG"
   },
   "outputs": [],
   "source": []
  }
 ],
 "metadata": {
  "colab": {
   "name": "07SVC.ipynb",
   "provenance": []
  },
  "kernelspec": {
   "display_name": "Python 3",
   "language": "python",
   "name": "python3"
  },
  "language_info": {
   "codemirror_mode": {
    "name": "ipython",
    "version": 3
   },
   "file_extension": ".py",
   "mimetype": "text/x-python",
   "name": "python",
   "nbconvert_exporter": "python",
   "pygments_lexer": "ipython3",
   "version": "3.7.7"
  }
 },
 "nbformat": 4,
 "nbformat_minor": 4
}
