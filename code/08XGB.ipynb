{
  "nbformat": 4,
  "nbformat_minor": 0,
  "metadata": {
    "colab": {
      "name": "XGB.ipynb",
      "provenance": []
    },
    "kernelspec": {
      "name": "python3",
      "display_name": "Python 3"
    }
  },
  "cells": [
    {
      "cell_type": "code",
      "metadata": {
        "id": "9n4cbmmmwp3V"
      },
      "source": [
        "# import libraries\n",
        "\n",
        "# basic\n",
        "\n",
        "import pandas as pd\n",
        "import numpy as np\n",
        "import matplotlib.pyplot as plt\n",
        "import seaborn as sns\n",
        "\n",
        "# preprocessing, model selection and scores\n",
        "\n",
        "from sklearn.model_selection import train_test_split, GridSearchCV, cross_val_score\n",
        "from sklearn.metrics import accuracy_score, confusion_matrix, plot_confusion_matrix, classification_report,\\\n",
        "                            roc_auc_score\n",
        "from xgboost import XGBClassifier\n",
        "\n",
        "# nlp\n",
        "\n",
        "from sklearn.feature_extraction.text import TfidfVectorizer\n",
        "from sklearn.feature_extraction import text\n",
        "\n",
        "%matplotlib inline"
      ],
      "execution_count": 31,
      "outputs": []
    },
    {
      "cell_type": "code",
      "metadata": {
        "id": "YJ6W2KJ8xDvw",
        "outputId": "e0164664-7ce0-4b6e-c0a2-2ddc675e1703",
        "colab": {
          "base_uri": "https://localhost:8080/",
          "height": 34
        }
      },
      "source": [
        "# read in data\n",
        "\n",
        "from google.colab import drive \n",
        "drive.mount('/content/gdrive')\n",
        "\n",
        "df = pd.read_csv('gdrive/My Drive/labeled.csv')"
      ],
      "execution_count": 3,
      "outputs": [
        {
          "output_type": "stream",
          "text": [
            "Mounted at /content/gdrive\n"
          ],
          "name": "stdout"
        }
      ]
    },
    {
      "cell_type": "code",
      "metadata": {
        "id": "8R-ycD-JxVwd",
        "outputId": "31c63d90-de17-4f32-d7e7-65c2c8faadda",
        "colab": {
          "base_uri": "https://localhost:8080/",
          "height": 510
        }
      },
      "source": [
        "# check the data\n",
        "\n",
        "print(df.shape)\n",
        "df.head()"
      ],
      "execution_count": 4,
      "outputs": [
        {
          "output_type": "stream",
          "text": [
            "(102037, 13)\n"
          ],
          "name": "stdout"
        },
        {
          "output_type": "execute_result",
          "data": {
            "text/html": [
              "<div>\n",
              "<style scoped>\n",
              "    .dataframe tbody tr th:only-of-type {\n",
              "        vertical-align: middle;\n",
              "    }\n",
              "\n",
              "    .dataframe tbody tr th {\n",
              "        vertical-align: top;\n",
              "    }\n",
              "\n",
              "    .dataframe thead th {\n",
              "        text-align: right;\n",
              "    }\n",
              "</style>\n",
              "<table border=\"1\" class=\"dataframe\">\n",
              "  <thead>\n",
              "    <tr style=\"text-align: right;\">\n",
              "      <th></th>\n",
              "      <th>subreddit</th>\n",
              "      <th>author</th>\n",
              "      <th>date</th>\n",
              "      <th>post</th>\n",
              "      <th>covid_related</th>\n",
              "      <th>suicidal</th>\n",
              "      <th>alc_abuse</th>\n",
              "      <th>loneliness</th>\n",
              "      <th>stress</th>\n",
              "      <th>n_words</th>\n",
              "      <th>n_sentences</th>\n",
              "      <th>lemmatized</th>\n",
              "      <th>label</th>\n",
              "    </tr>\n",
              "  </thead>\n",
              "  <tbody>\n",
              "    <tr>\n",
              "      <th>0</th>\n",
              "      <td>alcoholism</td>\n",
              "      <td>glorybellpirate</td>\n",
              "      <td>2020-01-01</td>\n",
              "      <td>Day 1 of sobriety Feeling anxious and letting ...</td>\n",
              "      <td>0</td>\n",
              "      <td>0</td>\n",
              "      <td>1</td>\n",
              "      <td>0</td>\n",
              "      <td>0</td>\n",
              "      <td>24</td>\n",
              "      <td>3</td>\n",
              "      <td>day 1 of sobriety feel anxious and let the fee...</td>\n",
              "      <td>0</td>\n",
              "    </tr>\n",
              "    <tr>\n",
              "      <th>1</th>\n",
              "      <td>alcoholism</td>\n",
              "      <td>EhndlessSl0th</td>\n",
              "      <td>2020-01-01</td>\n",
              "      <td>Started the New Year with a bang. Hey, I'm new...</td>\n",
              "      <td>0</td>\n",
              "      <td>1</td>\n",
              "      <td>1</td>\n",
              "      <td>0</td>\n",
              "      <td>1</td>\n",
              "      <td>577</td>\n",
              "      <td>41</td>\n",
              "      <td>start the new year with a bang hey -pron- be n...</td>\n",
              "      <td>0</td>\n",
              "    </tr>\n",
              "    <tr>\n",
              "      <th>2</th>\n",
              "      <td>alcoholism</td>\n",
              "      <td>the_kinky_penguin</td>\n",
              "      <td>2020-01-01</td>\n",
              "      <td>Why can't I get drunk anymore I've been a heav...</td>\n",
              "      <td>0</td>\n",
              "      <td>0</td>\n",
              "      <td>1</td>\n",
              "      <td>0</td>\n",
              "      <td>0</td>\n",
              "      <td>64</td>\n",
              "      <td>5</td>\n",
              "      <td>why ca not -pron- get drunk anymore -pron- hav...</td>\n",
              "      <td>0</td>\n",
              "    </tr>\n",
              "    <tr>\n",
              "      <th>3</th>\n",
              "      <td>alcoholism</td>\n",
              "      <td>SauceoffSauceOn</td>\n",
              "      <td>2020-01-01</td>\n",
              "      <td>I am an Alcoholic. How do I quit? I have been ...</td>\n",
              "      <td>0</td>\n",
              "      <td>0</td>\n",
              "      <td>1</td>\n",
              "      <td>0</td>\n",
              "      <td>1</td>\n",
              "      <td>111</td>\n",
              "      <td>14</td>\n",
              "      <td>-pron- be an alcoholic how do -pron- quit -pro...</td>\n",
              "      <td>0</td>\n",
              "    </tr>\n",
              "    <tr>\n",
              "      <th>4</th>\n",
              "      <td>alcoholism</td>\n",
              "      <td>ben42187</td>\n",
              "      <td>2020-01-01</td>\n",
              "      <td>Funniest Thing about Alcoholism With every oth...</td>\n",
              "      <td>0</td>\n",
              "      <td>0</td>\n",
              "      <td>1</td>\n",
              "      <td>0</td>\n",
              "      <td>0</td>\n",
              "      <td>136</td>\n",
              "      <td>0</td>\n",
              "      <td>funniest thing about alcoholism with every oth...</td>\n",
              "      <td>0</td>\n",
              "    </tr>\n",
              "  </tbody>\n",
              "</table>\n",
              "</div>"
            ],
            "text/plain": [
              "    subreddit  ... label\n",
              "0  alcoholism  ...     0\n",
              "1  alcoholism  ...     0\n",
              "2  alcoholism  ...     0\n",
              "3  alcoholism  ...     0\n",
              "4  alcoholism  ...     0\n",
              "\n",
              "[5 rows x 13 columns]"
            ]
          },
          "metadata": {
            "tags": []
          },
          "execution_count": 4
        }
      ]
    },
    {
      "cell_type": "markdown",
      "metadata": {
        "id": "PVpHwaEaoLPl"
      },
      "source": [
        "## Text Preprocessing and Bootstrapping"
      ]
    },
    {
      "cell_type": "code",
      "metadata": {
        "id": "qvihPzUFocSd"
      },
      "source": [
        "# update stop_words for TF-IDF vectorizer\n",
        "\n",
        "remove = ['-pron-', 'feel', 'know', 'want', 'life', 'go', 'think', 'make', 'people', 'really', 'even', 'much', 'now', \n",
        "          'pron', 'don', 'will', 'try', 'talk', 'friends', 'tell', 'just', 'like', 'time', 'want', 'well', 'thing', 'day',\n",
        "          'friend', 'help', 'year', 'bad', 've', 'say', 'good', 'need', 'way', 'right', 'month', 'amp', 'x200b']\n",
        "\n",
        "my_stop_words = text.ENGLISH_STOP_WORDS.union(remove)"
      ],
      "execution_count": 5,
      "outputs": []
    },
    {
      "cell_type": "code",
      "metadata": {
        "id": "LOfj_sD6orWN"
      },
      "source": [
        "# instantiate Tf-IDF\n",
        "\n",
        "tvec = TfidfVectorizer(stop_words = my_stop_words, max_df = .80, min_df = 10, max_features = 256, ngram_range = (1, 1))"
      ],
      "execution_count": 6,
      "outputs": []
    },
    {
      "cell_type": "code",
      "metadata": {
        "id": "Hio8ACoL7t57",
        "outputId": "9259be0d-e71f-4d06-bce7-8608f95650a0",
        "colab": {
          "base_uri": "https://localhost:8080/",
          "height": 357
        }
      },
      "source": [
        "# import resample library for bootstrapping\n",
        "\n",
        "from sklearn.utils import resample\n",
        "\n",
        "# prepare bootstrap sample\n",
        "\n",
        "boot = resample(df, replace = True, random_state = 2020, stratify = df['label'])\n",
        "\n",
        "# check bootstrapped data\n",
        "\n",
        "boot.info()"
      ],
      "execution_count": 7,
      "outputs": [
        {
          "output_type": "stream",
          "text": [
            "<class 'pandas.core.frame.DataFrame'>\n",
            "Int64Index: 102037 entries, 92288 to 47793\n",
            "Data columns (total 13 columns):\n",
            " #   Column         Non-Null Count   Dtype \n",
            "---  ------         --------------   ----- \n",
            " 0   subreddit      102037 non-null  object\n",
            " 1   author         102037 non-null  object\n",
            " 2   date           102037 non-null  object\n",
            " 3   post           102037 non-null  object\n",
            " 4   covid_related  102037 non-null  int64 \n",
            " 5   suicidal       102037 non-null  int64 \n",
            " 6   alc_abuse      102037 non-null  int64 \n",
            " 7   loneliness     102037 non-null  int64 \n",
            " 8   stress         102037 non-null  int64 \n",
            " 9   n_words        102037 non-null  int64 \n",
            " 10  n_sentences    102037 non-null  int64 \n",
            " 11  lemmatized     102037 non-null  object\n",
            " 12  label          102037 non-null  int64 \n",
            "dtypes: int64(8), object(5)\n",
            "memory usage: 10.9+ MB\n"
          ],
          "name": "stdout"
        }
      ]
    },
    {
      "cell_type": "code",
      "metadata": {
        "id": "VTBChOTn76cL"
      },
      "source": [
        "# set X and y\n",
        "\n",
        "X = boot['lemmatized']\n",
        "y = boot['label']"
      ],
      "execution_count": 8,
      "outputs": []
    },
    {
      "cell_type": "code",
      "metadata": {
        "id": "5SdqH44Do6EY"
      },
      "source": [
        "# train test split\n",
        "\n",
        "X_train, X_test, y_train, y_test = train_test_split(X, y, test_size = 0.3, stratify = y, random_state = 2020)"
      ],
      "execution_count": 9,
      "outputs": []
    },
    {
      "cell_type": "code",
      "metadata": {
        "id": "6FClpIkKoyqe",
        "outputId": "3cc97d10-864b-410b-9638-3f620ee114f7",
        "colab": {
          "base_uri": "https://localhost:8080/",
          "height": 51
        }
      },
      "source": [
        "# fit/transform X then save it to a dataframe\n",
        "\n",
        "train = tvec.fit_transform(X_train).toarray()\n",
        "print(train.shape)\n",
        "\n",
        "test = tvec.transform(X_test).toarray()\n",
        "print(test.shape)"
      ],
      "execution_count": 10,
      "outputs": [
        {
          "output_type": "stream",
          "text": [
            "(71425, 256)\n",
            "(30612, 256)\n"
          ],
          "name": "stdout"
        }
      ]
    },
    {
      "cell_type": "markdown",
      "metadata": {
        "id": "HlZg6DyPv3IP"
      },
      "source": [
        "## XGBoost"
      ]
    },
    {
      "cell_type": "code",
      "metadata": {
        "id": "VZLCH7XjxVrP",
        "outputId": "95e656b4-8cbf-4dd5-93ac-8868524dc4c1",
        "colab": {
          "base_uri": "https://localhost:8080/",
          "height": 136
        }
      },
      "source": [
        "# instantiate the model and fit\n",
        "\n",
        "xgb = XGBClassifier(random_state = 2020)\n",
        "xgb.fit(train, y_train)"
      ],
      "execution_count": 17,
      "outputs": [
        {
          "output_type": "execute_result",
          "data": {
            "text/plain": [
              "XGBClassifier(base_score=0.5, booster='gbtree', colsample_bylevel=1,\n",
              "              colsample_bynode=1, colsample_bytree=1, gamma=0,\n",
              "              learning_rate=0.1, max_delta_step=0, max_depth=3,\n",
              "              min_child_weight=1, missing=None, n_estimators=100, n_jobs=1,\n",
              "              nthread=None, objective='binary:logistic', random_state=2020,\n",
              "              reg_alpha=0, reg_lambda=1, scale_pos_weight=1, seed=None,\n",
              "              silent=None, subsample=1, verbosity=1)"
            ]
          },
          "metadata": {
            "tags": []
          },
          "execution_count": 17
        }
      ]
    },
    {
      "cell_type": "code",
      "metadata": {
        "id": "w7lxFk9dyyos",
        "outputId": "af3fbab6-756d-4960-cf99-f73041814bde",
        "colab": {
          "base_uri": "https://localhost:8080/",
          "height": 51
        }
      },
      "source": [
        "# cross validate\n",
        "\n",
        "print(f'Train CV Score: {cross_val_score(xgb, train, y_train, cv = 3).mean()}')\n",
        "print(f'Test CV Score: {cross_val_score(xgb, test, y_test, cv = 3).mean()}')"
      ],
      "execution_count": 18,
      "outputs": [
        {
          "output_type": "stream",
          "text": [
            "Train CV Score: 0.8157367844149023\n",
            "Test CV Score: 0.8149091859401542\n"
          ],
          "name": "stdout"
        }
      ]
    },
    {
      "cell_type": "markdown",
      "metadata": {
        "id": "csEyDPAHz3qK"
      },
      "source": [
        "### GridSearch"
      ]
    },
    {
      "cell_type": "code",
      "metadata": {
        "id": "Z42RowN6yzL3"
      },
      "source": [
        "# set tuning parameters for gridsearch\n",
        "\n",
        "params = {'learning_rate': [0.1, 0.2, 0.3, 0.4, 0.5],\n",
        "          'max_depth': [3, 5, 7, 9]}\n",
        "\n",
        "# instantiate gridsearch\n",
        "\n",
        "gs = GridSearchCV(xgb, param_grid = params, cv = 3)"
      ],
      "execution_count": 19,
      "outputs": []
    },
    {
      "cell_type": "code",
      "metadata": {
        "id": "zqiBR3RwyzAD",
        "outputId": "2aabef71-75fd-4559-8a39-740c5a38f080",
        "colab": {
          "base_uri": "https://localhost:8080/",
          "height": 51
        }
      },
      "source": [
        "# fit\n",
        "\n",
        "gs.fit(train, y_train)\n",
        "\n",
        "# get best score and parameters\n",
        "\n",
        "print(f'Best Score: {gs.best_score_}')\n",
        "print(f'Best Parameters: {gs.best_params_}')"
      ],
      "execution_count": 20,
      "outputs": [
        {
          "output_type": "stream",
          "text": [
            "Best Score: 0.8669233735574978\n",
            "Best Parameters: {'learning_rate': 0.5, 'max_depth': 9}\n"
          ],
          "name": "stdout"
        }
      ]
    },
    {
      "cell_type": "code",
      "metadata": {
        "id": "wLfR99VkGm7v",
        "outputId": "d9104b9e-fadb-4fdb-9d2c-fed0edd61a35",
        "colab": {
          "base_uri": "https://localhost:8080/",
          "height": 306
        }
      },
      "source": [
        "# gridsearch again, since it picked the highest of the given values\n",
        "\n",
        "# new parameters\n",
        "\n",
        "params = {'learning_rate': [0.5, 0.7, 0.9],\n",
        "          'max_depth': [9, 11, 13]}\n",
        "\n",
        "# instantiate gridsearch again\n",
        "\n",
        "gs = GridSearchCV(xgb, param_grid = params, cv = 3)\n",
        "\n",
        "# fit\n",
        "\n",
        "gs.fit(train, y_train)"
      ],
      "execution_count": 22,
      "outputs": [
        {
          "output_type": "execute_result",
          "data": {
            "text/plain": [
              "GridSearchCV(cv=3, error_score=nan,\n",
              "             estimator=XGBClassifier(base_score=0.5, booster='gbtree',\n",
              "                                     colsample_bylevel=1, colsample_bynode=1,\n",
              "                                     colsample_bytree=1, gamma=0,\n",
              "                                     learning_rate=0.1, max_delta_step=0,\n",
              "                                     max_depth=3, min_child_weight=1,\n",
              "                                     missing=None, n_estimators=100, n_jobs=1,\n",
              "                                     nthread=None, objective='binary:logistic',\n",
              "                                     random_state=2020, reg_alpha=0,\n",
              "                                     reg_lambda=1, scale_pos_weight=1,\n",
              "                                     seed=None, silent=None, subsample=1,\n",
              "                                     verbosity=1),\n",
              "             iid='deprecated', n_jobs=None,\n",
              "             param_grid={'learning_rate': [0.5, 0.7, 0.9],\n",
              "                         'max_depth': [9, 11, 13]},\n",
              "             pre_dispatch='2*n_jobs', refit=True, return_train_score=False,\n",
              "             scoring=None, verbose=0)"
            ]
          },
          "metadata": {
            "tags": []
          },
          "execution_count": 22
        }
      ]
    },
    {
      "cell_type": "code",
      "metadata": {
        "id": "cU0y2HDpHeH0",
        "outputId": "7fd3257d-30da-4e83-b8d8-19e91e35c136",
        "colab": {
          "base_uri": "https://localhost:8080/",
          "height": 51
        }
      },
      "source": [
        "# get best score and parameters\n",
        "\n",
        "print(f'Best Score: {gs.best_score_}')\n",
        "print(f'Best Parameters: {gs.best_params_}')"
      ],
      "execution_count": 23,
      "outputs": [
        {
          "output_type": "stream",
          "text": [
            "Best Score: 0.8815680826698618\n",
            "Best Parameters: {'learning_rate': 0.7, 'max_depth': 13}\n"
          ],
          "name": "stdout"
        }
      ]
    },
    {
      "cell_type": "code",
      "metadata": {
        "id": "AniAm8VKRjfM",
        "outputId": "abe25ad1-19e5-4991-ccc4-564bf29fec17",
        "colab": {
          "base_uri": "https://localhost:8080/",
          "height": 51
        }
      },
      "source": [
        "# try a few more max_depth\n",
        "\n",
        "params = {'learning_rate': [0.7],\n",
        "          'max_depth': [13, 15, 17]}\n",
        "\n",
        "# instantiate GridSearch and fit\n",
        "\n",
        "gs = GridSearchCV(xgb, param_grid = params, cv = 3)\n",
        "gs.fit(train, y_train)\n",
        "\n",
        "# get the best score and parameters\n",
        "\n",
        "print(f'Best Score: {gs.best_score_}')\n",
        "print(f'Best Parameters: {gs.best_params_}')"
      ],
      "execution_count": 24,
      "outputs": [
        {
          "output_type": "stream",
          "text": [
            "Best Score: 0.8867903551539426\n",
            "Best Parameters: {'learning_rate': 0.7, 'max_depth': 17}\n"
          ],
          "name": "stdout"
        }
      ]
    },
    {
      "cell_type": "code",
      "metadata": {
        "id": "2d6QdXsASM0O",
        "outputId": "5afd8674-cd84-4571-e710-ff942a525b21",
        "colab": {
          "base_uri": "https://localhost:8080/",
          "height": 285
        }
      },
      "source": [
        "# predictions\n",
        "\n",
        "test_pred = gs.predict(test)\n",
        "\n",
        "# confusion matrix values\n",
        "\n",
        "tn, fp, fn, tp = confusion_matrix(y_test, test_pred).ravel()\n",
        "\n",
        "# plot confusion matrix\n",
        "\n",
        "labels = ['Non-Suicidal', 'Suicidal']\n",
        "\n",
        "plot_confusion_matrix(gs, test, y_test, cmap = 'Blues', normalize = 'true')\n",
        "plt.xticks(ticks = [0, 1], labels = labels, size = 12)\n",
        "plt.yticks(ticks = [0, 1], labels = labels, size = 12)\n",
        "plt.xlabel('Predicted label', size = 13)\n",
        "plt.ylabel('True label', size = 13);"
      ],
      "execution_count": 26,
      "outputs": [
        {
          "output_type": "display_data",
          "data": {
            "image/png": "[encoded data removed]",
            "text/plain": [
              "<Figure size 432x288 with 2 Axes>"
            ]
          },
          "metadata": {
            "tags": [],
            "needs_background": "light"
          }
        }
      ]
    },
    {
      "cell_type": "code",
      "metadata": {
        "id": "6XQtXBdQX8Kf",
        "outputId": "56ac9c32-f3d7-4341-8c57-89888fcaf4cf",
        "colab": {
          "base_uri": "https://localhost:8080/",
          "height": 170
        }
      },
      "source": [
        "# classification report\n",
        "\n",
        "print(classification_report(y_test, test_pred, target_names = labels))"
      ],
      "execution_count": 27,
      "outputs": [
        {
          "output_type": "stream",
          "text": [
            "              precision    recall  f1-score   support\n",
            "\n",
            "Non-Suicidal       0.93      0.96      0.95     24327\n",
            "    Suicidal       0.83      0.71      0.77      6285\n",
            "\n",
            "    accuracy                           0.91     30612\n",
            "   macro avg       0.88      0.84      0.86     30612\n",
            "weighted avg       0.91      0.91      0.91     30612\n",
            "\n"
          ],
          "name": "stdout"
        }
      ]
    },
    {
      "cell_type": "markdown",
      "metadata": {
        "id": "07ibaAUtYUsi"
      },
      "source": [
        "### ROC-AUC Score"
      ]
    },
    {
      "cell_type": "code",
      "metadata": {
        "id": "G7x1u7l-Yq-d"
      },
      "source": [
        "# create a dataframe with just labels (true/predicted)\n",
        "\n",
        "pred_proba = [i[1] for i in gs.predict_proba(test)]\n",
        "\n",
        "pred_df = pd.DataFrame({'true_values': y_test,\n",
        "                        'pred_probs':pred_proba})"
      ],
      "execution_count": 29,
      "outputs": []
    },
    {
      "cell_type": "code",
      "metadata": {
        "id": "I2lfvupUZPxO",
        "outputId": "6e0e3b5d-5830-4912-8441-ff22854f1a3c",
        "colab": {
          "base_uri": "https://localhost:8080/",
          "height": 34
        }
      },
      "source": [
        "# get roc-auc score\n",
        "\n",
        "roc_auc_score(y_test, pred_proba)"
      ],
      "execution_count": 32,
      "outputs": [
        {
          "output_type": "execute_result",
          "data": {
            "text/plain": [
              "0.9216957799098919"
            ]
          },
          "metadata": {
            "tags": []
          },
          "execution_count": 32
        }
      ]
    },
    {
      "cell_type": "code",
      "metadata": {
        "id": "utGMBN5BX8yv",
        "outputId": "bbee83bb-70e3-4c6f-c61b-e329342be5c1",
        "colab": {
          "base_uri": "https://localhost:8080/",
          "height": 462
        }
      },
      "source": [
        "# create figure\n",
        "\n",
        "plt.figure(figsize = (10,7))\n",
        "\n",
        "# create threshold values (dashed orange line)\n",
        "\n",
        "thresholds = np.linspace(0, 1, 200)\n",
        "\n",
        "# define function to calculate sensitivity (true positive rate)\n",
        "\n",
        "def TPR(df, true_col, pred_prob_col, threshold):\n",
        "    true_positive = df[(df[true_col] == 1) & (df[pred_prob_col] >= threshold)].shape[0]\n",
        "    false_negative = df[(df[true_col] == 1) & (df[pred_prob_col] < threshold)].shape[0]\n",
        "    return true_positive / (true_positive + false_negative)\n",
        "    \n",
        "# define function to calculate false positive rate (1 - specificity)\n",
        "\n",
        "def FPR(df, true_col, pred_prob_col, threshold):\n",
        "    true_negative = df[(df[true_col] == 0) & (df[pred_prob_col] <= threshold)].shape[0]\n",
        "    false_positive = df[(df[true_col] == 0) & (df[pred_prob_col] > threshold)].shape[0]\n",
        "    return 1 - (true_negative / (true_negative + false_positive))\n",
        "    \n",
        "# calculate sensitivity & 1-specificity for each threshold between 0 and 1\n",
        "\n",
        "tpr_values = [TPR(pred_df, 'true_values', 'pred_probs', prob) for prob in thresholds]\n",
        "fpr_values = [FPR(pred_df, 'true_values', 'pred_probs', prob) for prob in thresholds]\n",
        "\n",
        "# plot roc curve\n",
        "\n",
        "plt.plot(fpr_values, # False Positive Rate on X-axis\n",
        "         tpr_values, # True Positive Rate on Y-axis\n",
        "         label = 'ROC Curve')\n",
        "\n",
        "# plot baseline\n",
        "\n",
        "plt.plot(np.linspace(0, 1, 200),\n",
        "         np.linspace(0, 1, 200),\n",
        "         label = 'baseline',\n",
        "         linestyle = '--')\n",
        "\n",
        "# label axes\n",
        "\n",
        "plt.title('ROC Curve with AUC:' + round(roc_auc_score(pred_df['true_values'], pred_df['pred_probs']), 3).astype(str), fontsize = 14)\n",
        "plt.ylabel('True Positive Rate', fontsize = 13)\n",
        "plt.xlabel('False Positive Rate', fontsize = 13)\n",
        "\n",
        "# legend\n",
        "\n",
        "plt.legend(fontsize = 13);"
      ],
      "execution_count": 36,
      "outputs": [
        {
          "output_type": "display_data",
          "data": {
            "image/png": "[encoded data removed]",
            "text/plain": [
              "<Figure size 720x504 with 1 Axes>"
            ]
          },
          "metadata": {
            "tags": [],
            "needs_background": "light"
          }
        }
      ]
    },
    {
      "cell_type": "code",
      "metadata": {
        "id": "wmOauMwmYgc4"
      },
      "source": [
        ""
      ],
      "execution_count": null,
      "outputs": []
    }
  ]
}