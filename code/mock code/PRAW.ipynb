{
 "cells": [
  {
   "cell_type": "code",
   "execution_count": 38,
   "metadata": {},
   "outputs": [],
   "source": [
    "# import libraries\n",
    "\n",
    "import praw\n",
    "import requests\n",
    "import time\n",
    "import datetime\n",
    "import pandas as pd"
   ]
  },
  {
   "cell_type": "code",
   "execution_count": 39,
   "metadata": {},
   "outputs": [],
   "source": [
    "# https://curl.trillworks.com/#\n",
    "\n",
    "headers = {\n",
    "    'Accept-Encoding': 'gzip, deflate, sdch',\n",
    "    'Accept-Language': 'en-US,en;q=0.8',\n",
    "    'User-Agent': 'cap_api',\n",
    "    'Accept': 'text/html,application/xhtml+xml,application/xml;q=0.9,image/webp,*/*;q=0.8',\n",
    "    'Referer': 'http://www.reddit.com/',\n",
    "    'Connection': 'keep-alive',\n",
    "}\n",
    "\n",
    "# test to see if this works\n",
    "\n",
    "response = requests.get('http://www.reddit.com/r/Anxiety/.json', headers = headers)"
   ]
  },
  {
   "cell_type": "code",
   "execution_count": 40,
   "metadata": {},
   "outputs": [
    {
     "data": {
      "text/plain": [
       "200"
      ]
     },
     "execution_count": 40,
     "metadata": {},
     "output_type": "execute_result"
    }
   ],
   "source": [
    "# get status code\n",
    "\n",
    "response.status_code"
   ]
  },
  {
   "cell_type": "code",
   "execution_count": 41,
   "metadata": {},
   "outputs": [],
   "source": [
    "# create authorization to use reddit's API\n",
    "\n",
    "reddit = praw.Reddit(client_id = \"ueSDUWyvlt_k1A\",\n",
    "                     client_secret = \"5ILzVw0koQj2cwJ0b3-vN9jlbU4\",\n",
    "                     password = \"kimchi031119\",\n",
    "                     user_agent = \"cap_api\",\n",
    "                     username = \"nopemomdotcom\")\n"
   ]
  },
  {
   "cell_type": "code",
   "execution_count": 42,
   "metadata": {},
   "outputs": [
    {
     "name": "stdout",
     "output_type": "stream",
     "text": [
      "nopemomdotcom\n"
     ]
    }
   ],
   "source": [
    "# verification\n",
    "\n",
    "print(reddit.user.me())"
   ]
  },
  {
   "cell_type": "code",
   "execution_count": 43,
   "metadata": {},
   "outputs": [],
   "source": [
    "# enable read-only mode\n",
    "\n",
    "reddit.read_only = True"
   ]
  },
  {
   "cell_type": "code",
   "execution_count": 44,
   "metadata": {},
   "outputs": [
    {
     "data": {
      "text/plain": [
       "Subreddit(display_name='Anxiety')"
      ]
     },
     "execution_count": 44,
     "metadata": {},
     "output_type": "execute_result"
    }
   ],
   "source": [
    "# set one of the subreddits to test this\n",
    "\n",
    "subreddit = reddit.subreddit('Anxiety')\n",
    "subreddit"
   ]
  },
  {
   "cell_type": "code",
   "execution_count": 45,
   "metadata": {},
   "outputs": [],
   "source": [
    "a = subreddit.hot(limit = 3)"
   ]
  },
  {
   "cell_type": "code",
   "execution_count": 46,
   "metadata": {},
   "outputs": [
    {
     "name": "stdout",
     "output_type": "stream",
     "text": [
      "<class 'float'>\n",
      "<class 'float'>\n",
      "<class 'float'>\n",
      "<class 'float'>\n",
      "<class 'float'>\n",
      "<class 'float'>\n",
      "<class 'float'>\n",
      "<class 'float'>\n",
      "<class 'float'>\n",
      "<class 'float'>\n",
      "<class 'float'>\n",
      "<class 'float'>\n",
      "<class 'float'>\n",
      "<class 'float'>\n",
      "<class 'float'>\n",
      "<class 'float'>\n",
      "<class 'float'>\n",
      "<class 'float'>\n",
      "<class 'float'>\n",
      "<class 'float'>\n",
      "<class 'float'>\n",
      "<class 'float'>\n",
      "<class 'float'>\n",
      "<class 'float'>\n",
      "<class 'float'>\n",
      "<class 'float'>\n",
      "<class 'float'>\n",
      "<class 'float'>\n",
      "<class 'float'>\n",
      "<class 'float'>\n",
      "<class 'float'>\n",
      "<class 'float'>\n",
      "<class 'float'>\n",
      "<class 'float'>\n",
      "<class 'float'>\n",
      "<class 'float'>\n",
      "<class 'float'>\n",
      "<class 'float'>\n",
      "<class 'float'>\n",
      "<class 'float'>\n",
      "<class 'float'>\n",
      "<class 'float'>\n",
      "<class 'float'>\n",
      "<class 'float'>\n",
      "<class 'float'>\n",
      "<class 'float'>\n",
      "<class 'float'>\n",
      "<class 'float'>\n",
      "<class 'float'>\n",
      "<class 'float'>\n",
      "<class 'float'>\n",
      "<class 'float'>\n",
      "<class 'float'>\n",
      "<class 'float'>\n",
      "<class 'float'>\n",
      "<class 'float'>\n",
      "<class 'float'>\n",
      "<class 'float'>\n",
      "<class 'float'>\n",
      "<class 'float'>\n",
      "<class 'float'>\n",
      "<class 'float'>\n",
      "<class 'float'>\n",
      "<class 'float'>\n",
      "<class 'float'>\n",
      "<class 'float'>\n",
      "<class 'float'>\n",
      "<class 'float'>\n",
      "<class 'float'>\n",
      "<class 'float'>\n",
      "<class 'float'>\n",
      "<class 'float'>\n",
      "<class 'float'>\n",
      "<class 'float'>\n",
      "<class 'float'>\n",
      "<class 'float'>\n",
      "<class 'float'>\n",
      "<class 'float'>\n",
      "<class 'float'>\n",
      "<class 'float'>\n",
      "<class 'float'>\n",
      "<class 'float'>\n",
      "<class 'float'>\n",
      "<class 'float'>\n",
      "<class 'float'>\n",
      "<class 'float'>\n",
      "<class 'float'>\n",
      "<class 'float'>\n",
      "<class 'float'>\n",
      "<class 'float'>\n",
      "<class 'float'>\n",
      "<class 'float'>\n",
      "<class 'float'>\n",
      "<class 'float'>\n",
      "<class 'float'>\n",
      "<class 'float'>\n",
      "<class 'float'>\n",
      "<class 'float'>\n",
      "<class 'float'>\n",
      "<class 'float'>\n"
     ]
    }
   ],
   "source": [
    "for submission in reddit.subreddit(\"all-Anxiety\").new():\n",
    "    print(type(submission.created_utc))\n"
   ]
  },
  {
   "cell_type": "code",
   "execution_count": 47,
   "metadata": {},
   "outputs": [
    {
     "data": {
      "text/plain": [
       "dict_keys(['approved_at_utc', 'subreddit', 'selftext', 'author_fullname', 'saved', 'mod_reason_title', 'gilded', 'clicked', 'title', 'link_flair_richtext', 'subreddit_name_prefixed', 'hidden', 'pwls', 'link_flair_css_class', 'downs', 'thumbnail_height', 'top_awarded_type', 'hide_score', 'name', 'quarantine', 'link_flair_text_color', 'upvote_ratio', 'author_flair_background_color', 'subreddit_type', 'ups', 'total_awards_received', 'media_embed', 'thumbnail_width', 'author_flair_template_id', 'is_original_content', 'user_reports', 'secure_media', 'is_reddit_media_domain', 'is_meta', 'category', 'secure_media_embed', 'link_flair_text', 'can_mod_post', 'score', 'approved_by', 'author_premium', 'thumbnail', 'edited', 'author_flair_css_class', 'author_flair_richtext', 'gildings', 'post_hint', 'content_categories', 'is_self', 'mod_note', 'created', 'link_flair_type', 'wls', 'removed_by_category', 'banned_by', 'author_flair_type', 'domain', 'allow_live_comments', 'selftext_html', 'likes', 'suggested_sort', 'banned_at_utc', 'view_count', 'archived', 'no_follow', 'is_crosspostable', 'pinned', 'over_18', 'preview', 'all_awardings', 'awarders', 'media_only', 'can_gild', 'spoiler', 'locked', 'author_flair_text', 'treatment_tags', 'visited', 'removed_by', 'num_reports', 'distinguished', 'subreddit_id', 'mod_reason_by', 'removal_reason', 'link_flair_background_color', 'id', 'is_robot_indexable', 'report_reasons', 'author', 'discussion_type', 'num_comments', 'send_replies', 'whitelist_status', 'contest_mode', 'mod_reports', 'author_patreon_flair', 'author_flair_text_color', 'permalink', 'parent_whitelist_status', 'stickied', 'url', 'subreddit_subscribers', 'created_utc', 'num_crossposts', 'media', 'is_video'])"
      ]
     },
     "execution_count": 47,
     "metadata": {},
     "output_type": "execute_result"
    }
   ],
   "source": [
    "# 1. look at the json file -- dictionary with keys: 'kind', 'data'\n",
    "# 2. get the value for the key 'data' -- dictionary with keys: 'modhash', 'dist', 'children', 'after', 'before' -> 'children' contains the posts information\n",
    "# 3. get the value for the key 'children' -- list of 27 dictionaries\n",
    "# 4. inspect index 0 -- keys: 'kind', 'data' -> 'data' contains the each post information\n",
    "# 5. find the keys that hold the information we are looking for -> 'subreddit', 'selftext', 'title', 'author', 'created_utc'\n",
    "\n",
    "response.json()['data']['children'][0]['data'].keys()"
   ]
  },
  {
   "cell_type": "code",
   "execution_count": null,
   "metadata": {},
   "outputs": [],
   "source": [
    "# https://www.epochconverter.com/\n",
    "\n",
    "# start -- 9/15/2019 23:59:59 = 1568613599\n",
    "# end -- 6/16/2020 00:00:00 = 1592287200"
   ]
  },
  {
   "cell_type": "code",
   "execution_count": 48,
   "metadata": {},
   "outputs": [],
   "source": [
    "# create a function to run target subreddits one at a time\n",
    "\n",
    "def get_posts(subreddit):\n",
    "    \n",
    "    # create an empty list\n",
    "    \n",
    "    posts = []\n",
    "    \n",
    "    # create User-Agent per reddit's API rule\n",
    "    \n",
    "    headers = {'User-Agent': 'cap_api'}\n",
    "    \n",
    "    # establish that 'after' and 'before' the start/end time defined above\n",
    "    \n",
    "    after = 1568613599\n",
    "    before = 1592287200\n",
    "    \n",
    "    \n",
    "    # while loop to run until the end time is met\n",
    "    \n",
    "    while after < before:\n",
    "        \n",
    "        params = {'after': after,\n",
    "                  'before': before}\n",
    "            \n",
    "        # assign 'url' to reddit's base url, plus the subreddits\n",
    "        \n",
    "        url = f'https://www.reddit.com/{subreddit}/.json'\n",
    "        \n",
    "        # set response variable as requests.get with the parameters defined above\n",
    "        \n",
    "        response = requests.get(url, params = params)\n",
    "        \n",
    "        # allow pulling only status_code 200\n",
    "        \n",
    "        if response.status_code == 200:\n",
    "            \n",
    "            data = response.json()\n",
    "            \n",
    "            for i in range(len(data['data']['children'])):\n",
    "                \n",
    "                # create temporary dictionary to add results of each post to\n",
    "                \n",
    "                data_dict = {}\n",
    "                \n",
    "                # we identified the information we need in above cell\n",
    "                \n",
    "                data_dict['subreddit'] = data['data']['children'][i]['data']['subreddit']\n",
    "                data_dict['author'] = data['data']['children'][i]['data']['author']\n",
    "                data_dict['title'] = data['data']['children'][i]['data']['title']\n",
    "                data_dict['selftext'] = data['data']['children'][i]['data']['selftext']\n",
    "                data_dict['created_utc'] = data['data']['children'][i]['created_utc']\n",
    "\n",
    "                \n",
    "                # add data_dict to posts\n",
    "                \n",
    "                posts.append(data_dict)\n",
    "                \n",
    "            after = data['data'][-1]['created_utc']\n",
    "            \n",
    "        else:\n",
    "            print(f'status code: {response.status_code}')\n",
    "            break\n",
    "            \n",
    "        # two seconds in the requests to reddit's API to prevent from locking out  \n",
    "        \n",
    "        time.sleep(2)\n",
    "        \n",
    "        return len(posts)"
   ]
  },
  {
   "cell_type": "code",
   "execution_count": 50,
   "metadata": {},
   "outputs": [
    {
     "name": "stdout",
     "output_type": "stream",
     "text": [
      "status code: 429\n"
     ]
    }
   ],
   "source": [
    "get_posts('')"
   ]
  },
  {
   "cell_type": "code",
   "execution_count": null,
   "metadata": {},
   "outputs": [],
   "source": []
  }
 ],
 "metadata": {
  "kernelspec": {
   "display_name": "Python 3",
   "language": "python",
   "name": "python3"
  },
  "language_info": {
   "codemirror_mode": {
    "name": "ipython",
    "version": 3
   },
   "file_extension": ".py",
   "mimetype": "text/x-python",
   "name": "python",
   "nbconvert_exporter": "python",
   "pygments_lexer": "ipython3",
   "version": "3.7.7"
  }
 },
 "nbformat": 4,
 "nbformat_minor": 4
}
