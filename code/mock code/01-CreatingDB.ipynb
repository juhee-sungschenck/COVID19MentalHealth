{
 "cells": [
  {
   "cell_type": "code",
   "execution_count": 1,
   "metadata": {},
   "outputs": [],
   "source": [
    "# import libraries\n",
    "\n",
    "import requests\n",
    "import time\n",
    "import datetime\n",
    "import pandas as pd"
   ]
  },
  {
   "cell_type": "code",
   "execution_count": 2,
   "metadata": {},
   "outputs": [],
   "source": [
    "# set up an empty list to combine gathered information\n",
    "\n",
    "posts = []"
   ]
  },
  {
   "cell_type": "code",
   "execution_count": 6,
   "metadata": {},
   "outputs": [],
   "source": [
    "# create a function to pull the information from reddit\n",
    "\n",
    "url_submission = \"https://api.pushshift.io/reddit/search/submission\"\n",
    "url_comments = \"https://api.pushshift.io/reddit/search/comment\"\n",
    "\n",
    "def reddit(url, params):\n",
    "\n",
    "    # set how many times we would pull from reddit - the limit is 100 now\n",
    "    while params['after'] < params['before']:\n",
    "\n",
    "        # get the webpage status\n",
    "        response = requests.get(url, params = params)\n",
    "\n",
    "        # check the status and pull if it is 200\n",
    "        if response.status_code == 200:\n",
    "            \n",
    "            # get the info from JSON and name value of data as post \n",
    "            data = response.json()\n",
    "            post = data['data']\n",
    "            \n",
    "            # extend the data to posts\n",
    "            posts.extend(post)\n",
    "            \n",
    "            # get the data \"after\" the UTC of last post of last pull\n",
    "            params['after'] = post[-1]['created_utc']    \n",
    "            \n",
    "            # check if we reached the date 5/15/2020\n",
    "            if params['after'] >= 1571184000:\n",
    "                print('We have reached the last pull')\n",
    "                break\n",
    "            else:\n",
    "                # make sure it is still running\n",
    "                print(\"Still running.\")\n",
    "                continue\n",
    "            \n",
    "            # extend the data to posts\n",
    "            posts.extend(post)\n",
    "            \n",
    "        else:\n",
    "            print(f'An error: {response.status_code}')\n",
    "            break\n",
    "               \n",
    "        # set 2 seconds to prevent from locking out\n",
    "        time.sleep(2)"
   ]
  },
  {
   "cell_type": "code",
   "execution_count": 7,
   "metadata": {},
   "outputs": [],
   "source": [
    "params = {\n",
    "          'subreddit': ['bipolarreddit', 'depression', 'Anxiety', 'healthanxiety', 'SuicideWatch', \n",
    "                        'lonely', 'alcoholism', 'mentalhealth'],\n",
    "          'size': 100,\n",
    "          # we are interested in any post from 9/16/2019 to 6/15/2020\n",
    "          'after': 1568613599,  # 9/15/2019 23:59:59\n",
    "          'before': 1571184000  # 10/16/2020 00:00:00 \n",
    "                                # --> will have to do this in steps, otherwise will get error code 429\n",
    "         }"
   ]
  },
  {
   "cell_type": "code",
   "execution_count": 8,
   "metadata": {},
   "outputs": [
    {
     "name": "stdout",
     "output_type": "stream",
     "text": [
      "An error: 429\n"
     ]
    }
   ],
   "source": [
    "# call in the function - submission\n",
    "\n",
    "reddit(url_submission, params)"
   ]
  },
  {
   "cell_type": "code",
   "execution_count": null,
   "metadata": {},
   "outputs": [],
   "source": [
    "# call in the function - comments\n",
    "\n",
    "reddit(url_comments, params, 3)"
   ]
  },
  {
   "cell_type": "code",
   "execution_count": null,
   "metadata": {},
   "outputs": [],
   "source": [
    "# check the length of posts\n",
    "\n",
    "len(posts)"
   ]
  },
  {
   "cell_type": "code",
   "execution_count": null,
   "metadata": {},
   "outputs": [],
   "source": [
    "# make it into a dataframe\n",
    "\n",
    "df = pd.DataFrame(posts)"
   ]
  },
  {
   "cell_type": "code",
   "execution_count": null,
   "metadata": {},
   "outputs": [],
   "source": [
    "# save it into a csv\n",
    "\n",
    "df.to_csv('../data/original.csv', index = False)"
   ]
  }
 ],
 "metadata": {
  "kernelspec": {
   "display_name": "Python 3",
   "language": "python",
   "name": "python3"
  },
  "language_info": {
   "codemirror_mode": {
    "name": "ipython",
    "version": 3
   },
   "file_extension": ".py",
   "mimetype": "text/x-python",
   "name": "python",
   "nbconvert_exporter": "python",
   "pygments_lexer": "ipython3",
   "version": "3.7.7"
  }
 },
 "nbformat": 4,
 "nbformat_minor": 4
}
